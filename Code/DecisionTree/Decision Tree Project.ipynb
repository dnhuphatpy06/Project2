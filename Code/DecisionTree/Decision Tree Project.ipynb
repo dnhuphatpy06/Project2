{
 "cells": [
  {
   "cell_type": "markdown",
   "metadata": {},
   "source": [
    "# Training the Model (Decision Tree)"
   ]
  },
  {
   "cell_type": "code",
   "execution_count": 15,
   "metadata": {},
   "outputs": [
    {
     "name": "stderr",
     "output_type": "stream",
     "text": [
      "C:\\Users\\Admin\\AppData\\Roaming\\Python\\Python312\\site-packages\\librosa\\core\\spectrum.py:266: UserWarning: n_fft=1024 is too large for input signal of length=539\n",
      "  warnings.warn(\n",
      "C:\\Users\\Admin\\AppData\\Roaming\\Python\\Python312\\site-packages\\librosa\\core\\spectrum.py:266: UserWarning: n_fft=1024 is too large for input signal of length=809\n",
      "  warnings.warn(\n"
     ]
    },
    {
     "name": "stdout",
     "output_type": "stream",
     "text": [
      "D:/Project_TH_2/Data_set/train\\OAF_fat_angry.wav\n",
      "D:/Project_TH_2/Data_set/train\\OAF_fat_disgust.wav\n"
     ]
    },
    {
     "name": "stderr",
     "output_type": "stream",
     "text": [
      "C:\\Users\\Admin\\AppData\\Roaming\\Python\\Python312\\site-packages\\librosa\\core\\spectrum.py:266: UserWarning: n_fft=1024 is too large for input signal of length=552\n",
      "  warnings.warn(\n",
      "C:\\Users\\Admin\\AppData\\Roaming\\Python\\Python312\\site-packages\\librosa\\core\\spectrum.py:266: UserWarning: n_fft=1024 is too large for input signal of length=628\n",
      "  warnings.warn(\n"
     ]
    },
    {
     "name": "stdout",
     "output_type": "stream",
     "text": [
      "D:/Project_TH_2/Data_set/train\\OAF_fat_fear.wav\n",
      "D:/Project_TH_2/Data_set/train\\OAF_fat_happy.wav\n"
     ]
    },
    {
     "name": "stderr",
     "output_type": "stream",
     "text": [
      "C:\\Users\\Admin\\AppData\\Roaming\\Python\\Python312\\site-packages\\librosa\\core\\spectrum.py:266: UserWarning: n_fft=1024 is too large for input signal of length=676\n",
      "  warnings.warn(\n",
      "C:\\Users\\Admin\\AppData\\Roaming\\Python\\Python312\\site-packages\\librosa\\core\\spectrum.py:266: UserWarning: n_fft=1024 is too large for input signal of length=684\n",
      "  warnings.warn(\n"
     ]
    },
    {
     "name": "stdout",
     "output_type": "stream",
     "text": [
      "D:/Project_TH_2/Data_set/train\\OAF_fat_neutral.wav\n",
      "D:/Project_TH_2/Data_set/train\\OAF_fat_ps.wav\n"
     ]
    },
    {
     "name": "stderr",
     "output_type": "stream",
     "text": [
      "C:\\Users\\Admin\\AppData\\Roaming\\Python\\Python312\\site-packages\\librosa\\core\\spectrum.py:266: UserWarning: n_fft=1024 is too large for input signal of length=858\n",
      "  warnings.warn(\n"
     ]
    },
    {
     "name": "stdout",
     "output_type": "stream",
     "text": [
      "D:/Project_TH_2/Data_set/train\\OAF_fat_sad.wav\n",
      "D:/Project_TH_2/Data_set/train\\OAF_fit_angry.wav\n"
     ]
    },
    {
     "name": "stderr",
     "output_type": "stream",
     "text": [
      "C:\\Users\\Admin\\AppData\\Roaming\\Python\\Python312\\site-packages\\librosa\\core\\spectrum.py:266: UserWarning: n_fft=1024 is too large for input signal of length=725\n",
      "  warnings.warn(\n",
      "C:\\Users\\Admin\\AppData\\Roaming\\Python\\Python312\\site-packages\\librosa\\core\\spectrum.py:266: UserWarning: n_fft=1024 is too large for input signal of length=546\n",
      "  warnings.warn(\n"
     ]
    },
    {
     "name": "stdout",
     "output_type": "stream",
     "text": [
      "D:/Project_TH_2/Data_set/train\\OAF_fit_disgust.wav\n",
      "D:/Project_TH_2/Data_set/train\\OAF_fit_fear.wav\n"
     ]
    },
    {
     "name": "stderr",
     "output_type": "stream",
     "text": [
      "C:\\Users\\Admin\\AppData\\Roaming\\Python\\Python312\\site-packages\\librosa\\core\\spectrum.py:266: UserWarning: n_fft=1024 is too large for input signal of length=641\n",
      "  warnings.warn(\n",
      "C:\\Users\\Admin\\AppData\\Roaming\\Python\\Python312\\site-packages\\librosa\\core\\spectrum.py:266: UserWarning: n_fft=1024 is too large for input signal of length=642\n",
      "  warnings.warn(\n"
     ]
    },
    {
     "name": "stdout",
     "output_type": "stream",
     "text": [
      "D:/Project_TH_2/Data_set/train\\OAF_fit_happy.wav\n",
      "D:/Project_TH_2/Data_set/train\\OAF_fit_neutral.wav\n"
     ]
    },
    {
     "name": "stderr",
     "output_type": "stream",
     "text": [
      "C:\\Users\\Admin\\AppData\\Roaming\\Python\\Python312\\site-packages\\librosa\\core\\spectrum.py:266: UserWarning: n_fft=1024 is too large for input signal of length=644\n",
      "  warnings.warn(\n",
      "C:\\Users\\Admin\\AppData\\Roaming\\Python\\Python312\\site-packages\\librosa\\core\\spectrum.py:266: UserWarning: n_fft=1024 is too large for input signal of length=805\n",
      "  warnings.warn(\n"
     ]
    },
    {
     "name": "stdout",
     "output_type": "stream",
     "text": [
      "D:/Project_TH_2/Data_set/train\\OAF_fit_ps.wav\n",
      "D:/Project_TH_2/Data_set/train\\OAF_fit_sad.wav\n"
     ]
    },
    {
     "name": "stderr",
     "output_type": "stream",
     "text": [
      "C:\\Users\\Admin\\AppData\\Roaming\\Python\\Python312\\site-packages\\librosa\\core\\spectrum.py:266: UserWarning: n_fft=1024 is too large for input signal of length=549\n",
      "  warnings.warn(\n",
      "C:\\Users\\Admin\\AppData\\Roaming\\Python\\Python312\\site-packages\\librosa\\core\\spectrum.py:266: UserWarning: n_fft=1024 is too large for input signal of length=845\n",
      "  warnings.warn(\n"
     ]
    },
    {
     "name": "stdout",
     "output_type": "stream",
     "text": [
      "D:/Project_TH_2/Data_set/train\\OAF_five_angry.wav\n",
      "D:/Project_TH_2/Data_set/train\\OAF_five_disgust.wav\n"
     ]
    },
    {
     "name": "stderr",
     "output_type": "stream",
     "text": [
      "C:\\Users\\Admin\\AppData\\Roaming\\Python\\Python312\\site-packages\\librosa\\core\\spectrum.py:266: UserWarning: n_fft=1024 is too large for input signal of length=590\n",
      "  warnings.warn(\n",
      "C:\\Users\\Admin\\AppData\\Roaming\\Python\\Python312\\site-packages\\librosa\\core\\spectrum.py:266: UserWarning: n_fft=1024 is too large for input signal of length=721\n",
      "  warnings.warn(\n"
     ]
    },
    {
     "name": "stdout",
     "output_type": "stream",
     "text": [
      "D:/Project_TH_2/Data_set/train\\OAF_five_fear.wav\n",
      "D:/Project_TH_2/Data_set/train\\OAF_five_happy.wav\n"
     ]
    },
    {
     "name": "stderr",
     "output_type": "stream",
     "text": [
      "C:\\Users\\Admin\\AppData\\Roaming\\Python\\Python312\\site-packages\\librosa\\core\\spectrum.py:266: UserWarning: n_fft=1024 is too large for input signal of length=668\n",
      "  warnings.warn(\n",
      "C:\\Users\\Admin\\AppData\\Roaming\\Python\\Python312\\site-packages\\librosa\\core\\spectrum.py:266: UserWarning: n_fft=1024 is too large for input signal of length=764\n",
      "  warnings.warn(\n"
     ]
    },
    {
     "name": "stdout",
     "output_type": "stream",
     "text": [
      "D:/Project_TH_2/Data_set/train\\OAF_five_neutral.wav\n",
      "D:/Project_TH_2/Data_set/train\\OAF_five_ps.wav\n"
     ]
    },
    {
     "name": "stderr",
     "output_type": "stream",
     "text": [
      "C:\\Users\\Admin\\AppData\\Roaming\\Python\\Python312\\site-packages\\librosa\\core\\spectrum.py:266: UserWarning: n_fft=1024 is too large for input signal of length=878\n",
      "  warnings.warn(\n",
      "C:\\Users\\Admin\\AppData\\Roaming\\Python\\Python312\\site-packages\\librosa\\core\\spectrum.py:266: UserWarning: n_fft=1024 is too large for input signal of length=529\n",
      "  warnings.warn(\n"
     ]
    },
    {
     "name": "stdout",
     "output_type": "stream",
     "text": [
      "D:/Project_TH_2/Data_set/train\\OAF_five_sad.wav\n",
      "D:/Project_TH_2/Data_set/train\\OAF_food_angry.wav\n"
     ]
    },
    {
     "name": "stderr",
     "output_type": "stream",
     "text": [
      "C:\\Users\\Admin\\AppData\\Roaming\\Python\\Python312\\site-packages\\librosa\\core\\spectrum.py:266: UserWarning: n_fft=1024 is too large for input signal of length=756\n",
      "  warnings.warn(\n",
      "C:\\Users\\Admin\\AppData\\Roaming\\Python\\Python312\\site-packages\\librosa\\core\\spectrum.py:266: UserWarning: n_fft=1024 is too large for input signal of length=522\n",
      "  warnings.warn(\n"
     ]
    },
    {
     "name": "stdout",
     "output_type": "stream",
     "text": [
      "D:/Project_TH_2/Data_set/train\\OAF_food_disgust.wav\n",
      "D:/Project_TH_2/Data_set/train\\OAF_food_fear.wav\n"
     ]
    },
    {
     "name": "stderr",
     "output_type": "stream",
     "text": [
      "C:\\Users\\Admin\\AppData\\Roaming\\Python\\Python312\\site-packages\\librosa\\core\\spectrum.py:266: UserWarning: n_fft=1024 is too large for input signal of length=719\n",
      "  warnings.warn(\n",
      "C:\\Users\\Admin\\AppData\\Roaming\\Python\\Python312\\site-packages\\librosa\\core\\spectrum.py:266: UserWarning: n_fft=1024 is too large for input signal of length=662\n",
      "  warnings.warn(\n"
     ]
    },
    {
     "name": "stdout",
     "output_type": "stream",
     "text": [
      "D:/Project_TH_2/Data_set/train\\OAF_food_happy.wav\n",
      "D:/Project_TH_2/Data_set/train\\OAF_food_neutral.wav\n"
     ]
    },
    {
     "name": "stderr",
     "output_type": "stream",
     "text": [
      "C:\\Users\\Admin\\AppData\\Roaming\\Python\\Python312\\site-packages\\librosa\\core\\spectrum.py:266: UserWarning: n_fft=1024 is too large for input signal of length=729\n",
      "  warnings.warn(\n"
     ]
    },
    {
     "name": "stdout",
     "output_type": "stream",
     "text": [
      "D:/Project_TH_2/Data_set/train\\OAF_food_ps.wav\n"
     ]
    },
    {
     "name": "stderr",
     "output_type": "stream",
     "text": [
      "C:\\Users\\Admin\\AppData\\Roaming\\Python\\Python312\\site-packages\\librosa\\core\\spectrum.py:266: UserWarning: n_fft=1024 is too large for input signal of length=832\n",
      "  warnings.warn(\n"
     ]
    },
    {
     "name": "stdout",
     "output_type": "stream",
     "text": [
      "D:/Project_TH_2/Data_set/train\\OAF_food_sad.wav\n",
      "D:/Project_TH_2/Data_set/train\\OAF_gap_angry.wav\n"
     ]
    },
    {
     "name": "stderr",
     "output_type": "stream",
     "text": [
      "C:\\Users\\Admin\\AppData\\Roaming\\Python\\Python312\\site-packages\\librosa\\core\\spectrum.py:266: UserWarning: n_fft=1024 is too large for input signal of length=815\n",
      "  warnings.warn(\n",
      "C:\\Users\\Admin\\AppData\\Roaming\\Python\\Python312\\site-packages\\librosa\\core\\spectrum.py:266: UserWarning: n_fft=1024 is too large for input signal of length=582\n",
      "  warnings.warn(\n"
     ]
    },
    {
     "name": "stdout",
     "output_type": "stream",
     "text": [
      "D:/Project_TH_2/Data_set/train\\OAF_gap_disgust.wav\n",
      "D:/Project_TH_2/Data_set/train\\OAF_gap_fear.wav\n"
     ]
    },
    {
     "name": "stderr",
     "output_type": "stream",
     "text": [
      "C:\\Users\\Admin\\AppData\\Roaming\\Python\\Python312\\site-packages\\librosa\\core\\spectrum.py:266: UserWarning: n_fft=1024 is too large for input signal of length=610\n",
      "  warnings.warn(\n",
      "C:\\Users\\Admin\\AppData\\Roaming\\Python\\Python312\\site-packages\\librosa\\core\\spectrum.py:266: UserWarning: n_fft=1024 is too large for input signal of length=679\n",
      "  warnings.warn(\n"
     ]
    },
    {
     "name": "stdout",
     "output_type": "stream",
     "text": [
      "D:/Project_TH_2/Data_set/train\\OAF_gap_happy.wav\n",
      "D:/Project_TH_2/Data_set/train\\OAF_gap_neutral.wav\n"
     ]
    },
    {
     "name": "stderr",
     "output_type": "stream",
     "text": [
      "C:\\Users\\Admin\\AppData\\Roaming\\Python\\Python312\\site-packages\\librosa\\core\\spectrum.py:266: UserWarning: n_fft=1024 is too large for input signal of length=683\n",
      "  warnings.warn(\n"
     ]
    },
    {
     "name": "stdout",
     "output_type": "stream",
     "text": [
      "D:/Project_TH_2/Data_set/train\\OAF_gap_ps.wav\n",
      "D:/Project_TH_2/Data_set/train\\OAF_gap_sad.wav\n"
     ]
    },
    {
     "name": "stderr",
     "output_type": "stream",
     "text": [
      "C:\\Users\\Admin\\AppData\\Roaming\\Python\\Python312\\site-packages\\librosa\\core\\spectrum.py:266: UserWarning: n_fft=1024 is too large for input signal of length=569\n",
      "  warnings.warn(\n"
     ]
    },
    {
     "name": "stdout",
     "output_type": "stream",
     "text": [
      "D:/Project_TH_2/Data_set/train\\OAF_gas_angry.wav\n"
     ]
    },
    {
     "name": "stderr",
     "output_type": "stream",
     "text": [
      "C:\\Users\\Admin\\AppData\\Roaming\\Python\\Python312\\site-packages\\librosa\\core\\spectrum.py:266: UserWarning: n_fft=1024 is too large for input signal of length=830\n",
      "  warnings.warn(\n",
      "C:\\Users\\Admin\\AppData\\Roaming\\Python\\Python312\\site-packages\\librosa\\core\\spectrum.py:266: UserWarning: n_fft=1024 is too large for input signal of length=537\n",
      "  warnings.warn(\n"
     ]
    },
    {
     "name": "stdout",
     "output_type": "stream",
     "text": [
      "D:/Project_TH_2/Data_set/train\\OAF_gas_disgust.wav\n",
      "D:/Project_TH_2/Data_set/train\\OAF_gas_fear.wav\n",
      "D:/Project_TH_2/Data_set/train\\OAF_gas_happy.wav\n",
      "D:/Project_TH_2/Data_set/train\\OAF_gas_neutral.wav\n"
     ]
    },
    {
     "name": "stderr",
     "output_type": "stream",
     "text": [
      "C:\\Users\\Admin\\AppData\\Roaming\\Python\\Python312\\site-packages\\librosa\\core\\spectrum.py:266: UserWarning: n_fft=1024 is too large for input signal of length=718\n",
      "  warnings.warn(\n",
      "C:\\Users\\Admin\\AppData\\Roaming\\Python\\Python312\\site-packages\\librosa\\core\\spectrum.py:266: UserWarning: n_fft=1024 is too large for input signal of length=828\n",
      "  warnings.warn(\n"
     ]
    },
    {
     "name": "stdout",
     "output_type": "stream",
     "text": [
      "D:/Project_TH_2/Data_set/train\\OAF_gas_ps.wav\n"
     ]
    },
    {
     "name": "stderr",
     "output_type": "stream",
     "text": [
      "C:\\Users\\Admin\\AppData\\Roaming\\Python\\Python312\\site-packages\\librosa\\core\\spectrum.py:266: UserWarning: n_fft=1024 is too large for input signal of length=932\n",
      "  warnings.warn(\n",
      "C:\\Users\\Admin\\AppData\\Roaming\\Python\\Python312\\site-packages\\librosa\\core\\spectrum.py:266: UserWarning: n_fft=1024 is too large for input signal of length=583\n",
      "  warnings.warn(\n"
     ]
    },
    {
     "name": "stdout",
     "output_type": "stream",
     "text": [
      "D:/Project_TH_2/Data_set/train\\OAF_gas_sad.wav\n",
      "D:/Project_TH_2/Data_set/train\\OAF_gaze_angry.wav\n"
     ]
    },
    {
     "name": "stderr",
     "output_type": "stream",
     "text": [
      "C:\\Users\\Admin\\AppData\\Roaming\\Python\\Python312\\site-packages\\librosa\\core\\spectrum.py:266: UserWarning: n_fft=1024 is too large for input signal of length=908\n",
      "  warnings.warn(\n",
      "C:\\Users\\Admin\\AppData\\Roaming\\Python\\Python312\\site-packages\\librosa\\core\\spectrum.py:266: UserWarning: n_fft=1024 is too large for input signal of length=580\n",
      "  warnings.warn(\n"
     ]
    },
    {
     "name": "stdout",
     "output_type": "stream",
     "text": [
      "D:/Project_TH_2/Data_set/train\\OAF_gaze_disgust.wav\n",
      "D:/Project_TH_2/Data_set/train\\OAF_gaze_fear.wav\n",
      "D:/Project_TH_2/Data_set/train\\OAF_gaze_happy.wav\n"
     ]
    },
    {
     "name": "stderr",
     "output_type": "stream",
     "text": [
      "C:\\Users\\Admin\\AppData\\Roaming\\Python\\Python312\\site-packages\\librosa\\core\\spectrum.py:266: UserWarning: n_fft=1024 is too large for input signal of length=763\n",
      "  warnings.warn(\n",
      "C:\\Users\\Admin\\AppData\\Roaming\\Python\\Python312\\site-packages\\librosa\\core\\spectrum.py:266: UserWarning: n_fft=1024 is too large for input signal of length=736\n",
      "  warnings.warn(\n"
     ]
    },
    {
     "name": "stdout",
     "output_type": "stream",
     "text": [
      "D:/Project_TH_2/Data_set/train\\OAF_gaze_neutral.wav\n",
      "D:/Project_TH_2/Data_set/train\\OAF_gaze_ps.wav\n",
      "D:/Project_TH_2/Data_set/train\\OAF_gaze_sad.wav\n",
      "D:/Project_TH_2/Data_set/train\\OAF_germ_angry.wav\n"
     ]
    },
    {
     "name": "stderr",
     "output_type": "stream",
     "text": [
      "C:\\Users\\Admin\\AppData\\Roaming\\Python\\Python312\\site-packages\\librosa\\core\\spectrum.py:266: UserWarning: n_fft=1024 is too large for input signal of length=1022\n",
      "  warnings.warn(\n",
      "C:\\Users\\Admin\\AppData\\Roaming\\Python\\Python312\\site-packages\\librosa\\core\\spectrum.py:266: UserWarning: n_fft=1024 is too large for input signal of length=511\n",
      "  warnings.warn(\n",
      "C:\\Users\\Admin\\AppData\\Roaming\\Python\\Python312\\site-packages\\librosa\\core\\spectrum.py:266: UserWarning: n_fft=1024 is too large for input signal of length=886\n",
      "  warnings.warn(\n"
     ]
    },
    {
     "name": "stdout",
     "output_type": "stream",
     "text": [
      "D:/Project_TH_2/Data_set/train\\OAF_germ_disgust.wav\n",
      "D:/Project_TH_2/Data_set/train\\OAF_germ_fear.wav\n"
     ]
    },
    {
     "name": "stderr",
     "output_type": "stream",
     "text": [
      "C:\\Users\\Admin\\AppData\\Roaming\\Python\\Python312\\site-packages\\librosa\\core\\spectrum.py:266: UserWarning: n_fft=1024 is too large for input signal of length=571\n",
      "  warnings.warn(\n"
     ]
    },
    {
     "name": "stdout",
     "output_type": "stream",
     "text": [
      "D:/Project_TH_2/Data_set/train\\OAF_germ_happy.wav\n",
      "D:/Project_TH_2/Data_set/train\\OAF_germ_neutral.wav\n"
     ]
    },
    {
     "name": "stderr",
     "output_type": "stream",
     "text": [
      "C:\\Users\\Admin\\AppData\\Roaming\\Python\\Python312\\site-packages\\librosa\\core\\spectrum.py:266: UserWarning: n_fft=1024 is too large for input signal of length=722\n",
      "  warnings.warn(\n",
      "C:\\Users\\Admin\\AppData\\Roaming\\Python\\Python312\\site-packages\\librosa\\core\\spectrum.py:266: UserWarning: n_fft=1024 is too large for input signal of length=741\n",
      "  warnings.warn(\n"
     ]
    },
    {
     "name": "stdout",
     "output_type": "stream",
     "text": [
      "D:/Project_TH_2/Data_set/train\\OAF_germ_ps.wav\n"
     ]
    },
    {
     "name": "stderr",
     "output_type": "stream",
     "text": [
      "C:\\Users\\Admin\\AppData\\Roaming\\Python\\Python312\\site-packages\\librosa\\core\\spectrum.py:266: UserWarning: n_fft=1024 is too large for input signal of length=863\n",
      "  warnings.warn(\n",
      "C:\\Users\\Admin\\AppData\\Roaming\\Python\\Python312\\site-packages\\librosa\\core\\spectrum.py:266: UserWarning: n_fft=1024 is too large for input signal of length=567\n",
      "  warnings.warn(\n"
     ]
    },
    {
     "name": "stdout",
     "output_type": "stream",
     "text": [
      "D:/Project_TH_2/Data_set/train\\OAF_germ_sad.wav\n",
      "D:/Project_TH_2/Data_set/train\\OAF_get_angry.wav\n"
     ]
    },
    {
     "name": "stderr",
     "output_type": "stream",
     "text": [
      "C:\\Users\\Admin\\AppData\\Roaming\\Python\\Python312\\site-packages\\librosa\\core\\spectrum.py:266: UserWarning: n_fft=1024 is too large for input signal of length=752\n",
      "  warnings.warn(\n",
      "C:\\Users\\Admin\\AppData\\Roaming\\Python\\Python312\\site-packages\\librosa\\core\\spectrum.py:266: UserWarning: n_fft=1024 is too large for input signal of length=895\n",
      "  warnings.warn(\n",
      "C:\\Users\\Admin\\AppData\\Roaming\\Python\\Python312\\site-packages\\librosa\\core\\spectrum.py:266: UserWarning: n_fft=1024 is too large for input signal of length=448\n",
      "  warnings.warn(\n"
     ]
    },
    {
     "name": "stdout",
     "output_type": "stream",
     "text": [
      "D:/Project_TH_2/Data_set/train\\OAF_get_disgust.wav\n",
      "D:/Project_TH_2/Data_set/train\\OAF_get_fear.wav\n"
     ]
    },
    {
     "name": "stderr",
     "output_type": "stream",
     "text": [
      "C:\\Users\\Admin\\AppData\\Roaming\\Python\\Python312\\site-packages\\librosa\\core\\spectrum.py:266: UserWarning: n_fft=1024 is too large for input signal of length=650\n",
      "  warnings.warn(\n",
      "C:\\Users\\Admin\\AppData\\Roaming\\Python\\Python312\\site-packages\\librosa\\core\\spectrum.py:266: UserWarning: n_fft=1024 is too large for input signal of length=654\n",
      "  warnings.warn(\n"
     ]
    },
    {
     "name": "stdout",
     "output_type": "stream",
     "text": [
      "D:/Project_TH_2/Data_set/train\\OAF_get_happy.wav\n",
      "D:/Project_TH_2/Data_set/train\\OAF_get_neutral.wav\n",
      "D:/Project_TH_2/Data_set/train\\OAF_get_ps.wav\n"
     ]
    },
    {
     "name": "stderr",
     "output_type": "stream",
     "text": [
      "C:\\Users\\Admin\\AppData\\Roaming\\Python\\Python312\\site-packages\\librosa\\core\\spectrum.py:266: UserWarning: n_fft=1024 is too large for input signal of length=827\n",
      "  warnings.warn(\n",
      "C:\\Users\\Admin\\AppData\\Roaming\\Python\\Python312\\site-packages\\librosa\\core\\spectrum.py:266: UserWarning: n_fft=1024 is too large for input signal of length=543\n",
      "  warnings.warn(\n"
     ]
    },
    {
     "name": "stdout",
     "output_type": "stream",
     "text": [
      "D:/Project_TH_2/Data_set/train\\OAF_get_sad.wav\n",
      "D:/Project_TH_2/Data_set/train\\OAF_gin_angry.wav\n"
     ]
    },
    {
     "name": "stderr",
     "output_type": "stream",
     "text": [
      "C:\\Users\\Admin\\AppData\\Roaming\\Python\\Python312\\site-packages\\librosa\\core\\spectrum.py:266: UserWarning: n_fft=1024 is too large for input signal of length=829\n",
      "  warnings.warn(\n"
     ]
    },
    {
     "name": "stdout",
     "output_type": "stream",
     "text": [
      "D:/Project_TH_2/Data_set/train\\OAF_gin_disgust.wav\n",
      "D:/Project_TH_2/Data_set/train\\OAF_gin_fear.wav\n"
     ]
    },
    {
     "name": "stderr",
     "output_type": "stream",
     "text": [
      "C:\\Users\\Admin\\AppData\\Roaming\\Python\\Python312\\site-packages\\librosa\\core\\spectrum.py:266: UserWarning: n_fft=1024 is too large for input signal of length=663\n",
      "  warnings.warn(\n",
      "C:\\Users\\Admin\\AppData\\Roaming\\Python\\Python312\\site-packages\\librosa\\core\\spectrum.py:266: UserWarning: n_fft=1024 is too large for input signal of length=720\n",
      "  warnings.warn(\n"
     ]
    },
    {
     "name": "stdout",
     "output_type": "stream",
     "text": [
      "D:/Project_TH_2/Data_set/train\\OAF_gin_happy.wav\n",
      "D:/Project_TH_2/Data_set/train\\OAF_gin_neutral.wav\n"
     ]
    },
    {
     "name": "stderr",
     "output_type": "stream",
     "text": [
      "C:\\Users\\Admin\\AppData\\Roaming\\Python\\Python312\\site-packages\\librosa\\core\\spectrum.py:266: UserWarning: n_fft=1024 is too large for input signal of length=709\n",
      "  warnings.warn(\n"
     ]
    },
    {
     "name": "stdout",
     "output_type": "stream",
     "text": [
      "D:/Project_TH_2/Data_set/train\\OAF_gin_ps.wav\n"
     ]
    },
    {
     "name": "stderr",
     "output_type": "stream",
     "text": [
      "C:\\Users\\Admin\\AppData\\Roaming\\Python\\Python312\\site-packages\\librosa\\core\\spectrum.py:266: UserWarning: n_fft=1024 is too large for input signal of length=934\n",
      "  warnings.warn(\n",
      "C:\\Users\\Admin\\AppData\\Roaming\\Python\\Python312\\site-packages\\librosa\\core\\spectrum.py:266: UserWarning: n_fft=1024 is too large for input signal of length=524\n",
      "  warnings.warn(\n"
     ]
    },
    {
     "name": "stdout",
     "output_type": "stream",
     "text": [
      "D:/Project_TH_2/Data_set/train\\OAF_gin_sad.wav\n",
      "D:/Project_TH_2/Data_set/train\\OAF_goal_angry.wav\n"
     ]
    },
    {
     "name": "stderr",
     "output_type": "stream",
     "text": [
      "C:\\Users\\Admin\\AppData\\Roaming\\Python\\Python312\\site-packages\\librosa\\core\\spectrum.py:266: UserWarning: n_fft=1024 is too large for input signal of length=834\n",
      "  warnings.warn(\n"
     ]
    },
    {
     "name": "stdout",
     "output_type": "stream",
     "text": [
      "D:/Project_TH_2/Data_set/train\\OAF_goal_disgust.wav\n",
      "D:/Project_TH_2/Data_set/train\\OAF_goal_fear.wav\n"
     ]
    },
    {
     "name": "stderr",
     "output_type": "stream",
     "text": [
      "C:\\Users\\Admin\\AppData\\Roaming\\Python\\Python312\\site-packages\\librosa\\core\\spectrum.py:266: UserWarning: n_fft=1024 is too large for input signal of length=680\n",
      "  warnings.warn(\n",
      "C:\\Users\\Admin\\AppData\\Roaming\\Python\\Python312\\site-packages\\librosa\\core\\spectrum.py:266: UserWarning: n_fft=1024 is too large for input signal of length=671\n",
      "  warnings.warn(\n"
     ]
    },
    {
     "name": "stdout",
     "output_type": "stream",
     "text": [
      "D:/Project_TH_2/Data_set/train\\OAF_goal_happy.wav\n",
      "D:/Project_TH_2/Data_set/train\\OAF_goal_neutral.wav\n"
     ]
    },
    {
     "name": "stderr",
     "output_type": "stream",
     "text": [
      "C:\\Users\\Admin\\AppData\\Roaming\\Python\\Python312\\site-packages\\librosa\\core\\spectrum.py:266: UserWarning: n_fft=1024 is too large for input signal of length=670\n",
      "  warnings.warn(\n"
     ]
    },
    {
     "name": "stdout",
     "output_type": "stream",
     "text": [
      "D:/Project_TH_2/Data_set/train\\OAF_goal_ps.wav\n"
     ]
    },
    {
     "name": "stderr",
     "output_type": "stream",
     "text": [
      "C:\\Users\\Admin\\AppData\\Roaming\\Python\\Python312\\site-packages\\librosa\\core\\spectrum.py:266: UserWarning: n_fft=1024 is too large for input signal of length=907\n",
      "  warnings.warn(\n",
      "C:\\Users\\Admin\\AppData\\Roaming\\Python\\Python312\\site-packages\\librosa\\core\\spectrum.py:266: UserWarning: n_fft=1024 is too large for input signal of length=515\n",
      "  warnings.warn(\n"
     ]
    },
    {
     "name": "stdout",
     "output_type": "stream",
     "text": [
      "D:/Project_TH_2/Data_set/train\\OAF_goal_sad.wav\n",
      "D:/Project_TH_2/Data_set/train\\OAF_good_angry.wav\n"
     ]
    },
    {
     "name": "stderr",
     "output_type": "stream",
     "text": [
      "C:\\Users\\Admin\\AppData\\Roaming\\Python\\Python312\\site-packages\\librosa\\core\\spectrum.py:266: UserWarning: n_fft=1024 is too large for input signal of length=839\n",
      "  warnings.warn(\n",
      "C:\\Users\\Admin\\AppData\\Roaming\\Python\\Python312\\site-packages\\librosa\\core\\spectrum.py:266: UserWarning: n_fft=1024 is too large for input signal of length=1021\n",
      "  warnings.warn(\n"
     ]
    },
    {
     "name": "stdout",
     "output_type": "stream",
     "text": [
      "D:/Project_TH_2/Data_set/train\\OAF_good_disgust.wav\n",
      "D:/Project_TH_2/Data_set/train\\OAF_good_fear.wav\n"
     ]
    },
    {
     "name": "stderr",
     "output_type": "stream",
     "text": [
      "C:\\Users\\Admin\\AppData\\Roaming\\Python\\Python312\\site-packages\\librosa\\core\\spectrum.py:266: UserWarning: n_fft=1024 is too large for input signal of length=658\n",
      "  warnings.warn(\n"
     ]
    },
    {
     "name": "stdout",
     "output_type": "stream",
     "text": [
      "D:/Project_TH_2/Data_set/train\\OAF_good_happy.wav\n",
      "D:/Project_TH_2/Data_set/train\\OAF_good_neutral.wav\n"
     ]
    },
    {
     "name": "stderr",
     "output_type": "stream",
     "text": [
      "C:\\Users\\Admin\\AppData\\Roaming\\Python\\Python312\\site-packages\\librosa\\core\\spectrum.py:266: UserWarning: n_fft=1024 is too large for input signal of length=621\n",
      "  warnings.warn(\n"
     ]
    },
    {
     "name": "stdout",
     "output_type": "stream",
     "text": [
      "D:/Project_TH_2/Data_set/train\\OAF_good_ps.wav\n",
      "D:/Project_TH_2/Data_set/train\\OAF_good_sad.wav\n",
      "D:/Project_TH_2/Data_set/train\\OAF_goose_angry.wav\n"
     ]
    },
    {
     "name": "stderr",
     "output_type": "stream",
     "text": [
      "C:\\Users\\Admin\\AppData\\Roaming\\Python\\Python312\\site-packages\\librosa\\core\\spectrum.py:266: UserWarning: n_fft=1024 is too large for input signal of length=528\n",
      "  warnings.warn(\n",
      "C:\\Users\\Admin\\AppData\\Roaming\\Python\\Python312\\site-packages\\librosa\\core\\spectrum.py:266: UserWarning: n_fft=1024 is too large for input signal of length=806\n",
      "  warnings.warn(\n"
     ]
    },
    {
     "name": "stdout",
     "output_type": "stream",
     "text": [
      "D:/Project_TH_2/Data_set/train\\OAF_goose_disgust.wav\n",
      "D:/Project_TH_2/Data_set/train\\OAF_goose_fear.wav\n"
     ]
    },
    {
     "name": "stderr",
     "output_type": "stream",
     "text": [
      "C:\\Users\\Admin\\AppData\\Roaming\\Python\\Python312\\site-packages\\librosa\\core\\spectrum.py:266: UserWarning: n_fft=1024 is too large for input signal of length=551\n",
      "  warnings.warn(\n",
      "C:\\Users\\Admin\\AppData\\Roaming\\Python\\Python312\\site-packages\\librosa\\core\\spectrum.py:266: UserWarning: n_fft=1024 is too large for input signal of length=629\n",
      "  warnings.warn(\n"
     ]
    },
    {
     "name": "stdout",
     "output_type": "stream",
     "text": [
      "D:/Project_TH_2/Data_set/train\\OAF_goose_happy.wav\n"
     ]
    },
    {
     "name": "stderr",
     "output_type": "stream",
     "text": [
      "C:\\Users\\Admin\\AppData\\Roaming\\Python\\Python312\\site-packages\\librosa\\core\\spectrum.py:266: UserWarning: n_fft=1024 is too large for input signal of length=775\n",
      "  warnings.warn(\n"
     ]
    },
    {
     "name": "stdout",
     "output_type": "stream",
     "text": [
      "D:/Project_TH_2/Data_set/train\\OAF_goose_neutral.wav\n"
     ]
    },
    {
     "name": "stderr",
     "output_type": "stream",
     "text": [
      "C:\\Users\\Admin\\AppData\\Roaming\\Python\\Python312\\site-packages\\librosa\\core\\spectrum.py:266: UserWarning: n_fft=1024 is too large for input signal of length=733\n",
      "  warnings.warn(\n",
      "C:\\Users\\Admin\\AppData\\Roaming\\Python\\Python312\\site-packages\\librosa\\core\\spectrum.py:266: UserWarning: n_fft=1024 is too large for input signal of length=867\n",
      "  warnings.warn(\n"
     ]
    },
    {
     "name": "stdout",
     "output_type": "stream",
     "text": [
      "D:/Project_TH_2/Data_set/train\\OAF_goose_ps.wav\n",
      "D:/Project_TH_2/Data_set/train\\OAF_goose_sad.wav\n"
     ]
    },
    {
     "name": "stderr",
     "output_type": "stream",
     "text": [
      "C:\\Users\\Admin\\AppData\\Roaming\\Python\\Python312\\site-packages\\librosa\\core\\spectrum.py:266: UserWarning: n_fft=1024 is too large for input signal of length=531\n",
      "  warnings.warn(\n"
     ]
    },
    {
     "name": "stdout",
     "output_type": "stream",
     "text": [
      "D:/Project_TH_2/Data_set/train\\OAF_gun_angry.wav\n"
     ]
    },
    {
     "name": "stderr",
     "output_type": "stream",
     "text": [
      "C:\\Users\\Admin\\AppData\\Roaming\\Python\\Python312\\site-packages\\librosa\\core\\spectrum.py:266: UserWarning: n_fft=1024 is too large for input signal of length=854\n",
      "  warnings.warn(\n"
     ]
    },
    {
     "name": "stdout",
     "output_type": "stream",
     "text": [
      "D:/Project_TH_2/Data_set/train\\OAF_gun_disgust.wav\n",
      "D:/Project_TH_2/Data_set/train\\OAF_gun_fear.wav\n"
     ]
    },
    {
     "name": "stderr",
     "output_type": "stream",
     "text": [
      "C:\\Users\\Admin\\AppData\\Roaming\\Python\\Python312\\site-packages\\librosa\\core\\spectrum.py:266: UserWarning: n_fft=1024 is too large for input signal of length=678\n",
      "  warnings.warn(\n"
     ]
    },
    {
     "name": "stdout",
     "output_type": "stream",
     "text": [
      "D:/Project_TH_2/Data_set/train\\OAF_gun_happy.wav\n",
      "D:/Project_TH_2/Data_set/train\\OAF_gun_neutral.wav\n",
      "D:/Project_TH_2/Data_set/train\\OAF_gun_ps.wav\n"
     ]
    },
    {
     "name": "stderr",
     "output_type": "stream",
     "text": [
      "C:\\Users\\Admin\\AppData\\Roaming\\Python\\Python312\\site-packages\\librosa\\core\\spectrum.py:266: UserWarning: n_fft=1024 is too large for input signal of length=864\n",
      "  warnings.warn(\n",
      "C:\\Users\\Admin\\AppData\\Roaming\\Python\\Python312\\site-packages\\librosa\\core\\spectrum.py:266: UserWarning: n_fft=1024 is too large for input signal of length=585\n",
      "  warnings.warn(\n"
     ]
    },
    {
     "name": "stdout",
     "output_type": "stream",
     "text": [
      "D:/Project_TH_2/Data_set/train\\OAF_gun_sad.wav\n",
      "D:/Project_TH_2/Data_set/train\\OAF_half_angry.wav\n",
      "D:/Project_TH_2/Data_set/train\\OAF_half_disgust.wav\n",
      "D:/Project_TH_2/Data_set/train\\OAF_half_fear.wav\n"
     ]
    },
    {
     "name": "stderr",
     "output_type": "stream",
     "text": [
      "C:\\Users\\Admin\\AppData\\Roaming\\Python\\Python312\\site-packages\\librosa\\core\\spectrum.py:266: UserWarning: n_fft=1024 is too large for input signal of length=743\n",
      "  warnings.warn(\n"
     ]
    },
    {
     "name": "stdout",
     "output_type": "stream",
     "text": [
      "D:/Project_TH_2/Data_set/train\\OAF_half_happy.wav\n",
      "D:/Project_TH_2/Data_set/train\\OAF_half_neutral.wav\n",
      "D:/Project_TH_2/Data_set/train\\OAF_half_ps.wav\n"
     ]
    },
    {
     "name": "stderr",
     "output_type": "stream",
     "text": [
      "C:\\Users\\Admin\\AppData\\Roaming\\Python\\Python312\\site-packages\\librosa\\core\\spectrum.py:266: UserWarning: n_fft=1024 is too large for input signal of length=874\n",
      "  warnings.warn(\n",
      "C:\\Users\\Admin\\AppData\\Roaming\\Python\\Python312\\site-packages\\librosa\\core\\spectrum.py:266: UserWarning: n_fft=1024 is too large for input signal of length=518\n",
      "  warnings.warn(\n"
     ]
    },
    {
     "name": "stdout",
     "output_type": "stream",
     "text": [
      "D:/Project_TH_2/Data_set/train\\OAF_half_sad.wav\n",
      "D:/Project_TH_2/Data_set/train\\OAF_hall_angry.wav\n"
     ]
    },
    {
     "name": "stderr",
     "output_type": "stream",
     "text": [
      "C:\\Users\\Admin\\AppData\\Roaming\\Python\\Python312\\site-packages\\librosa\\core\\spectrum.py:266: UserWarning: n_fft=1024 is too large for input signal of length=791\n",
      "  warnings.warn(\n",
      "C:\\Users\\Admin\\AppData\\Roaming\\Python\\Python312\\site-packages\\librosa\\core\\spectrum.py:266: UserWarning: n_fft=1024 is too large for input signal of length=959\n",
      "  warnings.warn(\n",
      "C:\\Users\\Admin\\AppData\\Roaming\\Python\\Python312\\site-packages\\librosa\\core\\spectrum.py:266: UserWarning: n_fft=1024 is too large for input signal of length=480\n",
      "  warnings.warn(\n"
     ]
    },
    {
     "name": "stdout",
     "output_type": "stream",
     "text": [
      "D:/Project_TH_2/Data_set/train\\OAF_hall_disgust.wav\n",
      "D:/Project_TH_2/Data_set/train\\OAF_hall_fear.wav\n"
     ]
    },
    {
     "name": "stderr",
     "output_type": "stream",
     "text": [
      "C:\\Users\\Admin\\AppData\\Roaming\\Python\\Python312\\site-packages\\librosa\\core\\spectrum.py:266: UserWarning: n_fft=1024 is too large for input signal of length=702\n",
      "  warnings.warn(\n"
     ]
    },
    {
     "name": "stdout",
     "output_type": "stream",
     "text": [
      "D:/Project_TH_2/Data_set/train\\OAF_hall_happy.wav\n",
      "D:/Project_TH_2/Data_set/train\\OAF_hall_neutral.wav\n"
     ]
    },
    {
     "name": "stderr",
     "output_type": "stream",
     "text": [
      "C:\\Users\\Admin\\AppData\\Roaming\\Python\\Python312\\site-packages\\librosa\\core\\spectrum.py:266: UserWarning: n_fft=1024 is too large for input signal of length=728\n",
      "  warnings.warn(\n"
     ]
    },
    {
     "name": "stdout",
     "output_type": "stream",
     "text": [
      "D:/Project_TH_2/Data_set/train\\OAF_hall_ps.wav\n"
     ]
    },
    {
     "name": "stderr",
     "output_type": "stream",
     "text": [
      "C:\\Users\\Admin\\AppData\\Roaming\\Python\\Python312\\site-packages\\librosa\\core\\spectrum.py:266: UserWarning: n_fft=1024 is too large for input signal of length=836\n",
      "  warnings.warn(\n"
     ]
    },
    {
     "name": "stdout",
     "output_type": "stream",
     "text": [
      "D:/Project_TH_2/Data_set/train\\OAF_hall_sad.wav\n",
      "D:/Project_TH_2/Data_set/train\\OAF_hash_angry.wav\n"
     ]
    },
    {
     "name": "stderr",
     "output_type": "stream",
     "text": [
      "C:\\Users\\Admin\\AppData\\Roaming\\Python\\Python312\\site-packages\\librosa\\core\\spectrum.py:266: UserWarning: n_fft=1024 is too large for input signal of length=899\n",
      "  warnings.warn(\n",
      "C:\\Users\\Admin\\AppData\\Roaming\\Python\\Python312\\site-packages\\librosa\\core\\spectrum.py:266: UserWarning: n_fft=1024 is too large for input signal of length=631\n",
      "  warnings.warn(\n"
     ]
    },
    {
     "name": "stdout",
     "output_type": "stream",
     "text": [
      "D:/Project_TH_2/Data_set/train\\OAF_hash_disgust.wav\n",
      "D:/Project_TH_2/Data_set/train\\OAF_hash_fear.wav\n"
     ]
    },
    {
     "name": "stderr",
     "output_type": "stream",
     "text": [
      "C:\\Users\\Admin\\AppData\\Roaming\\Python\\Python312\\site-packages\\librosa\\core\\spectrum.py:266: UserWarning: n_fft=1024 is too large for input signal of length=696\n",
      "  warnings.warn(\n",
      "C:\\Users\\Admin\\AppData\\Roaming\\Python\\Python312\\site-packages\\librosa\\core\\spectrum.py:266: UserWarning: n_fft=1024 is too large for input signal of length=744\n",
      "  warnings.warn(\n"
     ]
    },
    {
     "name": "stdout",
     "output_type": "stream",
     "text": [
      "D:/Project_TH_2/Data_set/train\\OAF_hash_happy.wav\n",
      "D:/Project_TH_2/Data_set/train\\OAF_hash_neutral.wav\n"
     ]
    },
    {
     "name": "stderr",
     "output_type": "stream",
     "text": [
      "C:\\Users\\Admin\\AppData\\Roaming\\Python\\Python312\\site-packages\\librosa\\core\\spectrum.py:266: UserWarning: n_fft=1024 is too large for input signal of length=664\n",
      "  warnings.warn(\n"
     ]
    },
    {
     "name": "stdout",
     "output_type": "stream",
     "text": [
      "D:/Project_TH_2/Data_set/train\\OAF_hash_ps.wav\n"
     ]
    },
    {
     "name": "stderr",
     "output_type": "stream",
     "text": [
      "C:\\Users\\Admin\\AppData\\Roaming\\Python\\Python312\\site-packages\\librosa\\core\\spectrum.py:266: UserWarning: n_fft=1024 is too large for input signal of length=813\n",
      "  warnings.warn(\n",
      "C:\\Users\\Admin\\AppData\\Roaming\\Python\\Python312\\site-packages\\librosa\\core\\spectrum.py:266: UserWarning: n_fft=1024 is too large for input signal of length=1023\n",
      "  warnings.warn(\n",
      "C:\\Users\\Admin\\AppData\\Roaming\\Python\\Python312\\site-packages\\librosa\\core\\spectrum.py:266: UserWarning: n_fft=1024 is too large for input signal of length=512\n",
      "  warnings.warn(\n"
     ]
    },
    {
     "name": "stdout",
     "output_type": "stream",
     "text": [
      "D:/Project_TH_2/Data_set/train\\OAF_hash_sad.wav\n",
      "D:/Project_TH_2/Data_set/train\\OAF_hate_angry.wav\n"
     ]
    },
    {
     "name": "stderr",
     "output_type": "stream",
     "text": [
      "C:\\Users\\Admin\\AppData\\Roaming\\Python\\Python312\\site-packages\\librosa\\core\\spectrum.py:266: UserWarning: n_fft=1024 is too large for input signal of length=823\n",
      "  warnings.warn(\n",
      "C:\\Users\\Admin\\AppData\\Roaming\\Python\\Python312\\site-packages\\librosa\\core\\spectrum.py:266: UserWarning: n_fft=1024 is too large for input signal of length=516\n",
      "  warnings.warn(\n"
     ]
    },
    {
     "name": "stdout",
     "output_type": "stream",
     "text": [
      "D:/Project_TH_2/Data_set/train\\OAF_hate_disgust.wav\n",
      "D:/Project_TH_2/Data_set/train\\OAF_hate_fear.wav\n"
     ]
    },
    {
     "name": "stderr",
     "output_type": "stream",
     "text": [
      "C:\\Users\\Admin\\AppData\\Roaming\\Python\\Python312\\site-packages\\librosa\\core\\spectrum.py:266: UserWarning: n_fft=1024 is too large for input signal of length=613\n",
      "  warnings.warn(\n",
      "C:\\Users\\Admin\\AppData\\Roaming\\Python\\Python312\\site-packages\\librosa\\core\\spectrum.py:266: UserWarning: n_fft=1024 is too large for input signal of length=616\n",
      "  warnings.warn(\n"
     ]
    },
    {
     "name": "stdout",
     "output_type": "stream",
     "text": [
      "D:/Project_TH_2/Data_set/train\\OAF_hate_happy.wav\n",
      "D:/Project_TH_2/Data_set/train\\OAF_hate_neutral.wav\n"
     ]
    },
    {
     "name": "stderr",
     "output_type": "stream",
     "text": [
      "C:\\Users\\Admin\\AppData\\Roaming\\Python\\Python312\\site-packages\\librosa\\core\\spectrum.py:266: UserWarning: n_fft=1024 is too large for input signal of length=685\n",
      "  warnings.warn(\n"
     ]
    },
    {
     "name": "stdout",
     "output_type": "stream",
     "text": [
      "D:/Project_TH_2/Data_set/train\\OAF_hate_ps.wav\n"
     ]
    },
    {
     "name": "stderr",
     "output_type": "stream",
     "text": [
      "C:\\Users\\Admin\\AppData\\Roaming\\Python\\Python312\\site-packages\\librosa\\core\\spectrum.py:266: UserWarning: n_fft=1024 is too large for input signal of length=810\n",
      "  warnings.warn(\n",
      "C:\\Users\\Admin\\AppData\\Roaming\\Python\\Python312\\site-packages\\librosa\\core\\spectrum.py:266: UserWarning: n_fft=1024 is too large for input signal of length=570\n",
      "  warnings.warn(\n"
     ]
    },
    {
     "name": "stdout",
     "output_type": "stream",
     "text": [
      "D:/Project_TH_2/Data_set/train\\OAF_hate_sad.wav\n",
      "D:/Project_TH_2/Data_set/train\\OAF_have_angry.wav\n"
     ]
    },
    {
     "name": "stderr",
     "output_type": "stream",
     "text": [
      "C:\\Users\\Admin\\AppData\\Roaming\\Python\\Python312\\site-packages\\librosa\\core\\spectrum.py:266: UserWarning: n_fft=1024 is too large for input signal of length=849\n",
      "  warnings.warn(\n"
     ]
    },
    {
     "name": "stdout",
     "output_type": "stream",
     "text": [
      "D:/Project_TH_2/Data_set/train\\OAF_have_disgust.wav\n",
      "D:/Project_TH_2/Data_set/train\\OAF_have_fear.wav\n"
     ]
    },
    {
     "name": "stderr",
     "output_type": "stream",
     "text": [
      "C:\\Users\\Admin\\AppData\\Roaming\\Python\\Python312\\site-packages\\librosa\\core\\spectrum.py:266: UserWarning: n_fft=1024 is too large for input signal of length=717\n",
      "  warnings.warn(\n",
      "C:\\Users\\Admin\\AppData\\Roaming\\Python\\Python312\\site-packages\\librosa\\core\\spectrum.py:266: UserWarning: n_fft=1024 is too large for input signal of length=661\n",
      "  warnings.warn(\n"
     ]
    },
    {
     "name": "stdout",
     "output_type": "stream",
     "text": [
      "D:/Project_TH_2/Data_set/train\\OAF_have_happy.wav\n",
      "D:/Project_TH_2/Data_set/train\\OAF_have_neutral.wav\n",
      "D:/Project_TH_2/Data_set/train\\OAF_have_ps.wav\n",
      "D:/Project_TH_2/Data_set/train\\OAF_have_sad.wav\n",
      "D:/Project_TH_2/Data_set/train\\OAF_haze_angry.wav\n",
      "D:/Project_TH_2/Data_set/train\\OAF_haze_disgust.wav\n",
      "D:/Project_TH_2/Data_set/train\\OAF_haze_fear.wav\n"
     ]
    },
    {
     "name": "stderr",
     "output_type": "stream",
     "text": [
      "C:\\Users\\Admin\\AppData\\Roaming\\Python\\Python312\\site-packages\\librosa\\core\\spectrum.py:266: UserWarning: n_fft=1024 is too large for input signal of length=700\n",
      "  warnings.warn(\n",
      "C:\\Users\\Admin\\AppData\\Roaming\\Python\\Python312\\site-packages\\librosa\\core\\spectrum.py:266: UserWarning: n_fft=1024 is too large for input signal of length=692\n",
      "  warnings.warn(\n"
     ]
    },
    {
     "name": "stdout",
     "output_type": "stream",
     "text": [
      "D:/Project_TH_2/Data_set/train\\OAF_haze_happy.wav\n",
      "D:/Project_TH_2/Data_set/train\\OAF_haze_neutral.wav\n"
     ]
    },
    {
     "name": "stderr",
     "output_type": "stream",
     "text": [
      "C:\\Users\\Admin\\AppData\\Roaming\\Python\\Python312\\site-packages\\librosa\\core\\spectrum.py:266: UserWarning: n_fft=1024 is too large for input signal of length=735\n",
      "  warnings.warn(\n"
     ]
    },
    {
     "name": "stdout",
     "output_type": "stream",
     "text": [
      "D:/Project_TH_2/Data_set/train\\OAF_haze_ps.wav\n"
     ]
    },
    {
     "name": "stderr",
     "output_type": "stream",
     "text": [
      "C:\\Users\\Admin\\AppData\\Roaming\\Python\\Python312\\site-packages\\librosa\\core\\spectrum.py:266: UserWarning: n_fft=1024 is too large for input signal of length=909\n",
      "  warnings.warn(\n",
      "C:\\Users\\Admin\\AppData\\Roaming\\Python\\Python312\\site-packages\\librosa\\core\\spectrum.py:266: UserWarning: n_fft=1024 is too large for input signal of length=520\n",
      "  warnings.warn(\n"
     ]
    },
    {
     "name": "stdout",
     "output_type": "stream",
     "text": [
      "D:/Project_TH_2/Data_set/train\\OAF_haze_sad.wav\n",
      "D:/Project_TH_2/Data_set/train\\OAF_hire_angry.wav\n"
     ]
    },
    {
     "name": "stderr",
     "output_type": "stream",
     "text": [
      "C:\\Users\\Admin\\AppData\\Roaming\\Python\\Python312\\site-packages\\librosa\\core\\spectrum.py:266: UserWarning: n_fft=1024 is too large for input signal of length=716\n",
      "  warnings.warn(\n",
      "C:\\Users\\Admin\\AppData\\Roaming\\Python\\Python312\\site-packages\\librosa\\core\\spectrum.py:266: UserWarning: n_fft=1024 is too large for input signal of length=573\n",
      "  warnings.warn(\n"
     ]
    },
    {
     "name": "stdout",
     "output_type": "stream",
     "text": [
      "D:/Project_TH_2/Data_set/train\\OAF_hire_disgust.wav\n",
      "D:/Project_TH_2/Data_set/train\\OAF_hire_fear.wav\n",
      "D:/Project_TH_2/Data_set/train\\OAF_hire_happy.wav\n",
      "D:/Project_TH_2/Data_set/train\\OAF_hire_neutral.wav\n"
     ]
    },
    {
     "name": "stderr",
     "output_type": "stream",
     "text": [
      "C:\\Users\\Admin\\AppData\\Roaming\\Python\\Python312\\site-packages\\librosa\\core\\spectrum.py:266: UserWarning: n_fft=1024 is too large for input signal of length=673\n",
      "  warnings.warn(\n"
     ]
    },
    {
     "name": "stdout",
     "output_type": "stream",
     "text": [
      "D:/Project_TH_2/Data_set/train\\OAF_hire_ps.wav\n",
      "D:/Project_TH_2/Data_set/train\\OAF_hire_sad.wav\n"
     ]
    },
    {
     "name": "stderr",
     "output_type": "stream",
     "text": [
      "C:\\Users\\Admin\\AppData\\Roaming\\Python\\Python312\\site-packages\\librosa\\core\\spectrum.py:266: UserWarning: n_fft=1024 is too large for input signal of length=935\n",
      "  warnings.warn(\n",
      "C:\\Users\\Admin\\AppData\\Roaming\\Python\\Python312\\site-packages\\librosa\\core\\spectrum.py:266: UserWarning: n_fft=1024 is too large for input signal of length=468\n",
      "  warnings.warn(\n",
      "C:\\Users\\Admin\\AppData\\Roaming\\Python\\Python312\\site-packages\\librosa\\core\\spectrum.py:266: UserWarning: n_fft=1024 is too large for input signal of length=817\n",
      "  warnings.warn(\n"
     ]
    },
    {
     "name": "stdout",
     "output_type": "stream",
     "text": [
      "D:/Project_TH_2/Data_set/train\\OAF_hit_angry.wav\n",
      "D:/Project_TH_2/Data_set/train\\OAF_hit_disgust.wav\n",
      "D:/Project_TH_2/Data_set/train\\OAF_hit_fear.wav\n"
     ]
    },
    {
     "name": "stderr",
     "output_type": "stream",
     "text": [
      "C:\\Users\\Admin\\AppData\\Roaming\\Python\\Python312\\site-packages\\librosa\\core\\spectrum.py:266: UserWarning: n_fft=1024 is too large for input signal of length=550\n",
      "  warnings.warn(\n",
      "C:\\Users\\Admin\\AppData\\Roaming\\Python\\Python312\\site-packages\\librosa\\core\\spectrum.py:266: UserWarning: n_fft=1024 is too large for input signal of length=688\n",
      "  warnings.warn(\n"
     ]
    },
    {
     "name": "stdout",
     "output_type": "stream",
     "text": [
      "D:/Project_TH_2/Data_set/train\\OAF_hit_happy.wav\n",
      "D:/Project_TH_2/Data_set/train\\OAF_hit_neutral.wav\n"
     ]
    },
    {
     "name": "stderr",
     "output_type": "stream",
     "text": [
      "C:\\Users\\Admin\\AppData\\Roaming\\Python\\Python312\\site-packages\\librosa\\core\\spectrum.py:266: UserWarning: n_fft=1024 is too large for input signal of length=639\n",
      "  warnings.warn(\n"
     ]
    },
    {
     "name": "stdout",
     "output_type": "stream",
     "text": [
      "D:/Project_TH_2/Data_set/train\\OAF_hit_ps.wav\n",
      "D:/Project_TH_2/Data_set/train\\OAF_hit_sad.wav\n"
     ]
    },
    {
     "name": "stderr",
     "output_type": "stream",
     "text": [
      "C:\\Users\\Admin\\AppData\\Roaming\\Python\\Python312\\site-packages\\librosa\\core\\spectrum.py:266: UserWarning: n_fft=1024 is too large for input signal of length=576\n",
      "  warnings.warn(\n",
      "C:\\Users\\Admin\\AppData\\Roaming\\Python\\Python312\\site-packages\\librosa\\core\\spectrum.py:266: UserWarning: n_fft=1024 is too large for input signal of length=818\n",
      "  warnings.warn(\n"
     ]
    },
    {
     "name": "stdout",
     "output_type": "stream",
     "text": [
      "D:/Project_TH_2/Data_set/train\\OAF_hole_angry.wav\n",
      "D:/Project_TH_2/Data_set/train\\OAF_hole_disgust.wav\n"
     ]
    },
    {
     "name": "stderr",
     "output_type": "stream",
     "text": [
      "C:\\Users\\Admin\\AppData\\Roaming\\Python\\Python312\\site-packages\\librosa\\core\\spectrum.py:266: UserWarning: n_fft=1024 is too large for input signal of length=997\n",
      "  warnings.warn(\n",
      "C:\\Users\\Admin\\AppData\\Roaming\\Python\\Python312\\site-packages\\librosa\\core\\spectrum.py:266: UserWarning: n_fft=1024 is too large for input signal of length=499\n",
      "  warnings.warn(\n"
     ]
    },
    {
     "name": "stdout",
     "output_type": "stream",
     "text": [
      "D:/Project_TH_2/Data_set/train\\OAF_hole_fear.wav\n",
      "D:/Project_TH_2/Data_set/train\\OAF_hole_happy.wav\n",
      "D:/Project_TH_2/Data_set/train\\OAF_hole_neutral.wav\n",
      "D:/Project_TH_2/Data_set/train\\OAF_hole_ps.wav\n"
     ]
    },
    {
     "name": "stderr",
     "output_type": "stream",
     "text": [
      "C:\\Users\\Admin\\AppData\\Roaming\\Python\\Python312\\site-packages\\librosa\\core\\spectrum.py:266: UserWarning: n_fft=1024 is too large for input signal of length=755\n",
      "  warnings.warn(\n",
      "C:\\Users\\Admin\\AppData\\Roaming\\Python\\Python312\\site-packages\\librosa\\core\\spectrum.py:266: UserWarning: n_fft=1024 is too large for input signal of length=898\n",
      "  warnings.warn(\n"
     ]
    },
    {
     "name": "stdout",
     "output_type": "stream",
     "text": [
      "D:/Project_TH_2/Data_set/train\\OAF_hole_sad.wav\n",
      "D:/Project_TH_2/Data_set/train\\OAF_home_angry.wav\n"
     ]
    },
    {
     "name": "stderr",
     "output_type": "stream",
     "text": [
      "C:\\Users\\Admin\\AppData\\Roaming\\Python\\Python312\\site-packages\\librosa\\core\\spectrum.py:266: UserWarning: n_fft=1024 is too large for input signal of length=996\n",
      "  warnings.warn(\n",
      "C:\\Users\\Admin\\AppData\\Roaming\\Python\\Python312\\site-packages\\librosa\\core\\spectrum.py:266: UserWarning: n_fft=1024 is too large for input signal of length=498\n",
      "  warnings.warn(\n",
      "C:\\Users\\Admin\\AppData\\Roaming\\Python\\Python312\\site-packages\\librosa\\core\\spectrum.py:266: UserWarning: n_fft=1024 is too large for input signal of length=816\n",
      "  warnings.warn(\n"
     ]
    },
    {
     "name": "stdout",
     "output_type": "stream",
     "text": [
      "D:/Project_TH_2/Data_set/train\\OAF_home_disgust.wav\n",
      "D:/Project_TH_2/Data_set/train\\OAF_home_fear.wav\n"
     ]
    },
    {
     "name": "stderr",
     "output_type": "stream",
     "text": [
      "C:\\Users\\Admin\\AppData\\Roaming\\Python\\Python312\\site-packages\\librosa\\core\\spectrum.py:266: UserWarning: n_fft=1024 is too large for input signal of length=538\n",
      "  warnings.warn(\n"
     ]
    },
    {
     "name": "stdout",
     "output_type": "stream",
     "text": [
      "D:/Project_TH_2/Data_set/train\\OAF_home_happy.wav\n",
      "D:/Project_TH_2/Data_set/train\\OAF_home_neutral.wav\n",
      "D:/Project_TH_2/Data_set/train\\OAF_home_ps.wav\n",
      "D:/Project_TH_2/Data_set/train\\OAF_home_sad.wav\n"
     ]
    },
    {
     "name": "stderr",
     "output_type": "stream",
     "text": [
      "C:\\Users\\Admin\\AppData\\Roaming\\Python\\Python312\\site-packages\\librosa\\core\\spectrum.py:266: UserWarning: n_fft=1024 is too large for input signal of length=774\n",
      "  warnings.warn(\n"
     ]
    },
    {
     "name": "stdout",
     "output_type": "stream",
     "text": [
      "D:/Project_TH_2/Data_set/train\\OAF_hurl_angry.wav\n"
     ]
    },
    {
     "name": "stderr",
     "output_type": "stream",
     "text": [
      "C:\\Users\\Admin\\AppData\\Roaming\\Python\\Python312\\site-packages\\librosa\\core\\spectrum.py:266: UserWarning: n_fft=1024 is too large for input signal of length=782\n",
      "  warnings.warn(\n",
      "C:\\Users\\Admin\\AppData\\Roaming\\Python\\Python312\\site-packages\\librosa\\core\\spectrum.py:266: UserWarning: n_fft=1024 is too large for input signal of length=960\n",
      "  warnings.warn(\n"
     ]
    },
    {
     "name": "stdout",
     "output_type": "stream",
     "text": [
      "D:/Project_TH_2/Data_set/train\\OAF_hurl_disgust.wav\n",
      "D:/Project_TH_2/Data_set/train\\OAF_hurl_fear.wav\n"
     ]
    },
    {
     "name": "stderr",
     "output_type": "stream",
     "text": [
      "C:\\Users\\Admin\\AppData\\Roaming\\Python\\Python312\\site-packages\\librosa\\core\\spectrum.py:266: UserWarning: n_fft=1024 is too large for input signal of length=651\n",
      "  warnings.warn(\n",
      "C:\\Users\\Admin\\AppData\\Roaming\\Python\\Python312\\site-packages\\librosa\\core\\spectrum.py:266: UserWarning: n_fft=1024 is too large for input signal of length=681\n",
      "  warnings.warn(\n"
     ]
    },
    {
     "name": "stdout",
     "output_type": "stream",
     "text": [
      "D:/Project_TH_2/Data_set/train\\OAF_hurl_happy.wav\n",
      "D:/Project_TH_2/Data_set/train\\OAF_hurl_neutral.wav\n"
     ]
    },
    {
     "name": "stderr",
     "output_type": "stream",
     "text": [
      "C:\\Users\\Admin\\AppData\\Roaming\\Python\\Python312\\site-packages\\librosa\\core\\spectrum.py:266: UserWarning: n_fft=1024 is too large for input signal of length=634\n",
      "  warnings.warn(\n",
      "C:\\Users\\Admin\\AppData\\Roaming\\Python\\Python312\\site-packages\\librosa\\core\\spectrum.py:266: UserWarning: n_fft=1024 is too large for input signal of length=852\n",
      "  warnings.warn(\n"
     ]
    },
    {
     "name": "stdout",
     "output_type": "stream",
     "text": [
      "D:/Project_TH_2/Data_set/train\\OAF_hurl_ps.wav\n",
      "D:/Project_TH_2/Data_set/train\\OAF_hurl_sad.wav\n"
     ]
    },
    {
     "name": "stderr",
     "output_type": "stream",
     "text": [
      "C:\\Users\\Admin\\AppData\\Roaming\\Python\\Python312\\site-packages\\librosa\\core\\spectrum.py:266: UserWarning: n_fft=1024 is too large for input signal of length=533\n",
      "  warnings.warn(\n",
      "C:\\Users\\Admin\\AppData\\Roaming\\Python\\Python312\\site-packages\\librosa\\core\\spectrum.py:266: UserWarning: n_fft=1024 is too large for input signal of length=880\n",
      "  warnings.warn(\n"
     ]
    },
    {
     "name": "stdout",
     "output_type": "stream",
     "text": [
      "D:/Project_TH_2/Data_set/train\\OAF_hush_angry.wav\n",
      "D:/Project_TH_2/Data_set/train\\OAF_hush_disgust.wav\n"
     ]
    },
    {
     "name": "stderr",
     "output_type": "stream",
     "text": [
      "C:\\Users\\Admin\\AppData\\Roaming\\Python\\Python312\\site-packages\\librosa\\core\\spectrum.py:266: UserWarning: n_fft=1024 is too large for input signal of length=532\n",
      "  warnings.warn(\n"
     ]
    },
    {
     "name": "stdout",
     "output_type": "stream",
     "text": [
      "D:/Project_TH_2/Data_set/train\\OAF_hush_fear.wav\n",
      "D:/Project_TH_2/Data_set/train\\OAF_hush_happy.wav\n",
      "D:/Project_TH_2/Data_set/train\\OAF_hush_neutral.wav\n"
     ]
    },
    {
     "name": "stderr",
     "output_type": "stream",
     "text": [
      "C:\\Users\\Admin\\AppData\\Roaming\\Python\\Python312\\site-packages\\librosa\\core\\spectrum.py:266: UserWarning: n_fft=1024 is too large for input signal of length=698\n",
      "  warnings.warn(\n"
     ]
    },
    {
     "name": "stdout",
     "output_type": "stream",
     "text": [
      "D:/Project_TH_2/Data_set/train\\OAF_hush_ps.wav\n"
     ]
    },
    {
     "name": "stderr",
     "output_type": "stream",
     "text": [
      "C:\\Users\\Admin\\AppData\\Roaming\\Python\\Python312\\site-packages\\librosa\\core\\spectrum.py:266: UserWarning: n_fft=1024 is too large for input signal of length=943\n",
      "  warnings.warn(\n",
      "C:\\Users\\Admin\\AppData\\Roaming\\Python\\Python312\\site-packages\\librosa\\core\\spectrum.py:266: UserWarning: n_fft=1024 is too large for input signal of length=1015\n",
      "  warnings.warn(\n",
      "C:\\Users\\Admin\\AppData\\Roaming\\Python\\Python312\\site-packages\\librosa\\core\\spectrum.py:266: UserWarning: n_fft=1024 is too large for input signal of length=508\n",
      "  warnings.warn(\n"
     ]
    },
    {
     "name": "stdout",
     "output_type": "stream",
     "text": [
      "D:/Project_TH_2/Data_set/train\\OAF_hush_sad.wav\n",
      "D:/Project_TH_2/Data_set/train\\OAF_jail_angry.wav\n"
     ]
    },
    {
     "name": "stderr",
     "output_type": "stream",
     "text": [
      "C:\\Users\\Admin\\AppData\\Roaming\\Python\\Python312\\site-packages\\librosa\\core\\spectrum.py:266: UserWarning: n_fft=1024 is too large for input signal of length=876\n",
      "  warnings.warn(\n",
      "C:\\Users\\Admin\\AppData\\Roaming\\Python\\Python312\\site-packages\\librosa\\core\\spectrum.py:266: UserWarning: n_fft=1024 is too large for input signal of length=596\n",
      "  warnings.warn(\n"
     ]
    },
    {
     "name": "stdout",
     "output_type": "stream",
     "text": [
      "D:/Project_TH_2/Data_set/train\\OAF_jail_disgust.wav\n",
      "D:/Project_TH_2/Data_set/train\\OAF_jail_fear.wav\n"
     ]
    },
    {
     "name": "stderr",
     "output_type": "stream",
     "text": [
      "C:\\Users\\Admin\\AppData\\Roaming\\Python\\Python312\\site-packages\\librosa\\core\\spectrum.py:266: UserWarning: n_fft=1024 is too large for input signal of length=617\n",
      "  warnings.warn(\n",
      "C:\\Users\\Admin\\AppData\\Roaming\\Python\\Python312\\site-packages\\librosa\\core\\spectrum.py:266: UserWarning: n_fft=1024 is too large for input signal of length=748\n",
      "  warnings.warn(\n"
     ]
    },
    {
     "name": "stdout",
     "output_type": "stream",
     "text": [
      "D:/Project_TH_2/Data_set/train\\OAF_jail_happy.wav\n",
      "D:/Project_TH_2/Data_set/train\\OAF_jail_neutral.wav\n",
      "D:/Project_TH_2/Data_set/train\\OAF_jail_ps.wav\n",
      "D:/Project_TH_2/Data_set/train\\OAF_jail_sad.wav\n"
     ]
    },
    {
     "name": "stderr",
     "output_type": "stream",
     "text": [
      "C:\\Users\\Admin\\AppData\\Roaming\\Python\\Python312\\site-packages\\librosa\\core\\spectrum.py:266: UserWarning: n_fft=1024 is too large for input signal of length=697\n",
      "  warnings.warn(\n",
      "C:\\Users\\Admin\\AppData\\Roaming\\Python\\Python312\\site-packages\\librosa\\core\\spectrum.py:266: UserWarning: n_fft=1024 is too large for input signal of length=847\n",
      "  warnings.warn(\n"
     ]
    },
    {
     "name": "stdout",
     "output_type": "stream",
     "text": [
      "D:/Project_TH_2/Data_set/train\\OAF_jar_angry.wav\n"
     ]
    },
    {
     "name": "stderr",
     "output_type": "stream",
     "text": [
      "C:\\Users\\Admin\\AppData\\Roaming\\Python\\Python312\\site-packages\\librosa\\core\\spectrum.py:266: UserWarning: n_fft=1024 is too large for input signal of length=835\n",
      "  warnings.warn(\n"
     ]
    },
    {
     "name": "stdout",
     "output_type": "stream",
     "text": [
      "D:/Project_TH_2/Data_set/train\\OAF_jar_disgust.wav\n",
      "D:/Project_TH_2/Data_set/train\\OAF_jar_fear.wav\n",
      "D:/Project_TH_2/Data_set/train\\OAF_jar_happy.wav\n",
      "D:/Project_TH_2/Data_set/train\\OAF_jar_neutral.wav\n"
     ]
    },
    {
     "name": "stderr",
     "output_type": "stream",
     "text": [
      "C:\\Users\\Admin\\AppData\\Roaming\\Python\\Python312\\site-packages\\librosa\\core\\spectrum.py:266: UserWarning: n_fft=1024 is too large for input signal of length=674\n",
      "  warnings.warn(\n",
      "C:\\Users\\Admin\\AppData\\Roaming\\Python\\Python312\\site-packages\\librosa\\core\\spectrum.py:266: UserWarning: n_fft=1024 is too large for input signal of length=866\n",
      "  warnings.warn(\n"
     ]
    },
    {
     "name": "stdout",
     "output_type": "stream",
     "text": [
      "D:/Project_TH_2/Data_set/train\\OAF_jar_ps.wav\n",
      "D:/Project_TH_2/Data_set/train\\OAF_jar_sad.wav\n"
     ]
    },
    {
     "name": "stderr",
     "output_type": "stream",
     "text": [
      "C:\\Users\\Admin\\AppData\\Roaming\\Python\\Python312\\site-packages\\librosa\\core\\spectrum.py:266: UserWarning: n_fft=1024 is too large for input signal of length=556\n",
      "  warnings.warn(\n"
     ]
    },
    {
     "name": "stdout",
     "output_type": "stream",
     "text": [
      "D:/Project_TH_2/Data_set/train\\OAF_join_angry.wav\n"
     ]
    },
    {
     "name": "stderr",
     "output_type": "stream",
     "text": [
      "C:\\Users\\Admin\\AppData\\Roaming\\Python\\Python312\\site-packages\\librosa\\core\\spectrum.py:266: UserWarning: n_fft=1024 is too large for input signal of length=814\n",
      "  warnings.warn(\n",
      "C:\\Users\\Admin\\AppData\\Roaming\\Python\\Python312\\site-packages\\librosa\\core\\spectrum.py:266: UserWarning: n_fft=1024 is too large for input signal of length=523\n",
      "  warnings.warn(\n"
     ]
    },
    {
     "name": "stdout",
     "output_type": "stream",
     "text": [
      "D:/Project_TH_2/Data_set/train\\OAF_join_disgust.wav\n",
      "D:/Project_TH_2/Data_set/train\\OAF_join_fear.wav\n",
      "D:/Project_TH_2/Data_set/train\\OAF_join_happy.wav\n"
     ]
    },
    {
     "name": "stderr",
     "output_type": "stream",
     "text": [
      "C:\\Users\\Admin\\AppData\\Roaming\\Python\\Python312\\site-packages\\librosa\\core\\spectrum.py:266: UserWarning: n_fft=1024 is too large for input signal of length=772\n",
      "  warnings.warn(\n"
     ]
    },
    {
     "name": "stdout",
     "output_type": "stream",
     "text": [
      "D:/Project_TH_2/Data_set/train\\OAF_join_neutral.wav\n",
      "D:/Project_TH_2/Data_set/train\\OAF_join_ps.wav\n",
      "D:/Project_TH_2/Data_set/train\\OAF_join_sad.wav\n",
      "D:/Project_TH_2/Data_set/train\\OAF_judge_angry.wav\n"
     ]
    },
    {
     "name": "stderr",
     "output_type": "stream",
     "text": [
      "C:\\Users\\Admin\\AppData\\Roaming\\Python\\Python312\\site-packages\\librosa\\core\\spectrum.py:266: UserWarning: n_fft=1024 is too large for input signal of length=595\n",
      "  warnings.warn(\n"
     ]
    },
    {
     "name": "stdout",
     "output_type": "stream",
     "text": [
      "D:/Project_TH_2/Data_set/train\\OAF_judge_disgust.wav\n",
      "D:/Project_TH_2/Data_set/train\\OAF_judge_fear.wav\n"
     ]
    },
    {
     "name": "stderr",
     "output_type": "stream",
     "text": [
      "C:\\Users\\Admin\\AppData\\Roaming\\Python\\Python312\\site-packages\\librosa\\core\\spectrum.py:266: UserWarning: n_fft=1024 is too large for input signal of length=981\n",
      "  warnings.warn(\n",
      "C:\\Users\\Admin\\AppData\\Roaming\\Python\\Python312\\site-packages\\librosa\\core\\spectrum.py:266: UserWarning: n_fft=1024 is too large for input signal of length=491\n",
      "  warnings.warn(\n",
      "C:\\Users\\Admin\\AppData\\Roaming\\Python\\Python312\\site-packages\\librosa\\core\\spectrum.py:266: UserWarning: n_fft=1024 is too large for input signal of length=727\n",
      "  warnings.warn(\n"
     ]
    },
    {
     "name": "stdout",
     "output_type": "stream",
     "text": [
      "D:/Project_TH_2/Data_set/train\\OAF_judge_happy.wav\n",
      "D:/Project_TH_2/Data_set/train\\OAF_judge_neutral.wav\n"
     ]
    },
    {
     "name": "stderr",
     "output_type": "stream",
     "text": [
      "C:\\Users\\Admin\\AppData\\Roaming\\Python\\Python312\\site-packages\\librosa\\core\\spectrum.py:266: UserWarning: n_fft=1024 is too large for input signal of length=734\n",
      "  warnings.warn(\n",
      "C:\\Users\\Admin\\AppData\\Roaming\\Python\\Python312\\site-packages\\librosa\\core\\spectrum.py:266: UserWarning: n_fft=1024 is too large for input signal of length=794\n",
      "  warnings.warn(\n"
     ]
    },
    {
     "name": "stdout",
     "output_type": "stream",
     "text": [
      "D:/Project_TH_2/Data_set/train\\OAF_judge_ps.wav\n"
     ]
    },
    {
     "name": "stderr",
     "output_type": "stream",
     "text": [
      "C:\\Users\\Admin\\AppData\\Roaming\\Python\\Python312\\site-packages\\librosa\\core\\spectrum.py:266: UserWarning: n_fft=1024 is too large for input signal of length=904\n",
      "  warnings.warn(\n",
      "C:\\Users\\Admin\\AppData\\Roaming\\Python\\Python312\\site-packages\\librosa\\core\\spectrum.py:266: UserWarning: n_fft=1024 is too large for input signal of length=534\n",
      "  warnings.warn(\n"
     ]
    },
    {
     "name": "stdout",
     "output_type": "stream",
     "text": [
      "D:/Project_TH_2/Data_set/train\\OAF_judge_sad.wav\n",
      "D:/Project_TH_2/Data_set/train\\OAF_jug_angry.wav\n"
     ]
    },
    {
     "name": "stderr",
     "output_type": "stream",
     "text": [
      "C:\\Users\\Admin\\AppData\\Roaming\\Python\\Python312\\site-packages\\librosa\\core\\spectrum.py:266: UserWarning: n_fft=1024 is too large for input signal of length=803\n",
      "  warnings.warn(\n",
      "C:\\Users\\Admin\\AppData\\Roaming\\Python\\Python312\\site-packages\\librosa\\core\\spectrum.py:266: UserWarning: n_fft=1024 is too large for input signal of length=630\n",
      "  warnings.warn(\n"
     ]
    },
    {
     "name": "stdout",
     "output_type": "stream",
     "text": [
      "D:/Project_TH_2/Data_set/train\\OAF_jug_disgust.wav\n",
      "D:/Project_TH_2/Data_set/train\\OAF_jug_fear.wav\n",
      "D:/Project_TH_2/Data_set/train\\OAF_jug_happy.wav\n",
      "D:/Project_TH_2/Data_set/train\\OAF_jug_neutral.wav\n"
     ]
    },
    {
     "name": "stderr",
     "output_type": "stream",
     "text": [
      "C:\\Users\\Admin\\AppData\\Roaming\\Python\\Python312\\site-packages\\librosa\\core\\spectrum.py:266: UserWarning: n_fft=1024 is too large for input signal of length=769\n",
      "  warnings.warn(\n"
     ]
    },
    {
     "name": "stdout",
     "output_type": "stream",
     "text": [
      "D:/Project_TH_2/Data_set/train\\OAF_jug_ps.wav\n",
      "D:/Project_TH_2/Data_set/train\\OAF_jug_sad.wav\n",
      "D:/Project_TH_2/Data_set/train\\OAF_juice_angry.wav\n",
      "D:/Project_TH_2/Data_set/train\\OAF_juice_disgust.wav\n"
     ]
    },
    {
     "name": "stderr",
     "output_type": "stream",
     "text": [
      "C:\\Users\\Admin\\AppData\\Roaming\\Python\\Python312\\site-packages\\librosa\\core\\spectrum.py:266: UserWarning: n_fft=1024 is too large for input signal of length=564\n",
      "  warnings.warn(\n"
     ]
    },
    {
     "name": "stdout",
     "output_type": "stream",
     "text": [
      "D:/Project_TH_2/Data_set/train\\OAF_juice_fear.wav\n",
      "D:/Project_TH_2/Data_set/train\\OAF_juice_happy.wav\n"
     ]
    },
    {
     "name": "stderr",
     "output_type": "stream",
     "text": [
      "C:\\Users\\Admin\\AppData\\Roaming\\Python\\Python312\\site-packages\\librosa\\core\\spectrum.py:266: UserWarning: n_fft=1024 is too large for input signal of length=740\n",
      "  warnings.warn(\n",
      "C:\\Users\\Admin\\AppData\\Roaming\\Python\\Python312\\site-packages\\librosa\\core\\spectrum.py:266: UserWarning: n_fft=1024 is too large for input signal of length=765\n",
      "  warnings.warn(\n"
     ]
    },
    {
     "name": "stdout",
     "output_type": "stream",
     "text": [
      "D:/Project_TH_2/Data_set/train\\OAF_juice_neutral.wav\n",
      "D:/Project_TH_2/Data_set/train\\OAF_juice_ps.wav\n"
     ]
    },
    {
     "name": "stderr",
     "output_type": "stream",
     "text": [
      "C:\\Users\\Admin\\AppData\\Roaming\\Python\\Python312\\site-packages\\librosa\\core\\spectrum.py:266: UserWarning: n_fft=1024 is too large for input signal of length=875\n",
      "  warnings.warn(\n",
      "C:\\Users\\Admin\\AppData\\Roaming\\Python\\Python312\\site-packages\\librosa\\core\\spectrum.py:266: UserWarning: n_fft=1024 is too large for input signal of length=591\n",
      "  warnings.warn(\n"
     ]
    },
    {
     "name": "stdout",
     "output_type": "stream",
     "text": [
      "D:/Project_TH_2/Data_set/train\\OAF_juice_sad.wav\n",
      "D:/Project_TH_2/Data_set/train\\OAF_keen_angry.wav\n",
      "D:/Project_TH_2/Data_set/train\\OAF_keen_disgust.wav\n",
      "D:/Project_TH_2/Data_set/train\\OAF_keen_fear.wav\n",
      "D:/Project_TH_2/Data_set/train\\OAF_keen_happy.wav\n"
     ]
    },
    {
     "name": "stderr",
     "output_type": "stream",
     "text": [
      "C:\\Users\\Admin\\AppData\\Roaming\\Python\\Python312\\site-packages\\librosa\\core\\spectrum.py:266: UserWarning: n_fft=1024 is too large for input signal of length=739\n",
      "  warnings.warn(\n",
      "C:\\Users\\Admin\\AppData\\Roaming\\Python\\Python312\\site-packages\\librosa\\core\\spectrum.py:266: UserWarning: n_fft=1024 is too large for input signal of length=665\n",
      "  warnings.warn(\n"
     ]
    },
    {
     "name": "stdout",
     "output_type": "stream",
     "text": [
      "D:/Project_TH_2/Data_set/train\\OAF_keen_neutral.wav\n",
      "D:/Project_TH_2/Data_set/train\\OAF_keen_ps.wav\n"
     ]
    },
    {
     "name": "stderr",
     "output_type": "stream",
     "text": [
      "C:\\Users\\Admin\\AppData\\Roaming\\Python\\Python312\\site-packages\\librosa\\core\\spectrum.py:266: UserWarning: n_fft=1024 is too large for input signal of length=859\n",
      "  warnings.warn(\n",
      "C:\\Users\\Admin\\AppData\\Roaming\\Python\\Python312\\site-packages\\librosa\\core\\spectrum.py:266: UserWarning: n_fft=1024 is too large for input signal of length=536\n",
      "  warnings.warn(\n"
     ]
    },
    {
     "name": "stdout",
     "output_type": "stream",
     "text": [
      "D:/Project_TH_2/Data_set/train\\OAF_keen_sad.wav\n",
      "D:/Project_TH_2/Data_set/train\\OAF_keep_angry.wav\n"
     ]
    },
    {
     "name": "stderr",
     "output_type": "stream",
     "text": [
      "C:\\Users\\Admin\\AppData\\Roaming\\Python\\Python312\\site-packages\\librosa\\core\\spectrum.py:266: UserWarning: n_fft=1024 is too large for input signal of length=911\n",
      "  warnings.warn(\n",
      "C:\\Users\\Admin\\AppData\\Roaming\\Python\\Python312\\site-packages\\librosa\\core\\spectrum.py:266: UserWarning: n_fft=1024 is too large for input signal of length=578\n",
      "  warnings.warn(\n"
     ]
    },
    {
     "name": "stdout",
     "output_type": "stream",
     "text": [
      "D:/Project_TH_2/Data_set/train\\OAF_keep_disgust.wav\n",
      "D:/Project_TH_2/Data_set/train\\OAF_keep_fear.wav\n"
     ]
    },
    {
     "name": "stderr",
     "output_type": "stream",
     "text": [
      "C:\\Users\\Admin\\AppData\\Roaming\\Python\\Python312\\site-packages\\librosa\\core\\spectrum.py:266: UserWarning: n_fft=1024 is too large for input signal of length=657\n",
      "  warnings.warn(\n",
      "C:\\Users\\Admin\\AppData\\Roaming\\Python\\Python312\\site-packages\\librosa\\core\\spectrum.py:266: UserWarning: n_fft=1024 is too large for input signal of length=666\n",
      "  warnings.warn(\n"
     ]
    },
    {
     "name": "stdout",
     "output_type": "stream",
     "text": [
      "D:/Project_TH_2/Data_set/train\\OAF_keep_happy.wav\n",
      "D:/Project_TH_2/Data_set/train\\OAF_keep_neutral.wav\n"
     ]
    },
    {
     "name": "stderr",
     "output_type": "stream",
     "text": [
      "C:\\Users\\Admin\\AppData\\Roaming\\Python\\Python312\\site-packages\\librosa\\core\\spectrum.py:266: UserWarning: n_fft=1024 is too large for input signal of length=732\n",
      "  warnings.warn(\n"
     ]
    },
    {
     "name": "stdout",
     "output_type": "stream",
     "text": [
      "D:/Project_TH_2/Data_set/train\\OAF_keep_ps.wav\n"
     ]
    },
    {
     "name": "stderr",
     "output_type": "stream",
     "text": [
      "C:\\Users\\Admin\\AppData\\Roaming\\Python\\Python312\\site-packages\\librosa\\core\\spectrum.py:266: UserWarning: n_fft=1024 is too large for input signal of length=955\n",
      "  warnings.warn(\n",
      "C:\\Users\\Admin\\AppData\\Roaming\\Python\\Python312\\site-packages\\librosa\\core\\spectrum.py:266: UserWarning: n_fft=1024 is too large for input signal of length=993\n",
      "  warnings.warn(\n",
      "C:\\Users\\Admin\\AppData\\Roaming\\Python\\Python312\\site-packages\\librosa\\core\\spectrum.py:266: UserWarning: n_fft=1024 is too large for input signal of length=497\n",
      "  warnings.warn(\n"
     ]
    },
    {
     "name": "stdout",
     "output_type": "stream",
     "text": [
      "D:/Project_TH_2/Data_set/train\\OAF_keep_sad.wav\n",
      "D:/Project_TH_2/Data_set/train\\OAF_keg_angry.wav\n"
     ]
    },
    {
     "name": "stderr",
     "output_type": "stream",
     "text": [
      "C:\\Users\\Admin\\AppData\\Roaming\\Python\\Python312\\site-packages\\librosa\\core\\spectrum.py:266: UserWarning: n_fft=1024 is too large for input signal of length=837\n",
      "  warnings.warn(\n",
      "C:\\Users\\Admin\\AppData\\Roaming\\Python\\Python312\\site-packages\\librosa\\core\\spectrum.py:266: UserWarning: n_fft=1024 is too large for input signal of length=563\n",
      "  warnings.warn(\n"
     ]
    },
    {
     "name": "stdout",
     "output_type": "stream",
     "text": [
      "D:/Project_TH_2/Data_set/train\\OAF_keg_disgust.wav\n",
      "D:/Project_TH_2/Data_set/train\\OAF_keg_fear.wav\n"
     ]
    },
    {
     "name": "stderr",
     "output_type": "stream",
     "text": [
      "C:\\Users\\Admin\\AppData\\Roaming\\Python\\Python312\\site-packages\\librosa\\core\\spectrum.py:266: UserWarning: n_fft=1024 is too large for input signal of length=633\n",
      "  warnings.warn(\n"
     ]
    },
    {
     "name": "stdout",
     "output_type": "stream",
     "text": [
      "D:/Project_TH_2/Data_set/train\\OAF_keg_happy.wav\n",
      "D:/Project_TH_2/Data_set/train\\OAF_keg_neutral.wav\n",
      "D:/Project_TH_2/Data_set/train\\OAF_keg_ps.wav\n",
      "D:/Project_TH_2/Data_set/train\\OAF_keg_sad.wav\n",
      "D:/Project_TH_2/Data_set/train\\OAF_kick_angry.wav\n"
     ]
    },
    {
     "name": "stderr",
     "output_type": "stream",
     "text": [
      "C:\\Users\\Admin\\AppData\\Roaming\\Python\\Python312\\site-packages\\librosa\\core\\spectrum.py:266: UserWarning: n_fft=1024 is too large for input signal of length=783\n",
      "  warnings.warn(\n",
      "C:\\Users\\Admin\\AppData\\Roaming\\Python\\Python312\\site-packages\\librosa\\core\\spectrum.py:266: UserWarning: n_fft=1024 is too large for input signal of length=983\n",
      "  warnings.warn(\n",
      "C:\\Users\\Admin\\AppData\\Roaming\\Python\\Python312\\site-packages\\librosa\\core\\spectrum.py:266: UserWarning: n_fft=1024 is too large for input signal of length=492\n",
      "  warnings.warn(\n"
     ]
    },
    {
     "name": "stdout",
     "output_type": "stream",
     "text": [
      "D:/Project_TH_2/Data_set/train\\OAF_kick_disgust.wav\n",
      "D:/Project_TH_2/Data_set/train\\OAF_kick_fear.wav\n"
     ]
    },
    {
     "name": "stderr",
     "output_type": "stream",
     "text": [
      "C:\\Users\\Admin\\AppData\\Roaming\\Python\\Python312\\site-packages\\librosa\\core\\spectrum.py:266: UserWarning: n_fft=1024 is too large for input signal of length=757\n",
      "  warnings.warn(\n"
     ]
    },
    {
     "name": "stdout",
     "output_type": "stream",
     "text": [
      "D:/Project_TH_2/Data_set/train\\OAF_kick_happy.wav\n",
      "D:/Project_TH_2/Data_set/train\\OAF_kick_neutral.wav\n",
      "D:/Project_TH_2/Data_set/train\\OAF_kick_ps.wav\n"
     ]
    },
    {
     "name": "stderr",
     "output_type": "stream",
     "text": [
      "C:\\Users\\Admin\\AppData\\Roaming\\Python\\Python312\\site-packages\\librosa\\core\\spectrum.py:266: UserWarning: n_fft=1024 is too large for input signal of length=901\n",
      "  warnings.warn(\n",
      "C:\\Users\\Admin\\AppData\\Roaming\\Python\\Python312\\site-packages\\librosa\\core\\spectrum.py:266: UserWarning: n_fft=1024 is too large for input signal of length=517\n",
      "  warnings.warn(\n"
     ]
    },
    {
     "name": "stdout",
     "output_type": "stream",
     "text": [
      "D:/Project_TH_2/Data_set/train\\OAF_kick_sad.wav\n",
      "D:/Project_TH_2/Data_set/train\\OAF_kill_angry.wav\n"
     ]
    },
    {
     "name": "stderr",
     "output_type": "stream",
     "text": [
      "C:\\Users\\Admin\\AppData\\Roaming\\Python\\Python312\\site-packages\\librosa\\core\\spectrum.py:266: UserWarning: n_fft=1024 is too large for input signal of length=799\n",
      "  warnings.warn(\n"
     ]
    },
    {
     "name": "stdout",
     "output_type": "stream",
     "text": [
      "D:/Project_TH_2/Data_set/train\\OAF_kill_disgust.wav\n",
      "D:/Project_TH_2/Data_set/train\\OAF_kill_fear.wav\n"
     ]
    },
    {
     "name": "stderr",
     "output_type": "stream",
     "text": [
      "C:\\Users\\Admin\\AppData\\Roaming\\Python\\Python312\\site-packages\\librosa\\core\\spectrum.py:266: UserWarning: n_fft=1024 is too large for input signal of length=773\n",
      "  warnings.warn(\n",
      "C:\\Users\\Admin\\AppData\\Roaming\\Python\\Python312\\site-packages\\librosa\\core\\spectrum.py:266: UserWarning: n_fft=1024 is too large for input signal of length=714\n",
      "  warnings.warn(\n"
     ]
    },
    {
     "name": "stdout",
     "output_type": "stream",
     "text": [
      "D:/Project_TH_2/Data_set/train\\OAF_kill_happy.wav\n",
      "D:/Project_TH_2/Data_set/train\\OAF_kill_neutral.wav\n"
     ]
    },
    {
     "name": "stderr",
     "output_type": "stream",
     "text": [
      "C:\\Users\\Admin\\AppData\\Roaming\\Python\\Python312\\site-packages\\librosa\\core\\spectrum.py:266: UserWarning: n_fft=1024 is too large for input signal of length=770\n",
      "  warnings.warn(\n"
     ]
    },
    {
     "name": "stdout",
     "output_type": "stream",
     "text": [
      "D:/Project_TH_2/Data_set/train\\OAF_kill_ps.wav\n"
     ]
    },
    {
     "name": "stderr",
     "output_type": "stream",
     "text": [
      "C:\\Users\\Admin\\AppData\\Roaming\\Python\\Python312\\site-packages\\librosa\\core\\spectrum.py:266: UserWarning: n_fft=1024 is too large for input signal of length=894\n",
      "  warnings.warn(\n"
     ]
    },
    {
     "name": "stdout",
     "output_type": "stream",
     "text": [
      "D:/Project_TH_2/Data_set/train\\OAF_kill_sad.wav\n",
      "D:/Project_TH_2/Data_set/train\\OAF_king_angry.wav\n"
     ]
    },
    {
     "name": "stderr",
     "output_type": "stream",
     "text": [
      "C:\\Users\\Admin\\AppData\\Roaming\\Python\\Python312\\site-packages\\librosa\\core\\spectrum.py:266: UserWarning: n_fft=1024 is too large for input signal of length=780\n",
      "  warnings.warn(\n",
      "C:\\Users\\Admin\\AppData\\Roaming\\Python\\Python312\\site-packages\\librosa\\core\\spectrum.py:266: UserWarning: n_fft=1024 is too large for input signal of length=555\n",
      "  warnings.warn(\n"
     ]
    },
    {
     "name": "stdout",
     "output_type": "stream",
     "text": [
      "D:/Project_TH_2/Data_set/train\\OAF_king_disgust.wav\n",
      "D:/Project_TH_2/Data_set/train\\OAF_king_fear.wav\n",
      "D:/Project_TH_2/Data_set/train\\OAF_king_happy.wav\n",
      "D:/Project_TH_2/Data_set/train\\OAF_king_neutral.wav\n"
     ]
    },
    {
     "name": "stderr",
     "output_type": "stream",
     "text": [
      "C:\\Users\\Admin\\AppData\\Roaming\\Python\\Python312\\site-packages\\librosa\\core\\spectrum.py:266: UserWarning: n_fft=1024 is too large for input signal of length=660\n",
      "  warnings.warn(\n"
     ]
    },
    {
     "name": "stdout",
     "output_type": "stream",
     "text": [
      "D:/Project_TH_2/Data_set/train\\OAF_king_ps.wav\n",
      "D:/Project_TH_2/Data_set/train\\OAF_king_sad.wav\n",
      "D:/Project_TH_2/Data_set/train\\OAF_kite_angry.wav\n",
      "D:/Project_TH_2/Data_set/train\\OAF_kite_disgust.wav\n",
      "D:/Project_TH_2/Data_set/train\\OAF_kite_fear.wav\n"
     ]
    },
    {
     "name": "stderr",
     "output_type": "stream",
     "text": [
      "C:\\Users\\Admin\\AppData\\Roaming\\Python\\Python312\\site-packages\\librosa\\core\\spectrum.py:266: UserWarning: n_fft=1024 is too large for input signal of length=1007\n",
      "  warnings.warn(\n",
      "C:\\Users\\Admin\\AppData\\Roaming\\Python\\Python312\\site-packages\\librosa\\core\\spectrum.py:266: UserWarning: n_fft=1024 is too large for input signal of length=504\n",
      "  warnings.warn(\n",
      "C:\\Users\\Admin\\AppData\\Roaming\\Python\\Python312\\site-packages\\librosa\\core\\spectrum.py:266: UserWarning: n_fft=1024 is too large for input signal of length=643\n",
      "  warnings.warn(\n"
     ]
    },
    {
     "name": "stdout",
     "output_type": "stream",
     "text": [
      "D:/Project_TH_2/Data_set/train\\OAF_kite_happy.wav\n",
      "D:/Project_TH_2/Data_set/train\\OAF_kite_neutral.wav\n",
      "D:/Project_TH_2/Data_set/train\\OAF_kite_ps.wav\n"
     ]
    },
    {
     "name": "stderr",
     "output_type": "stream",
     "text": [
      "C:\\Users\\Admin\\AppData\\Roaming\\Python\\Python312\\site-packages\\librosa\\core\\spectrum.py:266: UserWarning: n_fft=1024 is too large for input signal of length=924\n",
      "  warnings.warn(\n"
     ]
    },
    {
     "name": "stdout",
     "output_type": "stream",
     "text": [
      "D:/Project_TH_2/Data_set/train\\OAF_kite_sad.wav\n"
     ]
    },
    {
     "name": "stderr",
     "output_type": "stream",
     "text": [
      "C:\\Users\\Admin\\AppData\\Roaming\\Python\\Python312\\site-packages\\librosa\\core\\spectrum.py:266: UserWarning: n_fft=1024 is too large for input signal of length=622\n",
      "  warnings.warn(\n"
     ]
    },
    {
     "name": "stdout",
     "output_type": "stream",
     "text": [
      "D:/Project_TH_2/Data_set/train\\OAF_knock_angry.wav\n"
     ]
    },
    {
     "name": "stderr",
     "output_type": "stream",
     "text": [
      "C:\\Users\\Admin\\AppData\\Roaming\\Python\\Python312\\site-packages\\librosa\\core\\spectrum.py:266: UserWarning: n_fft=1024 is too large for input signal of length=842\n",
      "  warnings.warn(\n"
     ]
    },
    {
     "name": "stdout",
     "output_type": "stream",
     "text": [
      "D:/Project_TH_2/Data_set/train\\OAF_knock_disgust.wav\n",
      "D:/Project_TH_2/Data_set/train\\OAF_knock_fear.wav\n"
     ]
    },
    {
     "name": "stderr",
     "output_type": "stream",
     "text": [
      "C:\\Users\\Admin\\AppData\\Roaming\\Python\\Python312\\site-packages\\librosa\\core\\spectrum.py:266: UserWarning: n_fft=1024 is too large for input signal of length=682\n",
      "  warnings.warn(\n",
      "C:\\Users\\Admin\\AppData\\Roaming\\Python\\Python312\\site-packages\\librosa\\core\\spectrum.py:266: UserWarning: n_fft=1024 is too large for input signal of length=669\n",
      "  warnings.warn(\n"
     ]
    },
    {
     "name": "stdout",
     "output_type": "stream",
     "text": [
      "D:/Project_TH_2/Data_set/train\\OAF_knock_happy.wav\n",
      "D:/Project_TH_2/Data_set/train\\OAF_knock_neutral.wav\n"
     ]
    },
    {
     "name": "stderr",
     "output_type": "stream",
     "text": [
      "C:\\Users\\Admin\\AppData\\Roaming\\Python\\Python312\\site-packages\\librosa\\core\\spectrum.py:266: UserWarning: n_fft=1024 is too large for input signal of length=712\n",
      "  warnings.warn(\n"
     ]
    },
    {
     "name": "stdout",
     "output_type": "stream",
     "text": [
      "D:/Project_TH_2/Data_set/train\\OAF_knock_ps.wav\n",
      "D:/Project_TH_2/Data_set/train\\OAF_knock_sad.wav\n",
      "D:/Project_TH_2/Data_set/train\\OAF_late_angry.wav\n"
     ]
    },
    {
     "name": "stderr",
     "output_type": "stream",
     "text": [
      "C:\\Users\\Admin\\AppData\\Roaming\\Python\\Python312\\site-packages\\librosa\\core\\spectrum.py:266: UserWarning: n_fft=1024 is too large for input signal of length=577\n",
      "  warnings.warn(\n"
     ]
    },
    {
     "name": "stdout",
     "output_type": "stream",
     "text": [
      "D:/Project_TH_2/Data_set/train\\OAF_late_disgust.wav\n",
      "D:/Project_TH_2/Data_set/train\\OAF_late_fear.wav\n",
      "D:/Project_TH_2/Data_set/train\\OAF_late_happy.wav\n",
      "D:/Project_TH_2/Data_set/train\\OAF_late_neutral.wav\n",
      "D:/Project_TH_2/Data_set/train\\OAF_late_ps.wav\n"
     ]
    },
    {
     "name": "stderr",
     "output_type": "stream",
     "text": [
      "C:\\Users\\Admin\\AppData\\Roaming\\Python\\Python312\\site-packages\\librosa\\core\\spectrum.py:266: UserWarning: n_fft=1024 is too large for input signal of length=675\n",
      "  warnings.warn(\n",
      "C:\\Users\\Admin\\AppData\\Roaming\\Python\\Python312\\site-packages\\librosa\\core\\spectrum.py:266: UserWarning: n_fft=1024 is too large for input signal of length=824\n",
      "  warnings.warn(\n"
     ]
    },
    {
     "name": "stdout",
     "output_type": "stream",
     "text": [
      "D:/Project_TH_2/Data_set/train\\OAF_late_sad.wav\n"
     ]
    },
    {
     "name": "stderr",
     "output_type": "stream",
     "text": [
      "C:\\Users\\Admin\\AppData\\Roaming\\Python\\Python312\\site-packages\\librosa\\core\\spectrum.py:266: UserWarning: n_fft=1024 is too large for input signal of length=572\n",
      "  warnings.warn(\n",
      "C:\\Users\\Admin\\AppData\\Roaming\\Python\\Python312\\site-packages\\librosa\\core\\spectrum.py:266: UserWarning: n_fft=1024 is too large for input signal of length=784\n",
      "  warnings.warn(\n"
     ]
    },
    {
     "name": "stdout",
     "output_type": "stream",
     "text": [
      "D:/Project_TH_2/Data_set/train\\OAF_laud_angry.wav\n",
      "D:/Project_TH_2/Data_set/train\\OAF_laud_disgust.wav\n"
     ]
    },
    {
     "name": "stderr",
     "output_type": "stream",
     "text": [
      "C:\\Users\\Admin\\AppData\\Roaming\\Python\\Python312\\site-packages\\librosa\\core\\spectrum.py:266: UserWarning: n_fft=1024 is too large for input signal of length=527\n",
      "  warnings.warn(\n",
      "C:\\Users\\Admin\\AppData\\Roaming\\Python\\Python312\\site-packages\\librosa\\core\\spectrum.py:266: UserWarning: n_fft=1024 is too large for input signal of length=646\n",
      "  warnings.warn(\n"
     ]
    },
    {
     "name": "stdout",
     "output_type": "stream",
     "text": [
      "D:/Project_TH_2/Data_set/train\\OAF_laud_fear.wav\n",
      "D:/Project_TH_2/Data_set/train\\OAF_laud_happy.wav\n",
      "D:/Project_TH_2/Data_set/train\\OAF_laud_neutral.wav\n",
      "D:/Project_TH_2/Data_set/train\\OAF_laud_ps.wav\n"
     ]
    },
    {
     "name": "stderr",
     "output_type": "stream",
     "text": [
      "C:\\Users\\Admin\\AppData\\Roaming\\Python\\Python312\\site-packages\\librosa\\core\\spectrum.py:266: UserWarning: n_fft=1024 is too large for input signal of length=825\n",
      "  warnings.warn(\n",
      "C:\\Users\\Admin\\AppData\\Roaming\\Python\\Python312\\site-packages\\librosa\\core\\spectrum.py:266: UserWarning: n_fft=1024 is too large for input signal of length=560\n",
      "  warnings.warn(\n"
     ]
    },
    {
     "name": "stdout",
     "output_type": "stream",
     "text": [
      "D:/Project_TH_2/Data_set/train\\OAF_laud_sad.wav\n",
      "D:/Project_TH_2/Data_set/train\\OAF_lean_angry.wav\n",
      "D:/Project_TH_2/Data_set/train\\OAF_lean_disgust.wav\n",
      "D:/Project_TH_2/Data_set/train\\OAF_lean_fear.wav\n"
     ]
    },
    {
     "name": "stderr",
     "output_type": "stream",
     "text": [
      "C:\\Users\\Admin\\AppData\\Roaming\\Python\\Python312\\site-packages\\librosa\\core\\spectrum.py:266: UserWarning: n_fft=1024 is too large for input signal of length=513\n",
      "  warnings.warn(\n"
     ]
    },
    {
     "name": "stdout",
     "output_type": "stream",
     "text": [
      "D:/Project_TH_2/Data_set/train\\OAF_lean_happy.wav\n",
      "D:/Project_TH_2/Data_set/train\\OAF_lean_neutral.wav\n"
     ]
    },
    {
     "name": "stderr",
     "output_type": "stream",
     "text": [
      "C:\\Users\\Admin\\AppData\\Roaming\\Python\\Python312\\site-packages\\librosa\\core\\spectrum.py:266: UserWarning: n_fft=1024 is too large for input signal of length=713\n",
      "  warnings.warn(\n"
     ]
    },
    {
     "name": "stdout",
     "output_type": "stream",
     "text": [
      "D:/Project_TH_2/Data_set/train\\OAF_lean_ps.wav\n"
     ]
    },
    {
     "name": "stderr",
     "output_type": "stream",
     "text": [
      "C:\\Users\\Admin\\AppData\\Roaming\\Python\\Python312\\site-packages\\librosa\\core\\spectrum.py:266: UserWarning: n_fft=1024 is too large for input signal of length=850\n",
      "  warnings.warn(\n"
     ]
    },
    {
     "name": "stdout",
     "output_type": "stream",
     "text": [
      "D:/Project_TH_2/Data_set/train\\OAF_lean_sad.wav\n",
      "D:/Project_TH_2/Data_set/train\\OAF_learn_angry.wav\n"
     ]
    },
    {
     "name": "stderr",
     "output_type": "stream",
     "text": [
      "C:\\Users\\Admin\\AppData\\Roaming\\Python\\Python312\\site-packages\\librosa\\core\\spectrum.py:266: UserWarning: n_fft=1024 is too large for input signal of length=795\n",
      "  warnings.warn(\n",
      "C:\\Users\\Admin\\AppData\\Roaming\\Python\\Python312\\site-packages\\librosa\\core\\spectrum.py:266: UserWarning: n_fft=1024 is too large for input signal of length=586\n",
      "  warnings.warn(\n"
     ]
    },
    {
     "name": "stdout",
     "output_type": "stream",
     "text": [
      "D:/Project_TH_2/Data_set/train\\OAF_learn_disgust.wav\n",
      "D:/Project_TH_2/Data_set/train\\OAF_learn_fear.wav\n",
      "D:/Project_TH_2/Data_set/train\\OAF_learn_happy.wav\n",
      "D:/Project_TH_2/Data_set/train\\OAF_learn_neutral.wav\n",
      "D:/Project_TH_2/Data_set/train\\OAF_learn_ps.wav\n"
     ]
    },
    {
     "name": "stderr",
     "output_type": "stream",
     "text": [
      "C:\\Users\\Admin\\AppData\\Roaming\\Python\\Python312\\site-packages\\librosa\\core\\spectrum.py:266: UserWarning: n_fft=1024 is too large for input signal of length=838\n",
      "  warnings.warn(\n"
     ]
    },
    {
     "name": "stdout",
     "output_type": "stream",
     "text": [
      "D:/Project_TH_2/Data_set/train\\OAF_learn_sad.wav\n",
      "D:/Project_TH_2/Data_set/train\\OAF_lease_angry.wav\n"
     ]
    },
    {
     "name": "stderr",
     "output_type": "stream",
     "text": [
      "C:\\Users\\Admin\\AppData\\Roaming\\Python\\Python312\\site-packages\\librosa\\core\\spectrum.py:266: UserWarning: n_fft=1024 is too large for input signal of length=796\n",
      "  warnings.warn(\n"
     ]
    },
    {
     "name": "stdout",
     "output_type": "stream",
     "text": [
      "D:/Project_TH_2/Data_set/train\\OAF_lease_disgust.wav\n",
      "D:/Project_TH_2/Data_set/train\\OAF_lease_fear.wav\n",
      "D:/Project_TH_2/Data_set/train\\OAF_lease_happy.wav\n",
      "D:/Project_TH_2/Data_set/train\\OAF_lease_neutral.wav\n"
     ]
    },
    {
     "name": "stderr",
     "output_type": "stream",
     "text": [
      "C:\\Users\\Admin\\AppData\\Roaming\\Python\\Python312\\site-packages\\librosa\\core\\spectrum.py:266: UserWarning: n_fft=1024 is too large for input signal of length=749\n",
      "  warnings.warn(\n"
     ]
    },
    {
     "name": "stdout",
     "output_type": "stream",
     "text": [
      "D:/Project_TH_2/Data_set/train\\OAF_lease_ps.wav\n",
      "D:/Project_TH_2/Data_set/train\\OAF_lease_sad.wav\n"
     ]
    },
    {
     "name": "stderr",
     "output_type": "stream",
     "text": [
      "C:\\Users\\Admin\\AppData\\Roaming\\Python\\Python312\\site-packages\\librosa\\core\\spectrum.py:266: UserWarning: n_fft=1024 is too large for input signal of length=975\n",
      "  warnings.warn(\n",
      "C:\\Users\\Admin\\AppData\\Roaming\\Python\\Python312\\site-packages\\librosa\\core\\spectrum.py:266: UserWarning: n_fft=1024 is too large for input signal of length=488\n",
      "  warnings.warn(\n",
      "C:\\Users\\Admin\\AppData\\Roaming\\Python\\Python312\\site-packages\\librosa\\core\\spectrum.py:266: UserWarning: n_fft=1024 is too large for input signal of length=715\n",
      "  warnings.warn(\n"
     ]
    },
    {
     "name": "stdout",
     "output_type": "stream",
     "text": [
      "D:/Project_TH_2/Data_set/train\\OAF_lid_angry.wav\n",
      "D:/Project_TH_2/Data_set/train\\OAF_lid_disgust.wav\n",
      "D:/Project_TH_2/Data_set/train\\OAF_lid_fear.wav\n"
     ]
    },
    {
     "name": "stderr",
     "output_type": "stream",
     "text": [
      "C:\\Users\\Admin\\AppData\\Roaming\\Python\\Python312\\site-packages\\librosa\\core\\spectrum.py:266: UserWarning: n_fft=1024 is too large for input signal of length=694\n",
      "  warnings.warn(\n"
     ]
    },
    {
     "name": "stdout",
     "output_type": "stream",
     "text": [
      "D:/Project_TH_2/Data_set/train\\OAF_lid_happy.wav\n",
      "D:/Project_TH_2/Data_set/train\\OAF_lid_neutral.wav\n"
     ]
    },
    {
     "name": "stderr",
     "output_type": "stream",
     "text": [
      "C:\\Users\\Admin\\AppData\\Roaming\\Python\\Python312\\site-packages\\librosa\\core\\spectrum.py:266: UserWarning: n_fft=1024 is too large for input signal of length=691\n",
      "  warnings.warn(\n"
     ]
    },
    {
     "name": "stdout",
     "output_type": "stream",
     "text": [
      "D:/Project_TH_2/Data_set/train\\OAF_lid_ps.wav\n"
     ]
    },
    {
     "name": "stderr",
     "output_type": "stream",
     "text": [
      "C:\\Users\\Admin\\AppData\\Roaming\\Python\\Python312\\site-packages\\librosa\\core\\spectrum.py:266: UserWarning: n_fft=1024 is too large for input signal of length=871\n",
      "  warnings.warn(\n"
     ]
    },
    {
     "name": "stdout",
     "output_type": "stream",
     "text": [
      "D:/Project_TH_2/Data_set/train\\OAF_lid_sad.wav\n",
      "D:/Project_TH_2/Data_set/train\\OAF_life_angry.wav\n"
     ]
    },
    {
     "name": "stderr",
     "output_type": "stream",
     "text": [
      "C:\\Users\\Admin\\AppData\\Roaming\\Python\\Python312\\site-packages\\librosa\\core\\spectrum.py:266: UserWarning: n_fft=1024 is too large for input signal of length=840\n",
      "  warnings.warn(\n",
      "C:\\Users\\Admin\\AppData\\Roaming\\Python\\Python312\\site-packages\\librosa\\core\\spectrum.py:266: UserWarning: n_fft=1024 is too large for input signal of length=624\n",
      "  warnings.warn(\n"
     ]
    },
    {
     "name": "stdout",
     "output_type": "stream",
     "text": [
      "D:/Project_TH_2/Data_set/train\\OAF_life_disgust.wav\n",
      "D:/Project_TH_2/Data_set/train\\OAF_life_fear.wav\n",
      "D:/Project_TH_2/Data_set/train\\OAF_life_happy.wav\n",
      "D:/Project_TH_2/Data_set/train\\OAF_life_neutral.wav\n"
     ]
    },
    {
     "name": "stderr",
     "output_type": "stream",
     "text": [
      "C:\\Users\\Admin\\AppData\\Roaming\\Python\\Python312\\site-packages\\librosa\\core\\spectrum.py:266: UserWarning: n_fft=1024 is too large for input signal of length=771\n",
      "  warnings.warn(\n"
     ]
    },
    {
     "name": "stdout",
     "output_type": "stream",
     "text": [
      "D:/Project_TH_2/Data_set/train\\OAF_life_ps.wav\n"
     ]
    },
    {
     "name": "stderr",
     "output_type": "stream",
     "text": [
      "C:\\Users\\Admin\\AppData\\Roaming\\Python\\Python312\\site-packages\\librosa\\core\\spectrum.py:266: UserWarning: n_fft=1024 is too large for input signal of length=884\n",
      "  warnings.warn(\n",
      "C:\\Users\\Admin\\AppData\\Roaming\\Python\\Python312\\site-packages\\librosa\\core\\spectrum.py:266: UserWarning: n_fft=1024 is too large for input signal of length=559\n",
      "  warnings.warn(\n"
     ]
    },
    {
     "name": "stdout",
     "output_type": "stream",
     "text": [
      "D:/Project_TH_2/Data_set/train\\OAF_life_sad.wav\n",
      "D:/Project_TH_2/Data_set/train\\OAF_limb_angry.wav\n"
     ]
    },
    {
     "name": "stderr",
     "output_type": "stream",
     "text": [
      "C:\\Users\\Admin\\AppData\\Roaming\\Python\\Python312\\site-packages\\librosa\\core\\spectrum.py:266: UserWarning: n_fft=1024 is too large for input signal of length=855\n",
      "  warnings.warn(\n",
      "C:\\Users\\Admin\\AppData\\Roaming\\Python\\Python312\\site-packages\\librosa\\core\\spectrum.py:266: UserWarning: n_fft=1024 is too large for input signal of length=1010\n",
      "  warnings.warn(\n",
      "C:\\Users\\Admin\\AppData\\Roaming\\Python\\Python312\\site-packages\\librosa\\core\\spectrum.py:266: UserWarning: n_fft=1024 is too large for input signal of length=505\n",
      "  warnings.warn(\n"
     ]
    },
    {
     "name": "stdout",
     "output_type": "stream",
     "text": [
      "D:/Project_TH_2/Data_set/train\\OAF_limb_disgust.wav\n",
      "D:/Project_TH_2/Data_set/train\\OAF_limb_fear.wav\n",
      "D:/Project_TH_2/Data_set/train\\OAF_limb_happy.wav\n",
      "D:/Project_TH_2/Data_set/train\\OAF_limb_neutral.wav\n",
      "D:/Project_TH_2/Data_set/train\\OAF_limb_ps.wav\n",
      "D:/Project_TH_2/Data_set/train\\OAF_limb_sad.wav\n",
      "D:/Project_TH_2/Data_set/train\\OAF_live_angry.wav\n",
      "D:/Project_TH_2/Data_set/train\\OAF_live_disgust.wav\n",
      "D:/Project_TH_2/Data_set/train\\OAF_live_fear.wav\n",
      "D:/Project_TH_2/Data_set/train\\OAF_live_happy.wav\n",
      "D:/Project_TH_2/Data_set/train\\OAF_live_neutral.wav\n",
      "D:/Project_TH_2/Data_set/train\\OAF_live_ps.wav\n"
     ]
    },
    {
     "name": "stderr",
     "output_type": "stream",
     "text": [
      "C:\\Users\\Admin\\AppData\\Roaming\\Python\\Python312\\site-packages\\librosa\\core\\spectrum.py:266: UserWarning: n_fft=1024 is too large for input signal of length=695\n",
      "  warnings.warn(\n"
     ]
    },
    {
     "name": "stdout",
     "output_type": "stream",
     "text": [
      "D:/Project_TH_2/Data_set/train\\OAF_live_sad.wav\n",
      "D:/Project_TH_2/Data_set/train\\OAF_loaf_angry.wav\n"
     ]
    },
    {
     "name": "stderr",
     "output_type": "stream",
     "text": [
      "C:\\Users\\Admin\\AppData\\Roaming\\Python\\Python312\\site-packages\\librosa\\core\\spectrum.py:266: UserWarning: n_fft=1024 is too large for input signal of length=579\n",
      "  warnings.warn(\n",
      "C:\\Users\\Admin\\AppData\\Roaming\\Python\\Python312\\site-packages\\librosa\\core\\spectrum.py:266: UserWarning: n_fft=1024 is too large for input signal of length=900\n",
      "  warnings.warn(\n"
     ]
    },
    {
     "name": "stdout",
     "output_type": "stream",
     "text": [
      "D:/Project_TH_2/Data_set/train\\OAF_loaf_disgust.wav\n",
      "D:/Project_TH_2/Data_set/train\\OAF_loaf_fear.wav\n"
     ]
    },
    {
     "name": "stderr",
     "output_type": "stream",
     "text": [
      "C:\\Users\\Admin\\AppData\\Roaming\\Python\\Python312\\site-packages\\librosa\\core\\spectrum.py:266: UserWarning: n_fft=1024 is too large for input signal of length=589\n",
      "  warnings.warn(\n"
     ]
    },
    {
     "name": "stdout",
     "output_type": "stream",
     "text": [
      "D:/Project_TH_2/Data_set/train\\OAF_loaf_happy.wav\n"
     ]
    },
    {
     "name": "stderr",
     "output_type": "stream",
     "text": [
      "C:\\Users\\Admin\\AppData\\Roaming\\Python\\Python312\\site-packages\\librosa\\core\\spectrum.py:266: UserWarning: n_fft=1024 is too large for input signal of length=758\n",
      "  warnings.warn(\n",
      "C:\\Users\\Admin\\AppData\\Roaming\\Python\\Python312\\site-packages\\librosa\\core\\spectrum.py:266: UserWarning: n_fft=1024 is too large for input signal of length=708\n",
      "  warnings.warn(\n"
     ]
    },
    {
     "name": "stdout",
     "output_type": "stream",
     "text": [
      "D:/Project_TH_2/Data_set/train\\OAF_loaf_neutral.wav\n",
      "D:/Project_TH_2/Data_set/train\\OAF_loaf_ps.wav\n"
     ]
    },
    {
     "name": "stderr",
     "output_type": "stream",
     "text": [
      "C:\\Users\\Admin\\AppData\\Roaming\\Python\\Python312\\site-packages\\librosa\\core\\spectrum.py:266: UserWarning: n_fft=1024 is too large for input signal of length=921\n",
      "  warnings.warn(\n"
     ]
    },
    {
     "name": "stdout",
     "output_type": "stream",
     "text": [
      "D:/Project_TH_2/Data_set/train\\OAF_loaf_sad.wav\n",
      "D:/Project_TH_2/Data_set/train\\OAF_long_angry.wav\n"
     ]
    },
    {
     "name": "stderr",
     "output_type": "stream",
     "text": [
      "C:\\Users\\Admin\\AppData\\Roaming\\Python\\Python312\\site-packages\\librosa\\core\\spectrum.py:266: UserWarning: n_fft=1024 is too large for input signal of length=778\n",
      "  warnings.warn(\n"
     ]
    },
    {
     "name": "stdout",
     "output_type": "stream",
     "text": [
      "D:/Project_TH_2/Data_set/train\\OAF_long_disgust.wav\n",
      "D:/Project_TH_2/Data_set/train\\OAF_long_fear.wav\n",
      "D:/Project_TH_2/Data_set/train\\OAF_long_happy.wav\n",
      "D:/Project_TH_2/Data_set/train\\OAF_long_neutral.wav\n",
      "D:/Project_TH_2/Data_set/train\\OAF_long_ps.wav\n"
     ]
    },
    {
     "name": "stderr",
     "output_type": "stream",
     "text": [
      "C:\\Users\\Admin\\AppData\\Roaming\\Python\\Python312\\site-packages\\librosa\\core\\spectrum.py:266: UserWarning: n_fft=1024 is too large for input signal of length=906\n",
      "  warnings.warn(\n",
      "C:\\Users\\Admin\\AppData\\Roaming\\Python\\Python312\\site-packages\\librosa\\core\\spectrum.py:266: UserWarning: n_fft=1024 is too large for input signal of length=587\n",
      "  warnings.warn(\n"
     ]
    },
    {
     "name": "stdout",
     "output_type": "stream",
     "text": [
      "D:/Project_TH_2/Data_set/train\\OAF_long_sad.wav\n",
      "D:/Project_TH_2/Data_set/train\\OAF_lore_angry.wav\n",
      "D:/Project_TH_2/Data_set/train\\OAF_lore_disgust.wav\n",
      "D:/Project_TH_2/Data_set/train\\OAF_lore_fear.wav\n",
      "D:/Project_TH_2/Data_set/train\\OAF_lore_happy.wav\n",
      "D:/Project_TH_2/Data_set/train\\OAF_lore_neutral.wav\n"
     ]
    },
    {
     "name": "stderr",
     "output_type": "stream",
     "text": [
      "C:\\Users\\Admin\\AppData\\Roaming\\Python\\Python312\\site-packages\\librosa\\core\\spectrum.py:266: UserWarning: n_fft=1024 is too large for input signal of length=656\n",
      "  warnings.warn(\n"
     ]
    },
    {
     "name": "stdout",
     "output_type": "stream",
     "text": [
      "D:/Project_TH_2/Data_set/train\\OAF_lore_ps.wav\n",
      "D:/Project_TH_2/Data_set/train\\OAF_lore_sad.wav\n",
      "D:/Project_TH_2/Data_set/train\\OAF_lose_angry.wav\n",
      "D:/Project_TH_2/Data_set/train\\OAF_lose_disgust.wav\n",
      "D:/Project_TH_2/Data_set/train\\OAF_lose_fear.wav\n",
      "D:/Project_TH_2/Data_set/train\\OAF_lose_happy.wav\n",
      "D:/Project_TH_2/Data_set/train\\OAF_lose_neutral.wav\n"
     ]
    },
    {
     "name": "stderr",
     "output_type": "stream",
     "text": [
      "C:\\Users\\Admin\\AppData\\Roaming\\Python\\Python312\\site-packages\\librosa\\core\\spectrum.py:266: UserWarning: n_fft=1024 is too large for input signal of length=826\n",
      "  warnings.warn(\n"
     ]
    },
    {
     "name": "stdout",
     "output_type": "stream",
     "text": [
      "D:/Project_TH_2/Data_set/train\\OAF_lose_ps.wav\n",
      "D:/Project_TH_2/Data_set/train\\OAF_lose_sad.wav\n",
      "D:/Project_TH_2/Data_set/train\\OAF_lot_angry.wav\n"
     ]
    },
    {
     "name": "stderr",
     "output_type": "stream",
     "text": [
      "C:\\Users\\Admin\\AppData\\Roaming\\Python\\Python312\\site-packages\\librosa\\core\\spectrum.py:266: UserWarning: n_fft=1024 is too large for input signal of length=819\n",
      "  warnings.warn(\n"
     ]
    },
    {
     "name": "stdout",
     "output_type": "stream",
     "text": [
      "D:/Project_TH_2/Data_set/train\\OAF_lot_disgust.wav\n",
      "D:/Project_TH_2/Data_set/train\\OAF_lot_fear.wav\n",
      "D:/Project_TH_2/Data_set/train\\OAF_lot_happy.wav\n",
      "D:/Project_TH_2/Data_set/train\\OAF_lot_neutral.wav\n",
      "D:/Project_TH_2/Data_set/train\\OAF_lot_ps.wav\n"
     ]
    },
    {
     "name": "stderr",
     "output_type": "stream",
     "text": [
      "C:\\Users\\Admin\\AppData\\Roaming\\Python\\Python312\\site-packages\\librosa\\core\\spectrum.py:266: UserWarning: n_fft=1024 is too large for input signal of length=885\n",
      "  warnings.warn(\n"
     ]
    },
    {
     "name": "stdout",
     "output_type": "stream",
     "text": [
      "D:/Project_TH_2/Data_set/train\\OAF_lot_sad.wav\n",
      "D:/Project_TH_2/Data_set/train\\OAF_love_angry.wav\n",
      "D:/Project_TH_2/Data_set/train\\OAF_love_disgust.wav\n",
      "D:/Project_TH_2/Data_set/train\\OAF_love_fear.wav\n",
      "D:/Project_TH_2/Data_set/train\\OAF_love_happy.wav\n",
      "D:/Project_TH_2/Data_set/train\\OAF_love_neutral.wav\n"
     ]
    },
    {
     "name": "stderr",
     "output_type": "stream",
     "text": [
      "C:\\Users\\Admin\\AppData\\Roaming\\Python\\Python312\\site-packages\\librosa\\core\\spectrum.py:266: UserWarning: n_fft=1024 is too large for input signal of length=667\n",
      "  warnings.warn(\n",
      "C:\\Users\\Admin\\AppData\\Roaming\\Python\\Python312\\site-packages\\librosa\\core\\spectrum.py:266: UserWarning: n_fft=1024 is too large for input signal of length=888\n",
      "  warnings.warn(\n"
     ]
    },
    {
     "name": "stdout",
     "output_type": "stream",
     "text": [
      "D:/Project_TH_2/Data_set/train\\OAF_love_ps.wav\n",
      "D:/Project_TH_2/Data_set/train\\OAF_love_sad.wav\n",
      "D:/Project_TH_2/Data_set/train\\OAF_luck_angry.wav\n",
      "D:/Project_TH_2/Data_set/train\\OAF_luck_disgust.wav\n"
     ]
    },
    {
     "name": "stderr",
     "output_type": "stream",
     "text": [
      "C:\\Users\\Admin\\AppData\\Roaming\\Python\\Python312\\site-packages\\librosa\\core\\spectrum.py:266: UserWarning: n_fft=1024 is too large for input signal of length=766\n",
      "  warnings.warn(\n"
     ]
    },
    {
     "name": "stdout",
     "output_type": "stream",
     "text": [
      "D:/Project_TH_2/Data_set/train\\OAF_luck_fear.wav\n",
      "D:/Project_TH_2/Data_set/train\\OAF_luck_happy.wav\n",
      "D:/Project_TH_2/Data_set/train\\OAF_luck_neutral.wav\n",
      "D:/Project_TH_2/Data_set/train\\OAF_luck_ps.wav\n"
     ]
    },
    {
     "name": "stderr",
     "output_type": "stream",
     "text": [
      "C:\\Users\\Admin\\AppData\\Roaming\\Python\\Python312\\site-packages\\librosa\\core\\spectrum.py:266: UserWarning: n_fft=1024 is too large for input signal of length=760\n",
      "  warnings.warn(\n",
      "C:\\Users\\Admin\\AppData\\Roaming\\Python\\Python312\\site-packages\\librosa\\core\\spectrum.py:266: UserWarning: n_fft=1024 is too large for input signal of length=801\n",
      "  warnings.warn(\n"
     ]
    },
    {
     "name": "stdout",
     "output_type": "stream",
     "text": [
      "D:/Project_TH_2/Data_set/train\\OAF_luck_sad.wav\n",
      "D:/Project_TH_2/Data_set/train\\OAF_make_angry.wav\n"
     ]
    },
    {
     "name": "stderr",
     "output_type": "stream",
     "text": [
      "C:\\Users\\Admin\\AppData\\Roaming\\Python\\Python312\\site-packages\\librosa\\core\\spectrum.py:266: UserWarning: n_fft=1024 is too large for input signal of length=862\n",
      "  warnings.warn(\n"
     ]
    },
    {
     "name": "stdout",
     "output_type": "stream",
     "text": [
      "D:/Project_TH_2/Data_set/train\\OAF_make_disgust.wav\n",
      "D:/Project_TH_2/Data_set/train\\OAF_make_fear.wav\n",
      "D:/Project_TH_2/Data_set/train\\OAF_make_happy.wav\n",
      "D:/Project_TH_2/Data_set/train\\OAF_make_neutral.wav\n",
      "D:/Project_TH_2/Data_set/train\\OAF_make_ps.wav\n"
     ]
    },
    {
     "name": "stderr",
     "output_type": "stream",
     "text": [
      "C:\\Users\\Admin\\AppData\\Roaming\\Python\\Python312\\site-packages\\librosa\\core\\spectrum.py:266: UserWarning: n_fft=1024 is too large for input signal of length=865\n",
      "  warnings.warn(\n",
      "C:\\Users\\Admin\\AppData\\Roaming\\Python\\Python312\\site-packages\\librosa\\core\\spectrum.py:266: UserWarning: n_fft=1024 is too large for input signal of length=581\n",
      "  warnings.warn(\n"
     ]
    },
    {
     "name": "stdout",
     "output_type": "stream",
     "text": [
      "D:/Project_TH_2/Data_set/train\\OAF_make_sad.wav\n",
      "D:/Project_TH_2/Data_set/train\\OAF_match_angry.wav\n",
      "D:/Project_TH_2/Data_set/train\\OAF_match_disgust.wav\n",
      "D:/Project_TH_2/Data_set/train\\OAF_match_fear.wav\n"
     ]
    },
    {
     "name": "stderr",
     "output_type": "stream",
     "text": [
      "C:\\Users\\Admin\\AppData\\Roaming\\Python\\Python312\\site-packages\\librosa\\core\\spectrum.py:266: UserWarning: n_fft=1024 is too large for input signal of length=566\n",
      "  warnings.warn(\n"
     ]
    },
    {
     "name": "stdout",
     "output_type": "stream",
     "text": [
      "D:/Project_TH_2/Data_set/train\\OAF_match_happy.wav\n",
      "D:/Project_TH_2/Data_set/train\\OAF_match_neutral.wav\n"
     ]
    },
    {
     "name": "stderr",
     "output_type": "stream",
     "text": [
      "C:\\Users\\Admin\\AppData\\Roaming\\Python\\Python312\\site-packages\\librosa\\core\\spectrum.py:266: UserWarning: n_fft=1024 is too large for input signal of length=612\n",
      "  warnings.warn(\n"
     ]
    },
    {
     "name": "stdout",
     "output_type": "stream",
     "text": [
      "D:/Project_TH_2/Data_set/train\\OAF_match_ps.wav\n"
     ]
    },
    {
     "name": "stderr",
     "output_type": "stream",
     "text": [
      "C:\\Users\\Admin\\AppData\\Roaming\\Python\\Python312\\site-packages\\librosa\\core\\spectrum.py:266: UserWarning: n_fft=1024 is too large for input signal of length=980\n",
      "  warnings.warn(\n"
     ]
    },
    {
     "name": "stdout",
     "output_type": "stream",
     "text": [
      "D:/Project_TH_2/Data_set/train\\OAF_match_sad.wav\n",
      "D:/Project_TH_2/Data_set/train\\OAF_merge_angry.wav\n"
     ]
    },
    {
     "name": "stderr",
     "output_type": "stream",
     "text": [
      "C:\\Users\\Admin\\AppData\\Roaming\\Python\\Python312\\site-packages\\librosa\\core\\spectrum.py:266: UserWarning: n_fft=1024 is too large for input signal of length=846\n",
      "  warnings.warn(\n"
     ]
    },
    {
     "name": "stdout",
     "output_type": "stream",
     "text": [
      "D:/Project_TH_2/Data_set/train\\OAF_merge_disgust.wav\n",
      "D:/Project_TH_2/Data_set/train\\OAF_merge_fear.wav\n",
      "D:/Project_TH_2/Data_set/train\\OAF_merge_happy.wav\n"
     ]
    },
    {
     "name": "stderr",
     "output_type": "stream",
     "text": [
      "C:\\Users\\Admin\\AppData\\Roaming\\Python\\Python312\\site-packages\\librosa\\core\\spectrum.py:266: UserWarning: n_fft=1024 is too large for input signal of length=710\n",
      "  warnings.warn(\n"
     ]
    },
    {
     "name": "stdout",
     "output_type": "stream",
     "text": [
      "D:/Project_TH_2/Data_set/train\\OAF_merge_neutral.wav\n",
      "D:/Project_TH_2/Data_set/train\\OAF_merge_ps.wav\n"
     ]
    },
    {
     "name": "stderr",
     "output_type": "stream",
     "text": [
      "C:\\Users\\Admin\\AppData\\Roaming\\Python\\Python312\\site-packages\\librosa\\core\\spectrum.py:266: UserWarning: n_fft=1024 is too large for input signal of length=902\n",
      "  warnings.warn(\n",
      "C:\\Users\\Admin\\AppData\\Roaming\\Python\\Python312\\site-packages\\librosa\\core\\spectrum.py:266: UserWarning: n_fft=1024 is too large for input signal of length=584\n",
      "  warnings.warn(\n"
     ]
    },
    {
     "name": "stdout",
     "output_type": "stream",
     "text": [
      "D:/Project_TH_2/Data_set/train\\OAF_merge_sad.wav\n",
      "D:/Project_TH_2/Data_set/train\\OAF_mess_angry.wav\n"
     ]
    },
    {
     "name": "stderr",
     "output_type": "stream",
     "text": [
      "C:\\Users\\Admin\\AppData\\Roaming\\Python\\Python312\\site-packages\\librosa\\core\\spectrum.py:266: UserWarning: n_fft=1024 is too large for input signal of length=860\n",
      "  warnings.warn(\n"
     ]
    },
    {
     "name": "stdout",
     "output_type": "stream",
     "text": [
      "D:/Project_TH_2/Data_set/train\\OAF_mess_disgust.wav\n",
      "D:/Project_TH_2/Data_set/train\\OAF_mess_fear.wav\n",
      "D:/Project_TH_2/Data_set/train\\OAF_mess_happy.wav\n",
      "D:/Project_TH_2/Data_set/train\\OAF_mess_neutral.wav\n",
      "D:/Project_TH_2/Data_set/train\\OAF_mess_ps.wav\n"
     ]
    },
    {
     "name": "stderr",
     "output_type": "stream",
     "text": [
      "C:\\Users\\Admin\\AppData\\Roaming\\Python\\Python312\\site-packages\\librosa\\core\\spectrum.py:266: UserWarning: n_fft=1024 is too large for input signal of length=897\n",
      "  warnings.warn(\n"
     ]
    },
    {
     "name": "stdout",
     "output_type": "stream",
     "text": [
      "D:/Project_TH_2/Data_set/train\\OAF_mess_sad.wav\n",
      "D:/Project_TH_2/Data_set/train\\OAF_met_angry.wav\n",
      "D:/Project_TH_2/Data_set/train\\OAF_met_disgust.wav\n",
      "D:/Project_TH_2/Data_set/train\\OAF_met_fear.wav\n"
     ]
    },
    {
     "name": "stderr",
     "output_type": "stream",
     "text": [
      "C:\\Users\\Admin\\AppData\\Roaming\\Python\\Python312\\site-packages\\librosa\\core\\spectrum.py:266: UserWarning: n_fft=1024 is too large for input signal of length=649\n",
      "  warnings.warn(\n",
      "C:\\Users\\Admin\\AppData\\Roaming\\Python\\Python312\\site-packages\\librosa\\core\\spectrum.py:266: UserWarning: n_fft=1024 is too large for input signal of length=689\n",
      "  warnings.warn(\n"
     ]
    },
    {
     "name": "stdout",
     "output_type": "stream",
     "text": [
      "D:/Project_TH_2/Data_set/train\\OAF_met_happy.wav\n",
      "D:/Project_TH_2/Data_set/train\\OAF_met_neutral.wav\n"
     ]
    },
    {
     "name": "stderr",
     "output_type": "stream",
     "text": [
      "C:\\Users\\Admin\\AppData\\Roaming\\Python\\Python312\\site-packages\\librosa\\core\\spectrum.py:266: UserWarning: n_fft=1024 is too large for input signal of length=762\n",
      "  warnings.warn(\n"
     ]
    },
    {
     "name": "stdout",
     "output_type": "stream",
     "text": [
      "D:/Project_TH_2/Data_set/train\\OAF_met_ps.wav\n"
     ]
    },
    {
     "name": "stderr",
     "output_type": "stream",
     "text": [
      "C:\\Users\\Admin\\AppData\\Roaming\\Python\\Python312\\site-packages\\librosa\\core\\spectrum.py:266: UserWarning: n_fft=1024 is too large for input signal of length=843\n",
      "  warnings.warn(\n"
     ]
    },
    {
     "name": "stdout",
     "output_type": "stream",
     "text": [
      "D:/Project_TH_2/Data_set/train\\OAF_met_sad.wav\n",
      "D:/Project_TH_2/Data_set/train\\OAF_mill_angry.wav\n"
     ]
    },
    {
     "name": "stderr",
     "output_type": "stream",
     "text": [
      "C:\\Users\\Admin\\AppData\\Roaming\\Python\\Python312\\site-packages\\librosa\\core\\spectrum.py:266: UserWarning: n_fft=1024 is too large for input signal of length=785\n",
      "  warnings.warn(\n"
     ]
    },
    {
     "name": "stdout",
     "output_type": "stream",
     "text": [
      "D:/Project_TH_2/Data_set/train\\OAF_mill_disgust.wav\n",
      "D:/Project_TH_2/Data_set/train\\OAF_mill_fear.wav\n",
      "D:/Project_TH_2/Data_set/train\\OAF_mill_happy.wav\n",
      "D:/Project_TH_2/Data_set/train\\OAF_mill_neutral.wav\n",
      "D:/Project_TH_2/Data_set/train\\OAF_mill_ps.wav\n"
     ]
    },
    {
     "name": "stderr",
     "output_type": "stream",
     "text": [
      "C:\\Users\\Admin\\AppData\\Roaming\\Python\\Python312\\site-packages\\librosa\\core\\spectrum.py:266: UserWarning: n_fft=1024 is too large for input signal of length=945\n",
      "  warnings.warn(\n"
     ]
    },
    {
     "name": "stdout",
     "output_type": "stream",
     "text": [
      "D:/Project_TH_2/Data_set/train\\OAF_mill_sad.wav\n",
      "D:/Project_TH_2/Data_set/train\\OAF_mob_angry.wav\n",
      "D:/Project_TH_2/Data_set/train\\OAF_mob_disgust.wav\n",
      "D:/Project_TH_2/Data_set/train\\OAF_mob_fear.wav\n"
     ]
    },
    {
     "name": "stderr",
     "output_type": "stream",
     "text": [
      "C:\\Users\\Admin\\AppData\\Roaming\\Python\\Python312\\site-packages\\librosa\\core\\spectrum.py:266: UserWarning: n_fft=1024 is too large for input signal of length=541\n",
      "  warnings.warn(\n"
     ]
    },
    {
     "name": "stdout",
     "output_type": "stream",
     "text": [
      "D:/Project_TH_2/Data_set/train\\OAF_mob_happy.wav\n",
      "D:/Project_TH_2/Data_set/train\\OAF_mob_neutral.wav\n",
      "D:/Project_TH_2/Data_set/train\\OAF_mob_ps.wav\n"
     ]
    },
    {
     "name": "stderr",
     "output_type": "stream",
     "text": [
      "C:\\Users\\Admin\\AppData\\Roaming\\Python\\Python312\\site-packages\\librosa\\core\\spectrum.py:266: UserWarning: n_fft=1024 is too large for input signal of length=853\n",
      "  warnings.warn(\n",
      "C:\\Users\\Admin\\AppData\\Roaming\\Python\\Python312\\site-packages\\librosa\\core\\spectrum.py:266: UserWarning: n_fft=1024 is too large for input signal of length=1017\n",
      "  warnings.warn(\n",
      "C:\\Users\\Admin\\AppData\\Roaming\\Python\\Python312\\site-packages\\librosa\\core\\spectrum.py:266: UserWarning: n_fft=1024 is too large for input signal of length=509\n",
      "  warnings.warn(\n"
     ]
    },
    {
     "name": "stdout",
     "output_type": "stream",
     "text": [
      "D:/Project_TH_2/Data_set/train\\OAF_mob_sad.wav\n",
      "D:/Project_TH_2/Data_set/train\\OAF_mode_angry.wav\n",
      "D:/Project_TH_2/Data_set/train\\OAF_mode_disgust.wav\n",
      "D:/Project_TH_2/Data_set/train\\OAF_mode_fear.wav\n",
      "D:/Project_TH_2/Data_set/train\\OAF_mode_happy.wav\n",
      "D:/Project_TH_2/Data_set/train\\OAF_mode_neutral.wav\n",
      "D:/Project_TH_2/Data_set/train\\OAF_mode_ps.wav\n",
      "D:/Project_TH_2/Data_set/train\\OAF_mode_sad.wav\n"
     ]
    },
    {
     "name": "stderr",
     "output_type": "stream",
     "text": [
      "C:\\Users\\Admin\\AppData\\Roaming\\Python\\Python312\\site-packages\\librosa\\core\\spectrum.py:266: UserWarning: n_fft=1024 is too large for input signal of length=540\n",
      "  warnings.warn(\n"
     ]
    },
    {
     "name": "stdout",
     "output_type": "stream",
     "text": [
      "D:/Project_TH_2/Data_set/train\\OAF_mood_angry.wav\n",
      "D:/Project_TH_2/Data_set/train\\OAF_mood_disgust.wav\n"
     ]
    },
    {
     "name": "stderr",
     "output_type": "stream",
     "text": [
      "C:\\Users\\Admin\\AppData\\Roaming\\Python\\Python312\\site-packages\\librosa\\core\\spectrum.py:266: UserWarning: n_fft=1024 is too large for input signal of length=956\n",
      "  warnings.warn(\n",
      "C:\\Users\\Admin\\AppData\\Roaming\\Python\\Python312\\site-packages\\librosa\\core\\spectrum.py:266: UserWarning: n_fft=1024 is too large for input signal of length=478\n",
      "  warnings.warn(\n"
     ]
    },
    {
     "name": "stdout",
     "output_type": "stream",
     "text": [
      "D:/Project_TH_2/Data_set/train\\OAF_mood_fear.wav\n",
      "D:/Project_TH_2/Data_set/train\\OAF_mood_happy.wav\n",
      "D:/Project_TH_2/Data_set/train\\OAF_mood_neutral.wav\n",
      "D:/Project_TH_2/Data_set/train\\OAF_mood_ps.wav\n",
      "D:/Project_TH_2/Data_set/train\\OAF_mood_sad.wav\n",
      "D:/Project_TH_2/Data_set/train\\OAF_moon_angry.wav\n"
     ]
    },
    {
     "name": "stderr",
     "output_type": "stream",
     "text": [
      "C:\\Users\\Admin\\AppData\\Roaming\\Python\\Python312\\site-packages\\librosa\\core\\spectrum.py:266: UserWarning: n_fft=1024 is too large for input signal of length=804\n",
      "  warnings.warn(\n",
      "C:\\Users\\Admin\\AppData\\Roaming\\Python\\Python312\\site-packages\\librosa\\core\\spectrum.py:266: UserWarning: n_fft=1024 is too large for input signal of length=530\n",
      "  warnings.warn(\n"
     ]
    },
    {
     "name": "stdout",
     "output_type": "stream",
     "text": [
      "D:/Project_TH_2/Data_set/train\\OAF_moon_disgust.wav\n",
      "D:/Project_TH_2/Data_set/train\\OAF_moon_fear.wav\n"
     ]
    },
    {
     "name": "stderr",
     "output_type": "stream",
     "text": [
      "C:\\Users\\Admin\\AppData\\Roaming\\Python\\Python312\\site-packages\\librosa\\core\\spectrum.py:266: UserWarning: n_fft=1024 is too large for input signal of length=640\n",
      "  warnings.warn(\n"
     ]
    },
    {
     "name": "stdout",
     "output_type": "stream",
     "text": [
      "D:/Project_TH_2/Data_set/train\\OAF_moon_happy.wav\n",
      "D:/Project_TH_2/Data_set/train\\OAF_moon_neutral.wav\n"
     ]
    },
    {
     "name": "stderr",
     "output_type": "stream",
     "text": [
      "C:\\Users\\Admin\\AppData\\Roaming\\Python\\Python312\\site-packages\\librosa\\core\\spectrum.py:266: UserWarning: n_fft=1024 is too large for input signal of length=737\n",
      "  warnings.warn(\n"
     ]
    },
    {
     "name": "stdout",
     "output_type": "stream",
     "text": [
      "D:/Project_TH_2/Data_set/train\\OAF_moon_ps.wav\n",
      "D:/Project_TH_2/Data_set/train\\OAF_moon_sad.wav\n",
      "D:/Project_TH_2/Data_set/train\\OAF_mop_angry.wav\n"
     ]
    },
    {
     "name": "stderr",
     "output_type": "stream",
     "text": [
      "C:\\Users\\Admin\\AppData\\Roaming\\Python\\Python312\\site-packages\\librosa\\core\\spectrum.py:266: UserWarning: n_fft=1024 is too large for input signal of length=958\n",
      "  warnings.warn(\n",
      "C:\\Users\\Admin\\AppData\\Roaming\\Python\\Python312\\site-packages\\librosa\\core\\spectrum.py:266: UserWarning: n_fft=1024 is too large for input signal of length=479\n",
      "  warnings.warn(\n",
      "C:\\Users\\Admin\\AppData\\Roaming\\Python\\Python312\\site-packages\\librosa\\core\\spectrum.py:266: UserWarning: n_fft=1024 is too large for input signal of length=742\n",
      "  warnings.warn(\n"
     ]
    },
    {
     "name": "stdout",
     "output_type": "stream",
     "text": [
      "D:/Project_TH_2/Data_set/train\\OAF_mop_disgust.wav\n",
      "D:/Project_TH_2/Data_set/train\\OAF_mop_fear.wav\n"
     ]
    },
    {
     "name": "stderr",
     "output_type": "stream",
     "text": [
      "C:\\Users\\Admin\\AppData\\Roaming\\Python\\Python312\\site-packages\\librosa\\core\\spectrum.py:266: UserWarning: n_fft=1024 is too large for input signal of length=544\n",
      "  warnings.warn(\n"
     ]
    },
    {
     "name": "stdout",
     "output_type": "stream",
     "text": [
      "D:/Project_TH_2/Data_set/train\\OAF_mop_happy.wav\n",
      "D:/Project_TH_2/Data_set/train\\OAF_mop_neutral.wav\n"
     ]
    },
    {
     "name": "stderr",
     "output_type": "stream",
     "text": [
      "C:\\Users\\Admin\\AppData\\Roaming\\Python\\Python312\\site-packages\\librosa\\core\\spectrum.py:266: UserWarning: n_fft=1024 is too large for input signal of length=620\n",
      "  warnings.warn(\n"
     ]
    },
    {
     "name": "stdout",
     "output_type": "stream",
     "text": [
      "D:/Project_TH_2/Data_set/train\\OAF_mop_ps.wav\n"
     ]
    },
    {
     "name": "stderr",
     "output_type": "stream",
     "text": [
      "C:\\Users\\Admin\\AppData\\Roaming\\Python\\Python312\\site-packages\\librosa\\core\\spectrum.py:266: UserWarning: n_fft=1024 is too large for input signal of length=868\n",
      "  warnings.warn(\n"
     ]
    },
    {
     "name": "stdout",
     "output_type": "stream",
     "text": [
      "D:/Project_TH_2/Data_set/train\\OAF_mop_sad.wav\n",
      "D:/Project_TH_2/Data_set/train\\OAF_mouse_angry.wav\n",
      "D:/Project_TH_2/Data_set/train\\OAF_mouse_disgust.wav\n",
      "D:/Project_TH_2/Data_set/train\\OAF_mouse_fear.wav\n",
      "D:/Project_TH_2/Data_set/train\\OAF_mouse_happy.wav\n"
     ]
    },
    {
     "name": "stderr",
     "output_type": "stream",
     "text": [
      "C:\\Users\\Admin\\AppData\\Roaming\\Python\\Python312\\site-packages\\librosa\\core\\spectrum.py:266: UserWarning: n_fft=1024 is too large for input signal of length=726\n",
      "  warnings.warn(\n"
     ]
    },
    {
     "name": "stdout",
     "output_type": "stream",
     "text": [
      "D:/Project_TH_2/Data_set/train\\OAF_mouse_neutral.wav\n",
      "D:/Project_TH_2/Data_set/train\\OAF_mouse_ps.wav\n"
     ]
    },
    {
     "name": "stderr",
     "output_type": "stream",
     "text": [
      "C:\\Users\\Admin\\AppData\\Roaming\\Python\\Python312\\site-packages\\librosa\\core\\spectrum.py:266: UserWarning: n_fft=1024 is too large for input signal of length=916\n",
      "  warnings.warn(\n"
     ]
    },
    {
     "name": "stdout",
     "output_type": "stream",
     "text": [
      "D:/Project_TH_2/Data_set/train\\OAF_mouse_sad.wav\n",
      "D:/Project_TH_2/Data_set/train\\OAF_nag_angry.wav\n",
      "D:/Project_TH_2/Data_set/train\\OAF_nag_disgust.wav\n",
      "D:/Project_TH_2/Data_set/train\\OAF_nag_fear.wav\n"
     ]
    },
    {
     "name": "stderr",
     "output_type": "stream",
     "text": [
      "C:\\Users\\Admin\\AppData\\Roaming\\Python\\Python312\\site-packages\\librosa\\core\\spectrum.py:266: UserWarning: n_fft=1024 is too large for input signal of length=699\n",
      "  warnings.warn(\n"
     ]
    },
    {
     "name": "stdout",
     "output_type": "stream",
     "text": [
      "D:/Project_TH_2/Data_set/train\\OAF_nag_happy.wav\n",
      "D:/Project_TH_2/Data_set/train\\OAF_nag_neutral.wav\n",
      "D:/Project_TH_2/Data_set/train\\OAF_nag_ps.wav\n",
      "D:/Project_TH_2/Data_set/train\\OAF_nag_sad.wav\n",
      "D:/Project_TH_2/Data_set/train\\OAF_name_angry.wav\n"
     ]
    },
    {
     "name": "stderr",
     "output_type": "stream",
     "text": [
      "C:\\Users\\Admin\\AppData\\Roaming\\Python\\Python312\\site-packages\\librosa\\core\\spectrum.py:266: UserWarning: n_fft=1024 is too large for input signal of length=821\n",
      "  warnings.warn(\n"
     ]
    },
    {
     "name": "stdout",
     "output_type": "stream",
     "text": [
      "D:/Project_TH_2/Data_set/train\\OAF_name_disgust.wav\n",
      "D:/Project_TH_2/Data_set/train\\OAF_name_fear.wav\n",
      "D:/Project_TH_2/Data_set/train\\OAF_name_happy.wav\n",
      "D:/Project_TH_2/Data_set/train\\OAF_name_neutral.wav\n"
     ]
    },
    {
     "name": "stderr",
     "output_type": "stream",
     "text": [
      "C:\\Users\\Admin\\AppData\\Roaming\\Python\\Python312\\site-packages\\librosa\\core\\spectrum.py:266: UserWarning: n_fft=1024 is too large for input signal of length=636\n",
      "  warnings.warn(\n"
     ]
    },
    {
     "name": "stdout",
     "output_type": "stream",
     "text": [
      "D:/Project_TH_2/Data_set/train\\OAF_name_ps.wav\n",
      "D:/Project_TH_2/Data_set/train\\OAF_name_sad.wav\n",
      "D:/Project_TH_2/Data_set/train\\OAF_near_angry.wav\n",
      "D:/Project_TH_2/Data_set/train\\OAF_near_disgust.wav\n"
     ]
    },
    {
     "name": "stderr",
     "output_type": "stream",
     "text": [
      "C:\\Users\\Admin\\AppData\\Roaming\\Python\\Python312\\site-packages\\librosa\\core\\spectrum.py:266: UserWarning: n_fft=1024 is too large for input signal of length=969\n",
      "  warnings.warn(\n",
      "C:\\Users\\Admin\\AppData\\Roaming\\Python\\Python312\\site-packages\\librosa\\core\\spectrum.py:266: UserWarning: n_fft=1024 is too large for input signal of length=485\n",
      "  warnings.warn(\n"
     ]
    },
    {
     "name": "stdout",
     "output_type": "stream",
     "text": [
      "D:/Project_TH_2/Data_set/train\\OAF_near_fear.wav\n",
      "D:/Project_TH_2/Data_set/train\\OAF_near_happy.wav\n",
      "D:/Project_TH_2/Data_set/train\\OAF_near_neutral.wav\n",
      "D:/Project_TH_2/Data_set/train\\OAF_near_ps.wav\n",
      "D:/Project_TH_2/Data_set/train\\OAF_near_sad.wav\n",
      "D:/Project_TH_2/Data_set/train\\OAF_neat_angry.wav\n"
     ]
    },
    {
     "name": "stderr",
     "output_type": "stream",
     "text": [
      "C:\\Users\\Admin\\AppData\\Roaming\\Python\\Python312\\site-packages\\librosa\\core\\spectrum.py:266: UserWarning: n_fft=1024 is too large for input signal of length=822\n",
      "  warnings.warn(\n"
     ]
    },
    {
     "name": "stdout",
     "output_type": "stream",
     "text": [
      "D:/Project_TH_2/Data_set/train\\OAF_neat_disgust.wav\n",
      "D:/Project_TH_2/Data_set/train\\OAF_neat_fear.wav\n",
      "D:/Project_TH_2/Data_set/train\\OAF_neat_happy.wav\n",
      "D:/Project_TH_2/Data_set/train\\OAF_neat_neutral.wav\n",
      "D:/Project_TH_2/Data_set/train\\OAF_neat_ps.wav\n"
     ]
    },
    {
     "name": "stderr",
     "output_type": "stream",
     "text": [
      "C:\\Users\\Admin\\AppData\\Roaming\\Python\\Python312\\site-packages\\librosa\\core\\spectrum.py:266: UserWarning: n_fft=1024 is too large for input signal of length=929\n",
      "  warnings.warn(\n"
     ]
    },
    {
     "name": "stdout",
     "output_type": "stream",
     "text": [
      "D:/Project_TH_2/Data_set/train\\OAF_neat_sad.wav\n",
      "D:/Project_TH_2/Data_set/train\\OAF_nice_angry.wav\n",
      "D:/Project_TH_2/Data_set/train\\OAF_nice_disgust.wav\n",
      "D:/Project_TH_2/Data_set/train\\OAF_nice_fear.wav\n"
     ]
    },
    {
     "name": "stderr",
     "output_type": "stream",
     "text": [
      "C:\\Users\\Admin\\AppData\\Roaming\\Python\\Python312\\site-packages\\librosa\\core\\spectrum.py:266: UserWarning: n_fft=1024 is too large for input signal of length=611\n",
      "  warnings.warn(\n"
     ]
    },
    {
     "name": "stdout",
     "output_type": "stream",
     "text": [
      "D:/Project_TH_2/Data_set/train\\OAF_nice_happy.wav\n",
      "D:/Project_TH_2/Data_set/train\\OAF_nice_neutral.wav\n",
      "D:/Project_TH_2/Data_set/train\\OAF_nice_ps.wav\n"
     ]
    },
    {
     "name": "stderr",
     "output_type": "stream",
     "text": [
      "C:\\Users\\Admin\\AppData\\Roaming\\Python\\Python312\\site-packages\\librosa\\core\\spectrum.py:266: UserWarning: n_fft=1024 is too large for input signal of length=930\n",
      "  warnings.warn(\n",
      "C:\\Users\\Admin\\AppData\\Roaming\\Python\\Python312\\site-packages\\librosa\\core\\spectrum.py:266: UserWarning: n_fft=1024 is too large for input signal of length=984\n",
      "  warnings.warn(\n"
     ]
    },
    {
     "name": "stdout",
     "output_type": "stream",
     "text": [
      "D:/Project_TH_2/Data_set/train\\OAF_nice_sad.wav\n",
      "D:/Project_TH_2/Data_set/train\\OAF_note_angry.wav\n"
     ]
    },
    {
     "name": "stderr",
     "output_type": "stream",
     "text": [
      "C:\\Users\\Admin\\AppData\\Roaming\\Python\\Python312\\site-packages\\librosa\\core\\spectrum.py:266: UserWarning: n_fft=1024 is too large for input signal of length=798\n",
      "  warnings.warn(\n",
      "C:\\Users\\Admin\\AppData\\Roaming\\Python\\Python312\\site-packages\\librosa\\core\\spectrum.py:266: UserWarning: n_fft=1024 is too large for input signal of length=1016\n",
      "  warnings.warn(\n"
     ]
    },
    {
     "name": "stdout",
     "output_type": "stream",
     "text": [
      "D:/Project_TH_2/Data_set/train\\OAF_note_disgust.wav\n",
      "D:/Project_TH_2/Data_set/train\\OAF_note_fear.wav\n"
     ]
    },
    {
     "name": "stderr",
     "output_type": "stream",
     "text": [
      "C:\\Users\\Admin\\AppData\\Roaming\\Python\\Python312\\site-packages\\librosa\\core\\spectrum.py:266: UserWarning: n_fft=1024 is too large for input signal of length=704\n",
      "  warnings.warn(\n"
     ]
    },
    {
     "name": "stdout",
     "output_type": "stream",
     "text": [
      "D:/Project_TH_2/Data_set/train\\OAF_note_happy.wav\n",
      "D:/Project_TH_2/Data_set/train\\OAF_note_neutral.wav\n"
     ]
    },
    {
     "name": "stderr",
     "output_type": "stream",
     "text": [
      "C:\\Users\\Admin\\AppData\\Roaming\\Python\\Python312\\site-packages\\librosa\\core\\spectrum.py:266: UserWarning: n_fft=1024 is too large for input signal of length=703\n",
      "  warnings.warn(\n",
      "C:\\Users\\Admin\\AppData\\Roaming\\Python\\Python312\\site-packages\\librosa\\core\\spectrum.py:266: UserWarning: n_fft=1024 is too large for input signal of length=861\n",
      "  warnings.warn(\n"
     ]
    },
    {
     "name": "stdout",
     "output_type": "stream",
     "text": [
      "D:/Project_TH_2/Data_set/train\\OAF_note_ps.wav\n",
      "D:/Project_TH_2/Data_set/train\\OAF_note_sad.wav\n",
      "D:/Project_TH_2/Data_set/train\\OAF_numb_angry.wav\n",
      "D:/Project_TH_2/Data_set/train\\OAF_numb_disgust.wav\n",
      "D:/Project_TH_2/Data_set/train\\OAF_numb_fear.wav\n",
      "D:/Project_TH_2/Data_set/train\\OAF_numb_happy.wav\n",
      "D:/Project_TH_2/Data_set/train\\OAF_numb_neutral.wav\n",
      "D:/Project_TH_2/Data_set/train\\OAF_numb_ps.wav\n",
      "D:/Project_TH_2/Data_set/train\\OAF_numb_sad.wav\n",
      "D:/Project_TH_2/Data_set/train\\OAF_pad_angry.wav\n"
     ]
    },
    {
     "name": "stderr",
     "output_type": "stream",
     "text": [
      "C:\\Users\\Admin\\AppData\\Roaming\\Python\\Python312\\site-packages\\librosa\\core\\spectrum.py:266: UserWarning: n_fft=1024 is too large for input signal of length=738\n",
      "  warnings.warn(\n",
      "C:\\Users\\Admin\\AppData\\Roaming\\Python\\Python312\\site-packages\\librosa\\core\\spectrum.py:266: UserWarning: n_fft=1024 is too large for input signal of length=519\n",
      "  warnings.warn(\n"
     ]
    },
    {
     "name": "stdout",
     "output_type": "stream",
     "text": [
      "D:/Project_TH_2/Data_set/train\\OAF_pad_disgust.wav\n",
      "D:/Project_TH_2/Data_set/train\\OAF_pad_fear.wav\n",
      "D:/Project_TH_2/Data_set/train\\OAF_pad_happy.wav\n",
      "D:/Project_TH_2/Data_set/train\\OAF_pad_neutral.wav\n",
      "D:/Project_TH_2/Data_set/train\\OAF_pad_ps.wav\n"
     ]
    },
    {
     "name": "stderr",
     "output_type": "stream",
     "text": [
      "C:\\Users\\Admin\\AppData\\Roaming\\Python\\Python312\\site-packages\\librosa\\core\\spectrum.py:266: UserWarning: n_fft=1024 is too large for input signal of length=844\n",
      "  warnings.warn(\n"
     ]
    },
    {
     "name": "stdout",
     "output_type": "stream",
     "text": [
      "D:/Project_TH_2/Data_set/train\\OAF_pad_sad.wav\n",
      "D:/Project_TH_2/Data_set/train\\OAF_page_angry.wav\n",
      "D:/Project_TH_2/Data_set/train\\OAF_page_disgust.wav\n",
      "D:/Project_TH_2/Data_set/train\\OAF_page_fear.wav\n",
      "D:/Project_TH_2/Data_set/train\\OAF_page_happy.wav\n",
      "D:/Project_TH_2/Data_set/train\\OAF_page_neutral.wav\n",
      "D:/Project_TH_2/Data_set/train\\OAF_page_ps.wav\n"
     ]
    },
    {
     "name": "stderr",
     "output_type": "stream",
     "text": [
      "C:\\Users\\Admin\\AppData\\Roaming\\Python\\Python312\\site-packages\\librosa\\core\\spectrum.py:266: UserWarning: n_fft=1024 is too large for input signal of length=1006\n",
      "  warnings.warn(\n"
     ]
    },
    {
     "name": "stdout",
     "output_type": "stream",
     "text": [
      "D:/Project_TH_2/Data_set/train\\OAF_page_sad.wav\n",
      "D:/Project_TH_2/Data_set/train\\OAF_pain_angry.wav\n",
      "D:/Project_TH_2/Data_set/train\\OAF_pain_disgust.wav\n",
      "D:/Project_TH_2/Data_set/train\\OAF_pain_fear.wav\n"
     ]
    },
    {
     "name": "stderr",
     "output_type": "stream",
     "text": [
      "C:\\Users\\Admin\\AppData\\Roaming\\Python\\Python312\\site-packages\\librosa\\core\\spectrum.py:266: UserWarning: n_fft=1024 is too large for input signal of length=599\n",
      "  warnings.warn(\n",
      "C:\\Users\\Admin\\AppData\\Roaming\\Python\\Python312\\site-packages\\librosa\\core\\spectrum.py:266: UserWarning: n_fft=1024 is too large for input signal of length=724\n",
      "  warnings.warn(\n"
     ]
    },
    {
     "name": "stdout",
     "output_type": "stream",
     "text": [
      "D:/Project_TH_2/Data_set/train\\OAF_pain_happy.wav\n",
      "D:/Project_TH_2/Data_set/train\\OAF_pain_neutral.wav\n"
     ]
    },
    {
     "name": "stderr",
     "output_type": "stream",
     "text": [
      "C:\\Users\\Admin\\AppData\\Roaming\\Python\\Python312\\site-packages\\librosa\\core\\spectrum.py:266: UserWarning: n_fft=1024 is too large for input signal of length=701\n",
      "  warnings.warn(\n"
     ]
    },
    {
     "name": "stdout",
     "output_type": "stream",
     "text": [
      "D:/Project_TH_2/Data_set/train\\OAF_pain_ps.wav\n",
      "D:/Project_TH_2/Data_set/train\\OAF_pain_sad.wav\n"
     ]
    },
    {
     "name": "stderr",
     "output_type": "stream",
     "text": [
      "C:\\Users\\Admin\\AppData\\Roaming\\Python\\Python312\\site-packages\\librosa\\core\\spectrum.py:266: UserWarning: n_fft=1024 is too large for input signal of length=562\n",
      "  warnings.warn(\n"
     ]
    },
    {
     "name": "stdout",
     "output_type": "stream",
     "text": [
      "D:/Project_TH_2/Data_set/train\\OAF_pass_angry.wav\n",
      "D:/Project_TH_2/Data_set/train\\OAF_pass_disgust.wav\n",
      "D:/Project_TH_2/Data_set/train\\OAF_pass_fear.wav\n",
      "D:/Project_TH_2/Data_set/train\\OAF_pass_happy.wav\n",
      "D:/Project_TH_2/Data_set/train\\OAF_pass_neutral.wav\n",
      "D:/Project_TH_2/Data_set/train\\OAF_pass_ps.wav\n"
     ]
    },
    {
     "name": "stderr",
     "output_type": "stream",
     "text": [
      "C:\\Users\\Admin\\AppData\\Roaming\\Python\\Python312\\site-packages\\librosa\\core\\spectrum.py:266: UserWarning: n_fft=1024 is too large for input signal of length=793\n",
      "  warnings.warn(\n",
      "C:\\Users\\Admin\\AppData\\Roaming\\Python\\Python312\\site-packages\\librosa\\core\\spectrum.py:266: UserWarning: n_fft=1024 is too large for input signal of length=917\n",
      "  warnings.warn(\n"
     ]
    },
    {
     "name": "stdout",
     "output_type": "stream",
     "text": [
      "D:/Project_TH_2/Data_set/train\\OAF_pass_sad.wav\n",
      "D:/Project_TH_2/Data_set/train\\OAF_pearl_angry.wav\n"
     ]
    },
    {
     "name": "stderr",
     "output_type": "stream",
     "text": [
      "C:\\Users\\Admin\\AppData\\Roaming\\Python\\Python312\\site-packages\\librosa\\core\\spectrum.py:266: UserWarning: n_fft=1024 is too large for input signal of length=841\n",
      "  warnings.warn(\n"
     ]
    },
    {
     "name": "stdout",
     "output_type": "stream",
     "text": [
      "D:/Project_TH_2/Data_set/train\\OAF_pearl_disgust.wav\n",
      "D:/Project_TH_2/Data_set/train\\OAF_pearl_fear.wav\n",
      "D:/Project_TH_2/Data_set/train\\OAF_pearl_happy.wav\n",
      "D:/Project_TH_2/Data_set/train\\OAF_pearl_neutral.wav\n",
      "D:/Project_TH_2/Data_set/train\\OAF_pearl_ps.wav\n",
      "D:/Project_TH_2/Data_set/train\\OAF_pearl_sad.wav\n",
      "D:/Project_TH_2/Data_set/train\\OAF_peg_angry.wav\n",
      "D:/Project_TH_2/Data_set/train\\OAF_peg_disgust.wav\n"
     ]
    },
    {
     "name": "stderr",
     "output_type": "stream",
     "text": [
      "C:\\Users\\Admin\\AppData\\Roaming\\Python\\Python312\\site-packages\\librosa\\core\\spectrum.py:266: UserWarning: n_fft=1024 is too large for input signal of length=521\n",
      "  warnings.warn(\n",
      "C:\\Users\\Admin\\AppData\\Roaming\\Python\\Python312\\site-packages\\librosa\\core\\spectrum.py:266: UserWarning: n_fft=1024 is too large for input signal of length=746\n",
      "  warnings.warn(\n"
     ]
    },
    {
     "name": "stdout",
     "output_type": "stream",
     "text": [
      "D:/Project_TH_2/Data_set/train\\OAF_peg_fear.wav\n",
      "D:/Project_TH_2/Data_set/train\\OAF_peg_happy.wav\n",
      "D:/Project_TH_2/Data_set/train\\OAF_peg_neutral.wav\n",
      "D:/Project_TH_2/Data_set/train\\OAF_peg_ps.wav\n",
      "D:/Project_TH_2/Data_set/train\\OAF_peg_sad.wav\n",
      "D:/Project_TH_2/Data_set/train\\OAF_perch_angry.wav\n",
      "D:/Project_TH_2/Data_set/train\\OAF_perch_disgust.wav\n",
      "D:/Project_TH_2/Data_set/train\\OAF_perch_fear.wav\n"
     ]
    },
    {
     "name": "stderr",
     "output_type": "stream",
     "text": [
      "C:\\Users\\Admin\\AppData\\Roaming\\Python\\Python312\\site-packages\\librosa\\core\\spectrum.py:266: UserWarning: n_fft=1024 is too large for input signal of length=545\n",
      "  warnings.warn(\n"
     ]
    },
    {
     "name": "stdout",
     "output_type": "stream",
     "text": [
      "D:/Project_TH_2/Data_set/train\\OAF_perch_happy.wav\n",
      "D:/Project_TH_2/Data_set/train\\OAF_perch_neutral.wav\n",
      "D:/Project_TH_2/Data_set/train\\OAF_perch_ps.wav\n"
     ]
    },
    {
     "name": "stderr",
     "output_type": "stream",
     "text": [
      "C:\\Users\\Admin\\AppData\\Roaming\\Python\\Python312\\site-packages\\librosa\\core\\spectrum.py:266: UserWarning: n_fft=1024 is too large for input signal of length=967\n",
      "  warnings.warn(\n"
     ]
    },
    {
     "name": "stdout",
     "output_type": "stream",
     "text": [
      "D:/Project_TH_2/Data_set/train\\OAF_perch_sad.wav\n",
      "D:/Project_TH_2/Data_set/train\\OAF_phone_angry.wav\n"
     ]
    },
    {
     "name": "stderr",
     "output_type": "stream",
     "text": [
      "C:\\Users\\Admin\\AppData\\Roaming\\Python\\Python312\\site-packages\\librosa\\core\\spectrum.py:266: UserWarning: n_fft=1024 is too large for input signal of length=792\n",
      "  warnings.warn(\n"
     ]
    },
    {
     "name": "stdout",
     "output_type": "stream",
     "text": [
      "D:/Project_TH_2/Data_set/train\\OAF_phone_disgust.wav\n",
      "D:/Project_TH_2/Data_set/train\\OAF_phone_fear.wav\n",
      "D:/Project_TH_2/Data_set/train\\OAF_phone_happy.wav\n",
      "D:/Project_TH_2/Data_set/train\\OAF_phone_neutral.wav\n",
      "D:/Project_TH_2/Data_set/train\\OAF_phone_ps.wav\n",
      "D:/Project_TH_2/Data_set/train\\OAF_phone_sad.wav\n",
      "D:/Project_TH_2/Data_set/train\\OAF_pick_angry.wav\n",
      "D:/Project_TH_2/Data_set/train\\OAF_pick_disgust.wav\n",
      "D:/Project_TH_2/Data_set/train\\OAF_pick_fear.wav\n",
      "D:/Project_TH_2/Data_set/train\\OAF_pick_happy.wav\n"
     ]
    },
    {
     "name": "stderr",
     "output_type": "stream",
     "text": [
      "C:\\Users\\Admin\\AppData\\Roaming\\Python\\Python312\\site-packages\\librosa\\core\\spectrum.py:266: UserWarning: n_fft=1024 is too large for input signal of length=653\n",
      "  warnings.warn(\n"
     ]
    },
    {
     "name": "stdout",
     "output_type": "stream",
     "text": [
      "D:/Project_TH_2/Data_set/train\\OAF_pick_neutral.wav\n",
      "D:/Project_TH_2/Data_set/train\\OAF_pick_ps.wav\n",
      "D:/Project_TH_2/Data_set/train\\OAF_pick_sad.wav\n",
      "D:/Project_TH_2/Data_set/train\\OAF_pike_angry.wav\n",
      "D:/Project_TH_2/Data_set/train\\OAF_pike_disgust.wav\n",
      "D:/Project_TH_2/Data_set/train\\OAF_pike_fear.wav\n",
      "D:/Project_TH_2/Data_set/train\\OAF_pike_happy.wav\n",
      "D:/Project_TH_2/Data_set/train\\OAF_pike_neutral.wav\n"
     ]
    },
    {
     "name": "stderr",
     "output_type": "stream",
     "text": [
      "C:\\Users\\Admin\\AppData\\Roaming\\Python\\Python312\\site-packages\\librosa\\core\\spectrum.py:266: UserWarning: n_fft=1024 is too large for input signal of length=632\n",
      "  warnings.warn(\n"
     ]
    },
    {
     "name": "stdout",
     "output_type": "stream",
     "text": [
      "D:/Project_TH_2/Data_set/train\\OAF_pike_ps.wav\n"
     ]
    },
    {
     "name": "stderr",
     "output_type": "stream",
     "text": [
      "C:\\Users\\Admin\\AppData\\Roaming\\Python\\Python312\\site-packages\\librosa\\core\\spectrum.py:266: UserWarning: n_fft=1024 is too large for input signal of length=882\n",
      "  warnings.warn(\n"
     ]
    },
    {
     "name": "stdout",
     "output_type": "stream",
     "text": [
      "D:/Project_TH_2/Data_set/train\\OAF_pike_sad.wav\n",
      "D:/Project_TH_2/Data_set/train\\OAF_pole_angry.wav\n",
      "D:/Project_TH_2/Data_set/train\\OAF_pole_disgust.wav\n",
      "D:/Project_TH_2/Data_set/train\\OAF_pole_fear.wav\n",
      "D:/Project_TH_2/Data_set/train\\OAF_pole_happy.wav\n",
      "D:/Project_TH_2/Data_set/train\\OAF_pole_neutral.wav\n",
      "D:/Project_TH_2/Data_set/train\\OAF_pole_ps.wav\n",
      "D:/Project_TH_2/Data_set/train\\OAF_pole_sad.wav\n",
      "D:/Project_TH_2/Data_set/train\\OAF_pool_angry.wav\n"
     ]
    },
    {
     "name": "stderr",
     "output_type": "stream",
     "text": [
      "C:\\Users\\Admin\\AppData\\Roaming\\Python\\Python312\\site-packages\\librosa\\core\\spectrum.py:266: UserWarning: n_fft=1024 is too large for input signal of length=949\n",
      "  warnings.warn(\n",
      "C:\\Users\\Admin\\AppData\\Roaming\\Python\\Python312\\site-packages\\librosa\\core\\spectrum.py:266: UserWarning: n_fft=1024 is too large for input signal of length=475\n",
      "  warnings.warn(\n"
     ]
    },
    {
     "name": "stdout",
     "output_type": "stream",
     "text": [
      "D:/Project_TH_2/Data_set/train\\OAF_pool_disgust.wav\n",
      "D:/Project_TH_2/Data_set/train\\OAF_pool_fear.wav\n",
      "D:/Project_TH_2/Data_set/train\\OAF_pool_happy.wav\n",
      "D:/Project_TH_2/Data_set/train\\OAF_pool_neutral.wav\n",
      "D:/Project_TH_2/Data_set/train\\OAF_pool_ps.wav\n",
      "D:/Project_TH_2/Data_set/train\\OAF_pool_sad.wav\n",
      "D:/Project_TH_2/Data_set/train\\OAF_puff_angry.wav\n",
      "D:/Project_TH_2/Data_set/train\\OAF_puff_disgust.wav\n",
      "D:/Project_TH_2/Data_set/train\\OAF_puff_fear.wav\n",
      "D:/Project_TH_2/Data_set/train\\OAF_puff_happy.wav\n",
      "D:/Project_TH_2/Data_set/train\\OAF_puff_neutral.wav\n"
     ]
    },
    {
     "name": "stderr",
     "output_type": "stream",
     "text": [
      "C:\\Users\\Admin\\AppData\\Roaming\\Python\\Python312\\site-packages\\librosa\\core\\spectrum.py:266: UserWarning: n_fft=1024 is too large for input signal of length=690\n",
      "  warnings.warn(\n"
     ]
    },
    {
     "name": "stdout",
     "output_type": "stream",
     "text": [
      "D:/Project_TH_2/Data_set/train\\OAF_puff_ps.wav\n",
      "D:/Project_TH_2/Data_set/train\\OAF_puff_sad.wav\n"
     ]
    },
    {
     "name": "stderr",
     "output_type": "stream",
     "text": [
      "C:\\Users\\Admin\\AppData\\Roaming\\Python\\Python312\\site-packages\\librosa\\core\\spectrum.py:266: UserWarning: n_fft=1024 is too large for input signal of length=553\n",
      "  warnings.warn(\n"
     ]
    },
    {
     "name": "stdout",
     "output_type": "stream",
     "text": [
      "D:/Project_TH_2/Data_set/train\\OAF_rag_angry.wav\n",
      "D:/Project_TH_2/Data_set/train\\OAF_rag_disgust.wav\n"
     ]
    },
    {
     "name": "stderr",
     "output_type": "stream",
     "text": [
      "C:\\Users\\Admin\\AppData\\Roaming\\Python\\Python312\\site-packages\\librosa\\core\\spectrum.py:266: UserWarning: n_fft=1024 is too large for input signal of length=542\n",
      "  warnings.warn(\n"
     ]
    },
    {
     "name": "stdout",
     "output_type": "stream",
     "text": [
      "D:/Project_TH_2/Data_set/train\\OAF_rag_fear.wav\n",
      "D:/Project_TH_2/Data_set/train\\OAF_rag_happy.wav\n",
      "D:/Project_TH_2/Data_set/train\\OAF_rag_neutral.wav\n",
      "D:/Project_TH_2/Data_set/train\\OAF_rag_ps.wav\n",
      "D:/Project_TH_2/Data_set/train\\OAF_rag_sad.wav\n",
      "D:/Project_TH_2/Data_set/train\\OAF_raid_angry.wav\n",
      "D:/Project_TH_2/Data_set/train\\OAF_raid_disgust.wav\n",
      "D:/Project_TH_2/Data_set/train\\OAF_raid_fear.wav\n",
      "D:/Project_TH_2/Data_set/train\\OAF_raid_happy.wav\n",
      "D:/Project_TH_2/Data_set/train\\OAF_raid_neutral.wav\n"
     ]
    },
    {
     "name": "stderr",
     "output_type": "stream",
     "text": [
      "C:\\Users\\Admin\\AppData\\Roaming\\Python\\Python312\\site-packages\\librosa\\core\\spectrum.py:266: UserWarning: n_fft=1024 is too large for input signal of length=730\n",
      "  warnings.warn(\n"
     ]
    },
    {
     "name": "stdout",
     "output_type": "stream",
     "text": [
      "D:/Project_TH_2/Data_set/train\\OAF_raid_ps.wav\n",
      "D:/Project_TH_2/Data_set/train\\OAF_raid_sad.wav\n",
      "D:/Project_TH_2/Data_set/train\\OAF_rain_angry.wav\n",
      "D:/Project_TH_2/Data_set/train\\OAF_rain_disgust.wav\n"
     ]
    },
    {
     "name": "stderr",
     "output_type": "stream",
     "text": [
      "C:\\Users\\Admin\\AppData\\Roaming\\Python\\Python312\\site-packages\\librosa\\core\\spectrum.py:266: UserWarning: n_fft=1024 is too large for input signal of length=557\n",
      "  warnings.warn(\n",
      "C:\\Users\\Admin\\AppData\\Roaming\\Python\\Python312\\site-packages\\librosa\\core\\spectrum.py:266: UserWarning: n_fft=1024 is too large for input signal of length=723\n",
      "  warnings.warn(\n"
     ]
    },
    {
     "name": "stdout",
     "output_type": "stream",
     "text": [
      "D:/Project_TH_2/Data_set/train\\OAF_rain_fear.wav\n",
      "D:/Project_TH_2/Data_set/train\\OAF_rain_happy.wav\n",
      "D:/Project_TH_2/Data_set/train\\OAF_rain_neutral.wav\n",
      "D:/Project_TH_2/Data_set/train\\OAF_rain_ps.wav\n",
      "D:/Project_TH_2/Data_set/train\\OAF_rain_sad.wav\n",
      "D:/Project_TH_2/Data_set/train\\OAF_raise_angry.wav\n",
      "D:/Project_TH_2/Data_set/train\\OAF_raise_disgust.wav\n",
      "D:/Project_TH_2/Data_set/train\\OAF_raise_fear.wav\n",
      "D:/Project_TH_2/Data_set/train\\OAF_raise_happy.wav\n"
     ]
    },
    {
     "name": "stderr",
     "output_type": "stream",
     "text": [
      "C:\\Users\\Admin\\AppData\\Roaming\\Python\\Python312\\site-packages\\librosa\\core\\spectrum.py:266: UserWarning: n_fft=1024 is too large for input signal of length=802\n",
      "  warnings.warn(\n"
     ]
    },
    {
     "name": "stdout",
     "output_type": "stream",
     "text": [
      "D:/Project_TH_2/Data_set/train\\OAF_raise_neutral.wav\n",
      "D:/Project_TH_2/Data_set/train\\OAF_raise_ps.wav\n"
     ]
    },
    {
     "name": "stderr",
     "output_type": "stream",
     "text": [
      "C:\\Users\\Admin\\AppData\\Roaming\\Python\\Python312\\site-packages\\librosa\\core\\spectrum.py:266: UserWarning: n_fft=1024 is too large for input signal of length=1004\n",
      "  warnings.warn(\n"
     ]
    },
    {
     "name": "stdout",
     "output_type": "stream",
     "text": [
      "D:/Project_TH_2/Data_set/train\\OAF_raise_sad.wav\n",
      "D:/Project_TH_2/Data_set/train\\OAF_rat_angry.wav\n",
      "D:/Project_TH_2/Data_set/train\\OAF_rat_disgust.wav\n",
      "D:/Project_TH_2/Data_set/train\\OAF_rat_fear.wav\n",
      "D:/Project_TH_2/Data_set/train\\OAF_rat_happy.wav\n",
      "D:/Project_TH_2/Data_set/train\\OAF_rat_neutral.wav\n"
     ]
    },
    {
     "name": "stderr",
     "output_type": "stream",
     "text": [
      "C:\\Users\\Admin\\AppData\\Roaming\\Python\\Python312\\site-packages\\librosa\\core\\spectrum.py:266: UserWarning: n_fft=1024 is too large for input signal of length=635\n",
      "  warnings.warn(\n"
     ]
    },
    {
     "name": "stdout",
     "output_type": "stream",
     "text": [
      "D:/Project_TH_2/Data_set/train\\OAF_rat_ps.wav\n",
      "D:/Project_TH_2/Data_set/train\\OAF_rat_sad.wav\n",
      "D:/Project_TH_2/Data_set/train\\OAF_reach_angry.wav\n",
      "D:/Project_TH_2/Data_set/train\\OAF_reach_disgust.wav\n"
     ]
    },
    {
     "name": "stderr",
     "output_type": "stream",
     "text": [
      "C:\\Users\\Admin\\AppData\\Roaming\\Python\\Python312\\site-packages\\librosa\\core\\spectrum.py:266: UserWarning: n_fft=1024 is too large for input signal of length=588\n",
      "  warnings.warn(\n"
     ]
    },
    {
     "name": "stdout",
     "output_type": "stream",
     "text": [
      "D:/Project_TH_2/Data_set/train\\OAF_reach_fear.wav\n",
      "D:/Project_TH_2/Data_set/train\\OAF_reach_happy.wav\n",
      "D:/Project_TH_2/Data_set/train\\OAF_reach_neutral.wav\n"
     ]
    },
    {
     "name": "stderr",
     "output_type": "stream",
     "text": [
      "C:\\Users\\Admin\\AppData\\Roaming\\Python\\Python312\\site-packages\\librosa\\core\\spectrum.py:266: UserWarning: n_fft=1024 is too large for input signal of length=753\n",
      "  warnings.warn(\n"
     ]
    },
    {
     "name": "stdout",
     "output_type": "stream",
     "text": [
      "D:/Project_TH_2/Data_set/train\\OAF_reach_ps.wav\n",
      "D:/Project_TH_2/Data_set/train\\OAF_reach_sad.wav\n",
      "D:/Project_TH_2/Data_set/train\\OAF_read_angry.wav\n"
     ]
    },
    {
     "name": "stderr",
     "output_type": "stream",
     "text": [
      "C:\\Users\\Admin\\AppData\\Roaming\\Python\\Python312\\site-packages\\librosa\\core\\spectrum.py:266: UserWarning: n_fft=1024 is too large for input signal of length=750\n",
      "  warnings.warn(\n"
     ]
    },
    {
     "name": "stdout",
     "output_type": "stream",
     "text": [
      "D:/Project_TH_2/Data_set/train\\OAF_read_disgust.wav\n",
      "D:/Project_TH_2/Data_set/train\\OAF_read_fear.wav\n",
      "D:/Project_TH_2/Data_set/train\\OAF_read_happy.wav\n",
      "D:/Project_TH_2/Data_set/train\\OAF_read_neutral.wav\n",
      "D:/Project_TH_2/Data_set/train\\OAF_read_ps.wav\n",
      "D:/Project_TH_2/Data_set/train\\OAF_read_sad.wav\n",
      "D:/Project_TH_2/Data_set/train\\OAF_red_angry.wav\n",
      "D:/Project_TH_2/Data_set/train\\OAF_red_disgust.wav\n"
     ]
    },
    {
     "name": "stderr",
     "output_type": "stream",
     "text": [
      "C:\\Users\\Admin\\AppData\\Roaming\\Python\\Python312\\site-packages\\librosa\\core\\spectrum.py:266: UserWarning: n_fft=1024 is too large for input signal of length=1002\n",
      "  warnings.warn(\n",
      "C:\\Users\\Admin\\AppData\\Roaming\\Python\\Python312\\site-packages\\librosa\\core\\spectrum.py:266: UserWarning: n_fft=1024 is too large for input signal of length=501\n",
      "  warnings.warn(\n"
     ]
    },
    {
     "name": "stdout",
     "output_type": "stream",
     "text": [
      "D:/Project_TH_2/Data_set/train\\OAF_red_fear.wav\n",
      "D:/Project_TH_2/Data_set/train\\OAF_red_happy.wav\n",
      "D:/Project_TH_2/Data_set/train\\OAF_red_neutral.wav\n",
      "D:/Project_TH_2/Data_set/train\\OAF_red_ps.wav\n",
      "D:/Project_TH_2/Data_set/train\\OAF_red_sad.wav\n",
      "D:/Project_TH_2/Data_set/train\\OAF_ring_angry.wav\n",
      "D:/Project_TH_2/Data_set/train\\OAF_ring_disgust.wav\n",
      "D:/Project_TH_2/Data_set/train\\OAF_ring_fear.wav\n",
      "D:/Project_TH_2/Data_set/train\\OAF_ring_happy.wav\n",
      "D:/Project_TH_2/Data_set/train\\OAF_ring_neutral.wav\n",
      "D:/Project_TH_2/Data_set/train\\OAF_ring_ps.wav\n"
     ]
    },
    {
     "name": "stderr",
     "output_type": "stream",
     "text": [
      "C:\\Users\\Admin\\AppData\\Roaming\\Python\\Python312\\site-packages\\librosa\\core\\spectrum.py:266: UserWarning: n_fft=1024 is too large for input signal of length=870\n",
      "  warnings.warn(\n"
     ]
    },
    {
     "name": "stdout",
     "output_type": "stream",
     "text": [
      "D:/Project_TH_2/Data_set/train\\OAF_ring_sad.wav\n",
      "D:/Project_TH_2/Data_set/train\\OAF_ripe_angry.wav\n",
      "D:/Project_TH_2/Data_set/train\\OAF_ripe_disgust.wav\n",
      "D:/Project_TH_2/Data_set/train\\OAF_ripe_fear.wav\n",
      "D:/Project_TH_2/Data_set/train\\OAF_ripe_happy.wav\n",
      "D:/Project_TH_2/Data_set/train\\OAF_ripe_neutral.wav\n"
     ]
    },
    {
     "name": "stderr",
     "output_type": "stream",
     "text": [
      "C:\\Users\\Admin\\AppData\\Roaming\\Python\\Python312\\site-packages\\librosa\\core\\spectrum.py:266: UserWarning: n_fft=1024 is too large for input signal of length=705\n",
      "  warnings.warn(\n"
     ]
    },
    {
     "name": "stdout",
     "output_type": "stream",
     "text": [
      "D:/Project_TH_2/Data_set/train\\OAF_ripe_ps.wav\n",
      "D:/Project_TH_2/Data_set/train\\OAF_ripe_sad.wav\n",
      "D:/Project_TH_2/Data_set/train\\OAF_road_angry.wav\n",
      "D:/Project_TH_2/Data_set/train\\OAF_road_disgust.wav\n",
      "D:/Project_TH_2/Data_set/train\\OAF_road_fear.wav\n",
      "D:/Project_TH_2/Data_set/train\\OAF_road_happy.wav\n",
      "D:/Project_TH_2/Data_set/train\\OAF_road_neutral.wav\n",
      "D:/Project_TH_2/Data_set/train\\OAF_road_ps.wav\n",
      "D:/Project_TH_2/Data_set/train\\OAF_road_sad.wav\n"
     ]
    },
    {
     "name": "stderr",
     "output_type": "stream",
     "text": [
      "C:\\Users\\Admin\\AppData\\Roaming\\Python\\Python312\\site-packages\\librosa\\core\\spectrum.py:266: UserWarning: n_fft=1024 is too large for input signal of length=811\n",
      "  warnings.warn(\n"
     ]
    },
    {
     "name": "stdout",
     "output_type": "stream",
     "text": [
      "D:/Project_TH_2/Data_set/train\\OAF_room_angry.wav\n",
      "D:/Project_TH_2/Data_set/train\\OAF_room_disgust.wav\n"
     ]
    },
    {
     "name": "stderr",
     "output_type": "stream",
     "text": [
      "C:\\Users\\Admin\\AppData\\Roaming\\Python\\Python312\\site-packages\\librosa\\core\\spectrum.py:266: UserWarning: n_fft=1024 is too large for input signal of length=547\n",
      "  warnings.warn(\n"
     ]
    },
    {
     "name": "stdout",
     "output_type": "stream",
     "text": [
      "D:/Project_TH_2/Data_set/train\\OAF_room_fear.wav\n",
      "D:/Project_TH_2/Data_set/train\\OAF_room_happy.wav\n",
      "D:/Project_TH_2/Data_set/train\\OAF_room_neutral.wav\n",
      "D:/Project_TH_2/Data_set/train\\OAF_room_ps.wav\n",
      "D:/Project_TH_2/Data_set/train\\OAF_room_sad.wav\n",
      "D:/Project_TH_2/Data_set/train\\OAF_rose_angry.wav\n"
     ]
    },
    {
     "name": "stderr",
     "output_type": "stream",
     "text": [
      "C:\\Users\\Admin\\AppData\\Roaming\\Python\\Python312\\site-packages\\librosa\\core\\spectrum.py:266: UserWarning: n_fft=1024 is too large for input signal of length=919\n",
      "  warnings.warn(\n"
     ]
    },
    {
     "name": "stdout",
     "output_type": "stream",
     "text": [
      "D:/Project_TH_2/Data_set/train\\OAF_rose_disgust.wav\n",
      "D:/Project_TH_2/Data_set/train\\OAF_rose_fear.wav\n"
     ]
    },
    {
     "name": "stderr",
     "output_type": "stream",
     "text": [
      "C:\\Users\\Admin\\AppData\\Roaming\\Python\\Python312\\site-packages\\librosa\\core\\spectrum.py:266: UserWarning: n_fft=1024 is too large for input signal of length=761\n",
      "  warnings.warn(\n"
     ]
    },
    {
     "name": "stdout",
     "output_type": "stream",
     "text": [
      "D:/Project_TH_2/Data_set/train\\OAF_rose_happy.wav\n",
      "D:/Project_TH_2/Data_set/train\\OAF_rose_neutral.wav\n"
     ]
    },
    {
     "name": "stderr",
     "output_type": "stream",
     "text": [
      "C:\\Users\\Admin\\AppData\\Roaming\\Python\\Python312\\site-packages\\librosa\\core\\spectrum.py:266: UserWarning: n_fft=1024 is too large for input signal of length=751\n",
      "  warnings.warn(\n",
      "C:\\Users\\Admin\\AppData\\Roaming\\Python\\Python312\\site-packages\\librosa\\core\\spectrum.py:266: UserWarning: n_fft=1024 is too large for input signal of length=914\n",
      "  warnings.warn(\n"
     ]
    },
    {
     "name": "stdout",
     "output_type": "stream",
     "text": [
      "D:/Project_TH_2/Data_set/train\\OAF_rose_ps.wav\n",
      "D:/Project_TH_2/Data_set/train\\OAF_rose_sad.wav\n"
     ]
    },
    {
     "name": "stderr",
     "output_type": "stream",
     "text": [
      "C:\\Users\\Admin\\AppData\\Roaming\\Python\\Python312\\site-packages\\librosa\\core\\spectrum.py:266: UserWarning: n_fft=1024 is too large for input signal of length=946\n",
      "  warnings.warn(\n",
      "C:\\Users\\Admin\\AppData\\Roaming\\Python\\Python312\\site-packages\\librosa\\core\\spectrum.py:266: UserWarning: n_fft=1024 is too large for input signal of length=473\n",
      "  warnings.warn(\n"
     ]
    },
    {
     "name": "stdout",
     "output_type": "stream",
     "text": [
      "D:/Project_TH_2/Data_set/train\\OAF_rot_angry.wav\n",
      "D:/Project_TH_2/Data_set/train\\OAF_rot_disgust.wav\n",
      "D:/Project_TH_2/Data_set/train\\OAF_rot_fear.wav\n",
      "D:/Project_TH_2/Data_set/train\\OAF_rot_happy.wav\n",
      "D:/Project_TH_2/Data_set/train\\OAF_rot_neutral.wav\n"
     ]
    },
    {
     "name": "stderr",
     "output_type": "stream",
     "text": [
      "C:\\Users\\Admin\\AppData\\Roaming\\Python\\Python312\\site-packages\\librosa\\core\\spectrum.py:266: UserWarning: n_fft=1024 is too large for input signal of length=627\n",
      "  warnings.warn(\n"
     ]
    },
    {
     "name": "stdout",
     "output_type": "stream",
     "text": [
      "D:/Project_TH_2/Data_set/train\\OAF_rot_ps.wav\n",
      "D:/Project_TH_2/Data_set/train\\OAF_rot_sad.wav\n",
      "D:/Project_TH_2/Data_set/train\\OAF_rough_angry.wav\n"
     ]
    },
    {
     "name": "stderr",
     "output_type": "stream",
     "text": [
      "C:\\Users\\Admin\\AppData\\Roaming\\Python\\Python312\\site-packages\\librosa\\core\\spectrum.py:266: UserWarning: n_fft=1024 is too large for input signal of length=593\n",
      "  warnings.warn(\n",
      "C:\\Users\\Admin\\AppData\\Roaming\\Python\\Python312\\site-packages\\librosa\\core\\spectrum.py:266: UserWarning: n_fft=1024 is too large for input signal of length=883\n",
      "  warnings.warn(\n"
     ]
    },
    {
     "name": "stdout",
     "output_type": "stream",
     "text": [
      "D:/Project_TH_2/Data_set/train\\OAF_rough_disgust.wav\n",
      "D:/Project_TH_2/Data_set/train\\OAF_rough_fear.wav\n",
      "D:/Project_TH_2/Data_set/train\\OAF_rough_happy.wav\n",
      "D:/Project_TH_2/Data_set/train\\OAF_rough_neutral.wav\n"
     ]
    },
    {
     "name": "stderr",
     "output_type": "stream",
     "text": [
      "C:\\Users\\Admin\\AppData\\Roaming\\Python\\Python312\\site-packages\\librosa\\core\\spectrum.py:266: UserWarning: n_fft=1024 is too large for input signal of length=767\n",
      "  warnings.warn(\n"
     ]
    },
    {
     "name": "stdout",
     "output_type": "stream",
     "text": [
      "D:/Project_TH_2/Data_set/train\\OAF_rough_ps.wav\n",
      "D:/Project_TH_2/Data_set/train\\OAF_rough_sad.wav\n",
      "D:/Project_TH_2/Data_set/train\\OAF_rush_angry.wav\n"
     ]
    },
    {
     "name": "stderr",
     "output_type": "stream",
     "text": [
      "C:\\Users\\Admin\\AppData\\Roaming\\Python\\Python312\\site-packages\\librosa\\core\\spectrum.py:266: UserWarning: n_fft=1024 is too large for input signal of length=797\n",
      "  warnings.warn(\n"
     ]
    },
    {
     "name": "stdout",
     "output_type": "stream",
     "text": [
      "D:/Project_TH_2/Data_set/train\\OAF_rush_disgust.wav\n",
      "D:/Project_TH_2/Data_set/train\\OAF_rush_fear.wav\n",
      "D:/Project_TH_2/Data_set/train\\OAF_rush_happy.wav\n",
      "D:/Project_TH_2/Data_set/train\\OAF_rush_neutral.wav\n",
      "D:/Project_TH_2/Data_set/train\\OAF_rush_ps.wav\n",
      "D:/Project_TH_2/Data_set/train\\OAF_rush_sad.wav\n"
     ]
    },
    {
     "name": "stderr",
     "output_type": "stream",
     "text": [
      "C:\\Users\\Admin\\AppData\\Roaming\\Python\\Python312\\site-packages\\librosa\\core\\spectrum.py:266: UserWarning: n_fft=1024 is too large for input signal of length=1011\n",
      "  warnings.warn(\n",
      "C:\\Users\\Admin\\AppData\\Roaming\\Python\\Python312\\site-packages\\librosa\\core\\spectrum.py:266: UserWarning: n_fft=1024 is too large for input signal of length=506\n",
      "  warnings.warn(\n",
      "C:\\Users\\Admin\\AppData\\Roaming\\Python\\Python312\\site-packages\\librosa\\core\\spectrum.py:266: UserWarning: n_fft=1024 is too large for input signal of length=768\n",
      "  warnings.warn(\n"
     ]
    },
    {
     "name": "stdout",
     "output_type": "stream",
     "text": [
      "D:/Project_TH_2/Data_set/train\\OAF_said_angry.wav\n",
      "D:/Project_TH_2/Data_set/train\\OAF_said_disgust.wav\n",
      "D:/Project_TH_2/Data_set/train\\OAF_said_fear.wav\n",
      "D:/Project_TH_2/Data_set/train\\OAF_said_happy.wav\n",
      "D:/Project_TH_2/Data_set/train\\OAF_said_neutral.wav\n",
      "D:/Project_TH_2/Data_set/train\\OAF_said_ps.wav\n",
      "D:/Project_TH_2/Data_set/train\\OAF_said_sad.wav\n",
      "D:/Project_TH_2/Data_set/train\\OAF_sail_angry.wav\n"
     ]
    },
    {
     "name": "stderr",
     "output_type": "stream",
     "text": [
      "C:\\Users\\Admin\\AppData\\Roaming\\Python\\Python312\\site-packages\\librosa\\core\\spectrum.py:266: UserWarning: n_fft=1024 is too large for input signal of length=575\n",
      "  warnings.warn(\n"
     ]
    },
    {
     "name": "stdout",
     "output_type": "stream",
     "text": [
      "D:/Project_TH_2/Data_set/train\\OAF_sail_disgust.wav\n",
      "D:/Project_TH_2/Data_set/train\\OAF_sail_fear.wav\n",
      "D:/Project_TH_2/Data_set/train\\OAF_sail_happy.wav\n",
      "D:/Project_TH_2/Data_set/train\\OAF_sail_neutral.wav\n"
     ]
    },
    {
     "name": "stderr",
     "output_type": "stream",
     "text": [
      "C:\\Users\\Admin\\AppData\\Roaming\\Python\\Python312\\site-packages\\librosa\\core\\spectrum.py:266: UserWarning: n_fft=1024 is too large for input signal of length=711\n",
      "  warnings.warn(\n"
     ]
    },
    {
     "name": "stdout",
     "output_type": "stream",
     "text": [
      "D:/Project_TH_2/Data_set/train\\OAF_sail_ps.wav\n"
     ]
    },
    {
     "name": "stderr",
     "output_type": "stream",
     "text": [
      "C:\\Users\\Admin\\AppData\\Roaming\\Python\\Python312\\site-packages\\librosa\\core\\spectrum.py:266: UserWarning: n_fft=1024 is too large for input signal of length=910\n",
      "  warnings.warn(\n"
     ]
    },
    {
     "name": "stdout",
     "output_type": "stream",
     "text": [
      "D:/Project_TH_2/Data_set/train\\OAF_sail_sad.wav\n",
      "D:/Project_TH_2/Data_set/train\\OAF_search_angry.wav\n",
      "D:/Project_TH_2/Data_set/train\\OAF_search_disgust.wav\n",
      "D:/Project_TH_2/Data_set/train\\OAF_search_fear.wav\n",
      "D:/Project_TH_2/Data_set/train\\OAF_search_happy.wav\n",
      "D:/Project_TH_2/Data_set/train\\OAF_search_neutral.wav\n"
     ]
    },
    {
     "name": "stderr",
     "output_type": "stream",
     "text": [
      "C:\\Users\\Admin\\AppData\\Roaming\\Python\\Python312\\site-packages\\librosa\\core\\spectrum.py:266: UserWarning: n_fft=1024 is too large for input signal of length=789\n",
      "  warnings.warn(\n"
     ]
    },
    {
     "name": "stdout",
     "output_type": "stream",
     "text": [
      "D:/Project_TH_2/Data_set/train\\OAF_search_ps.wav\n",
      "D:/Project_TH_2/Data_set/train\\OAF_search_sad.wav\n"
     ]
    },
    {
     "name": "stderr",
     "output_type": "stream",
     "text": [
      "C:\\Users\\Admin\\AppData\\Roaming\\Python\\Python312\\site-packages\\librosa\\core\\spectrum.py:266: UserWarning: n_fft=1024 is too large for input signal of length=607\n",
      "  warnings.warn(\n"
     ]
    },
    {
     "name": "stdout",
     "output_type": "stream",
     "text": [
      "D:/Project_TH_2/Data_set/train\\OAF_seize_angry.wav\n",
      "D:/Project_TH_2/Data_set/train\\OAF_seize_disgust.wav\n"
     ]
    },
    {
     "name": "stderr",
     "output_type": "stream",
     "text": [
      "C:\\Users\\Admin\\AppData\\Roaming\\Python\\Python312\\site-packages\\librosa\\core\\spectrum.py:266: UserWarning: n_fft=1024 is too large for input signal of length=597\n",
      "  warnings.warn(\n",
      "C:\\Users\\Admin\\AppData\\Roaming\\Python\\Python312\\site-packages\\librosa\\core\\spectrum.py:266: UserWarning: n_fft=1024 is too large for input signal of length=759\n",
      "  warnings.warn(\n"
     ]
    },
    {
     "name": "stdout",
     "output_type": "stream",
     "text": [
      "D:/Project_TH_2/Data_set/train\\OAF_seize_fear.wav\n",
      "D:/Project_TH_2/Data_set/train\\OAF_seize_happy.wav\n",
      "D:/Project_TH_2/Data_set/train\\OAF_seize_neutral.wav\n",
      "D:/Project_TH_2/Data_set/train\\OAF_seize_ps.wav\n",
      "D:/Project_TH_2/Data_set/train\\OAF_seize_sad.wav\n",
      "D:/Project_TH_2/Data_set/train\\OAF_sell_angry.wav\n",
      "D:/Project_TH_2/Data_set/train\\OAF_sell_disgust.wav\n",
      "D:/Project_TH_2/Data_set/train\\OAF_sell_fear.wav\n"
     ]
    },
    {
     "name": "stderr",
     "output_type": "stream",
     "text": [
      "C:\\Users\\Admin\\AppData\\Roaming\\Python\\Python312\\site-packages\\librosa\\core\\spectrum.py:266: UserWarning: n_fft=1024 is too large for input signal of length=686\n",
      "  warnings.warn(\n"
     ]
    },
    {
     "name": "stdout",
     "output_type": "stream",
     "text": [
      "D:/Project_TH_2/Data_set/train\\OAF_sell_happy.wav\n",
      "D:/Project_TH_2/Data_set/train\\OAF_sell_neutral.wav\n"
     ]
    },
    {
     "name": "stderr",
     "output_type": "stream",
     "text": [
      "C:\\Users\\Admin\\AppData\\Roaming\\Python\\Python312\\site-packages\\librosa\\core\\spectrum.py:266: UserWarning: n_fft=1024 is too large for input signal of length=655\n",
      "  warnings.warn(\n"
     ]
    },
    {
     "name": "stdout",
     "output_type": "stream",
     "text": [
      "D:/Project_TH_2/Data_set/train\\OAF_sell_ps.wav\n"
     ]
    },
    {
     "name": "stderr",
     "output_type": "stream",
     "text": [
      "C:\\Users\\Admin\\AppData\\Roaming\\Python\\Python312\\site-packages\\librosa\\core\\spectrum.py:266: UserWarning: n_fft=1024 is too large for input signal of length=954\n",
      "  warnings.warn(\n",
      "C:\\Users\\Admin\\AppData\\Roaming\\Python\\Python312\\site-packages\\librosa\\core\\spectrum.py:266: UserWarning: n_fft=1024 is too large for input signal of length=514\n",
      "  warnings.warn(\n"
     ]
    },
    {
     "name": "stdout",
     "output_type": "stream",
     "text": [
      "D:/Project_TH_2/Data_set/train\\OAF_sell_sad.wav\n",
      "D:/Project_TH_2/Data_set/train\\OAF_shack_angry.wav\n",
      "D:/Project_TH_2/Data_set/train\\OAF_shack_disgust.wav\n",
      "D:/Project_TH_2/Data_set/train\\OAF_shack_fear.wav\n",
      "D:/Project_TH_2/Data_set/train\\OAF_shack_happy.wav\n",
      "D:/Project_TH_2/Data_set/train\\OAF_shack_neutral.wav\n"
     ]
    },
    {
     "name": "stderr",
     "output_type": "stream",
     "text": [
      "C:\\Users\\Admin\\AppData\\Roaming\\Python\\Python312\\site-packages\\librosa\\core\\spectrum.py:266: UserWarning: n_fft=1024 is too large for input signal of length=652\n",
      "  warnings.warn(\n"
     ]
    },
    {
     "name": "stdout",
     "output_type": "stream",
     "text": [
      "D:/Project_TH_2/Data_set/train\\OAF_shack_ps.wav\n"
     ]
    },
    {
     "name": "stderr",
     "output_type": "stream",
     "text": [
      "C:\\Users\\Admin\\AppData\\Roaming\\Python\\Python312\\site-packages\\librosa\\core\\spectrum.py:266: UserWarning: n_fft=1024 is too large for input signal of length=857\n",
      "  warnings.warn(\n"
     ]
    },
    {
     "name": "stdout",
     "output_type": "stream",
     "text": [
      "D:/Project_TH_2/Data_set/train\\OAF_shack_sad.wav\n",
      "D:/Project_TH_2/Data_set/train\\OAF_shall_angry.wav\n",
      "D:/Project_TH_2/Data_set/train\\OAF_shall_disgust.wav\n",
      "D:/Project_TH_2/Data_set/train\\OAF_shall_fear.wav\n",
      "D:/Project_TH_2/Data_set/train\\OAF_shall_happy.wav\n",
      "D:/Project_TH_2/Data_set/train\\OAF_shall_neutral.wav\n",
      "D:/Project_TH_2/Data_set/train\\OAF_shall_ps.wav\n",
      "D:/Project_TH_2/Data_set/train\\OAF_shall_sad.wav\n",
      "D:/Project_TH_2/Data_set/train\\OAF_shawl_angry.wav\n",
      "D:/Project_TH_2/Data_set/train\\OAF_shawl_disgust.wav\n",
      "D:/Project_TH_2/Data_set/train\\OAF_shawl_fear.wav\n",
      "D:/Project_TH_2/Data_set/train\\OAF_shawl_happy.wav\n",
      "D:/Project_TH_2/Data_set/train\\OAF_shawl_neutral.wav\n",
      "D:/Project_TH_2/Data_set/train\\OAF_shawl_ps.wav\n",
      "D:/Project_TH_2/Data_set/train\\OAF_shawl_sad.wav\n",
      "D:/Project_TH_2/Data_set/train\\OAF_sheep_angry.wav\n",
      "D:/Project_TH_2/Data_set/train\\OAF_sheep_disgust.wav\n",
      "D:/Project_TH_2/Data_set/train\\OAF_sheep_fear.wav\n",
      "D:/Project_TH_2/Data_set/train\\OAF_sheep_happy.wav\n",
      "D:/Project_TH_2/Data_set/train\\OAF_sheep_neutral.wav\n",
      "D:/Project_TH_2/Data_set/train\\OAF_sheep_ps.wav\n",
      "D:/Project_TH_2/Data_set/train\\OAF_sheep_sad.wav\n",
      "D:/Project_TH_2/Data_set/train\\OAF_shirt_angry.wav\n",
      "D:/Project_TH_2/Data_set/train\\OAF_shirt_disgust.wav\n",
      "D:/Project_TH_2/Data_set/train\\OAF_shirt_fear.wav\n"
     ]
    },
    {
     "name": "stderr",
     "output_type": "stream",
     "text": [
      "C:\\Users\\Admin\\AppData\\Roaming\\Python\\Python312\\site-packages\\librosa\\core\\spectrum.py:266: UserWarning: n_fft=1024 is too large for input signal of length=447\n",
      "  warnings.warn(\n"
     ]
    },
    {
     "name": "stdout",
     "output_type": "stream",
     "text": [
      "D:/Project_TH_2/Data_set/train\\OAF_shirt_happy.wav\n",
      "D:/Project_TH_2/Data_set/train\\OAF_shirt_neutral.wav\n",
      "D:/Project_TH_2/Data_set/train\\OAF_shirt_ps.wav\n",
      "D:/Project_TH_2/Data_set/train\\OAF_shirt_sad.wav\n",
      "D:/Project_TH_2/Data_set/train\\OAF_should_angry.wav\n",
      "D:/Project_TH_2/Data_set/train\\OAF_should_disgust.wav\n",
      "D:/Project_TH_2/Data_set/train\\OAF_should_fear.wav\n",
      "D:/Project_TH_2/Data_set/train\\OAF_should_happy.wav\n",
      "D:/Project_TH_2/Data_set/train\\OAF_should_neutral.wav\n"
     ]
    },
    {
     "name": "stderr",
     "output_type": "stream",
     "text": [
      "C:\\Users\\Admin\\AppData\\Roaming\\Python\\Python312\\site-packages\\librosa\\core\\spectrum.py:266: UserWarning: n_fft=1024 is too large for input signal of length=707\n",
      "  warnings.warn(\n"
     ]
    },
    {
     "name": "stdout",
     "output_type": "stream",
     "text": [
      "D:/Project_TH_2/Data_set/train\\OAF_should_ps.wav\n",
      "D:/Project_TH_2/Data_set/train\\OAF_should_sad.wav\n"
     ]
    },
    {
     "name": "stderr",
     "output_type": "stream",
     "text": [
      "C:\\Users\\Admin\\AppData\\Roaming\\Python\\Python312\\site-packages\\librosa\\core\\spectrum.py:266: UserWarning: n_fft=1024 is too large for input signal of length=964\n",
      "  warnings.warn(\n",
      "C:\\Users\\Admin\\AppData\\Roaming\\Python\\Python312\\site-packages\\librosa\\core\\spectrum.py:266: UserWarning: n_fft=1024 is too large for input signal of length=482\n",
      "  warnings.warn(\n"
     ]
    },
    {
     "name": "stdout",
     "output_type": "stream",
     "text": [
      "D:/Project_TH_2/Data_set/train\\OAF_shout_angry.wav\n"
     ]
    },
    {
     "name": "stderr",
     "output_type": "stream",
     "text": [
      "C:\\Users\\Admin\\AppData\\Roaming\\Python\\Python312\\site-packages\\librosa\\core\\spectrum.py:266: UserWarning: n_fft=1024 is too large for input signal of length=856\n",
      "  warnings.warn(\n",
      "C:\\Users\\Admin\\AppData\\Roaming\\Python\\Python312\\site-packages\\librosa\\core\\spectrum.py:266: UserWarning: n_fft=1024 is too large for input signal of length=565\n",
      "  warnings.warn(\n"
     ]
    },
    {
     "name": "stdout",
     "output_type": "stream",
     "text": [
      "D:/Project_TH_2/Data_set/train\\OAF_shout_disgust.wav\n",
      "D:/Project_TH_2/Data_set/train\\OAF_shout_fear.wav\n",
      "D:/Project_TH_2/Data_set/train\\OAF_shout_happy.wav\n",
      "D:/Project_TH_2/Data_set/train\\OAF_shout_neutral.wav\n",
      "D:/Project_TH_2/Data_set/train\\OAF_shout_ps.wav\n"
     ]
    },
    {
     "name": "stderr",
     "output_type": "stream",
     "text": [
      "C:\\Users\\Admin\\AppData\\Roaming\\Python\\Python312\\site-packages\\librosa\\core\\spectrum.py:266: UserWarning: n_fft=1024 is too large for input signal of length=926\n",
      "  warnings.warn(\n"
     ]
    },
    {
     "name": "stdout",
     "output_type": "stream",
     "text": [
      "D:/Project_TH_2/Data_set/train\\OAF_shout_sad.wav\n",
      "D:/Project_TH_2/Data_set/train\\OAF_size_angry.wav\n",
      "D:/Project_TH_2/Data_set/train\\OAF_size_disgust.wav\n"
     ]
    },
    {
     "name": "stderr",
     "output_type": "stream",
     "text": [
      "C:\\Users\\Admin\\AppData\\Roaming\\Python\\Python312\\site-packages\\librosa\\core\\spectrum.py:266: UserWarning: n_fft=1024 is too large for input signal of length=609\n",
      "  warnings.warn(\n",
      "C:\\Users\\Admin\\AppData\\Roaming\\Python\\Python312\\site-packages\\librosa\\core\\spectrum.py:266: UserWarning: n_fft=1024 is too large for input signal of length=745\n",
      "  warnings.warn(\n"
     ]
    },
    {
     "name": "stdout",
     "output_type": "stream",
     "text": [
      "D:/Project_TH_2/Data_set/train\\OAF_size_fear.wav\n",
      "D:/Project_TH_2/Data_set/train\\OAF_size_happy.wav\n",
      "D:/Project_TH_2/Data_set/train\\OAF_size_neutral.wav\n",
      "D:/Project_TH_2/Data_set/train\\OAF_size_ps.wav\n",
      "D:/Project_TH_2/Data_set/train\\OAF_size_sad.wav\n",
      "D:/Project_TH_2/Data_set/train\\OAF_soap_angry.wav\n",
      "D:/Project_TH_2/Data_set/train\\OAF_soap_disgust.wav\n",
      "D:/Project_TH_2/Data_set/train\\OAF_soap_fear.wav\n",
      "D:/Project_TH_2/Data_set/train\\OAF_soap_happy.wav\n",
      "D:/Project_TH_2/Data_set/train\\OAF_soap_neutral.wav\n",
      "D:/Project_TH_2/Data_set/train\\OAF_soap_ps.wav\n"
     ]
    },
    {
     "name": "stderr",
     "output_type": "stream",
     "text": [
      "C:\\Users\\Admin\\AppData\\Roaming\\Python\\Python312\\site-packages\\librosa\\core\\spectrum.py:266: UserWarning: n_fft=1024 is too large for input signal of length=948\n",
      "  warnings.warn(\n"
     ]
    },
    {
     "name": "stdout",
     "output_type": "stream",
     "text": [
      "D:/Project_TH_2/Data_set/train\\OAF_soap_sad.wav\n",
      "D:/Project_TH_2/Data_set/train\\OAF_soup_angry.wav\n",
      "D:/Project_TH_2/Data_set/train\\OAF_soup_disgust.wav\n",
      "D:/Project_TH_2/Data_set/train\\OAF_soup_fear.wav\n"
     ]
    },
    {
     "name": "stderr",
     "output_type": "stream",
     "text": [
      "C:\\Users\\Admin\\AppData\\Roaming\\Python\\Python312\\site-packages\\librosa\\core\\spectrum.py:266: UserWarning: n_fft=1024 is too large for input signal of length=618\n",
      "  warnings.warn(\n",
      "C:\\Users\\Admin\\AppData\\Roaming\\Python\\Python312\\site-packages\\librosa\\core\\spectrum.py:266: UserWarning: n_fft=1024 is too large for input signal of length=731\n",
      "  warnings.warn(\n"
     ]
    },
    {
     "name": "stdout",
     "output_type": "stream",
     "text": [
      "D:/Project_TH_2/Data_set/train\\OAF_soup_happy.wav\n",
      "D:/Project_TH_2/Data_set/train\\OAF_soup_neutral.wav\n",
      "D:/Project_TH_2/Data_set/train\\OAF_soup_ps.wav\n",
      "D:/Project_TH_2/Data_set/train\\OAF_soup_sad.wav\n"
     ]
    },
    {
     "name": "stderr",
     "output_type": "stream",
     "text": [
      "C:\\Users\\Admin\\AppData\\Roaming\\Python\\Python312\\site-packages\\librosa\\core\\spectrum.py:266: UserWarning: n_fft=1024 is too large for input signal of length=600\n",
      "  warnings.warn(\n"
     ]
    },
    {
     "name": "stdout",
     "output_type": "stream",
     "text": [
      "D:/Project_TH_2/Data_set/train\\OAF_sour_angry.wav\n",
      "D:/Project_TH_2/Data_set/train\\OAF_sour_disgust.wav\n",
      "D:/Project_TH_2/Data_set/train\\OAF_sour_fear.wav\n",
      "D:/Project_TH_2/Data_set/train\\OAF_sour_happy.wav\n",
      "D:/Project_TH_2/Data_set/train\\OAF_sour_neutral.wav\n",
      "D:/Project_TH_2/Data_set/train\\OAF_sour_ps.wav\n"
     ]
    },
    {
     "name": "stderr",
     "output_type": "stream",
     "text": [
      "C:\\Users\\Admin\\AppData\\Roaming\\Python\\Python312\\site-packages\\librosa\\core\\spectrum.py:266: UserWarning: n_fft=1024 is too large for input signal of length=944\n",
      "  warnings.warn(\n"
     ]
    },
    {
     "name": "stdout",
     "output_type": "stream",
     "text": [
      "D:/Project_TH_2/Data_set/train\\OAF_sour_sad.wav\n",
      "D:/Project_TH_2/Data_set/train\\OAF_south_angry.wav\n",
      "D:/Project_TH_2/Data_set/train\\OAF_south_disgust.wav\n",
      "D:/Project_TH_2/Data_set/train\\OAF_south_fear.wav\n",
      "D:/Project_TH_2/Data_set/train\\OAF_south_happy.wav\n",
      "D:/Project_TH_2/Data_set/train\\OAF_south_neutral.wav\n",
      "D:/Project_TH_2/Data_set/train\\OAF_south_ps.wav\n"
     ]
    },
    {
     "name": "stderr",
     "output_type": "stream",
     "text": [
      "C:\\Users\\Admin\\AppData\\Roaming\\Python\\Python312\\site-packages\\librosa\\core\\spectrum.py:266: UserWarning: n_fft=1024 is too large for input signal of length=938\n",
      "  warnings.warn(\n",
      "C:\\Users\\Admin\\AppData\\Roaming\\Python\\Python312\\site-packages\\librosa\\core\\spectrum.py:266: UserWarning: n_fft=1024 is too large for input signal of length=474\n",
      "  warnings.warn(\n"
     ]
    },
    {
     "name": "stdout",
     "output_type": "stream",
     "text": [
      "D:/Project_TH_2/Data_set/train\\OAF_south_sad.wav\n",
      "D:/Project_TH_2/Data_set/train\\OAF_sub_angry.wav\n",
      "D:/Project_TH_2/Data_set/train\\OAF_sub_disgust.wav\n",
      "D:/Project_TH_2/Data_set/train\\OAF_sub_fear.wav\n"
     ]
    },
    {
     "name": "stderr",
     "output_type": "stream",
     "text": [
      "C:\\Users\\Admin\\AppData\\Roaming\\Python\\Python312\\site-packages\\librosa\\core\\spectrum.py:266: UserWarning: n_fft=1024 is too large for input signal of length=554\n",
      "  warnings.warn(\n"
     ]
    },
    {
     "name": "stdout",
     "output_type": "stream",
     "text": [
      "D:/Project_TH_2/Data_set/train\\OAF_sub_happy.wav\n",
      "D:/Project_TH_2/Data_set/train\\OAF_sub_neutral.wav\n",
      "D:/Project_TH_2/Data_set/train\\OAF_sub_ps.wav\n",
      "D:/Project_TH_2/Data_set/train\\OAF_sub_sad.wav\n",
      "D:/Project_TH_2/Data_set/train\\OAF_such_angry.wav\n",
      "D:/Project_TH_2/Data_set/train\\OAF_such_disgust.wav\n",
      "D:/Project_TH_2/Data_set/train\\OAF_such_fear.wav\n"
     ]
    },
    {
     "name": "stderr",
     "output_type": "stream",
     "text": [
      "C:\\Users\\Admin\\AppData\\Roaming\\Python\\Python312\\site-packages\\librosa\\core\\spectrum.py:266: UserWarning: n_fft=1024 is too large for input signal of length=1012\n",
      "  warnings.warn(\n"
     ]
    },
    {
     "name": "stdout",
     "output_type": "stream",
     "text": [
      "D:/Project_TH_2/Data_set/train\\OAF_such_happy.wav\n",
      "D:/Project_TH_2/Data_set/train\\OAF_such_neutral.wav\n",
      "D:/Project_TH_2/Data_set/train\\OAF_such_ps.wav\n"
     ]
    },
    {
     "name": "stderr",
     "output_type": "stream",
     "text": [
      "C:\\Users\\Admin\\AppData\\Roaming\\Python\\Python312\\site-packages\\librosa\\core\\spectrum.py:266: UserWarning: n_fft=1024 is too large for input signal of length=889\n",
      "  warnings.warn(\n"
     ]
    },
    {
     "name": "stdout",
     "output_type": "stream",
     "text": [
      "D:/Project_TH_2/Data_set/train\\OAF_such_sad.wav\n",
      "D:/Project_TH_2/Data_set/train\\OAF_sure_angry.wav\n",
      "D:/Project_TH_2/Data_set/train\\OAF_sure_disgust.wav\n",
      "D:/Project_TH_2/Data_set/train\\OAF_sure_fear.wav\n",
      "D:/Project_TH_2/Data_set/train\\OAF_sure_happy.wav\n",
      "D:/Project_TH_2/Data_set/train\\OAF_sure_neutral.wav\n",
      "D:/Project_TH_2/Data_set/train\\OAF_sure_ps.wav\n"
     ]
    },
    {
     "name": "stderr",
     "output_type": "stream",
     "text": [
      "C:\\Users\\Admin\\AppData\\Roaming\\Python\\Python312\\site-packages\\librosa\\core\\spectrum.py:266: UserWarning: n_fft=1024 is too large for input signal of length=807\n",
      "  warnings.warn(\n",
      "C:\\Users\\Admin\\AppData\\Roaming\\Python\\Python312\\site-packages\\librosa\\core\\spectrum.py:266: UserWarning: n_fft=1024 is too large for input signal of length=503\n",
      "  warnings.warn(\n"
     ]
    },
    {
     "name": "stdout",
     "output_type": "stream",
     "text": [
      "D:/Project_TH_2/Data_set/train\\OAF_sure_sad.wav\n",
      "D:/Project_TH_2/Data_set/train\\OAF_take_angry.wav\n"
     ]
    },
    {
     "name": "stderr",
     "output_type": "stream",
     "text": [
      "C:\\Users\\Admin\\AppData\\Roaming\\Python\\Python312\\site-packages\\librosa\\core\\spectrum.py:266: UserWarning: n_fft=1024 is too large for input signal of length=812\n",
      "  warnings.warn(\n"
     ]
    },
    {
     "name": "stdout",
     "output_type": "stream",
     "text": [
      "D:/Project_TH_2/Data_set/train\\OAF_take_disgust.wav\n",
      "D:/Project_TH_2/Data_set/train\\OAF_take_fear.wav\n",
      "D:/Project_TH_2/Data_set/train\\OAF_take_happy.wav\n",
      "D:/Project_TH_2/Data_set/train\\OAF_take_neutral.wav\n"
     ]
    },
    {
     "name": "stderr",
     "output_type": "stream",
     "text": [
      "C:\\Users\\Admin\\AppData\\Roaming\\Python\\Python312\\site-packages\\librosa\\core\\spectrum.py:266: UserWarning: n_fft=1024 is too large for input signal of length=747\n",
      "  warnings.warn(\n"
     ]
    },
    {
     "name": "stdout",
     "output_type": "stream",
     "text": [
      "D:/Project_TH_2/Data_set/train\\OAF_take_ps.wav\n",
      "D:/Project_TH_2/Data_set/train\\OAF_take_sad.wav\n",
      "D:/Project_TH_2/Data_set/train\\OAF_talk_angry.wav\n",
      "D:/Project_TH_2/Data_set/train\\OAF_talk_disgust.wav\n",
      "D:/Project_TH_2/Data_set/train\\OAF_talk_fear.wav\n",
      "D:/Project_TH_2/Data_set/train\\OAF_talk_happy.wav\n",
      "D:/Project_TH_2/Data_set/train\\OAF_talk_neutral.wav\n",
      "D:/Project_TH_2/Data_set/train\\OAF_talk_ps.wav\n",
      "D:/Project_TH_2/Data_set/train\\OAF_talk_sad.wav\n",
      "D:/Project_TH_2/Data_set/train\\OAF_tape_angry.wav\n",
      "D:/Project_TH_2/Data_set/train\\OAF_tape_disgust.wav\n",
      "D:/Project_TH_2/Data_set/train\\OAF_tape_fear.wav\n",
      "D:/Project_TH_2/Data_set/train\\OAF_tape_happy.wav\n",
      "D:/Project_TH_2/Data_set/train\\OAF_tape_neutral.wav\n"
     ]
    },
    {
     "name": "stderr",
     "output_type": "stream",
     "text": [
      "C:\\Users\\Admin\\AppData\\Roaming\\Python\\Python312\\site-packages\\librosa\\core\\spectrum.py:266: UserWarning: n_fft=1024 is too large for input signal of length=603\n",
      "  warnings.warn(\n"
     ]
    },
    {
     "name": "stdout",
     "output_type": "stream",
     "text": [
      "D:/Project_TH_2/Data_set/train\\OAF_tape_ps.wav\n"
     ]
    },
    {
     "name": "stderr",
     "output_type": "stream",
     "text": [
      "C:\\Users\\Admin\\AppData\\Roaming\\Python\\Python312\\site-packages\\librosa\\core\\spectrum.py:266: UserWarning: n_fft=1024 is too large for input signal of length=922\n",
      "  warnings.warn(\n"
     ]
    },
    {
     "name": "stdout",
     "output_type": "stream",
     "text": [
      "D:/Project_TH_2/Data_set/train\\OAF_tape_sad.wav\n",
      "D:/Project_TH_2/Data_set/train\\OAF_team_angry.wav\n",
      "D:/Project_TH_2/Data_set/train\\OAF_team_disgust.wav\n",
      "D:/Project_TH_2/Data_set/train\\OAF_team_fear.wav\n"
     ]
    },
    {
     "name": "stderr",
     "output_type": "stream",
     "text": [
      "C:\\Users\\Admin\\AppData\\Roaming\\Python\\Python312\\site-packages\\librosa\\core\\spectrum.py:266: UserWarning: n_fft=1024 is too large for input signal of length=568\n",
      "  warnings.warn(\n"
     ]
    },
    {
     "name": "stdout",
     "output_type": "stream",
     "text": [
      "D:/Project_TH_2/Data_set/train\\OAF_team_happy.wav\n",
      "D:/Project_TH_2/Data_set/train\\OAF_team_neutral.wav\n",
      "D:/Project_TH_2/Data_set/train\\OAF_team_ps.wav\n",
      "D:/Project_TH_2/Data_set/train\\OAF_team_sad.wav\n",
      "D:/Project_TH_2/Data_set/train\\OAF_tell_angry.wav\n",
      "D:/Project_TH_2/Data_set/train\\OAF_tell_disgust.wav\n",
      "D:/Project_TH_2/Data_set/train\\OAF_tell_fear.wav\n",
      "D:/Project_TH_2/Data_set/train\\OAF_tell_happy.wav\n",
      "D:/Project_TH_2/Data_set/train\\OAF_tell_neutral.wav\n",
      "D:/Project_TH_2/Data_set/train\\OAF_tell_ps.wav\n",
      "D:/Project_TH_2/Data_set/train\\OAF_tell_sad.wav\n",
      "D:/Project_TH_2/Data_set/train\\OAF_thin_angry.wav\n",
      "D:/Project_TH_2/Data_set/train\\OAF_thin_disgust.wav\n",
      "D:/Project_TH_2/Data_set/train\\OAF_thin_fear.wav\n",
      "D:/Project_TH_2/Data_set/train\\OAF_thin_happy.wav\n",
      "D:/Project_TH_2/Data_set/train\\OAF_thin_neutral.wav\n",
      "D:/Project_TH_2/Data_set/train\\OAF_thin_ps.wav\n"
     ]
    },
    {
     "name": "stderr",
     "output_type": "stream",
     "text": [
      "C:\\Users\\Admin\\AppData\\Roaming\\Python\\Python312\\site-packages\\librosa\\core\\spectrum.py:266: UserWarning: n_fft=1024 is too large for input signal of length=820\n",
      "  warnings.warn(\n",
      "C:\\Users\\Admin\\AppData\\Roaming\\Python\\Python312\\site-packages\\librosa\\core\\spectrum.py:266: UserWarning: n_fft=1024 is too large for input signal of length=950\n",
      "  warnings.warn(\n"
     ]
    },
    {
     "name": "stdout",
     "output_type": "stream",
     "text": [
      "D:/Project_TH_2/Data_set/train\\OAF_thin_sad.wav\n",
      "D:/Project_TH_2/Data_set/train\\OAF_third_angry.wav\n",
      "D:/Project_TH_2/Data_set/train\\OAF_third_disgust.wav\n",
      "D:/Project_TH_2/Data_set/train\\OAF_third_fear.wav\n",
      "D:/Project_TH_2/Data_set/train\\OAF_third_happy.wav\n",
      "D:/Project_TH_2/Data_set/train\\OAF_third_neutral.wav\n",
      "D:/Project_TH_2/Data_set/train\\OAF_third_ps.wav\n",
      "D:/Project_TH_2/Data_set/train\\OAF_third_sad.wav\n",
      "D:/Project_TH_2/Data_set/train\\OAF_thought_angry.wav\n",
      "D:/Project_TH_2/Data_set/train\\OAF_thought_disgust.wav\n",
      "D:/Project_TH_2/Data_set/train\\OAF_thought_fear.wav\n",
      "D:/Project_TH_2/Data_set/train\\OAF_thought_happy.wav\n",
      "D:/Project_TH_2/Data_set/train\\OAF_thought_neutral.wav\n",
      "D:/Project_TH_2/Data_set/train\\OAF_thought_ps.wav\n",
      "D:/Project_TH_2/Data_set/train\\OAF_thought_sad.wav\n",
      "D:/Project_TH_2/Data_set/train\\OAF_thumb_angry.wav\n"
     ]
    },
    {
     "name": "stderr",
     "output_type": "stream",
     "text": [
      "C:\\Users\\Admin\\AppData\\Roaming\\Python\\Python312\\site-packages\\librosa\\core\\spectrum.py:266: UserWarning: n_fft=1024 is too large for input signal of length=754\n",
      "  warnings.warn(\n",
      "C:\\Users\\Admin\\AppData\\Roaming\\Python\\Python312\\site-packages\\librosa\\core\\spectrum.py:266: UserWarning: n_fft=1024 is too large for input signal of length=1008\n",
      "  warnings.warn(\n"
     ]
    },
    {
     "name": "stdout",
     "output_type": "stream",
     "text": [
      "D:/Project_TH_2/Data_set/train\\OAF_thumb_disgust.wav\n",
      "D:/Project_TH_2/Data_set/train\\OAF_thumb_fear.wav\n"
     ]
    },
    {
     "name": "stderr",
     "output_type": "stream",
     "text": [
      "C:\\Users\\Admin\\AppData\\Roaming\\Python\\Python312\\site-packages\\librosa\\core\\spectrum.py:266: UserWarning: n_fft=1024 is too large for input signal of length=687\n",
      "  warnings.warn(\n"
     ]
    },
    {
     "name": "stdout",
     "output_type": "stream",
     "text": [
      "D:/Project_TH_2/Data_set/train\\OAF_thumb_happy.wav\n",
      "D:/Project_TH_2/Data_set/train\\OAF_thumb_neutral.wav\n",
      "D:/Project_TH_2/Data_set/train\\OAF_thumb_ps.wav\n",
      "D:/Project_TH_2/Data_set/train\\OAF_thumb_sad.wav\n",
      "D:/Project_TH_2/Data_set/train\\OAF_time_angry.wav\n",
      "D:/Project_TH_2/Data_set/train\\OAF_time_disgust.wav\n",
      "D:/Project_TH_2/Data_set/train\\OAF_time_fear.wav\n",
      "D:/Project_TH_2/Data_set/train\\OAF_time_happy.wav\n",
      "D:/Project_TH_2/Data_set/train\\OAF_time_neutral.wav\n",
      "D:/Project_TH_2/Data_set/train\\OAF_time_ps.wav\n",
      "D:/Project_TH_2/Data_set/train\\OAF_time_sad.wav\n"
     ]
    },
    {
     "name": "stderr",
     "output_type": "stream",
     "text": [
      "C:\\Users\\Admin\\AppData\\Roaming\\Python\\Python312\\site-packages\\librosa\\core\\spectrum.py:266: UserWarning: n_fft=1024 is too large for input signal of length=920\n",
      "  warnings.warn(\n",
      "C:\\Users\\Admin\\AppData\\Roaming\\Python\\Python312\\site-packages\\librosa\\core\\spectrum.py:266: UserWarning: n_fft=1024 is too large for input signal of length=460\n",
      "  warnings.warn(\n"
     ]
    },
    {
     "name": "stdout",
     "output_type": "stream",
     "text": [
      "D:/Project_TH_2/Data_set/train\\OAF_tip_angry.wav\n",
      "D:/Project_TH_2/Data_set/train\\OAF_tip_disgust.wav\n",
      "D:/Project_TH_2/Data_set/train\\OAF_tip_fear.wav\n"
     ]
    },
    {
     "name": "stderr",
     "output_type": "stream",
     "text": [
      "C:\\Users\\Admin\\AppData\\Roaming\\Python\\Python312\\site-packages\\librosa\\core\\spectrum.py:266: UserWarning: n_fft=1024 is too large for input signal of length=592\n",
      "  warnings.warn(\n"
     ]
    },
    {
     "name": "stdout",
     "output_type": "stream",
     "text": [
      "D:/Project_TH_2/Data_set/train\\OAF_tip_happy.wav\n",
      "D:/Project_TH_2/Data_set/train\\OAF_tip_neutral.wav\n",
      "D:/Project_TH_2/Data_set/train\\OAF_tip_ps.wav\n"
     ]
    },
    {
     "name": "stderr",
     "output_type": "stream",
     "text": [
      "C:\\Users\\Admin\\AppData\\Roaming\\Python\\Python312\\site-packages\\librosa\\core\\spectrum.py:266: UserWarning: n_fft=1024 is too large for input signal of length=940\n",
      "  warnings.warn(\n"
     ]
    },
    {
     "name": "stdout",
     "output_type": "stream",
     "text": [
      "D:/Project_TH_2/Data_set/train\\OAF_tip_sad.wav\n",
      "D:/Project_TH_2/Data_set/train\\OAF_tire_angry.wav\n",
      "D:/Project_TH_2/Data_set/train\\OAF_tire_disgust.wav\n",
      "D:/Project_TH_2/Data_set/train\\OAF_tire_fear.wav\n",
      "D:/Project_TH_2/Data_set/train\\OAF_tire_happy.wav\n",
      "D:/Project_TH_2/Data_set/train\\OAF_tire_neutral.wav\n",
      "D:/Project_TH_2/Data_set/train\\OAF_tire_ps.wav\n",
      "D:/Project_TH_2/Data_set/train\\OAF_tire_sad.wav\n",
      "D:/Project_TH_2/Data_set/train\\OAF_ton_angry.wav\n",
      "D:/Project_TH_2/Data_set/train\\OAF_ton_disgust.wav\n",
      "D:/Project_TH_2/Data_set/train\\OAF_ton_fear.wav\n",
      "D:/Project_TH_2/Data_set/train\\OAF_ton_happy.wav\n",
      "D:/Project_TH_2/Data_set/train\\OAF_ton_neutral.wav\n"
     ]
    },
    {
     "name": "stderr",
     "output_type": "stream",
     "text": [
      "C:\\Users\\Admin\\AppData\\Roaming\\Python\\Python312\\site-packages\\librosa\\core\\spectrum.py:266: UserWarning: n_fft=1024 is too large for input signal of length=706\n",
      "  warnings.warn(\n"
     ]
    },
    {
     "name": "stdout",
     "output_type": "stream",
     "text": [
      "D:/Project_TH_2/Data_set/train\\OAF_ton_ps.wav\n"
     ]
    },
    {
     "name": "stderr",
     "output_type": "stream",
     "text": [
      "C:\\Users\\Admin\\AppData\\Roaming\\Python\\Python312\\site-packages\\librosa\\core\\spectrum.py:266: UserWarning: n_fft=1024 is too large for input signal of length=915\n",
      "  warnings.warn(\n"
     ]
    },
    {
     "name": "stdout",
     "output_type": "stream",
     "text": [
      "D:/Project_TH_2/Data_set/train\\OAF_ton_sad.wav\n",
      "D:/Project_TH_2/Data_set/train\\OAF_tool_angry.wav\n",
      "D:/Project_TH_2/Data_set/train\\OAF_tool_disgust.wav\n",
      "D:/Project_TH_2/Data_set/train\\OAF_tool_fear.wav\n",
      "D:/Project_TH_2/Data_set/train\\OAF_tool_happy.wav\n",
      "D:/Project_TH_2/Data_set/train\\OAF_tool_neutral.wav\n",
      "D:/Project_TH_2/Data_set/train\\OAF_tool_ps.wav\n"
     ]
    },
    {
     "name": "stderr",
     "output_type": "stream",
     "text": [
      "C:\\Users\\Admin\\AppData\\Roaming\\Python\\Python312\\site-packages\\librosa\\core\\spectrum.py:266: UserWarning: n_fft=1024 is too large for input signal of length=881\n",
      "  warnings.warn(\n"
     ]
    },
    {
     "name": "stdout",
     "output_type": "stream",
     "text": [
      "D:/Project_TH_2/Data_set/train\\OAF_tool_sad.wav\n",
      "D:/Project_TH_2/Data_set/train\\OAF_tough_angry.wav\n",
      "D:/Project_TH_2/Data_set/train\\OAF_tough_disgust.wav\n",
      "D:/Project_TH_2/Data_set/train\\OAF_tough_fear.wav\n"
     ]
    },
    {
     "name": "stderr",
     "output_type": "stream",
     "text": [
      "C:\\Users\\Admin\\AppData\\Roaming\\Python\\Python312\\site-packages\\librosa\\core\\spectrum.py:266: UserWarning: n_fft=1024 is too large for input signal of length=574\n",
      "  warnings.warn(\n",
      "C:\\Users\\Admin\\AppData\\Roaming\\Python\\Python312\\site-packages\\librosa\\core\\spectrum.py:266: UserWarning: n_fft=1024 is too large for input signal of length=677\n",
      "  warnings.warn(\n"
     ]
    },
    {
     "name": "stdout",
     "output_type": "stream",
     "text": [
      "D:/Project_TH_2/Data_set/train\\OAF_tough_happy.wav\n",
      "D:/Project_TH_2/Data_set/train\\OAF_tough_neutral.wav\n",
      "D:/Project_TH_2/Data_set/train\\OAF_tough_ps.wav\n",
      "D:/Project_TH_2/Data_set/train\\OAF_tough_sad.wav\n",
      "D:/Project_TH_2/Data_set/train\\OAF_turn_angry.wav\n",
      "D:/Project_TH_2/Data_set/train\\OAF_turn_disgust.wav\n",
      "D:/Project_TH_2/Data_set/train\\OAF_turn_fear.wav\n",
      "D:/Project_TH_2/Data_set/train\\OAF_turn_happy.wav\n"
     ]
    },
    {
     "name": "stderr",
     "output_type": "stream",
     "text": [
      "C:\\Users\\Admin\\AppData\\Roaming\\Python\\Python312\\site-packages\\librosa\\core\\spectrum.py:266: UserWarning: n_fft=1024 is too large for input signal of length=693\n",
      "  warnings.warn(\n"
     ]
    },
    {
     "name": "stdout",
     "output_type": "stream",
     "text": [
      "D:/Project_TH_2/Data_set/train\\OAF_turn_neutral.wav\n",
      "D:/Project_TH_2/Data_set/train\\OAF_turn_ps.wav\n"
     ]
    },
    {
     "name": "stderr",
     "output_type": "stream",
     "text": [
      "C:\\Users\\Admin\\AppData\\Roaming\\Python\\Python312\\site-packages\\librosa\\core\\spectrum.py:266: UserWarning: n_fft=1024 is too large for input signal of length=645\n",
      "  warnings.warn(\n",
      "C:\\Users\\Admin\\AppData\\Roaming\\Python\\Python312\\site-packages\\librosa\\core\\spectrum.py:266: UserWarning: n_fft=1024 is too large for input signal of length=872\n",
      "  warnings.warn(\n"
     ]
    },
    {
     "name": "stdout",
     "output_type": "stream",
     "text": [
      "D:/Project_TH_2/Data_set/train\\OAF_turn_sad.wav\n",
      "D:/Project_TH_2/Data_set/train\\OAF_vine_angry.wav\n",
      "D:/Project_TH_2/Data_set/train\\OAF_vine_disgust.wav\n",
      "D:/Project_TH_2/Data_set/train\\OAF_vine_fear.wav\n",
      "D:/Project_TH_2/Data_set/train\\OAF_vine_happy.wav\n",
      "D:/Project_TH_2/Data_set/train\\OAF_vine_neutral.wav\n",
      "D:/Project_TH_2/Data_set/train\\OAF_vine_ps.wav\n",
      "D:/Project_TH_2/Data_set/train\\OAF_vine_sad.wav\n"
     ]
    },
    {
     "name": "stderr",
     "output_type": "stream",
     "text": [
      "C:\\Users\\Admin\\AppData\\Roaming\\Python\\Python312\\site-packages\\librosa\\core\\spectrum.py:266: UserWarning: n_fft=1024 is too large for input signal of length=548\n",
      "  warnings.warn(\n"
     ]
    },
    {
     "name": "stdout",
     "output_type": "stream",
     "text": [
      "D:/Project_TH_2/Data_set/train\\OAF_voice_angry.wav\n",
      "D:/Project_TH_2/Data_set/train\\OAF_voice_disgust.wav\n",
      "D:/Project_TH_2/Data_set/train\\OAF_voice_fear.wav\n",
      "D:/Project_TH_2/Data_set/train\\OAF_voice_happy.wav\n",
      "D:/Project_TH_2/Data_set/train\\OAF_voice_neutral.wav\n",
      "D:/Project_TH_2/Data_set/train\\OAF_voice_ps.wav\n",
      "D:/Project_TH_2/Data_set/train\\OAF_voice_sad.wav\n",
      "D:/Project_TH_2/Data_set/train\\OAF_void_angry.wav\n",
      "D:/Project_TH_2/Data_set/train\\OAF_void_disgust.wav\n"
     ]
    },
    {
     "name": "stderr",
     "output_type": "stream",
     "text": [
      "C:\\Users\\Admin\\AppData\\Roaming\\Python\\Python312\\site-packages\\librosa\\core\\spectrum.py:266: UserWarning: n_fft=1024 is too large for input signal of length=594\n",
      "  warnings.warn(\n"
     ]
    },
    {
     "name": "stdout",
     "output_type": "stream",
     "text": [
      "D:/Project_TH_2/Data_set/train\\OAF_void_fear.wav\n",
      "D:/Project_TH_2/Data_set/train\\OAF_void_happy.wav\n",
      "D:/Project_TH_2/Data_set/train\\OAF_void_neutral.wav\n",
      "D:/Project_TH_2/Data_set/train\\OAF_void_ps.wav\n"
     ]
    },
    {
     "name": "stderr",
     "output_type": "stream",
     "text": [
      "C:\\Users\\Admin\\AppData\\Roaming\\Python\\Python312\\site-packages\\librosa\\core\\spectrum.py:266: UserWarning: n_fft=1024 is too large for input signal of length=887\n",
      "  warnings.warn(\n"
     ]
    },
    {
     "name": "stdout",
     "output_type": "stream",
     "text": [
      "D:/Project_TH_2/Data_set/train\\OAF_void_sad.wav\n",
      "D:/Project_TH_2/Data_set/train\\OAF_vote_angry.wav\n",
      "D:/Project_TH_2/Data_set/train\\OAF_vote_disgust.wav\n",
      "D:/Project_TH_2/Data_set/train\\OAF_vote_fear.wav\n",
      "D:/Project_TH_2/Data_set/train\\OAF_vote_happy.wav\n",
      "D:/Project_TH_2/Data_set/train\\OAF_vote_neutral.wav\n"
     ]
    },
    {
     "name": "stderr",
     "output_type": "stream",
     "text": [
      "C:\\Users\\Admin\\AppData\\Roaming\\Python\\Python312\\site-packages\\librosa\\core\\spectrum.py:266: UserWarning: n_fft=1024 is too large for input signal of length=808\n",
      "  warnings.warn(\n"
     ]
    },
    {
     "name": "stdout",
     "output_type": "stream",
     "text": [
      "D:/Project_TH_2/Data_set/train\\OAF_vote_ps.wav\n",
      "D:/Project_TH_2/Data_set/train\\OAF_vote_sad.wav\n",
      "D:/Project_TH_2/Data_set/train\\OAF_wag_angry.wav\n",
      "D:/Project_TH_2/Data_set/train\\OAF_wag_disgust.wav\n",
      "D:/Project_TH_2/Data_set/train\\OAF_wag_fear.wav\n",
      "D:/Project_TH_2/Data_set/train\\OAF_wag_happy.wav\n",
      "D:/Project_TH_2/Data_set/train\\OAF_wag_neutral.wav\n",
      "D:/Project_TH_2/Data_set/train\\OAF_wag_ps.wav\n",
      "D:/Project_TH_2/Data_set/train\\OAF_wag_sad.wav\n",
      "D:/Project_TH_2/Data_set/train\\OAF_walk_angry.wav\n",
      "D:/Project_TH_2/Data_set/train\\OAF_walk_disgust.wav\n",
      "D:/Project_TH_2/Data_set/train\\OAF_walk_fear.wav\n",
      "D:/Project_TH_2/Data_set/train\\OAF_walk_happy.wav\n",
      "D:/Project_TH_2/Data_set/train\\OAF_walk_neutral.wav\n"
     ]
    },
    {
     "name": "stderr",
     "output_type": "stream",
     "text": [
      "C:\\Users\\Admin\\AppData\\Roaming\\Python\\Python312\\site-packages\\librosa\\core\\spectrum.py:266: UserWarning: n_fft=1024 is too large for input signal of length=788\n",
      "  warnings.warn(\n"
     ]
    },
    {
     "name": "stdout",
     "output_type": "stream",
     "text": [
      "D:/Project_TH_2/Data_set/train\\OAF_walk_ps.wav\n",
      "D:/Project_TH_2/Data_set/train\\OAF_walk_sad.wav\n",
      "D:/Project_TH_2/Data_set/train\\OAF_wash_angry.wav\n"
     ]
    },
    {
     "name": "stderr",
     "output_type": "stream",
     "text": [
      "C:\\Users\\Admin\\AppData\\Roaming\\Python\\Python312\\site-packages\\librosa\\core\\spectrum.py:266: UserWarning: n_fft=1024 is too large for input signal of length=833\n",
      "  warnings.warn(\n"
     ]
    },
    {
     "name": "stdout",
     "output_type": "stream",
     "text": [
      "D:/Project_TH_2/Data_set/train\\OAF_wash_disgust.wav\n",
      "D:/Project_TH_2/Data_set/train\\OAF_wash_fear.wav\n",
      "D:/Project_TH_2/Data_set/train\\OAF_wash_happy.wav\n",
      "D:/Project_TH_2/Data_set/train\\OAF_wash_neutral.wav\n",
      "D:/Project_TH_2/Data_set/train\\OAF_wash_ps.wav\n",
      "D:/Project_TH_2/Data_set/train\\OAF_wash_sad.wav\n",
      "D:/Project_TH_2/Data_set/train\\OAF_week_angry.wav\n",
      "D:/Project_TH_2/Data_set/train\\OAF_week_disgust.wav\n",
      "D:/Project_TH_2/Data_set/train\\OAF_week_fear.wav\n",
      "D:/Project_TH_2/Data_set/train\\OAF_week_happy.wav\n",
      "D:/Project_TH_2/Data_set/train\\OAF_week_neutral.wav\n",
      "D:/Project_TH_2/Data_set/train\\OAF_week_ps.wav\n",
      "D:/Project_TH_2/Data_set/train\\OAF_week_sad.wav\n",
      "D:/Project_TH_2/Data_set/train\\OAF_wheat_angry.wav\n",
      "D:/Project_TH_2/Data_set/train\\OAF_wheat_disgust.wav\n"
     ]
    },
    {
     "name": "stderr",
     "output_type": "stream",
     "text": [
      "C:\\Users\\Admin\\AppData\\Roaming\\Python\\Python312\\site-packages\\librosa\\core\\spectrum.py:266: UserWarning: n_fft=1024 is too large for input signal of length=942\n",
      "  warnings.warn(\n",
      "C:\\Users\\Admin\\AppData\\Roaming\\Python\\Python312\\site-packages\\librosa\\core\\spectrum.py:266: UserWarning: n_fft=1024 is too large for input signal of length=471\n",
      "  warnings.warn(\n"
     ]
    },
    {
     "name": "stdout",
     "output_type": "stream",
     "text": [
      "D:/Project_TH_2/Data_set/train\\OAF_wheat_fear.wav\n",
      "D:/Project_TH_2/Data_set/train\\OAF_wheat_happy.wav\n",
      "D:/Project_TH_2/Data_set/train\\OAF_wheat_neutral.wav\n",
      "D:/Project_TH_2/Data_set/train\\OAF_wheat_ps.wav\n",
      "D:/Project_TH_2/Data_set/train\\OAF_wheat_sad.wav\n",
      "D:/Project_TH_2/Data_set/train\\OAF_when_angry.wav\n",
      "D:/Project_TH_2/Data_set/train\\OAF_when_disgust.wav\n",
      "D:/Project_TH_2/Data_set/train\\OAF_when_fear.wav\n",
      "D:/Project_TH_2/Data_set/train\\OAF_when_happy.wav\n",
      "D:/Project_TH_2/Data_set/train\\OAF_when_neutral.wav\n",
      "D:/Project_TH_2/Data_set/train\\OAF_when_ps.wav\n",
      "D:/Project_TH_2/Data_set/train\\OAF_when_sad.wav\n",
      "D:/Project_TH_2/Data_set/train\\OAF_which_angry.wav\n",
      "D:/Project_TH_2/Data_set/train\\OAF_which_disgust.wav\n",
      "D:/Project_TH_2/Data_set/train\\OAF_which_fear.wav\n",
      "D:/Project_TH_2/Data_set/train\\OAF_which_happy.wav\n",
      "D:/Project_TH_2/Data_set/train\\OAF_which_neutral.wav\n",
      "D:/Project_TH_2/Data_set/train\\OAF_which_ps.wav\n",
      "D:/Project_TH_2/Data_set/train\\OAF_which_sad.wav\n"
     ]
    },
    {
     "name": "stderr",
     "output_type": "stream",
     "text": [
      "C:\\Users\\Admin\\AppData\\Roaming\\Python\\Python312\\site-packages\\librosa\\core\\spectrum.py:266: UserWarning: n_fft=1024 is too large for input signal of length=444\n",
      "  warnings.warn(\n"
     ]
    },
    {
     "name": "stdout",
     "output_type": "stream",
     "text": [
      "D:/Project_TH_2/Data_set/train\\OAF_whip_angry.wav\n",
      "D:/Project_TH_2/Data_set/train\\OAF_whip_disgust.wav\n",
      "D:/Project_TH_2/Data_set/train\\OAF_whip_fear.wav\n",
      "D:/Project_TH_2/Data_set/train\\OAF_whip_happy.wav\n"
     ]
    },
    {
     "name": "stderr",
     "output_type": "stream",
     "text": [
      "C:\\Users\\Admin\\AppData\\Roaming\\Python\\Python312\\site-packages\\librosa\\core\\spectrum.py:266: UserWarning: n_fft=1024 is too large for input signal of length=672\n",
      "  warnings.warn(\n"
     ]
    },
    {
     "name": "stdout",
     "output_type": "stream",
     "text": [
      "D:/Project_TH_2/Data_set/train\\OAF_whip_neutral.wav\n",
      "D:/Project_TH_2/Data_set/train\\OAF_whip_ps.wav\n",
      "D:/Project_TH_2/Data_set/train\\OAF_whip_sad.wav\n",
      "D:/Project_TH_2/Data_set/train\\OAF_white_angry.wav\n"
     ]
    },
    {
     "name": "stderr",
     "output_type": "stream",
     "text": [
      "C:\\Users\\Admin\\AppData\\Roaming\\Python\\Python312\\site-packages\\librosa\\core\\spectrum.py:266: UserWarning: n_fft=1024 is too large for input signal of length=1018\n",
      "  warnings.warn(\n"
     ]
    },
    {
     "name": "stdout",
     "output_type": "stream",
     "text": [
      "D:/Project_TH_2/Data_set/train\\OAF_white_disgust.wav\n",
      "D:/Project_TH_2/Data_set/train\\OAF_white_fear.wav\n",
      "D:/Project_TH_2/Data_set/train\\OAF_white_happy.wav\n",
      "D:/Project_TH_2/Data_set/train\\OAF_white_neutral.wav\n",
      "D:/Project_TH_2/Data_set/train\\OAF_white_ps.wav\n",
      "D:/Project_TH_2/Data_set/train\\OAF_white_sad.wav\n",
      "D:/Project_TH_2/Data_set/train\\OAF_wife_angry.wav\n",
      "D:/Project_TH_2/Data_set/train\\OAF_wife_disgust.wav\n",
      "D:/Project_TH_2/Data_set/train\\OAF_wife_fear.wav\n",
      "D:/Project_TH_2/Data_set/train\\OAF_wife_happy.wav\n",
      "D:/Project_TH_2/Data_set/train\\OAF_wife_neutral.wav\n",
      "D:/Project_TH_2/Data_set/train\\OAF_wife_ps.wav\n",
      "D:/Project_TH_2/Data_set/train\\OAF_wife_sad.wav\n",
      "D:/Project_TH_2/Data_set/train\\OAF_wire_angry.wav\n"
     ]
    },
    {
     "name": "stderr",
     "output_type": "stream",
     "text": [
      "C:\\Users\\Admin\\AppData\\Roaming\\Python\\Python312\\site-packages\\librosa\\core\\spectrum.py:266: UserWarning: n_fft=1024 is too large for input signal of length=779\n",
      "  warnings.warn(\n"
     ]
    },
    {
     "name": "stdout",
     "output_type": "stream",
     "text": [
      "D:/Project_TH_2/Data_set/train\\OAF_wire_disgust.wav\n",
      "D:/Project_TH_2/Data_set/train\\OAF_wire_fear.wav\n",
      "D:/Project_TH_2/Data_set/train\\OAF_wire_happy.wav\n",
      "D:/Project_TH_2/Data_set/train\\OAF_wire_neutral.wav\n",
      "D:/Project_TH_2/Data_set/train\\OAF_wire_ps.wav\n"
     ]
    },
    {
     "name": "stderr",
     "output_type": "stream",
     "text": [
      "C:\\Users\\Admin\\AppData\\Roaming\\Python\\Python312\\site-packages\\librosa\\core\\spectrum.py:266: UserWarning: n_fft=1024 is too large for input signal of length=918\n",
      "  warnings.warn(\n"
     ]
    },
    {
     "name": "stdout",
     "output_type": "stream",
     "text": [
      "D:/Project_TH_2/Data_set/train\\OAF_wire_sad.wav\n",
      "D:/Project_TH_2/Data_set/train\\OAF_witch_angry.wav\n",
      "D:/Project_TH_2/Data_set/train\\OAF_witch_disgust.wav\n",
      "D:/Project_TH_2/Data_set/train\\OAF_witch_fear.wav\n"
     ]
    },
    {
     "name": "stderr",
     "output_type": "stream",
     "text": [
      "C:\\Users\\Admin\\AppData\\Roaming\\Python\\Python312\\site-packages\\librosa\\core\\spectrum.py:266: UserWarning: n_fft=1024 is too large for input signal of length=614\n",
      "  warnings.warn(\n"
     ]
    },
    {
     "name": "stdout",
     "output_type": "stream",
     "text": [
      "D:/Project_TH_2/Data_set/train\\OAF_witch_happy.wav\n",
      "D:/Project_TH_2/Data_set/train\\OAF_witch_neutral.wav\n",
      "D:/Project_TH_2/Data_set/train\\OAF_witch_ps.wav\n",
      "D:/Project_TH_2/Data_set/train\\OAF_witch_sad.wav\n",
      "D:/Project_TH_2/Data_set/train\\OAF_yearn_angry.wav\n"
     ]
    },
    {
     "name": "stderr",
     "output_type": "stream",
     "text": [
      "C:\\Users\\Admin\\AppData\\Roaming\\Python\\Python312\\site-packages\\librosa\\core\\spectrum.py:266: UserWarning: n_fft=1024 is too large for input signal of length=561\n",
      "  warnings.warn(\n"
     ]
    },
    {
     "name": "stdout",
     "output_type": "stream",
     "text": [
      "D:/Project_TH_2/Data_set/train\\OAF_yearn_disgust.wav\n",
      "D:/Project_TH_2/Data_set/train\\OAF_yearn_fear.wav\n"
     ]
    },
    {
     "name": "stderr",
     "output_type": "stream",
     "text": [
      "C:\\Users\\Admin\\AppData\\Roaming\\Python\\Python312\\site-packages\\librosa\\core\\spectrum.py:266: UserWarning: n_fft=1024 is too large for input signal of length=962\n",
      "  warnings.warn(\n",
      "C:\\Users\\Admin\\AppData\\Roaming\\Python\\Python312\\site-packages\\librosa\\core\\spectrum.py:266: UserWarning: n_fft=1024 is too large for input signal of length=481\n",
      "  warnings.warn(\n"
     ]
    },
    {
     "name": "stdout",
     "output_type": "stream",
     "text": [
      "D:/Project_TH_2/Data_set/train\\OAF_yearn_happy.wav\n",
      "D:/Project_TH_2/Data_set/train\\OAF_yearn_neutral.wav\n",
      "D:/Project_TH_2/Data_set/train\\OAF_yearn_ps.wav\n",
      "D:/Project_TH_2/Data_set/train\\OAF_yearn_sad.wav\n",
      "D:/Project_TH_2/Data_set/train\\OAF_yes_angry.wav\n"
     ]
    },
    {
     "name": "stderr",
     "output_type": "stream",
     "text": [
      "C:\\Users\\Admin\\AppData\\Roaming\\Python\\Python312\\site-packages\\librosa\\core\\spectrum.py:266: UserWarning: n_fft=1024 is too large for input signal of length=890\n",
      "  warnings.warn(\n"
     ]
    },
    {
     "name": "stdout",
     "output_type": "stream",
     "text": [
      "D:/Project_TH_2/Data_set/train\\OAF_yes_disgust.wav\n",
      "D:/Project_TH_2/Data_set/train\\OAF_yes_fear.wav\n",
      "D:/Project_TH_2/Data_set/train\\OAF_yes_happy.wav\n",
      "D:/Project_TH_2/Data_set/train\\OAF_yes_neutral.wav\n",
      "D:/Project_TH_2/Data_set/train\\OAF_yes_ps.wav\n"
     ]
    },
    {
     "name": "stderr",
     "output_type": "stream",
     "text": [
      "C:\\Users\\Admin\\AppData\\Roaming\\Python\\Python312\\site-packages\\librosa\\core\\spectrum.py:266: UserWarning: n_fft=1024 is too large for input signal of length=893\n",
      "  warnings.warn(\n"
     ]
    },
    {
     "name": "stdout",
     "output_type": "stream",
     "text": [
      "D:/Project_TH_2/Data_set/train\\OAF_yes_sad.wav\n",
      "D:/Project_TH_2/Data_set/train\\OAF_young_angry.wav\n",
      "D:/Project_TH_2/Data_set/train\\OAF_young_disgust.wav\n",
      "D:/Project_TH_2/Data_set/train\\OAF_young_fear.wav\n",
      "D:/Project_TH_2/Data_set/train\\OAF_young_happy.wav\n",
      "D:/Project_TH_2/Data_set/train\\OAF_young_neutral.wav\n"
     ]
    },
    {
     "name": "stderr",
     "output_type": "stream",
     "text": [
      "C:\\Users\\Admin\\AppData\\Roaming\\Python\\Python312\\site-packages\\librosa\\core\\spectrum.py:266: UserWarning: n_fft=1024 is too large for input signal of length=638\n",
      "  warnings.warn(\n"
     ]
    },
    {
     "name": "stdout",
     "output_type": "stream",
     "text": [
      "D:/Project_TH_2/Data_set/train\\OAF_young_ps.wav\n",
      "D:/Project_TH_2/Data_set/train\\OAF_young_sad.wav\n",
      "D:/Project_TH_2/Data_set/train\\OAF_youth_angry.wav\n",
      "D:/Project_TH_2/Data_set/train\\OAF_youth_disgust.wav\n"
     ]
    },
    {
     "name": "stderr",
     "output_type": "stream",
     "text": [
      "C:\\Users\\Admin\\AppData\\Roaming\\Python\\Python312\\site-packages\\librosa\\core\\spectrum.py:266: UserWarning: n_fft=1024 is too large for input signal of length=605\n",
      "  warnings.warn(\n"
     ]
    },
    {
     "name": "stdout",
     "output_type": "stream",
     "text": [
      "D:/Project_TH_2/Data_set/train\\OAF_youth_fear.wav\n",
      "D:/Project_TH_2/Data_set/train\\OAF_youth_happy.wav\n",
      "D:/Project_TH_2/Data_set/train\\OAF_youth_neutral.wav\n",
      "D:/Project_TH_2/Data_set/train\\OAF_youth_ps.wav\n"
     ]
    },
    {
     "name": "stderr",
     "output_type": "stream",
     "text": [
      "C:\\Users\\Admin\\AppData\\Roaming\\Python\\Python312\\site-packages\\librosa\\core\\spectrum.py:266: UserWarning: n_fft=1024 is too large for input signal of length=927\n",
      "  warnings.warn(\n"
     ]
    },
    {
     "name": "stdout",
     "output_type": "stream",
     "text": [
      "D:/Project_TH_2/Data_set/train\\OAF_youth_sad.wav\n",
      "D:/Project_TH_2/Data_set/train\\YAF_fat_angry.wav\n",
      "D:/Project_TH_2/Data_set/train\\YAF_fat_disgust.wav\n",
      "D:/Project_TH_2/Data_set/train\\YAF_fat_fear.wav\n",
      "D:/Project_TH_2/Data_set/train\\YAF_fat_happy.wav\n",
      "D:/Project_TH_2/Data_set/train\\YAF_fat_neutral.wav\n",
      "D:/Project_TH_2/Data_set/train\\YAF_fat_ps.wav\n",
      "D:/Project_TH_2/Data_set/train\\YAF_fat_sad.wav\n",
      "D:/Project_TH_2/Data_set/train\\YAF_fit_angry.wav\n",
      "D:/Project_TH_2/Data_set/train\\YAF_fit_disgust.wav\n",
      "D:/Project_TH_2/Data_set/train\\YAF_fit_fear.wav\n"
     ]
    },
    {
     "name": "stderr",
     "output_type": "stream",
     "text": [
      "C:\\Users\\Admin\\AppData\\Roaming\\Python\\Python312\\site-packages\\librosa\\core\\spectrum.py:266: UserWarning: n_fft=1024 is too large for input signal of length=623\n",
      "  warnings.warn(\n"
     ]
    },
    {
     "name": "stdout",
     "output_type": "stream",
     "text": [
      "D:/Project_TH_2/Data_set/train\\YAF_fit_happy.wav\n",
      "D:/Project_TH_2/Data_set/train\\YAF_fit_neutral.wav\n",
      "D:/Project_TH_2/Data_set/train\\YAF_fit_ps.wav\n",
      "D:/Project_TH_2/Data_set/train\\YAF_fit_sad.wav\n",
      "D:/Project_TH_2/Data_set/train\\YAF_five_angry.wav\n"
     ]
    },
    {
     "name": "stderr",
     "output_type": "stream",
     "text": [
      "C:\\Users\\Admin\\AppData\\Roaming\\Python\\Python312\\site-packages\\librosa\\core\\spectrum.py:266: UserWarning: n_fft=1024 is too large for input signal of length=877\n",
      "  warnings.warn(\n"
     ]
    },
    {
     "name": "stdout",
     "output_type": "stream",
     "text": [
      "D:/Project_TH_2/Data_set/train\\YAF_five_disgust.wav\n",
      "D:/Project_TH_2/Data_set/train\\YAF_five_fear.wav\n",
      "D:/Project_TH_2/Data_set/train\\YAF_five_happy.wav\n",
      "D:/Project_TH_2/Data_set/train\\YAF_five_neutral.wav\n",
      "D:/Project_TH_2/Data_set/train\\YAF_five_ps.wav\n",
      "D:/Project_TH_2/Data_set/train\\YAF_five_sad.wav\n",
      "D:/Project_TH_2/Data_set/train\\YAF_food_angry.wav\n",
      "D:/Project_TH_2/Data_set/train\\YAF_food_disgust.wav\n",
      "D:/Project_TH_2/Data_set/train\\YAF_food_fear.wav\n",
      "D:/Project_TH_2/Data_set/train\\YAF_food_happy.wav\n",
      "D:/Project_TH_2/Data_set/train\\YAF_food_neutral.wav\n",
      "D:/Project_TH_2/Data_set/train\\YAF_food_ps.wav\n",
      "D:/Project_TH_2/Data_set/train\\YAF_food_sad.wav\n",
      "D:/Project_TH_2/Data_set/train\\YAF_gap_angry.wav\n",
      "D:/Project_TH_2/Data_set/train\\YAF_gap_disgust.wav\n",
      "D:/Project_TH_2/Data_set/train\\YAF_gap_fear.wav\n",
      "D:/Project_TH_2/Data_set/train\\YAF_gap_happy.wav\n",
      "D:/Project_TH_2/Data_set/train\\YAF_gap_neutral.wav\n",
      "D:/Project_TH_2/Data_set/train\\YAF_gap_ps.wav\n",
      "D:/Project_TH_2/Data_set/train\\YAF_gap_sad.wav\n",
      "D:/Project_TH_2/Data_set/train\\YAF_gas_angry.wav\n",
      "D:/Project_TH_2/Data_set/train\\YAF_gas_disgust.wav\n",
      "D:/Project_TH_2/Data_set/train\\YAF_gas_fear.wav\n",
      "D:/Project_TH_2/Data_set/train\\YAF_gas_happy.wav\n",
      "D:/Project_TH_2/Data_set/train\\YAF_gas_neutral.wav\n",
      "D:/Project_TH_2/Data_set/train\\YAF_gas_ps.wav\n",
      "D:/Project_TH_2/Data_set/train\\YAF_gas_sad.wav\n",
      "D:/Project_TH_2/Data_set/train\\YAF_gaze_angry.wav\n",
      "D:/Project_TH_2/Data_set/train\\YAF_gaze_disgust.wav\n",
      "D:/Project_TH_2/Data_set/train\\YAF_gaze_fear.wav\n",
      "D:/Project_TH_2/Data_set/train\\YAF_gaze_happy.wav\n",
      "D:/Project_TH_2/Data_set/train\\YAF_gaze_neutral.wav\n",
      "D:/Project_TH_2/Data_set/train\\YAF_gaze_ps.wav\n",
      "D:/Project_TH_2/Data_set/train\\YAF_gaze_sad.wav\n",
      "D:/Project_TH_2/Data_set/train\\YAF_germ_angry.wav\n"
     ]
    },
    {
     "name": "stderr",
     "output_type": "stream",
     "text": [
      "C:\\Users\\Admin\\AppData\\Roaming\\Python\\Python312\\site-packages\\librosa\\core\\spectrum.py:266: UserWarning: n_fft=1024 is too large for input signal of length=905\n",
      "  warnings.warn(\n"
     ]
    },
    {
     "name": "stdout",
     "output_type": "stream",
     "text": [
      "D:/Project_TH_2/Data_set/train\\YAF_germ_disgust.wav\n",
      "D:/Project_TH_2/Data_set/train\\YAF_germ_fear.wav\n",
      "D:/Project_TH_2/Data_set/train\\YAF_germ_happy.wav\n",
      "D:/Project_TH_2/Data_set/train\\YAF_germ_neutral.wav\n"
     ]
    },
    {
     "name": "stderr",
     "output_type": "stream",
     "text": [
      "C:\\Users\\Admin\\AppData\\Roaming\\Python\\Python312\\site-packages\\librosa\\core\\spectrum.py:266: UserWarning: n_fft=1024 is too large for input signal of length=626\n",
      "  warnings.warn(\n",
      "C:\\Users\\Admin\\AppData\\Roaming\\Python\\Python312\\site-packages\\librosa\\core\\spectrum.py:266: UserWarning: n_fft=1024 is too large for input signal of length=787\n",
      "  warnings.warn(\n"
     ]
    },
    {
     "name": "stdout",
     "output_type": "stream",
     "text": [
      "D:/Project_TH_2/Data_set/train\\YAF_germ_ps.wav\n",
      "D:/Project_TH_2/Data_set/train\\YAF_germ_sad.wav\n",
      "D:/Project_TH_2/Data_set/train\\YAF_get_angry.wav\n",
      "D:/Project_TH_2/Data_set/train\\YAF_get_disgust.wav\n",
      "D:/Project_TH_2/Data_set/train\\YAF_get_fear.wav\n",
      "D:/Project_TH_2/Data_set/train\\YAF_get_happy.wav\n",
      "D:/Project_TH_2/Data_set/train\\YAF_get_neutral.wav\n",
      "D:/Project_TH_2/Data_set/train\\YAF_get_ps.wav\n",
      "D:/Project_TH_2/Data_set/train\\YAF_get_sad.wav\n",
      "D:/Project_TH_2/Data_set/train\\YAF_gin_angry.wav\n",
      "D:/Project_TH_2/Data_set/train\\YAF_gin_disgust.wav\n",
      "D:/Project_TH_2/Data_set/train\\YAF_gin_fear.wav\n",
      "D:/Project_TH_2/Data_set/train\\YAF_gin_happy.wav\n",
      "D:/Project_TH_2/Data_set/train\\YAF_gin_neutral.wav\n",
      "D:/Project_TH_2/Data_set/train\\YAF_gin_ps.wav\n",
      "D:/Project_TH_2/Data_set/train\\YAF_gin_sad.wav\n",
      "D:/Project_TH_2/Data_set/train\\YAF_goal_angry.wav\n",
      "D:/Project_TH_2/Data_set/train\\YAF_goal_disgust.wav\n"
     ]
    },
    {
     "name": "stderr",
     "output_type": "stream",
     "text": [
      "C:\\Users\\Admin\\AppData\\Roaming\\Python\\Python312\\site-packages\\librosa\\core\\spectrum.py:266: UserWarning: n_fft=1024 is too large for input signal of length=601\n",
      "  warnings.warn(\n"
     ]
    },
    {
     "name": "stdout",
     "output_type": "stream",
     "text": [
      "D:/Project_TH_2/Data_set/train\\YAF_goal_fear.wav\n",
      "D:/Project_TH_2/Data_set/train\\YAF_goal_happy.wav\n",
      "D:/Project_TH_2/Data_set/train\\YAF_goal_neutral.wav\n",
      "D:/Project_TH_2/Data_set/train\\YAF_goal_ps.wav\n",
      "D:/Project_TH_2/Data_set/train\\YAF_goal_sad.wav\n",
      "D:/Project_TH_2/Data_set/train\\YAF_good_angry.wav\n",
      "D:/Project_TH_2/Data_set/train\\YAF_good_disgust.wav\n",
      "D:/Project_TH_2/Data_set/train\\YAF_good_fear.wav\n",
      "D:/Project_TH_2/Data_set/train\\YAF_good_happy.wav\n",
      "D:/Project_TH_2/Data_set/train\\YAF_good_neutral.wav\n",
      "D:/Project_TH_2/Data_set/train\\YAF_good_ps.wav\n"
     ]
    },
    {
     "name": "stderr",
     "output_type": "stream",
     "text": [
      "C:\\Users\\Admin\\AppData\\Roaming\\Python\\Python312\\site-packages\\librosa\\core\\spectrum.py:266: UserWarning: n_fft=1024 is too large for input signal of length=777\n",
      "  warnings.warn(\n"
     ]
    },
    {
     "name": "stdout",
     "output_type": "stream",
     "text": [
      "D:/Project_TH_2/Data_set/train\\YAF_good_sad.wav\n",
      "D:/Project_TH_2/Data_set/train\\YAF_goose_angry.wav\n",
      "D:/Project_TH_2/Data_set/train\\YAF_goose_disgust.wav\n",
      "D:/Project_TH_2/Data_set/train\\YAF_goose_fear.wav\n"
     ]
    },
    {
     "name": "stderr",
     "output_type": "stream",
     "text": [
      "C:\\Users\\Admin\\AppData\\Roaming\\Python\\Python312\\site-packages\\librosa\\core\\spectrum.py:266: UserWarning: n_fft=1024 is too large for input signal of length=1020\n",
      "  warnings.warn(\n",
      "C:\\Users\\Admin\\AppData\\Roaming\\Python\\Python312\\site-packages\\librosa\\core\\spectrum.py:266: UserWarning: n_fft=1024 is too large for input signal of length=510\n",
      "  warnings.warn(\n"
     ]
    },
    {
     "name": "stdout",
     "output_type": "stream",
     "text": [
      "D:/Project_TH_2/Data_set/train\\YAF_goose_happy.wav\n",
      "D:/Project_TH_2/Data_set/train\\YAF_goose_neutral.wav\n",
      "D:/Project_TH_2/Data_set/train\\YAF_goose_ps.wav\n",
      "D:/Project_TH_2/Data_set/train\\YAF_goose_sad.wav\n",
      "D:/Project_TH_2/Data_set/train\\YAF_gun_angry.wav\n",
      "D:/Project_TH_2/Data_set/train\\YAF_gun_disgust.wav\n",
      "D:/Project_TH_2/Data_set/train\\YAF_gun_fear.wav\n",
      "D:/Project_TH_2/Data_set/train\\YAF_gun_happy.wav\n",
      "D:/Project_TH_2/Data_set/train\\YAF_gun_neutral.wav\n",
      "D:/Project_TH_2/Data_set/train\\YAF_gun_ps.wav\n",
      "D:/Project_TH_2/Data_set/train\\YAF_gun_sad.wav\n",
      "D:/Project_TH_2/Data_set/train\\YAF_half_angry.wav\n",
      "D:/Project_TH_2/Data_set/train\\YAF_half_disgust.wav\n",
      "D:/Project_TH_2/Data_set/train\\YAF_half_fear.wav\n",
      "D:/Project_TH_2/Data_set/train\\YAF_half_happy.wav\n",
      "D:/Project_TH_2/Data_set/train\\YAF_half_neutral.wav\n"
     ]
    },
    {
     "name": "stderr",
     "output_type": "stream",
     "text": [
      "C:\\Users\\Admin\\AppData\\Roaming\\Python\\Python312\\site-packages\\librosa\\core\\spectrum.py:266: UserWarning: n_fft=1024 is too large for input signal of length=659\n",
      "  warnings.warn(\n"
     ]
    },
    {
     "name": "stdout",
     "output_type": "stream",
     "text": [
      "D:/Project_TH_2/Data_set/train\\YAF_half_ps.wav\n",
      "D:/Project_TH_2/Data_set/train\\YAF_half_sad.wav\n",
      "D:/Project_TH_2/Data_set/train\\YAF_hall_angry.wav\n",
      "D:/Project_TH_2/Data_set/train\\YAF_hall_disgust.wav\n",
      "D:/Project_TH_2/Data_set/train\\YAF_hall_fear.wav\n",
      "D:/Project_TH_2/Data_set/train\\YAF_hall_happy.wav\n",
      "D:/Project_TH_2/Data_set/train\\YAF_hall_neutral.wav\n",
      "D:/Project_TH_2/Data_set/train\\YAF_hall_ps.wav\n",
      "D:/Project_TH_2/Data_set/train\\YAF_hall_sad.wav\n",
      "D:/Project_TH_2/Data_set/train\\YAF_hash_angry.wav\n",
      "D:/Project_TH_2/Data_set/train\\YAF_hash_disgust.wav\n",
      "D:/Project_TH_2/Data_set/train\\YAF_hash_fear.wav\n",
      "D:/Project_TH_2/Data_set/train\\YAF_hash_happy.wav\n",
      "D:/Project_TH_2/Data_set/train\\YAF_hash_neutral.wav\n",
      "D:/Project_TH_2/Data_set/train\\YAF_hash_ps.wav\n",
      "D:/Project_TH_2/Data_set/train\\YAF_hash_sad.wav\n",
      "D:/Project_TH_2/Data_set/train\\YAF_hate_angry.wav\n",
      "D:/Project_TH_2/Data_set/train\\YAF_hate_disgust.wav\n",
      "D:/Project_TH_2/Data_set/train\\YAF_hate_fear.wav\n",
      "D:/Project_TH_2/Data_set/train\\YAF_hate_happy.wav\n",
      "D:/Project_TH_2/Data_set/train\\YAF_hate_neutral.wav\n",
      "D:/Project_TH_2/Data_set/train\\YAF_hate_ps.wav\n",
      "D:/Project_TH_2/Data_set/train\\YAF_hate_sad.wav\n",
      "D:/Project_TH_2/Data_set/train\\YAF_have_angry.wav\n",
      "D:/Project_TH_2/Data_set/train\\YAF_have_disgust.wav\n",
      "D:/Project_TH_2/Data_set/train\\YAF_have_fear.wav\n",
      "D:/Project_TH_2/Data_set/train\\YAF_have_happy.wav\n",
      "D:/Project_TH_2/Data_set/train\\YAF_have_neutral.wav\n",
      "D:/Project_TH_2/Data_set/train\\YAF_have_ps.wav\n",
      "D:/Project_TH_2/Data_set/train\\YAF_have_sad.wav\n",
      "D:/Project_TH_2/Data_set/train\\YAF_haze_angry.wav\n",
      "D:/Project_TH_2/Data_set/train\\YAF_haze_disgust.wav\n",
      "D:/Project_TH_2/Data_set/train\\YAF_haze_fear.wav\n",
      "D:/Project_TH_2/Data_set/train\\YAF_haze_happy.wav\n",
      "D:/Project_TH_2/Data_set/train\\YAF_haze_neutral.wav\n",
      "D:/Project_TH_2/Data_set/train\\YAF_haze_ps.wav\n",
      "D:/Project_TH_2/Data_set/train\\YAF_haze_sad.wav\n",
      "D:/Project_TH_2/Data_set/train\\YAF_hire_angry.wav\n",
      "D:/Project_TH_2/Data_set/train\\YAF_hire_disgust.wav\n",
      "D:/Project_TH_2/Data_set/train\\YAF_hire_fear.wav\n",
      "D:/Project_TH_2/Data_set/train\\YAF_hire_happy.wav\n",
      "D:/Project_TH_2/Data_set/train\\YAF_hire_neutral.wav\n",
      "D:/Project_TH_2/Data_set/train\\YAF_hire_ps.wav\n",
      "D:/Project_TH_2/Data_set/train\\YAF_hire_sad.wav\n",
      "D:/Project_TH_2/Data_set/train\\YAF_hit_angry.wav\n",
      "D:/Project_TH_2/Data_set/train\\YAF_hit_disgust.wav\n",
      "D:/Project_TH_2/Data_set/train\\YAF_hit_fear.wav\n",
      "D:/Project_TH_2/Data_set/train\\YAF_hit_happy.wav\n",
      "D:/Project_TH_2/Data_set/train\\YAF_hit_neutral.wav\n",
      "D:/Project_TH_2/Data_set/train\\YAF_hit_ps.wav\n",
      "D:/Project_TH_2/Data_set/train\\YAF_hit_sad.wav\n",
      "D:/Project_TH_2/Data_set/train\\YAF_hole_angry.wav\n",
      "D:/Project_TH_2/Data_set/train\\YAF_hole_disgust.wav\n"
     ]
    },
    {
     "name": "stderr",
     "output_type": "stream",
     "text": [
      "C:\\Users\\Admin\\AppData\\Roaming\\Python\\Python312\\site-packages\\librosa\\core\\spectrum.py:266: UserWarning: n_fft=1024 is too large for input signal of length=637\n",
      "  warnings.warn(\n"
     ]
    },
    {
     "name": "stdout",
     "output_type": "stream",
     "text": [
      "D:/Project_TH_2/Data_set/train\\YAF_hole_fear.wav\n",
      "D:/Project_TH_2/Data_set/train\\YAF_hole_happy.wav\n",
      "D:/Project_TH_2/Data_set/train\\YAF_hole_neutral.wav\n",
      "D:/Project_TH_2/Data_set/train\\YAF_hole_ps.wav\n"
     ]
    },
    {
     "name": "stderr",
     "output_type": "stream",
     "text": [
      "C:\\Users\\Admin\\AppData\\Roaming\\Python\\Python312\\site-packages\\librosa\\core\\spectrum.py:266: UserWarning: n_fft=1024 is too large for input signal of length=781\n",
      "  warnings.warn(\n"
     ]
    },
    {
     "name": "stdout",
     "output_type": "stream",
     "text": [
      "D:/Project_TH_2/Data_set/train\\YAF_hole_sad.wav\n",
      "D:/Project_TH_2/Data_set/train\\YAF_home_angry.wav\n",
      "D:/Project_TH_2/Data_set/train\\YAF_home_disgust.wav\n",
      "D:/Project_TH_2/Data_set/train\\YAF_home_fear.wav\n",
      "D:/Project_TH_2/Data_set/train\\YAF_home_happy.wav\n",
      "D:/Project_TH_2/Data_set/train\\YAF_home_neutral.wav\n",
      "D:/Project_TH_2/Data_set/train\\YAF_home_ps.wav\n",
      "D:/Project_TH_2/Data_set/train\\YAF_home_sad.wav\n",
      "D:/Project_TH_2/Data_set/train\\YAF_hurl_angry.wav\n",
      "D:/Project_TH_2/Data_set/train\\YAF_hurl_disgust.wav\n"
     ]
    },
    {
     "name": "stderr",
     "output_type": "stream",
     "text": [
      "C:\\Users\\Admin\\AppData\\Roaming\\Python\\Python312\\site-packages\\librosa\\core\\spectrum.py:266: UserWarning: n_fft=1024 is too large for input signal of length=953\n",
      "  warnings.warn(\n",
      "C:\\Users\\Admin\\AppData\\Roaming\\Python\\Python312\\site-packages\\librosa\\core\\spectrum.py:266: UserWarning: n_fft=1024 is too large for input signal of length=477\n",
      "  warnings.warn(\n"
     ]
    },
    {
     "name": "stdout",
     "output_type": "stream",
     "text": [
      "D:/Project_TH_2/Data_set/train\\YAF_hurl_fear.wav\n",
      "D:/Project_TH_2/Data_set/train\\YAF_hurl_happy.wav\n",
      "D:/Project_TH_2/Data_set/train\\YAF_hurl_neutral.wav\n",
      "D:/Project_TH_2/Data_set/train\\YAF_hurl_ps.wav\n",
      "D:/Project_TH_2/Data_set/train\\YAF_hurl_sad.wav\n",
      "D:/Project_TH_2/Data_set/train\\YAF_hush_angry.wav\n",
      "D:/Project_TH_2/Data_set/train\\YAF_hush_disgust.wav\n",
      "D:/Project_TH_2/Data_set/train\\YAF_hush_fear.wav\n",
      "D:/Project_TH_2/Data_set/train\\YAF_hush_happy.wav\n",
      "D:/Project_TH_2/Data_set/train\\YAF_hush_neutral.wav\n",
      "D:/Project_TH_2/Data_set/train\\YAF_hush_ps.wav\n",
      "D:/Project_TH_2/Data_set/train\\YAF_hush_sad.wav\n",
      "D:/Project_TH_2/Data_set/train\\YAF_jail_angry.wav\n",
      "D:/Project_TH_2/Data_set/train\\YAF_jail_disgust.wav\n",
      "D:/Project_TH_2/Data_set/train\\YAF_jail_fear.wav\n",
      "D:/Project_TH_2/Data_set/train\\YAF_jail_happy.wav\n",
      "D:/Project_TH_2/Data_set/train\\YAF_jail_neutral.wav\n",
      "D:/Project_TH_2/Data_set/train\\YAF_jail_ps.wav\n",
      "D:/Project_TH_2/Data_set/train\\YAF_jail_sad.wav\n",
      "D:/Project_TH_2/Data_set/train\\YAF_jar_angry.wav\n",
      "D:/Project_TH_2/Data_set/train\\YAF_jar_disgust.wav\n",
      "D:/Project_TH_2/Data_set/train\\YAF_jar_fear.wav\n",
      "D:/Project_TH_2/Data_set/train\\YAF_jar_happy.wav\n",
      "D:/Project_TH_2/Data_set/train\\YAF_jar_neutral.wav\n",
      "D:/Project_TH_2/Data_set/train\\YAF_jar_ps.wav\n",
      "D:/Project_TH_2/Data_set/train\\YAF_jar_sad.wav\n",
      "D:/Project_TH_2/Data_set/train\\YAF_join_angry.wav\n",
      "D:/Project_TH_2/Data_set/train\\YAF_join_disgust.wav\n",
      "D:/Project_TH_2/Data_set/train\\YAF_join_fear.wav\n",
      "D:/Project_TH_2/Data_set/train\\YAF_join_happy.wav\n",
      "D:/Project_TH_2/Data_set/train\\YAF_join_neutral.wav\n",
      "D:/Project_TH_2/Data_set/train\\YAF_join_ps.wav\n",
      "D:/Project_TH_2/Data_set/train\\YAF_join_sad.wav\n",
      "D:/Project_TH_2/Data_set/train\\YAF_judge_angry.wav\n",
      "D:/Project_TH_2/Data_set/train\\YAF_judge_disgust.wav\n",
      "D:/Project_TH_2/Data_set/train\\YAF_judge_fear.wav\n",
      "D:/Project_TH_2/Data_set/train\\YAF_judge_happy.wav\n",
      "D:/Project_TH_2/Data_set/train\\YAF_judge_neutral.wav\n",
      "D:/Project_TH_2/Data_set/train\\YAF_judge_ps.wav\n",
      "D:/Project_TH_2/Data_set/train\\YAF_judge_sad.wav\n",
      "D:/Project_TH_2/Data_set/train\\YAF_jug_angry.wav\n"
     ]
    },
    {
     "name": "stderr",
     "output_type": "stream",
     "text": [
      "C:\\Users\\Admin\\AppData\\Roaming\\Python\\Python312\\site-packages\\librosa\\core\\spectrum.py:266: UserWarning: n_fft=1024 is too large for input signal of length=892\n",
      "  warnings.warn(\n"
     ]
    },
    {
     "name": "stdout",
     "output_type": "stream",
     "text": [
      "D:/Project_TH_2/Data_set/train\\YAF_jug_disgust.wav\n",
      "D:/Project_TH_2/Data_set/train\\YAF_jug_fear.wav\n"
     ]
    },
    {
     "name": "stderr",
     "output_type": "stream",
     "text": [
      "C:\\Users\\Admin\\AppData\\Roaming\\Python\\Python312\\site-packages\\librosa\\core\\spectrum.py:266: UserWarning: n_fft=1024 is too large for input signal of length=625\n",
      "  warnings.warn(\n"
     ]
    },
    {
     "name": "stdout",
     "output_type": "stream",
     "text": [
      "D:/Project_TH_2/Data_set/train\\YAF_jug_happy.wav\n",
      "D:/Project_TH_2/Data_set/train\\YAF_jug_neutral.wav\n",
      "D:/Project_TH_2/Data_set/train\\YAF_jug_ps.wav\n",
      "D:/Project_TH_2/Data_set/train\\YAF_jug_sad.wav\n",
      "D:/Project_TH_2/Data_set/train\\YAF_juice_angry.wav\n"
     ]
    },
    {
     "name": "stderr",
     "output_type": "stream",
     "text": [
      "C:\\Users\\Admin\\AppData\\Roaming\\Python\\Python312\\site-packages\\librosa\\core\\spectrum.py:266: UserWarning: n_fft=1024 is too large for input signal of length=928\n",
      "  warnings.warn(\n"
     ]
    },
    {
     "name": "stdout",
     "output_type": "stream",
     "text": [
      "D:/Project_TH_2/Data_set/train\\YAF_juice_disgust.wav\n",
      "D:/Project_TH_2/Data_set/train\\YAF_juice_fear.wav\n",
      "D:/Project_TH_2/Data_set/train\\YAF_juice_happy.wav\n",
      "D:/Project_TH_2/Data_set/train\\YAF_juice_neutral.wav\n",
      "D:/Project_TH_2/Data_set/train\\YAF_juice_ps.wav\n",
      "D:/Project_TH_2/Data_set/train\\YAF_juice_sad.wav\n",
      "D:/Project_TH_2/Data_set/train\\YAF_keen_angry.wav\n",
      "D:/Project_TH_2/Data_set/train\\YAF_keen_disgust.wav\n",
      "D:/Project_TH_2/Data_set/train\\YAF_keen_fear.wav\n",
      "D:/Project_TH_2/Data_set/train\\YAF_keen_happy.wav\n",
      "D:/Project_TH_2/Data_set/train\\YAF_keen_neutral.wav\n",
      "D:/Project_TH_2/Data_set/train\\YAF_keen_ps.wav\n",
      "D:/Project_TH_2/Data_set/train\\YAF_keen_sad.wav\n",
      "D:/Project_TH_2/Data_set/train\\YAF_keep_angry.wav\n"
     ]
    },
    {
     "name": "stderr",
     "output_type": "stream",
     "text": [
      "C:\\Users\\Admin\\AppData\\Roaming\\Python\\Python312\\site-packages\\librosa\\core\\spectrum.py:266: UserWarning: n_fft=1024 is too large for input signal of length=879\n",
      "  warnings.warn(\n"
     ]
    },
    {
     "name": "stdout",
     "output_type": "stream",
     "text": [
      "D:/Project_TH_2/Data_set/train\\YAF_keep_disgust.wav\n",
      "D:/Project_TH_2/Data_set/train\\YAF_keep_fear.wav\n",
      "D:/Project_TH_2/Data_set/train\\YAF_keep_happy.wav\n",
      "D:/Project_TH_2/Data_set/train\\YAF_keep_neutral.wav\n",
      "D:/Project_TH_2/Data_set/train\\YAF_keep_ps.wav\n",
      "D:/Project_TH_2/Data_set/train\\YAF_keep_sad.wav\n",
      "D:/Project_TH_2/Data_set/train\\YAF_keg_angry.wav\n"
     ]
    },
    {
     "name": "stderr",
     "output_type": "stream",
     "text": [
      "C:\\Users\\Admin\\AppData\\Roaming\\Python\\Python312\\site-packages\\librosa\\core\\spectrum.py:266: UserWarning: n_fft=1024 is too large for input signal of length=912\n",
      "  warnings.warn(\n"
     ]
    },
    {
     "name": "stdout",
     "output_type": "stream",
     "text": [
      "D:/Project_TH_2/Data_set/train\\YAF_keg_disgust.wav\n",
      "D:/Project_TH_2/Data_set/train\\YAF_keg_fear.wav\n",
      "D:/Project_TH_2/Data_set/train\\YAF_keg_happy.wav\n",
      "D:/Project_TH_2/Data_set/train\\YAF_keg_neutral.wav\n",
      "D:/Project_TH_2/Data_set/train\\YAF_keg_ps.wav\n",
      "D:/Project_TH_2/Data_set/train\\YAF_keg_sad.wav\n",
      "D:/Project_TH_2/Data_set/train\\YAF_kick_angry.wav\n",
      "D:/Project_TH_2/Data_set/train\\YAF_kick_disgust.wav\n",
      "D:/Project_TH_2/Data_set/train\\YAF_kick_fear.wav\n",
      "D:/Project_TH_2/Data_set/train\\YAF_kick_happy.wav\n",
      "D:/Project_TH_2/Data_set/train\\YAF_kick_neutral.wav\n",
      "D:/Project_TH_2/Data_set/train\\YAF_kick_ps.wav\n",
      "D:/Project_TH_2/Data_set/train\\YAF_kick_sad.wav\n",
      "D:/Project_TH_2/Data_set/train\\YAF_kill_angry.wav\n"
     ]
    },
    {
     "name": "stderr",
     "output_type": "stream",
     "text": [
      "C:\\Users\\Admin\\AppData\\Roaming\\Python\\Python312\\site-packages\\librosa\\core\\spectrum.py:266: UserWarning: n_fft=1024 is too large for input signal of length=869\n",
      "  warnings.warn(\n"
     ]
    },
    {
     "name": "stdout",
     "output_type": "stream",
     "text": [
      "D:/Project_TH_2/Data_set/train\\YAF_kill_disgust.wav\n"
     ]
    },
    {
     "name": "stderr",
     "output_type": "stream",
     "text": [
      "C:\\Users\\Admin\\AppData\\Roaming\\Python\\Python312\\site-packages\\librosa\\core\\spectrum.py:266: UserWarning: n_fft=1024 is too large for input signal of length=598\n",
      "  warnings.warn(\n"
     ]
    },
    {
     "name": "stdout",
     "output_type": "stream",
     "text": [
      "D:/Project_TH_2/Data_set/train\\YAF_kill_fear.wav\n",
      "D:/Project_TH_2/Data_set/train\\YAF_kill_happy.wav\n",
      "D:/Project_TH_2/Data_set/train\\YAF_kill_neutral.wav\n"
     ]
    },
    {
     "name": "stderr",
     "output_type": "stream",
     "text": [
      "C:\\Users\\Admin\\AppData\\Roaming\\Python\\Python312\\site-packages\\librosa\\core\\spectrum.py:266: UserWarning: n_fft=1024 is too large for input signal of length=619\n",
      "  warnings.warn(\n"
     ]
    },
    {
     "name": "stdout",
     "output_type": "stream",
     "text": [
      "D:/Project_TH_2/Data_set/train\\YAF_kill_ps.wav\n",
      "D:/Project_TH_2/Data_set/train\\YAF_kill_sad.wav\n",
      "D:/Project_TH_2/Data_set/train\\YAF_king_angry.wav\n",
      "D:/Project_TH_2/Data_set/train\\YAF_king_disgust.wav\n",
      "D:/Project_TH_2/Data_set/train\\YAF_king_fear.wav\n",
      "D:/Project_TH_2/Data_set/train\\YAF_king_happy.wav\n",
      "D:/Project_TH_2/Data_set/train\\YAF_king_neutral.wav\n"
     ]
    },
    {
     "name": "stderr",
     "output_type": "stream",
     "text": [
      "C:\\Users\\Admin\\AppData\\Roaming\\Python\\Python312\\site-packages\\librosa\\core\\spectrum.py:266: UserWarning: n_fft=1024 is too large for input signal of length=800\n",
      "  warnings.warn(\n"
     ]
    },
    {
     "name": "stdout",
     "output_type": "stream",
     "text": [
      "D:/Project_TH_2/Data_set/train\\YAF_king_ps.wav\n",
      "D:/Project_TH_2/Data_set/train\\YAF_king_sad.wav\n",
      "D:/Project_TH_2/Data_set/train\\YAF_kite_angry.wav\n",
      "D:/Project_TH_2/Data_set/train\\YAF_kite_disgust.wav\n",
      "D:/Project_TH_2/Data_set/train\\YAF_kite_fear.wav\n",
      "D:/Project_TH_2/Data_set/train\\YAF_kite_happy.wav\n",
      "D:/Project_TH_2/Data_set/train\\YAF_kite_neutral.wav\n",
      "D:/Project_TH_2/Data_set/train\\YAF_kite_ps.wav\n",
      "D:/Project_TH_2/Data_set/train\\YAF_kite_sad.wav\n",
      "D:/Project_TH_2/Data_set/train\\YAF_knock_angry.wav\n",
      "D:/Project_TH_2/Data_set/train\\YAF_knock_disgust.wav\n",
      "D:/Project_TH_2/Data_set/train\\YAF_knock_fear.wav\n"
     ]
    },
    {
     "name": "stderr",
     "output_type": "stream",
     "text": [
      "C:\\Users\\Admin\\AppData\\Roaming\\Python\\Python312\\site-packages\\librosa\\core\\spectrum.py:266: UserWarning: n_fft=1024 is too large for input signal of length=648\n",
      "  warnings.warn(\n"
     ]
    },
    {
     "name": "stdout",
     "output_type": "stream",
     "text": [
      "D:/Project_TH_2/Data_set/train\\YAF_knock_happy.wav\n",
      "D:/Project_TH_2/Data_set/train\\YAF_knock_neutral.wav\n",
      "D:/Project_TH_2/Data_set/train\\YAF_knock_ps.wav\n",
      "D:/Project_TH_2/Data_set/train\\YAF_knock_sad.wav\n",
      "D:/Project_TH_2/Data_set/train\\YAF_late_angry.wav\n",
      "D:/Project_TH_2/Data_set/train\\YAF_late_disgust.wav\n",
      "D:/Project_TH_2/Data_set/train\\YAF_late_fear.wav\n",
      "D:/Project_TH_2/Data_set/train\\YAF_late_happy.wav\n",
      "D:/Project_TH_2/Data_set/train\\YAF_late_neutral.wav\n",
      "D:/Project_TH_2/Data_set/train\\YAF_late_ps.wav\n",
      "D:/Project_TH_2/Data_set/train\\YAF_late_sad.wav\n",
      "D:/Project_TH_2/Data_set/train\\YAF_laud_angry.wav\n",
      "D:/Project_TH_2/Data_set/train\\YAF_laud_disgust.wav\n",
      "D:/Project_TH_2/Data_set/train\\YAF_laud_fear.wav\n",
      "D:/Project_TH_2/Data_set/train\\YAF_laud_happy.wav\n",
      "D:/Project_TH_2/Data_set/train\\YAF_laud_neutral.wav\n",
      "D:/Project_TH_2/Data_set/train\\YAF_laud_ps.wav\n",
      "D:/Project_TH_2/Data_set/train\\YAF_laud_sad.wav\n",
      "D:/Project_TH_2/Data_set/train\\YAF_lean_angry.wav\n",
      "D:/Project_TH_2/Data_set/train\\YAF_lean_disgust.wav\n"
     ]
    },
    {
     "name": "stderr",
     "output_type": "stream",
     "text": [
      "C:\\Users\\Admin\\AppData\\Roaming\\Python\\Python312\\site-packages\\librosa\\core\\spectrum.py:266: UserWarning: n_fft=1024 is too large for input signal of length=647\n",
      "  warnings.warn(\n"
     ]
    },
    {
     "name": "stdout",
     "output_type": "stream",
     "text": [
      "D:/Project_TH_2/Data_set/train\\YAF_lean_fear.wav\n",
      "D:/Project_TH_2/Data_set/train\\YAF_lean_happy.wav\n",
      "D:/Project_TH_2/Data_set/train\\YAF_lean_neutral.wav\n",
      "D:/Project_TH_2/Data_set/train\\YAF_lean_ps.wav\n",
      "D:/Project_TH_2/Data_set/train\\YAF_lean_sad.wav\n",
      "D:/Project_TH_2/Data_set/train\\YAF_learn_angry.wav\n",
      "D:/Project_TH_2/Data_set/train\\YAF_learn_disgust.wav\n",
      "D:/Project_TH_2/Data_set/train\\YAF_learn_fear.wav\n",
      "D:/Project_TH_2/Data_set/train\\YAF_learn_happy.wav\n",
      "D:/Project_TH_2/Data_set/train\\YAF_learn_neutral.wav\n",
      "D:/Project_TH_2/Data_set/train\\YAF_learn_ps.wav\n",
      "D:/Project_TH_2/Data_set/train\\YAF_learn_sad.wav\n",
      "D:/Project_TH_2/Data_set/train\\YAF_lease_angry.wav\n",
      "D:/Project_TH_2/Data_set/train\\YAF_lease_disgust.wav\n",
      "D:/Project_TH_2/Data_set/train\\YAF_lease_fear.wav\n",
      "D:/Project_TH_2/Data_set/train\\YAF_lease_happy.wav\n",
      "D:/Project_TH_2/Data_set/train\\YAF_lease_neutral.wav\n",
      "D:/Project_TH_2/Data_set/train\\YAF_lease_ps.wav\n",
      "D:/Project_TH_2/Data_set/train\\YAF_lease_sad.wav\n",
      "D:/Project_TH_2/Data_set/train\\YAF_lid_angry.wav\n",
      "D:/Project_TH_2/Data_set/train\\YAF_lid_disgust.wav\n",
      "D:/Project_TH_2/Data_set/train\\YAF_lid_fear.wav\n",
      "D:/Project_TH_2/Data_set/train\\YAF_lid_happy.wav\n"
     ]
    },
    {
     "name": "stderr",
     "output_type": "stream",
     "text": [
      "C:\\Users\\Admin\\AppData\\Roaming\\Python\\Python312\\site-packages\\librosa\\core\\spectrum.py:266: UserWarning: n_fft=1024 is too large for input signal of length=606\n",
      "  warnings.warn(\n"
     ]
    },
    {
     "name": "stdout",
     "output_type": "stream",
     "text": [
      "D:/Project_TH_2/Data_set/train\\YAF_lid_neutral.wav\n",
      "D:/Project_TH_2/Data_set/train\\YAF_lid_ps.wav\n",
      "D:/Project_TH_2/Data_set/train\\YAF_lid_sad.wav\n",
      "D:/Project_TH_2/Data_set/train\\YAF_life_angry.wav\n",
      "D:/Project_TH_2/Data_set/train\\YAF_life_disgust.wav\n",
      "D:/Project_TH_2/Data_set/train\\YAF_life_fear.wav\n",
      "D:/Project_TH_2/Data_set/train\\YAF_life_happy.wav\n",
      "D:/Project_TH_2/Data_set/train\\YAF_life_neutral.wav\n",
      "D:/Project_TH_2/Data_set/train\\YAF_life_ps.wav\n",
      "D:/Project_TH_2/Data_set/train\\YAF_life_sad.wav\n",
      "D:/Project_TH_2/Data_set/train\\YAF_limb_angry.wav\n",
      "D:/Project_TH_2/Data_set/train\\YAF_limb_disgust.wav\n"
     ]
    },
    {
     "name": "stderr",
     "output_type": "stream",
     "text": [
      "C:\\Users\\Admin\\AppData\\Roaming\\Python\\Python312\\site-packages\\librosa\\core\\spectrum.py:266: UserWarning: n_fft=1024 is too large for input signal of length=985\n",
      "  warnings.warn(\n",
      "C:\\Users\\Admin\\AppData\\Roaming\\Python\\Python312\\site-packages\\librosa\\core\\spectrum.py:266: UserWarning: n_fft=1024 is too large for input signal of length=493\n",
      "  warnings.warn(\n"
     ]
    },
    {
     "name": "stdout",
     "output_type": "stream",
     "text": [
      "D:/Project_TH_2/Data_set/train\\YAF_limb_fear.wav\n",
      "D:/Project_TH_2/Data_set/train\\YAF_limb_happy.wav\n",
      "D:/Project_TH_2/Data_set/train\\YAF_limb_neutral.wav\n",
      "D:/Project_TH_2/Data_set/train\\YAF_limb_ps.wav\n",
      "D:/Project_TH_2/Data_set/train\\YAF_limb_sad.wav\n",
      "D:/Project_TH_2/Data_set/train\\YAF_live_angry.wav\n",
      "D:/Project_TH_2/Data_set/train\\YAF_live_disgust.wav\n",
      "D:/Project_TH_2/Data_set/train\\YAF_live_fear.wav\n",
      "D:/Project_TH_2/Data_set/train\\YAF_live_happy.wav\n",
      "D:/Project_TH_2/Data_set/train\\YAF_live_neutral.wav\n",
      "D:/Project_TH_2/Data_set/train\\YAF_live_ps.wav\n",
      "D:/Project_TH_2/Data_set/train\\YAF_live_sad.wav\n",
      "D:/Project_TH_2/Data_set/train\\YAF_loaf_angry.wav\n",
      "D:/Project_TH_2/Data_set/train\\YAF_loaf_disgust.wav\n",
      "D:/Project_TH_2/Data_set/train\\YAF_loaf_fear.wav\n",
      "D:/Project_TH_2/Data_set/train\\YAF_loaf_happy.wav\n",
      "D:/Project_TH_2/Data_set/train\\YAF_loaf_neutral.wav\n",
      "D:/Project_TH_2/Data_set/train\\YAF_loaf_ps.wav\n",
      "D:/Project_TH_2/Data_set/train\\YAF_loaf_sad.wav\n",
      "D:/Project_TH_2/Data_set/train\\YAF_long_angry.wav\n",
      "D:/Project_TH_2/Data_set/train\\YAF_long_disgust.wav\n",
      "D:/Project_TH_2/Data_set/train\\YAF_long_fear.wav\n",
      "D:/Project_TH_2/Data_set/train\\YAF_long_happy.wav\n",
      "D:/Project_TH_2/Data_set/train\\YAF_long_neutral.wav\n",
      "D:/Project_TH_2/Data_set/train\\YAF_long_ps.wav\n",
      "D:/Project_TH_2/Data_set/train\\YAF_long_sad.wav\n",
      "D:/Project_TH_2/Data_set/train\\YAF_lore_angry.wav\n",
      "D:/Project_TH_2/Data_set/train\\YAF_lore_disgust.wav\n",
      "D:/Project_TH_2/Data_set/train\\YAF_lore_fear.wav\n",
      "D:/Project_TH_2/Data_set/train\\YAF_lore_happy.wav\n",
      "D:/Project_TH_2/Data_set/train\\YAF_lore_neutral.wav\n",
      "D:/Project_TH_2/Data_set/train\\YAF_lore_ps.wav\n",
      "D:/Project_TH_2/Data_set/train\\YAF_lore_sad.wav\n",
      "D:/Project_TH_2/Data_set/train\\YAF_lose_angry.wav\n"
     ]
    },
    {
     "name": "stderr",
     "output_type": "stream",
     "text": [
      "C:\\Users\\Admin\\AppData\\Roaming\\Python\\Python312\\site-packages\\librosa\\core\\spectrum.py:266: UserWarning: n_fft=1024 is too large for input signal of length=974\n",
      "  warnings.warn(\n"
     ]
    },
    {
     "name": "stdout",
     "output_type": "stream",
     "text": [
      "D:/Project_TH_2/Data_set/train\\YAF_lose_disgust.wav\n",
      "D:/Project_TH_2/Data_set/train\\YAF_lose_fear.wav\n",
      "D:/Project_TH_2/Data_set/train\\YAF_lose_happy.wav\n",
      "D:/Project_TH_2/Data_set/train\\YAF_lose_neutral.wav\n",
      "D:/Project_TH_2/Data_set/train\\YAF_lose_ps.wav\n",
      "D:/Project_TH_2/Data_set/train\\YAF_lose_sad.wav\n",
      "D:/Project_TH_2/Data_set/train\\YAF_lot_angry.wav\n",
      "D:/Project_TH_2/Data_set/train\\YAF_lot_disgust.wav\n"
     ]
    },
    {
     "name": "stderr",
     "output_type": "stream",
     "text": [
      "C:\\Users\\Admin\\AppData\\Roaming\\Python\\Python312\\site-packages\\librosa\\core\\spectrum.py:266: UserWarning: n_fft=1024 is too large for input signal of length=1013\n",
      "  warnings.warn(\n",
      "C:\\Users\\Admin\\AppData\\Roaming\\Python\\Python312\\site-packages\\librosa\\core\\spectrum.py:266: UserWarning: n_fft=1024 is too large for input signal of length=507\n",
      "  warnings.warn(\n"
     ]
    },
    {
     "name": "stdout",
     "output_type": "stream",
     "text": [
      "D:/Project_TH_2/Data_set/train\\YAF_lot_fear.wav\n",
      "D:/Project_TH_2/Data_set/train\\YAF_lot_happy.wav\n",
      "D:/Project_TH_2/Data_set/train\\YAF_lot_neutral.wav\n",
      "D:/Project_TH_2/Data_set/train\\YAF_lot_ps.wav\n",
      "D:/Project_TH_2/Data_set/train\\YAF_lot_sad.wav\n",
      "D:/Project_TH_2/Data_set/train\\YAF_love_angry.wav\n",
      "D:/Project_TH_2/Data_set/train\\YAF_love_disgust.wav\n",
      "D:/Project_TH_2/Data_set/train\\YAF_love_fear.wav\n",
      "D:/Project_TH_2/Data_set/train\\YAF_love_happy.wav\n",
      "D:/Project_TH_2/Data_set/train\\YAF_love_neutral.wav\n",
      "D:/Project_TH_2/Data_set/train\\YAF_love_ps.wav\n",
      "D:/Project_TH_2/Data_set/train\\YAF_love_sad.wav\n",
      "D:/Project_TH_2/Data_set/train\\YAF_luck_angry.wav\n",
      "D:/Project_TH_2/Data_set/train\\YAF_luck_disgust.wav\n",
      "D:/Project_TH_2/Data_set/train\\YAF_luck_fear.wav\n",
      "D:/Project_TH_2/Data_set/train\\YAF_luck_happy.wav\n",
      "D:/Project_TH_2/Data_set/train\\YAF_luck_neutral.wav\n",
      "D:/Project_TH_2/Data_set/train\\YAF_luck_ps.wav\n"
     ]
    },
    {
     "name": "stderr",
     "output_type": "stream",
     "text": [
      "C:\\Users\\Admin\\AppData\\Roaming\\Python\\Python312\\site-packages\\librosa\\core\\spectrum.py:266: UserWarning: n_fft=1024 is too large for input signal of length=786\n",
      "  warnings.warn(\n"
     ]
    },
    {
     "name": "stdout",
     "output_type": "stream",
     "text": [
      "D:/Project_TH_2/Data_set/train\\YAF_luck_sad.wav\n",
      "D:/Project_TH_2/Data_set/train\\YAF_make_angry.wav\n",
      "D:/Project_TH_2/Data_set/train\\YAF_make_disgust.wav\n",
      "D:/Project_TH_2/Data_set/train\\YAF_make_fear.wav\n",
      "D:/Project_TH_2/Data_set/train\\YAF_make_happy.wav\n",
      "D:/Project_TH_2/Data_set/train\\YAF_make_neutral.wav\n",
      "D:/Project_TH_2/Data_set/train\\YAF_make_ps.wav\n",
      "D:/Project_TH_2/Data_set/train\\YAF_make_sad.wav\n"
     ]
    },
    {
     "name": "stderr",
     "output_type": "stream",
     "text": [
      "C:\\Users\\Admin\\AppData\\Roaming\\Python\\Python312\\site-packages\\librosa\\core\\spectrum.py:266: UserWarning: n_fft=1024 is too large for input signal of length=831\n",
      "  warnings.warn(\n"
     ]
    },
    {
     "name": "stdout",
     "output_type": "stream",
     "text": [
      "D:/Project_TH_2/Data_set/train\\YAF_match_angry.wav\n",
      "D:/Project_TH_2/Data_set/train\\YAF_match_disgust.wav\n",
      "D:/Project_TH_2/Data_set/train\\YAF_match_fear.wav\n",
      "D:/Project_TH_2/Data_set/train\\YAF_match_happy.wav\n",
      "D:/Project_TH_2/Data_set/train\\YAF_match_neutral.wav\n",
      "D:/Project_TH_2/Data_set/train\\YAF_match_ps.wav\n",
      "D:/Project_TH_2/Data_set/train\\YAF_match_sad.wav\n",
      "D:/Project_TH_2/Data_set/train\\YAF_merge_angry.wav\n"
     ]
    },
    {
     "name": "stderr",
     "output_type": "stream",
     "text": [
      "C:\\Users\\Admin\\AppData\\Roaming\\Python\\Python312\\site-packages\\librosa\\core\\spectrum.py:266: UserWarning: n_fft=1024 is too large for input signal of length=936\n",
      "  warnings.warn(\n"
     ]
    },
    {
     "name": "stdout",
     "output_type": "stream",
     "text": [
      "D:/Project_TH_2/Data_set/train\\YAF_merge_disgust.wav\n",
      "D:/Project_TH_2/Data_set/train\\YAF_merge_fear.wav\n",
      "D:/Project_TH_2/Data_set/train\\YAF_merge_happy.wav\n",
      "D:/Project_TH_2/Data_set/train\\YAF_merge_neutral.wav\n",
      "D:/Project_TH_2/Data_set/train\\YAF_merge_ps.wav\n",
      "D:/Project_TH_2/Data_set/train\\YAF_merge_sad.wav\n",
      "D:/Project_TH_2/Data_set/train\\YAF_mess_angry.wav\n",
      "D:/Project_TH_2/Data_set/train\\YAF_mess_disgust.wav\n",
      "D:/Project_TH_2/Data_set/train\\YAF_mess_fear.wav\n",
      "D:/Project_TH_2/Data_set/train\\YAF_mess_happy.wav\n",
      "D:/Project_TH_2/Data_set/train\\YAF_mess_neutral.wav\n",
      "D:/Project_TH_2/Data_set/train\\YAF_mess_ps.wav\n"
     ]
    },
    {
     "name": "stderr",
     "output_type": "stream",
     "text": [
      "C:\\Users\\Admin\\AppData\\Roaming\\Python\\Python312\\site-packages\\librosa\\core\\spectrum.py:266: UserWarning: n_fft=1024 is too large for input signal of length=851\n",
      "  warnings.warn(\n"
     ]
    },
    {
     "name": "stdout",
     "output_type": "stream",
     "text": [
      "D:/Project_TH_2/Data_set/train\\YAF_mess_sad.wav\n",
      "D:/Project_TH_2/Data_set/train\\YAF_met_angry.wav\n",
      "D:/Project_TH_2/Data_set/train\\YAF_met_disgust.wav\n",
      "D:/Project_TH_2/Data_set/train\\YAF_met_fear.wav\n"
     ]
    },
    {
     "name": "stderr",
     "output_type": "stream",
     "text": [
      "C:\\Users\\Admin\\AppData\\Roaming\\Python\\Python312\\site-packages\\librosa\\core\\spectrum.py:266: UserWarning: n_fft=1024 is too large for input signal of length=982\n",
      "  warnings.warn(\n"
     ]
    },
    {
     "name": "stdout",
     "output_type": "stream",
     "text": [
      "D:/Project_TH_2/Data_set/train\\YAF_met_happy.wav\n",
      "D:/Project_TH_2/Data_set/train\\YAF_met_neutral.wav\n",
      "D:/Project_TH_2/Data_set/train\\YAF_met_ps.wav\n",
      "D:/Project_TH_2/Data_set/train\\YAF_met_sad.wav\n",
      "D:/Project_TH_2/Data_set/train\\YAF_mill_angry.wav\n",
      "D:/Project_TH_2/Data_set/train\\YAF_mill_disgust.wav\n"
     ]
    },
    {
     "name": "stderr",
     "output_type": "stream",
     "text": [
      "C:\\Users\\Admin\\AppData\\Roaming\\Python\\Python312\\site-packages\\librosa\\core\\spectrum.py:266: UserWarning: n_fft=1024 is too large for input signal of length=526\n",
      "  warnings.warn(\n"
     ]
    },
    {
     "name": "stdout",
     "output_type": "stream",
     "text": [
      "D:/Project_TH_2/Data_set/train\\YAF_mill_fear.wav\n",
      "D:/Project_TH_2/Data_set/train\\YAF_mill_happy.wav\n",
      "D:/Project_TH_2/Data_set/train\\YAF_mill_neutral.wav\n",
      "D:/Project_TH_2/Data_set/train\\YAF_mill_ps.wav\n",
      "D:/Project_TH_2/Data_set/train\\YAF_mill_sad.wav\n",
      "D:/Project_TH_2/Data_set/train\\YAF_mob_angry.wav\n",
      "D:/Project_TH_2/Data_set/train\\YAF_mob_disgust.wav\n",
      "D:/Project_TH_2/Data_set/train\\YAF_mob_fear.wav\n",
      "D:/Project_TH_2/Data_set/train\\YAF_mob_happy.wav\n",
      "D:/Project_TH_2/Data_set/train\\YAF_mob_neutral.wav\n",
      "D:/Project_TH_2/Data_set/train\\YAF_mob_ps.wav\n",
      "D:/Project_TH_2/Data_set/train\\YAF_mob_sad.wav\n",
      "D:/Project_TH_2/Data_set/train\\YAF_mode_angry.wav\n",
      "D:/Project_TH_2/Data_set/train\\YAF_mode_disgust.wav\n",
      "D:/Project_TH_2/Data_set/train\\YAF_mode_fear.wav\n",
      "D:/Project_TH_2/Data_set/train\\YAF_mode_happy.wav\n",
      "D:/Project_TH_2/Data_set/train\\YAF_mode_neutral.wav\n",
      "D:/Project_TH_2/Data_set/train\\YAF_mode_ps.wav\n",
      "D:/Project_TH_2/Data_set/train\\YAF_mode_sad.wav\n",
      "D:/Project_TH_2/Data_set/train\\YAF_mood_angry.wav\n",
      "D:/Project_TH_2/Data_set/train\\YAF_mood_disgust.wav\n",
      "D:/Project_TH_2/Data_set/train\\YAF_mood_fear.wav\n",
      "D:/Project_TH_2/Data_set/train\\YAF_mood_happy.wav\n",
      "D:/Project_TH_2/Data_set/train\\YAF_mood_neutral.wav\n",
      "D:/Project_TH_2/Data_set/train\\YAF_mood_ps.wav\n",
      "D:/Project_TH_2/Data_set/train\\YAF_mood_sad.wav\n",
      "D:/Project_TH_2/Data_set/train\\YAF_moon_angry.wav\n",
      "D:/Project_TH_2/Data_set/train\\YAF_moon_disgust.wav\n",
      "D:/Project_TH_2/Data_set/train\\YAF_moon_fear.wav\n",
      "D:/Project_TH_2/Data_set/train\\YAF_moon_happy.wav\n"
     ]
    },
    {
     "name": "stderr",
     "output_type": "stream",
     "text": [
      "C:\\Users\\Admin\\AppData\\Roaming\\Python\\Python312\\site-packages\\librosa\\core\\spectrum.py:266: UserWarning: n_fft=1024 is too large for input signal of length=615\n",
      "  warnings.warn(\n"
     ]
    },
    {
     "name": "stdout",
     "output_type": "stream",
     "text": [
      "D:/Project_TH_2/Data_set/train\\YAF_moon_neutral.wav\n",
      "D:/Project_TH_2/Data_set/train\\YAF_moon_ps.wav\n",
      "D:/Project_TH_2/Data_set/train\\YAF_moon_sad.wav\n",
      "D:/Project_TH_2/Data_set/train\\YAF_mop_angry.wav\n",
      "D:/Project_TH_2/Data_set/train\\YAF_mop_disgust.wav\n",
      "D:/Project_TH_2/Data_set/train\\YAF_mop_fear.wav\n"
     ]
    },
    {
     "name": "stderr",
     "output_type": "stream",
     "text": [
      "C:\\Users\\Admin\\AppData\\Roaming\\Python\\Python312\\site-packages\\librosa\\core\\spectrum.py:266: UserWarning: n_fft=1024 is too large for input signal of length=994\n",
      "  warnings.warn(\n"
     ]
    },
    {
     "name": "stdout",
     "output_type": "stream",
     "text": [
      "D:/Project_TH_2/Data_set/train\\YAF_mop_happy.wav\n",
      "D:/Project_TH_2/Data_set/train\\YAF_mop_neutral.wav\n",
      "D:/Project_TH_2/Data_set/train\\YAF_mop_ps.wav\n",
      "D:/Project_TH_2/Data_set/train\\YAF_mop_sad.wav\n",
      "D:/Project_TH_2/Data_set/train\\YAF_mouse_angry.wav\n",
      "D:/Project_TH_2/Data_set/train\\YAF_mouse_disgust.wav\n",
      "D:/Project_TH_2/Data_set/train\\YAF_mouse_fear.wav\n",
      "D:/Project_TH_2/Data_set/train\\YAF_mouse_happy.wav\n",
      "D:/Project_TH_2/Data_set/train\\YAF_mouse_neutral.wav\n",
      "D:/Project_TH_2/Data_set/train\\YAF_mouse_ps.wav\n",
      "D:/Project_TH_2/Data_set/train\\YAF_mouse_sad.wav\n",
      "D:/Project_TH_2/Data_set/train\\YAF_nag_angry.wav\n",
      "D:/Project_TH_2/Data_set/train\\YAF_nag_disgust.wav\n",
      "D:/Project_TH_2/Data_set/train\\YAF_nag_fear.wav\n",
      "D:/Project_TH_2/Data_set/train\\YAF_nag_happy.wav\n",
      "D:/Project_TH_2/Data_set/train\\YAF_nag_neutral.wav\n",
      "D:/Project_TH_2/Data_set/train\\YAF_nag_ps.wav\n",
      "D:/Project_TH_2/Data_set/train\\YAF_nag_sad.wav\n",
      "D:/Project_TH_2/Data_set/train\\YAF_name_angry.wav\n",
      "D:/Project_TH_2/Data_set/train\\YAF_name_disgust.wav\n",
      "D:/Project_TH_2/Data_set/train\\YAF_name_fear.wav\n",
      "D:/Project_TH_2/Data_set/train\\YAF_name_happy.wav\n",
      "D:/Project_TH_2/Data_set/train\\YAF_name_neutral.wav\n",
      "D:/Project_TH_2/Data_set/train\\YAF_name_ps.wav\n",
      "D:/Project_TH_2/Data_set/train\\YAF_name_sad.wav\n",
      "D:/Project_TH_2/Data_set/train\\YAF_near_angry.wav\n",
      "D:/Project_TH_2/Data_set/train\\YAF_near_disgust.wav\n",
      "D:/Project_TH_2/Data_set/train\\YAF_near_fear.wav\n",
      "D:/Project_TH_2/Data_set/train\\YAF_near_happy.wav\n",
      "D:/Project_TH_2/Data_set/train\\YAF_near_neutral.wav\n",
      "D:/Project_TH_2/Data_set/train\\YAF_near_ps.wav\n",
      "D:/Project_TH_2/Data_set/train\\YAF_near_sad.wav\n",
      "D:/Project_TH_2/Data_set/train\\YAF_neat_angry.wav\n",
      "D:/Project_TH_2/Data_set/train\\YAF_neat_disgust.wav\n",
      "D:/Project_TH_2/Data_set/train\\YAF_neat_fear.wav\n",
      "D:/Project_TH_2/Data_set/train\\YAF_neat_happy.wav\n",
      "D:/Project_TH_2/Data_set/train\\YAF_neat_neutral.wav\n"
     ]
    },
    {
     "name": "stderr",
     "output_type": "stream",
     "text": [
      "C:\\Users\\Admin\\AppData\\Roaming\\Python\\Python312\\site-packages\\librosa\\core\\spectrum.py:266: UserWarning: n_fft=1024 is too large for input signal of length=776\n",
      "  warnings.warn(\n"
     ]
    },
    {
     "name": "stdout",
     "output_type": "stream",
     "text": [
      "D:/Project_TH_2/Data_set/train\\YAF_neat_ps.wav\n",
      "D:/Project_TH_2/Data_set/train\\YAF_neat_sad.wav\n",
      "D:/Project_TH_2/Data_set/train\\YAF_nice_angry.wav\n",
      "D:/Project_TH_2/Data_set/train\\YAF_nice_disgust.wav\n",
      "D:/Project_TH_2/Data_set/train\\YAF_nice_fear.wav\n",
      "D:/Project_TH_2/Data_set/train\\YAF_nice_happy.wav\n",
      "D:/Project_TH_2/Data_set/train\\YAF_nice_neutral.wav\n",
      "D:/Project_TH_2/Data_set/train\\YAF_nice_ps.wav\n",
      "D:/Project_TH_2/Data_set/train\\YAF_nice_sad.wav\n",
      "D:/Project_TH_2/Data_set/train\\YAF_note_angry.wav\n",
      "D:/Project_TH_2/Data_set/train\\YAF_note_disgust.wav\n",
      "D:/Project_TH_2/Data_set/train\\YAF_note_fear.wav\n",
      "D:/Project_TH_2/Data_set/train\\YAF_note_happy.wav\n",
      "D:/Project_TH_2/Data_set/train\\YAF_note_neutral.wav\n",
      "D:/Project_TH_2/Data_set/train\\YAF_note_ps.wav\n",
      "D:/Project_TH_2/Data_set/train\\YAF_note_sad.wav\n",
      "D:/Project_TH_2/Data_set/train\\YAF_numb_angry.wav\n",
      "D:/Project_TH_2/Data_set/train\\YAF_numb_disgust.wav\n",
      "D:/Project_TH_2/Data_set/train\\YAF_numb_fear.wav\n",
      "D:/Project_TH_2/Data_set/train\\YAF_numb_happy.wav\n",
      "D:/Project_TH_2/Data_set/train\\YAF_numb_neutral.wav\n",
      "D:/Project_TH_2/Data_set/train\\YAF_numb_ps.wav\n",
      "D:/Project_TH_2/Data_set/train\\YAF_numb_sad.wav\n",
      "D:/Project_TH_2/Data_set/train\\YAF_pad_angry.wav\n",
      "D:/Project_TH_2/Data_set/train\\YAF_pad_disgust.wav\n",
      "D:/Project_TH_2/Data_set/train\\YAF_pad_fear.wav\n",
      "D:/Project_TH_2/Data_set/train\\YAF_pad_happy.wav\n",
      "D:/Project_TH_2/Data_set/train\\YAF_pad_neutral.wav\n",
      "D:/Project_TH_2/Data_set/train\\YAF_pad_ps.wav\n",
      "D:/Project_TH_2/Data_set/train\\YAF_pad_sad.wav\n",
      "D:/Project_TH_2/Data_set/train\\YAF_page_angry.wav\n",
      "D:/Project_TH_2/Data_set/train\\YAF_page_disgust.wav\n",
      "D:/Project_TH_2/Data_set/train\\YAF_page_fear.wav\n",
      "D:/Project_TH_2/Data_set/train\\YAF_page_happy.wav\n",
      "D:/Project_TH_2/Data_set/train\\YAF_page_neutral.wav\n",
      "D:/Project_TH_2/Data_set/train\\YAF_page_ps.wav\n",
      "D:/Project_TH_2/Data_set/train\\YAF_page_sad.wav\n",
      "D:/Project_TH_2/Data_set/train\\YAF_pain_angry.wav\n",
      "D:/Project_TH_2/Data_set/train\\YAF_pain_disgust.wav\n",
      "D:/Project_TH_2/Data_set/train\\YAF_pain_fear.wav\n",
      "D:/Project_TH_2/Data_set/train\\YAF_pain_happy.wav\n",
      "D:/Project_TH_2/Data_set/train\\YAF_pain_neutral.wav\n",
      "D:/Project_TH_2/Data_set/train\\YAF_pain_ps.wav\n",
      "D:/Project_TH_2/Data_set/train\\YAF_pain_sad.wav\n",
      "D:/Project_TH_2/Data_set/train\\YAF_pass_angry.wav\n",
      "D:/Project_TH_2/Data_set/train\\YAF_pass_disgust.wav\n",
      "D:/Project_TH_2/Data_set/train\\YAF_pass_fear.wav\n",
      "D:/Project_TH_2/Data_set/train\\YAF_pass_happy.wav\n",
      "D:/Project_TH_2/Data_set/train\\YAF_pass_neutral.wav\n",
      "D:/Project_TH_2/Data_set/train\\YAF_pass_ps.wav\n",
      "D:/Project_TH_2/Data_set/train\\YAF_pass_sad.wav\n",
      "D:/Project_TH_2/Data_set/train\\YAF_pearl_angry.wav\n",
      "D:/Project_TH_2/Data_set/train\\YAF_pearl_disgust.wav\n",
      "D:/Project_TH_2/Data_set/train\\YAF_pearl_fear.wav\n",
      "D:/Project_TH_2/Data_set/train\\YAF_pearl_happy.wav\n",
      "D:/Project_TH_2/Data_set/train\\YAF_pearl_neutral.wav\n",
      "D:/Project_TH_2/Data_set/train\\YAF_pearl_ps.wav\n",
      "D:/Project_TH_2/Data_set/train\\YAF_pearl_sad.wav\n",
      "D:/Project_TH_2/Data_set/train\\YAF_peg_angry.wav\n"
     ]
    },
    {
     "name": "stderr",
     "output_type": "stream",
     "text": [
      "C:\\Users\\Admin\\AppData\\Roaming\\Python\\Python312\\site-packages\\librosa\\core\\spectrum.py:266: UserWarning: n_fft=1024 is too large for input signal of length=979\n",
      "  warnings.warn(\n"
     ]
    },
    {
     "name": "stdout",
     "output_type": "stream",
     "text": [
      "D:/Project_TH_2/Data_set/train\\YAF_peg_disgust.wav\n",
      "D:/Project_TH_2/Data_set/train\\YAF_peg_fear.wav\n",
      "D:/Project_TH_2/Data_set/train\\YAF_peg_happy.wav\n",
      "D:/Project_TH_2/Data_set/train\\YAF_peg_neutral.wav\n",
      "D:/Project_TH_2/Data_set/train\\YAF_peg_ps.wav\n",
      "D:/Project_TH_2/Data_set/train\\YAF_peg_sad.wav\n",
      "D:/Project_TH_2/Data_set/train\\YAF_perch_angry.wav\n",
      "D:/Project_TH_2/Data_set/train\\YAF_perch_disgust.wav\n",
      "D:/Project_TH_2/Data_set/train\\YAF_perch_fear.wav\n",
      "D:/Project_TH_2/Data_set/train\\YAF_perch_happy.wav\n",
      "D:/Project_TH_2/Data_set/train\\YAF_perch_neutral.wav\n",
      "D:/Project_TH_2/Data_set/train\\YAF_perch_ps.wav\n",
      "D:/Project_TH_2/Data_set/train\\YAF_perch_sad.wav\n",
      "D:/Project_TH_2/Data_set/train\\YAF_phone_angry.wav\n",
      "D:/Project_TH_2/Data_set/train\\YAF_phone_disgust.wav\n",
      "D:/Project_TH_2/Data_set/train\\YAF_phone_fear.wav\n",
      "D:/Project_TH_2/Data_set/train\\YAF_phone_happy.wav\n",
      "D:/Project_TH_2/Data_set/train\\YAF_phone_neutral.wav\n",
      "D:/Project_TH_2/Data_set/train\\YAF_phone_ps.wav\n",
      "D:/Project_TH_2/Data_set/train\\YAF_phone_sad.wav\n",
      "D:/Project_TH_2/Data_set/train\\YAF_pick_angry.wav\n",
      "D:/Project_TH_2/Data_set/train\\YAF_pick_disgust.wav\n",
      "D:/Project_TH_2/Data_set/train\\YAF_pick_fear.wav\n",
      "D:/Project_TH_2/Data_set/train\\YAF_pick_happy.wav\n",
      "D:/Project_TH_2/Data_set/train\\YAF_pick_neutral.wav\n",
      "D:/Project_TH_2/Data_set/train\\YAF_pick_ps.wav\n"
     ]
    },
    {
     "name": "stderr",
     "output_type": "stream",
     "text": [
      "C:\\Users\\Admin\\AppData\\Roaming\\Python\\Python312\\site-packages\\librosa\\core\\spectrum.py:266: UserWarning: n_fft=1024 is too large for input signal of length=848\n",
      "  warnings.warn(\n"
     ]
    },
    {
     "name": "stdout",
     "output_type": "stream",
     "text": [
      "D:/Project_TH_2/Data_set/train\\YAF_pick_sad.wav\n",
      "D:/Project_TH_2/Data_set/train\\YAF_pike_angry.wav\n",
      "D:/Project_TH_2/Data_set/train\\YAF_pike_disgust.wav\n",
      "D:/Project_TH_2/Data_set/train\\YAF_pike_fear.wav\n",
      "D:/Project_TH_2/Data_set/train\\YAF_pike_happy.wav\n",
      "D:/Project_TH_2/Data_set/train\\YAF_pike_neutral.wav\n",
      "D:/Project_TH_2/Data_set/train\\YAF_pike_ps.wav\n",
      "D:/Project_TH_2/Data_set/train\\YAF_pike_sad.wav\n",
      "D:/Project_TH_2/Data_set/train\\YAF_pole_angry.wav\n",
      "D:/Project_TH_2/Data_set/train\\YAF_pole_disgust.wav\n",
      "D:/Project_TH_2/Data_set/train\\YAF_pole_fear.wav\n",
      "D:/Project_TH_2/Data_set/train\\YAF_pole_happy.wav\n",
      "D:/Project_TH_2/Data_set/train\\YAF_pole_neutral.wav\n",
      "D:/Project_TH_2/Data_set/train\\YAF_pole_ps.wav\n",
      "D:/Project_TH_2/Data_set/train\\YAF_pole_sad.wav\n",
      "D:/Project_TH_2/Data_set/train\\YAF_pool_angry.wav\n",
      "D:/Project_TH_2/Data_set/train\\YAF_pool_disgust.wav\n",
      "D:/Project_TH_2/Data_set/train\\YAF_pool_fear.wav\n"
     ]
    },
    {
     "name": "stderr",
     "output_type": "stream",
     "text": [
      "C:\\Users\\Admin\\AppData\\Roaming\\Python\\Python312\\site-packages\\librosa\\core\\spectrum.py:266: UserWarning: n_fft=1024 is too large for input signal of length=490\n",
      "  warnings.warn(\n"
     ]
    },
    {
     "name": "stdout",
     "output_type": "stream",
     "text": [
      "D:/Project_TH_2/Data_set/train\\YAF_pool_happy.wav\n",
      "D:/Project_TH_2/Data_set/train\\YAF_pool_neutral.wav\n",
      "D:/Project_TH_2/Data_set/train\\YAF_pool_ps.wav\n",
      "D:/Project_TH_2/Data_set/train\\YAF_pool_sad.wav\n",
      "D:/Project_TH_2/Data_set/train\\YAF_puff_angry.wav\n",
      "D:/Project_TH_2/Data_set/train\\YAF_puff_disgust.wav\n",
      "D:/Project_TH_2/Data_set/train\\YAF_puff_fear.wav\n",
      "D:/Project_TH_2/Data_set/train\\YAF_puff_happy.wav\n",
      "D:/Project_TH_2/Data_set/train\\YAF_puff_neutral.wav\n",
      "D:/Project_TH_2/Data_set/train\\YAF_puff_ps.wav\n",
      "D:/Project_TH_2/Data_set/train\\YAF_puff_sad.wav\n",
      "D:/Project_TH_2/Data_set/train\\YAF_rag_angry.wav\n",
      "D:/Project_TH_2/Data_set/train\\YAF_rag_disgust.wav\n",
      "D:/Project_TH_2/Data_set/train\\YAF_rag_fear.wav\n",
      "D:/Project_TH_2/Data_set/train\\YAF_rag_happy.wav\n",
      "D:/Project_TH_2/Data_set/train\\YAF_rag_neutral.wav\n",
      "D:/Project_TH_2/Data_set/train\\YAF_rag_ps.wav\n",
      "D:/Project_TH_2/Data_set/train\\YAF_rag_sad.wav\n",
      "D:/Project_TH_2/Data_set/train\\YAF_raid_angry.wav\n",
      "D:/Project_TH_2/Data_set/train\\YAF_raid_disgust.wav\n",
      "D:/Project_TH_2/Data_set/train\\YAF_raid_fear.wav\n",
      "D:/Project_TH_2/Data_set/train\\YAF_raid_happy.wav\n",
      "D:/Project_TH_2/Data_set/train\\YAF_raid_neutral.wav\n",
      "D:/Project_TH_2/Data_set/train\\YAF_raid_ps.wav\n",
      "D:/Project_TH_2/Data_set/train\\YAF_raid_sad.wav\n",
      "D:/Project_TH_2/Data_set/train\\YAF_rain_angry.wav\n",
      "D:/Project_TH_2/Data_set/train\\YAF_rain_disgust.wav\n",
      "D:/Project_TH_2/Data_set/train\\YAF_rain_fear.wav\n",
      "D:/Project_TH_2/Data_set/train\\YAF_rain_happy.wav\n",
      "D:/Project_TH_2/Data_set/train\\YAF_rain_neutral.wav\n",
      "D:/Project_TH_2/Data_set/train\\YAF_rain_ps.wav\n",
      "D:/Project_TH_2/Data_set/train\\YAF_rain_sad.wav\n",
      "D:/Project_TH_2/Data_set/train\\YAF_raise_angry.wav\n",
      "D:/Project_TH_2/Data_set/train\\YAF_raise_disgust.wav\n",
      "D:/Project_TH_2/Data_set/train\\YAF_raise_fear.wav\n",
      "D:/Project_TH_2/Data_set/train\\YAF_raise_happy.wav\n",
      "D:/Project_TH_2/Data_set/train\\YAF_raise_neutral.wav\n",
      "D:/Project_TH_2/Data_set/train\\YAF_raise_ps.wav\n",
      "D:/Project_TH_2/Data_set/train\\YAF_raise_sad.wav\n",
      "D:/Project_TH_2/Data_set/train\\YAF_rat_angry.wav\n",
      "D:/Project_TH_2/Data_set/train\\YAF_rat_disgust.wav\n",
      "D:/Project_TH_2/Data_set/train\\YAF_rat_fear.wav\n",
      "D:/Project_TH_2/Data_set/train\\YAF_rat_happy.wav\n",
      "D:/Project_TH_2/Data_set/train\\YAF_rat_neutral.wav\n",
      "D:/Project_TH_2/Data_set/train\\YAF_rat_ps.wav\n",
      "D:/Project_TH_2/Data_set/train\\YAF_rat_sad.wav\n",
      "D:/Project_TH_2/Data_set/train\\YAF_reach_angry.wav\n",
      "D:/Project_TH_2/Data_set/train\\YAF_reach_disgust.wav\n",
      "D:/Project_TH_2/Data_set/train\\YAF_reach_fear.wav\n",
      "D:/Project_TH_2/Data_set/train\\YAF_reach_happy.wav\n",
      "D:/Project_TH_2/Data_set/train\\YAF_reach_neutral.wav\n",
      "D:/Project_TH_2/Data_set/train\\YAF_reach_ps.wav\n",
      "D:/Project_TH_2/Data_set/train\\YAF_reach_sad.wav\n",
      "D:/Project_TH_2/Data_set/train\\YAF_read_angry.wav\n",
      "D:/Project_TH_2/Data_set/train\\YAF_read_disgust.wav\n",
      "D:/Project_TH_2/Data_set/train\\YAF_read_fear.wav\n"
     ]
    },
    {
     "name": "stderr",
     "output_type": "stream",
     "text": [
      "C:\\Users\\Admin\\AppData\\Roaming\\Python\\Python312\\site-packages\\librosa\\core\\spectrum.py:266: UserWarning: n_fft=1024 is too large for input signal of length=604\n",
      "  warnings.warn(\n"
     ]
    },
    {
     "name": "stdout",
     "output_type": "stream",
     "text": [
      "D:/Project_TH_2/Data_set/train\\YAF_read_happy.wav\n",
      "D:/Project_TH_2/Data_set/train\\YAF_read_neutral.wav\n",
      "D:/Project_TH_2/Data_set/train\\YAF_read_ps.wav\n",
      "D:/Project_TH_2/Data_set/train\\YAF_read_sad.wav\n",
      "D:/Project_TH_2/Data_set/train\\YAF_red_angry.wav\n",
      "D:/Project_TH_2/Data_set/train\\YAF_red_disgust.wav\n",
      "D:/Project_TH_2/Data_set/train\\YAF_red_fear.wav\n",
      "D:/Project_TH_2/Data_set/train\\YAF_red_happy.wav\n",
      "D:/Project_TH_2/Data_set/train\\YAF_red_neutral.wav\n",
      "D:/Project_TH_2/Data_set/train\\YAF_red_ps.wav\n",
      "D:/Project_TH_2/Data_set/train\\YAF_red_sad.wav\n",
      "D:/Project_TH_2/Data_set/train\\YAF_ring_angry.wav\n",
      "D:/Project_TH_2/Data_set/train\\YAF_ring_disgust.wav\n",
      "D:/Project_TH_2/Data_set/train\\YAF_ring_fear.wav\n",
      "D:/Project_TH_2/Data_set/train\\YAF_ring_happy.wav\n",
      "D:/Project_TH_2/Data_set/train\\YAF_ring_neutral.wav\n",
      "D:/Project_TH_2/Data_set/train\\YAF_ring_ps.wav\n",
      "D:/Project_TH_2/Data_set/train\\YAF_ring_sad.wav\n",
      "D:/Project_TH_2/Data_set/train\\YAF_ripe_angry.wav\n",
      "D:/Project_TH_2/Data_set/train\\YAF_ripe_disgust.wav\n",
      "D:/Project_TH_2/Data_set/train\\YAF_ripe_fear.wav\n",
      "D:/Project_TH_2/Data_set/train\\YAF_ripe_happy.wav\n",
      "D:/Project_TH_2/Data_set/train\\YAF_ripe_neutral.wav\n",
      "D:/Project_TH_2/Data_set/train\\YAF_ripe_ps.wav\n",
      "D:/Project_TH_2/Data_set/train\\YAF_ripe_sad.wav\n",
      "D:/Project_TH_2/Data_set/train\\YAF_road_angry.wav\n",
      "D:/Project_TH_2/Data_set/train\\YAF_road_disgust.wav\n",
      "D:/Project_TH_2/Data_set/train\\YAF_road_fear.wav\n",
      "D:/Project_TH_2/Data_set/train\\YAF_road_happy.wav\n",
      "D:/Project_TH_2/Data_set/train\\YAF_road_neutral.wav\n",
      "D:/Project_TH_2/Data_set/train\\YAF_road_ps.wav\n",
      "D:/Project_TH_2/Data_set/train\\YAF_road_sad.wav\n",
      "D:/Project_TH_2/Data_set/train\\YAF_room_angry.wav\n",
      "D:/Project_TH_2/Data_set/train\\YAF_room_disgust.wav\n",
      "D:/Project_TH_2/Data_set/train\\YAF_room_fear.wav\n",
      "D:/Project_TH_2/Data_set/train\\YAF_room_happy.wav\n",
      "D:/Project_TH_2/Data_set/train\\YAF_room_neutral.wav\n",
      "D:/Project_TH_2/Data_set/train\\YAF_room_ps.wav\n",
      "D:/Project_TH_2/Data_set/train\\YAF_room_sad.wav\n",
      "D:/Project_TH_2/Data_set/train\\YAF_rose_angry.wav\n",
      "D:/Project_TH_2/Data_set/train\\YAF_rose_disgust.wav\n",
      "D:/Project_TH_2/Data_set/train\\YAF_rose_fear.wav\n",
      "D:/Project_TH_2/Data_set/train\\YAF_rose_happy.wav\n",
      "D:/Project_TH_2/Data_set/train\\YAF_rose_neutral.wav\n",
      "D:/Project_TH_2/Data_set/train\\YAF_rose_ps.wav\n",
      "D:/Project_TH_2/Data_set/train\\YAF_rose_sad.wav\n",
      "D:/Project_TH_2/Data_set/train\\YAF_rot_angry.wav\n",
      "D:/Project_TH_2/Data_set/train\\YAF_rot_disgust.wav\n",
      "D:/Project_TH_2/Data_set/train\\YAF_rot_fear.wav\n",
      "D:/Project_TH_2/Data_set/train\\YAF_rot_happy.wav\n",
      "D:/Project_TH_2/Data_set/train\\YAF_rot_neutral.wav\n",
      "D:/Project_TH_2/Data_set/train\\YAF_rot_ps.wav\n",
      "D:/Project_TH_2/Data_set/train\\YAF_rot_sad.wav\n",
      "D:/Project_TH_2/Data_set/train\\YAF_rough_angry.wav\n"
     ]
    },
    {
     "name": "stderr",
     "output_type": "stream",
     "text": [
      "C:\\Users\\Admin\\AppData\\Roaming\\Python\\Python312\\site-packages\\librosa\\core\\spectrum.py:266: UserWarning: n_fft=1024 is too large for input signal of length=937\n",
      "  warnings.warn(\n"
     ]
    },
    {
     "name": "stdout",
     "output_type": "stream",
     "text": [
      "D:/Project_TH_2/Data_set/train\\YAF_rough_disgust.wav\n",
      "D:/Project_TH_2/Data_set/train\\YAF_rough_fear.wav\n",
      "D:/Project_TH_2/Data_set/train\\YAF_rough_happy.wav\n",
      "D:/Project_TH_2/Data_set/train\\YAF_rough_neutral.wav\n",
      "D:/Project_TH_2/Data_set/train\\YAF_rough_ps.wav\n",
      "D:/Project_TH_2/Data_set/train\\YAF_rough_sad.wav\n",
      "D:/Project_TH_2/Data_set/train\\YAF_rush_angry.wav\n",
      "D:/Project_TH_2/Data_set/train\\YAF_rush_disgust.wav\n",
      "D:/Project_TH_2/Data_set/train\\YAF_rush_fear.wav\n",
      "D:/Project_TH_2/Data_set/train\\YAF_rush_happy.wav\n",
      "D:/Project_TH_2/Data_set/train\\YAF_rush_neutral.wav\n",
      "D:/Project_TH_2/Data_set/train\\YAF_rush_ps.wav\n",
      "D:/Project_TH_2/Data_set/train\\YAF_rush_sad.wav\n",
      "D:/Project_TH_2/Data_set/train\\YAF_said_angry.wav\n",
      "D:/Project_TH_2/Data_set/train\\YAF_said_disgust.wav\n",
      "D:/Project_TH_2/Data_set/train\\YAF_said_fear.wav\n",
      "D:/Project_TH_2/Data_set/train\\YAF_said_happy.wav\n",
      "D:/Project_TH_2/Data_set/train\\YAF_said_neutral.wav\n",
      "D:/Project_TH_2/Data_set/train\\YAF_said_ps.wav\n",
      "D:/Project_TH_2/Data_set/train\\YAF_said_sad.wav\n",
      "D:/Project_TH_2/Data_set/train\\YAF_sail_angry.wav\n"
     ]
    },
    {
     "name": "stderr",
     "output_type": "stream",
     "text": [
      "C:\\Users\\Admin\\AppData\\Roaming\\Python\\Python312\\site-packages\\librosa\\core\\spectrum.py:266: UserWarning: n_fft=1024 is too large for input signal of length=873\n",
      "  warnings.warn(\n"
     ]
    },
    {
     "name": "stdout",
     "output_type": "stream",
     "text": [
      "D:/Project_TH_2/Data_set/train\\YAF_sail_disgust.wav\n",
      "D:/Project_TH_2/Data_set/train\\YAF_sail_fear.wav\n",
      "D:/Project_TH_2/Data_set/train\\YAF_sail_happy.wav\n",
      "D:/Project_TH_2/Data_set/train\\YAF_sail_neutral.wav\n",
      "D:/Project_TH_2/Data_set/train\\YAF_sail_ps.wav\n",
      "D:/Project_TH_2/Data_set/train\\YAF_sail_sad.wav\n",
      "D:/Project_TH_2/Data_set/train\\YAF_search_angry.wav\n",
      "D:/Project_TH_2/Data_set/train\\YAF_search_disgust.wav\n",
      "D:/Project_TH_2/Data_set/train\\YAF_search_fear.wav\n",
      "D:/Project_TH_2/Data_set/train\\YAF_search_happy.wav\n",
      "D:/Project_TH_2/Data_set/train\\YAF_search_neutral.wav\n",
      "D:/Project_TH_2/Data_set/train\\YAF_search_ps.wav\n",
      "D:/Project_TH_2/Data_set/train\\YAF_search_sad.wav\n",
      "D:/Project_TH_2/Data_set/train\\YAF_seize_angry.wav\n",
      "D:/Project_TH_2/Data_set/train\\YAF_seize_disgust.wav\n",
      "D:/Project_TH_2/Data_set/train\\YAF_seize_fear.wav\n",
      "D:/Project_TH_2/Data_set/train\\YAF_seize_happy.wav\n",
      "D:/Project_TH_2/Data_set/train\\YAF_seize_neutral.wav\n",
      "D:/Project_TH_2/Data_set/train\\YAF_seize_ps.wav\n",
      "D:/Project_TH_2/Data_set/train\\YAF_seize_sad.wav\n",
      "D:/Project_TH_2/Data_set/train\\YAF_sell_angry.wav\n",
      "D:/Project_TH_2/Data_set/train\\YAF_sell_disgust.wav\n",
      "D:/Project_TH_2/Data_set/train\\YAF_sell_fear.wav\n",
      "D:/Project_TH_2/Data_set/train\\YAF_sell_happy.wav\n",
      "D:/Project_TH_2/Data_set/train\\YAF_sell_neutral.wav\n",
      "D:/Project_TH_2/Data_set/train\\YAF_sell_ps.wav\n",
      "D:/Project_TH_2/Data_set/train\\YAF_sell_sad.wav\n",
      "D:/Project_TH_2/Data_set/train\\YAF_shack_angry.wav\n",
      "D:/Project_TH_2/Data_set/train\\YAF_shack_disgust.wav\n",
      "D:/Project_TH_2/Data_set/train\\YAF_shack_fear.wav\n",
      "D:/Project_TH_2/Data_set/train\\YAF_shack_happy.wav\n",
      "D:/Project_TH_2/Data_set/train\\YAF_shack_neutral.wav\n",
      "D:/Project_TH_2/Data_set/train\\YAF_shack_ps.wav\n",
      "D:/Project_TH_2/Data_set/train\\YAF_shack_sad.wav\n",
      "D:/Project_TH_2/Data_set/train\\YAF_shall_angry.wav\n"
     ]
    },
    {
     "name": "stderr",
     "output_type": "stream",
     "text": [
      "C:\\Users\\Admin\\AppData\\Roaming\\Python\\Python312\\site-packages\\librosa\\core\\spectrum.py:266: UserWarning: n_fft=1024 is too large for input signal of length=891\n",
      "  warnings.warn(\n"
     ]
    },
    {
     "name": "stdout",
     "output_type": "stream",
     "text": [
      "D:/Project_TH_2/Data_set/train\\YAF_shall_disgust.wav\n",
      "D:/Project_TH_2/Data_set/train\\YAF_shall_fear.wav\n",
      "D:/Project_TH_2/Data_set/train\\YAF_shall_happy.wav\n",
      "D:/Project_TH_2/Data_set/train\\YAF_shall_neutral.wav\n",
      "D:/Project_TH_2/Data_set/train\\YAF_shall_ps.wav\n",
      "D:/Project_TH_2/Data_set/train\\YAF_shall_sad.wav\n",
      "D:/Project_TH_2/Data_set/train\\YAF_shawl_angry.wav\n",
      "D:/Project_TH_2/Data_set/train\\YAF_shawl_disgust.wav\n",
      "D:/Project_TH_2/Data_set/train\\YAF_shawl_fear.wav\n",
      "D:/Project_TH_2/Data_set/train\\YAF_shawl_happy.wav\n",
      "D:/Project_TH_2/Data_set/train\\YAF_shawl_neutral.wav\n",
      "D:/Project_TH_2/Data_set/train\\YAF_shawl_ps.wav\n",
      "D:/Project_TH_2/Data_set/train\\YAF_shawl_sad.wav\n",
      "D:/Project_TH_2/Data_set/train\\YAF_sheep_angry.wav\n",
      "D:/Project_TH_2/Data_set/train\\YAF_sheep_disgust.wav\n",
      "D:/Project_TH_2/Data_set/train\\YAF_sheep_fear.wav\n",
      "D:/Project_TH_2/Data_set/train\\YAF_sheep_happy.wav\n",
      "D:/Project_TH_2/Data_set/train\\YAF_sheep_neutral.wav\n",
      "D:/Project_TH_2/Data_set/train\\YAF_sheep_ps.wav\n",
      "D:/Project_TH_2/Data_set/train\\YAF_sheep_sad.wav\n",
      "D:/Project_TH_2/Data_set/train\\YAF_shirt_angry.wav\n",
      "D:/Project_TH_2/Data_set/train\\YAF_shirt_disgust.wav\n",
      "D:/Project_TH_2/Data_set/train\\YAF_shirt_fear.wav\n",
      "D:/Project_TH_2/Data_set/train\\YAF_shirt_happy.wav\n",
      "D:/Project_TH_2/Data_set/train\\YAF_shirt_neutral.wav\n",
      "D:/Project_TH_2/Data_set/train\\YAF_shirt_ps.wav\n",
      "D:/Project_TH_2/Data_set/train\\YAF_shirt_sad.wav\n",
      "D:/Project_TH_2/Data_set/train\\YAF_should_angry.wav\n",
      "D:/Project_TH_2/Data_set/train\\YAF_should_disgust.wav\n"
     ]
    },
    {
     "name": "stderr",
     "output_type": "stream",
     "text": [
      "C:\\Users\\Admin\\AppData\\Roaming\\Python\\Python312\\site-packages\\librosa\\core\\spectrum.py:266: UserWarning: n_fft=1024 is too large for input signal of length=933\n",
      "  warnings.warn(\n"
     ]
    },
    {
     "name": "stdout",
     "output_type": "stream",
     "text": [
      "D:/Project_TH_2/Data_set/train\\YAF_should_fear.wav\n",
      "D:/Project_TH_2/Data_set/train\\YAF_should_happy.wav\n",
      "D:/Project_TH_2/Data_set/train\\YAF_should_neutral.wav\n",
      "D:/Project_TH_2/Data_set/train\\YAF_should_ps.wav\n",
      "D:/Project_TH_2/Data_set/train\\YAF_should_sad.wav\n",
      "D:/Project_TH_2/Data_set/train\\YAF_shout_angry.wav\n",
      "D:/Project_TH_2/Data_set/train\\YAF_shout_disgust.wav\n",
      "D:/Project_TH_2/Data_set/train\\YAF_shout_fear.wav\n",
      "D:/Project_TH_2/Data_set/train\\YAF_shout_happy.wav\n",
      "D:/Project_TH_2/Data_set/train\\YAF_shout_neutral.wav\n",
      "D:/Project_TH_2/Data_set/train\\YAF_shout_ps.wav\n",
      "D:/Project_TH_2/Data_set/train\\YAF_shout_sad.wav\n",
      "D:/Project_TH_2/Data_set/train\\YAF_size_angry.wav\n",
      "D:/Project_TH_2/Data_set/train\\YAF_size_disgust.wav\n",
      "D:/Project_TH_2/Data_set/train\\YAF_size_fear.wav\n",
      "D:/Project_TH_2/Data_set/train\\YAF_size_happy.wav\n",
      "D:/Project_TH_2/Data_set/train\\YAF_size_neutral.wav\n",
      "D:/Project_TH_2/Data_set/train\\YAF_size_ps.wav\n",
      "D:/Project_TH_2/Data_set/train\\YAF_size_sad.wav\n",
      "D:/Project_TH_2/Data_set/train\\YAF_soap_angry.wav\n",
      "D:/Project_TH_2/Data_set/train\\YAF_soap_disgust.wav\n",
      "D:/Project_TH_2/Data_set/train\\YAF_soap_fear.wav\n",
      "D:/Project_TH_2/Data_set/train\\YAF_soap_happy.wav\n",
      "D:/Project_TH_2/Data_set/train\\YAF_soap_neutral.wav\n",
      "D:/Project_TH_2/Data_set/train\\YAF_soap_ps.wav\n",
      "D:/Project_TH_2/Data_set/train\\YAF_soap_sad.wav\n",
      "D:/Project_TH_2/Data_set/train\\YAF_soup_angry.wav\n",
      "D:/Project_TH_2/Data_set/train\\YAF_soup_disgust.wav\n",
      "D:/Project_TH_2/Data_set/train\\YAF_soup_fear.wav\n",
      "D:/Project_TH_2/Data_set/train\\YAF_soup_happy.wav\n",
      "D:/Project_TH_2/Data_set/train\\YAF_soup_neutral.wav\n",
      "D:/Project_TH_2/Data_set/train\\YAF_soup_ps.wav\n",
      "D:/Project_TH_2/Data_set/train\\YAF_soup_sad.wav\n",
      "D:/Project_TH_2/Data_set/train\\YAF_sour_angry.wav\n",
      "D:/Project_TH_2/Data_set/train\\YAF_sour_disgust.wav\n",
      "D:/Project_TH_2/Data_set/train\\YAF_sour_fear.wav\n",
      "D:/Project_TH_2/Data_set/train\\YAF_sour_happy.wav\n",
      "D:/Project_TH_2/Data_set/train\\YAF_sour_neutral.wav\n",
      "D:/Project_TH_2/Data_set/train\\YAF_sour_ps.wav\n",
      "D:/Project_TH_2/Data_set/train\\YAF_sour_sad.wav\n",
      "D:/Project_TH_2/Data_set/train\\YAF_south_angry.wav\n",
      "D:/Project_TH_2/Data_set/train\\YAF_south_disgust.wav\n",
      "D:/Project_TH_2/Data_set/train\\YAF_south_fear.wav\n",
      "D:/Project_TH_2/Data_set/train\\YAF_south_happy.wav\n",
      "D:/Project_TH_2/Data_set/train\\YAF_south_neutral.wav\n",
      "D:/Project_TH_2/Data_set/train\\YAF_south_ps.wav\n",
      "D:/Project_TH_2/Data_set/train\\YAF_south_sad.wav\n",
      "D:/Project_TH_2/Data_set/train\\YAF_sub_angry.wav\n",
      "D:/Project_TH_2/Data_set/train\\YAF_sub_disgust.wav\n",
      "D:/Project_TH_2/Data_set/train\\YAF_sub_fear.wav\n",
      "D:/Project_TH_2/Data_set/train\\YAF_sub_happy.wav\n",
      "D:/Project_TH_2/Data_set/train\\YAF_sub_neutral.wav\n",
      "D:/Project_TH_2/Data_set/train\\YAF_sub_ps.wav\n",
      "D:/Project_TH_2/Data_set/train\\YAF_sub_sad.wav\n",
      "D:/Project_TH_2/Data_set/train\\YAF_such_angry.wav\n",
      "D:/Project_TH_2/Data_set/train\\YAF_such_disgust.wav\n",
      "D:/Project_TH_2/Data_set/train\\YAF_such_fear.wav\n",
      "D:/Project_TH_2/Data_set/train\\YAF_such_happy.wav\n",
      "D:/Project_TH_2/Data_set/train\\YAF_such_neutral.wav\n",
      "D:/Project_TH_2/Data_set/train\\YAF_such_ps.wav\n",
      "D:/Project_TH_2/Data_set/train\\YAF_such_sad.wav\n",
      "D:/Project_TH_2/Data_set/train\\YAF_sure_angry.wav\n",
      "D:/Project_TH_2/Data_set/train\\YAF_sure_disgust.wav\n",
      "D:/Project_TH_2/Data_set/train\\YAF_sure_fear.wav\n",
      "D:/Project_TH_2/Data_set/train\\YAF_sure_happy.wav\n",
      "D:/Project_TH_2/Data_set/train\\YAF_sure_neutral.wav\n",
      "D:/Project_TH_2/Data_set/train\\YAF_sure_ps.wav\n",
      "D:/Project_TH_2/Data_set/train\\YAF_sure_sad.wav\n",
      "D:/Project_TH_2/Data_set/train\\YAF_take_angry.wav\n",
      "D:/Project_TH_2/Data_set/train\\YAF_take_disgust.wav\n",
      "D:/Project_TH_2/Data_set/train\\YAF_take_fear.wav\n",
      "D:/Project_TH_2/Data_set/train\\YAF_take_happy.wav\n",
      "D:/Project_TH_2/Data_set/train\\YAF_take_neutral.wav\n",
      "D:/Project_TH_2/Data_set/train\\YAF_take_ps.wav\n",
      "D:/Project_TH_2/Data_set/train\\YAF_take_sad.wav\n",
      "D:/Project_TH_2/Data_set/train\\YAF_talk_angry.wav\n",
      "D:/Project_TH_2/Data_set/train\\YAF_talk_disgust.wav\n",
      "D:/Project_TH_2/Data_set/train\\YAF_talk_fear.wav\n",
      "D:/Project_TH_2/Data_set/train\\YAF_talk_happy.wav\n",
      "D:/Project_TH_2/Data_set/train\\YAF_talk_neutral.wav\n",
      "D:/Project_TH_2/Data_set/train\\YAF_talk_ps.wav\n",
      "D:/Project_TH_2/Data_set/train\\YAF_talk_sad.wav\n",
      "D:/Project_TH_2/Data_set/train\\YAF_tape_angry.wav\n"
     ]
    },
    {
     "name": "stderr",
     "output_type": "stream",
     "text": [
      "C:\\Users\\Admin\\AppData\\Roaming\\Python\\Python312\\site-packages\\librosa\\core\\spectrum.py:266: UserWarning: n_fft=1024 is too large for input signal of length=896\n",
      "  warnings.warn(\n"
     ]
    },
    {
     "name": "stdout",
     "output_type": "stream",
     "text": [
      "D:/Project_TH_2/Data_set/train\\YAF_tape_disgust.wav\n",
      "D:/Project_TH_2/Data_set/train\\YAF_tape_fear.wav\n",
      "D:/Project_TH_2/Data_set/train\\YAF_tape_happy.wav\n",
      "D:/Project_TH_2/Data_set/train\\YAF_tape_neutral.wav\n",
      "D:/Project_TH_2/Data_set/train\\YAF_tape_ps.wav\n",
      "D:/Project_TH_2/Data_set/train\\YAF_tape_sad.wav\n",
      "D:/Project_TH_2/Data_set/train\\YAF_team_angry.wav\n",
      "D:/Project_TH_2/Data_set/train\\YAF_team_disgust.wav\n",
      "D:/Project_TH_2/Data_set/train\\YAF_team_fear.wav\n",
      "D:/Project_TH_2/Data_set/train\\YAF_team_happy.wav\n",
      "D:/Project_TH_2/Data_set/train\\YAF_team_neutral.wav\n",
      "D:/Project_TH_2/Data_set/train\\YAF_team_ps.wav\n",
      "D:/Project_TH_2/Data_set/train\\YAF_team_sad.wav\n",
      "D:/Project_TH_2/Data_set/train\\YAF_tell_angry.wav\n",
      "D:/Project_TH_2/Data_set/train\\YAF_tell_disgust.wav\n",
      "D:/Project_TH_2/Data_set/train\\YAF_tell_fear.wav\n",
      "D:/Project_TH_2/Data_set/train\\YAF_tell_happy.wav\n",
      "D:/Project_TH_2/Data_set/train\\YAF_tell_neutral.wav\n",
      "D:/Project_TH_2/Data_set/train\\YAF_tell_ps.wav\n",
      "D:/Project_TH_2/Data_set/train\\YAF_tell_sad.wav\n",
      "D:/Project_TH_2/Data_set/train\\YAF_thin_angry.wav\n",
      "D:/Project_TH_2/Data_set/train\\YAF_thin_disgust.wav\n",
      "D:/Project_TH_2/Data_set/train\\YAF_thin_fear.wav\n",
      "D:/Project_TH_2/Data_set/train\\YAF_thin_happy.wav\n",
      "D:/Project_TH_2/Data_set/train\\YAF_thin_neutral.wav\n",
      "D:/Project_TH_2/Data_set/train\\YAF_thin_ps.wav\n"
     ]
    },
    {
     "name": "stderr",
     "output_type": "stream",
     "text": [
      "C:\\Users\\Admin\\AppData\\Roaming\\Python\\Python312\\site-packages\\librosa\\core\\spectrum.py:266: UserWarning: n_fft=1024 is too large for input signal of length=790\n",
      "  warnings.warn(\n"
     ]
    },
    {
     "name": "stdout",
     "output_type": "stream",
     "text": [
      "D:/Project_TH_2/Data_set/train\\YAF_thin_sad.wav\n",
      "D:/Project_TH_2/Data_set/train\\YAF_third_angry.wav\n",
      "D:/Project_TH_2/Data_set/train\\YAF_third_disgust.wav\n",
      "D:/Project_TH_2/Data_set/train\\YAF_third_fear.wav\n",
      "D:/Project_TH_2/Data_set/train\\YAF_third_happy.wav\n",
      "D:/Project_TH_2/Data_set/train\\YAF_third_neutral.wav\n",
      "D:/Project_TH_2/Data_set/train\\YAF_third_ps.wav\n",
      "D:/Project_TH_2/Data_set/train\\YAF_third_sad.wav\n",
      "D:/Project_TH_2/Data_set/train\\YAF_thought_angry.wav\n",
      "D:/Project_TH_2/Data_set/train\\YAF_thought_disgust.wav\n",
      "D:/Project_TH_2/Data_set/train\\YAF_thought_fear.wav\n",
      "D:/Project_TH_2/Data_set/train\\YAF_thought_happy.wav\n",
      "D:/Project_TH_2/Data_set/train\\YAF_thought_neutral.wav\n",
      "D:/Project_TH_2/Data_set/train\\YAF_thought_ps.wav\n",
      "D:/Project_TH_2/Data_set/train\\YAF_thought_sad.wav\n",
      "D:/Project_TH_2/Data_set/train\\YAF_thumb_angry.wav\n",
      "D:/Project_TH_2/Data_set/train\\YAF_thumb_disgust.wav\n",
      "D:/Project_TH_2/Data_set/train\\YAF_thumb_fear.wav\n",
      "D:/Project_TH_2/Data_set/train\\YAF_thumb_happy.wav\n",
      "D:/Project_TH_2/Data_set/train\\YAF_thumb_neutral.wav\n",
      "D:/Project_TH_2/Data_set/train\\YAF_thumb_ps.wav\n",
      "D:/Project_TH_2/Data_set/train\\YAF_thumb_sad.wav\n",
      "D:/Project_TH_2/Data_set/train\\YAF_time_angry.wav\n",
      "D:/Project_TH_2/Data_set/train\\YAF_time_disgust.wav\n",
      "D:/Project_TH_2/Data_set/train\\YAF_time_fear.wav\n",
      "D:/Project_TH_2/Data_set/train\\YAF_time_happy.wav\n",
      "D:/Project_TH_2/Data_set/train\\YAF_time_neutral.wav\n",
      "D:/Project_TH_2/Data_set/train\\YAF_time_ps.wav\n",
      "D:/Project_TH_2/Data_set/train\\YAF_time_sad.wav\n",
      "D:/Project_TH_2/Data_set/train\\YAF_tip_angry.wav\n",
      "D:/Project_TH_2/Data_set/train\\YAF_tip_disgust.wav\n",
      "D:/Project_TH_2/Data_set/train\\YAF_tip_fear.wav\n",
      "D:/Project_TH_2/Data_set/train\\YAF_tip_happy.wav\n",
      "D:/Project_TH_2/Data_set/train\\YAF_tip_neutral.wav\n",
      "D:/Project_TH_2/Data_set/train\\YAF_tip_ps.wav\n",
      "D:/Project_TH_2/Data_set/train\\YAF_tip_sad.wav\n",
      "D:/Project_TH_2/Data_set/train\\YAF_tire_angry.wav\n",
      "D:/Project_TH_2/Data_set/train\\YAF_tire_disgust.wav\n",
      "D:/Project_TH_2/Data_set/train\\YAF_tire_fear.wav\n",
      "D:/Project_TH_2/Data_set/train\\YAF_tire_happy.wav\n",
      "D:/Project_TH_2/Data_set/train\\YAF_tire_neutral.wav\n",
      "D:/Project_TH_2/Data_set/train\\YAF_tire_ps.wav\n",
      "D:/Project_TH_2/Data_set/train\\YAF_tire_sad.wav\n",
      "D:/Project_TH_2/Data_set/train\\YAF_ton_angry.wav\n",
      "D:/Project_TH_2/Data_set/train\\YAF_ton_disgust.wav\n",
      "D:/Project_TH_2/Data_set/train\\YAF_ton_fear.wav\n",
      "D:/Project_TH_2/Data_set/train\\YAF_ton_happy.wav\n",
      "D:/Project_TH_2/Data_set/train\\YAF_ton_neutral.wav\n",
      "D:/Project_TH_2/Data_set/train\\YAF_ton_ps.wav\n",
      "D:/Project_TH_2/Data_set/train\\YAF_ton_sad.wav\n",
      "D:/Project_TH_2/Data_set/train\\YAF_tool_angry.wav\n",
      "D:/Project_TH_2/Data_set/train\\YAF_tool_disgust.wav\n",
      "D:/Project_TH_2/Data_set/train\\YAF_tool_fear.wav\n",
      "D:/Project_TH_2/Data_set/train\\YAF_tool_happy.wav\n",
      "D:/Project_TH_2/Data_set/train\\YAF_tool_neutral.wav\n",
      "D:/Project_TH_2/Data_set/train\\YAF_tool_ps.wav\n",
      "D:/Project_TH_2/Data_set/train\\YAF_tool_sad.wav\n",
      "D:/Project_TH_2/Data_set/train\\YAF_tough_angry.wav\n",
      "D:/Project_TH_2/Data_set/train\\YAF_tough_disgust.wav\n",
      "D:/Project_TH_2/Data_set/train\\YAF_tough_fear.wav\n",
      "D:/Project_TH_2/Data_set/train\\YAF_tough_happy.wav\n",
      "D:/Project_TH_2/Data_set/train\\YAF_tough_neutral.wav\n",
      "D:/Project_TH_2/Data_set/train\\YAF_tough_ps.wav\n",
      "D:/Project_TH_2/Data_set/train\\YAF_tough_sad.wav\n",
      "D:/Project_TH_2/Data_set/train\\YAF_turn_angry.wav\n",
      "D:/Project_TH_2/Data_set/train\\YAF_turn_disgust.wav\n",
      "D:/Project_TH_2/Data_set/train\\YAF_turn_fear.wav\n",
      "D:/Project_TH_2/Data_set/train\\YAF_turn_happy.wav\n",
      "D:/Project_TH_2/Data_set/train\\YAF_turn_neutral.wav\n",
      "D:/Project_TH_2/Data_set/train\\YAF_turn_ps.wav\n",
      "D:/Project_TH_2/Data_set/train\\YAF_turn_sad.wav\n",
      "D:/Project_TH_2/Data_set/train\\YAF_vine_angry.wav\n",
      "D:/Project_TH_2/Data_set/train\\YAF_vine_disgust.wav\n",
      "D:/Project_TH_2/Data_set/train\\YAF_vine_fear.wav\n",
      "D:/Project_TH_2/Data_set/train\\YAF_vine_happy.wav\n",
      "D:/Project_TH_2/Data_set/train\\YAF_vine_neutral.wav\n",
      "D:/Project_TH_2/Data_set/train\\YAF_vine_ps.wav\n",
      "D:/Project_TH_2/Data_set/train\\YAF_vine_sad.wav\n",
      "D:/Project_TH_2/Data_set/train\\YAF_voice_angry.wav\n",
      "D:/Project_TH_2/Data_set/train\\YAF_voice_disgust.wav\n",
      "D:/Project_TH_2/Data_set/train\\YAF_voice_fear.wav\n",
      "D:/Project_TH_2/Data_set/train\\YAF_voice_happy.wav\n",
      "D:/Project_TH_2/Data_set/train\\YAF_voice_neutral.wav\n",
      "D:/Project_TH_2/Data_set/train\\YAF_voice_ps.wav\n",
      "D:/Project_TH_2/Data_set/train\\YAF_voice_sad.wav\n",
      "D:/Project_TH_2/Data_set/train\\YAF_void_angry.wav\n",
      "D:/Project_TH_2/Data_set/train\\YAF_void_disgust.wav\n",
      "D:/Project_TH_2/Data_set/train\\YAF_void_fear.wav\n",
      "D:/Project_TH_2/Data_set/train\\YAF_void_happy.wav\n",
      "D:/Project_TH_2/Data_set/train\\YAF_void_neutral.wav\n",
      "D:/Project_TH_2/Data_set/train\\YAF_void_ps.wav\n",
      "D:/Project_TH_2/Data_set/train\\YAF_void_sad.wav\n",
      "D:/Project_TH_2/Data_set/train\\YAF_vote_angry.wav\n",
      "D:/Project_TH_2/Data_set/train\\YAF_vote_disgust.wav\n",
      "D:/Project_TH_2/Data_set/train\\YAF_vote_fear.wav\n",
      "D:/Project_TH_2/Data_set/train\\YAF_vote_happy.wav\n",
      "D:/Project_TH_2/Data_set/train\\YAF_vote_neutral.wav\n",
      "D:/Project_TH_2/Data_set/train\\YAF_vote_ps.wav\n",
      "D:/Project_TH_2/Data_set/train\\YAF_vote_sad.wav\n",
      "D:/Project_TH_2/Data_set/train\\YAF_wag_angry.wav\n",
      "D:/Project_TH_2/Data_set/train\\YAF_wag_disgust.wav\n",
      "D:/Project_TH_2/Data_set/train\\YAF_wag_fear.wav\n",
      "D:/Project_TH_2/Data_set/train\\YAF_wag_happy.wav\n",
      "D:/Project_TH_2/Data_set/train\\YAF_wag_neutral.wav\n",
      "D:/Project_TH_2/Data_set/train\\YAF_wag_ps.wav\n",
      "D:/Project_TH_2/Data_set/train\\YAF_wag_sad.wav\n",
      "D:/Project_TH_2/Data_set/train\\YAF_walk_angry.wav\n",
      "D:/Project_TH_2/Data_set/train\\YAF_walk_disgust.wav\n",
      "D:/Project_TH_2/Data_set/train\\YAF_walk_fear.wav\n",
      "D:/Project_TH_2/Data_set/train\\YAF_walk_happy.wav\n",
      "D:/Project_TH_2/Data_set/train\\YAF_walk_neutral.wav\n",
      "D:/Project_TH_2/Data_set/train\\YAF_walk_ps.wav\n",
      "D:/Project_TH_2/Data_set/train\\YAF_walk_sad.wav\n",
      "D:/Project_TH_2/Data_set/train\\YAF_wash_angry.wav\n"
     ]
    },
    {
     "name": "stderr",
     "output_type": "stream",
     "text": [
      "C:\\Users\\Admin\\AppData\\Roaming\\Python\\Python312\\site-packages\\librosa\\core\\spectrum.py:266: UserWarning: n_fft=1024 is too large for input signal of length=931\n",
      "  warnings.warn(\n"
     ]
    },
    {
     "name": "stdout",
     "output_type": "stream",
     "text": [
      "D:/Project_TH_2/Data_set/train\\YAF_wash_disgust.wav\n",
      "D:/Project_TH_2/Data_set/train\\YAF_wash_fear.wav\n",
      "D:/Project_TH_2/Data_set/train\\YAF_wash_happy.wav\n",
      "D:/Project_TH_2/Data_set/train\\YAF_wash_neutral.wav\n",
      "D:/Project_TH_2/Data_set/train\\YAF_wash_ps.wav\n",
      "D:/Project_TH_2/Data_set/train\\YAF_wash_sad.wav\n",
      "D:/Project_TH_2/Data_set/train\\YAF_week_angry.wav\n",
      "D:/Project_TH_2/Data_set/train\\YAF_week_disgust.wav\n",
      "D:/Project_TH_2/Data_set/train\\YAF_week_fear.wav\n",
      "D:/Project_TH_2/Data_set/train\\YAF_week_happy.wav\n",
      "D:/Project_TH_2/Data_set/train\\YAF_week_neutral.wav\n",
      "D:/Project_TH_2/Data_set/train\\YAF_week_ps.wav\n",
      "D:/Project_TH_2/Data_set/train\\YAF_week_sad.wav\n",
      "D:/Project_TH_2/Data_set/train\\YAF_wheat_angry.wav\n",
      "D:/Project_TH_2/Data_set/train\\YAF_wheat_disgust.wav\n",
      "D:/Project_TH_2/Data_set/train\\YAF_wheat_fear.wav\n",
      "D:/Project_TH_2/Data_set/train\\YAF_wheat_happy.wav\n",
      "D:/Project_TH_2/Data_set/train\\YAF_wheat_neutral.wav\n",
      "D:/Project_TH_2/Data_set/train\\YAF_wheat_ps.wav\n",
      "D:/Project_TH_2/Data_set/train\\YAF_wheat_sad.wav\n",
      "D:/Project_TH_2/Data_set/train\\YAF_when_angry.wav\n",
      "D:/Project_TH_2/Data_set/train\\YAF_when_disgust.wav\n",
      "D:/Project_TH_2/Data_set/train\\YAF_when_fear.wav\n",
      "D:/Project_TH_2/Data_set/train\\YAF_when_happy.wav\n",
      "D:/Project_TH_2/Data_set/train\\YAF_when_neutral.wav\n",
      "D:/Project_TH_2/Data_set/train\\YAF_when_ps.wav\n",
      "D:/Project_TH_2/Data_set/train\\YAF_when_sad.wav\n",
      "D:/Project_TH_2/Data_set/train\\YAF_which_angry.wav\n",
      "D:/Project_TH_2/Data_set/train\\YAF_which_disgust.wav\n",
      "D:/Project_TH_2/Data_set/train\\YAF_which_fear.wav\n",
      "D:/Project_TH_2/Data_set/train\\YAF_which_happy.wav\n",
      "D:/Project_TH_2/Data_set/train\\YAF_which_neutral.wav\n",
      "D:/Project_TH_2/Data_set/train\\YAF_which_ps.wav\n",
      "D:/Project_TH_2/Data_set/train\\YAF_which_sad.wav\n",
      "D:/Project_TH_2/Data_set/train\\YAF_whip_angry.wav\n",
      "D:/Project_TH_2/Data_set/train\\YAF_whip_disgust.wav\n",
      "D:/Project_TH_2/Data_set/train\\YAF_whip_fear.wav\n",
      "D:/Project_TH_2/Data_set/train\\YAF_whip_happy.wav\n",
      "D:/Project_TH_2/Data_set/train\\YAF_whip_neutral.wav\n",
      "D:/Project_TH_2/Data_set/train\\YAF_whip_ps.wav\n",
      "D:/Project_TH_2/Data_set/train\\YAF_whip_sad.wav\n",
      "D:/Project_TH_2/Data_set/train\\YAF_white_angry.wav\n",
      "D:/Project_TH_2/Data_set/train\\YAF_white_disgust.wav\n",
      "D:/Project_TH_2/Data_set/train\\YAF_white_fear.wav\n",
      "D:/Project_TH_2/Data_set/train\\YAF_white_happy.wav\n",
      "D:/Project_TH_2/Data_set/train\\YAF_white_neutral.wav\n",
      "D:/Project_TH_2/Data_set/train\\YAF_white_ps.wav\n",
      "D:/Project_TH_2/Data_set/train\\YAF_white_sad.wav\n",
      "D:/Project_TH_2/Data_set/train\\YAF_wife_angry.wav\n",
      "D:/Project_TH_2/Data_set/train\\YAF_wife_disgust.wav\n",
      "D:/Project_TH_2/Data_set/train\\YAF_wife_fear.wav\n",
      "D:/Project_TH_2/Data_set/train\\YAF_wife_happy.wav\n",
      "D:/Project_TH_2/Data_set/train\\YAF_wife_neutral.wav\n",
      "D:/Project_TH_2/Data_set/train\\YAF_wife_ps.wav\n",
      "D:/Project_TH_2/Data_set/train\\YAF_wife_sad.wav\n",
      "D:/Project_TH_2/Data_set/train\\YAF_wire_angry.wav\n",
      "D:/Project_TH_2/Data_set/train\\YAF_wire_disgust.wav\n",
      "D:/Project_TH_2/Data_set/train\\YAF_wire_fear.wav\n",
      "D:/Project_TH_2/Data_set/train\\YAF_wire_happy.wav\n",
      "D:/Project_TH_2/Data_set/train\\YAF_wire_neutral.wav\n",
      "D:/Project_TH_2/Data_set/train\\YAF_wire_ps.wav\n",
      "D:/Project_TH_2/Data_set/train\\YAF_wire_sad.wav\n",
      "D:/Project_TH_2/Data_set/train\\YAF_witch_angry.wav\n",
      "D:/Project_TH_2/Data_set/train\\YAF_witch_disgust.wav\n",
      "D:/Project_TH_2/Data_set/train\\YAF_witch_fear.wav\n",
      "D:/Project_TH_2/Data_set/train\\YAF_witch_happy.wav\n",
      "D:/Project_TH_2/Data_set/train\\YAF_witch_neutral.wav\n",
      "D:/Project_TH_2/Data_set/train\\YAF_witch_ps.wav\n",
      "D:/Project_TH_2/Data_set/train\\YAF_witch_sad.wav\n",
      "D:/Project_TH_2/Data_set/train\\YAF_yearn_angry.wav\n",
      "D:/Project_TH_2/Data_set/train\\YAF_yearn_disgust.wav\n",
      "D:/Project_TH_2/Data_set/train\\YAF_yearn_fear.wav\n",
      "D:/Project_TH_2/Data_set/train\\YAF_yearn_happy.wav\n",
      "D:/Project_TH_2/Data_set/train\\YAF_yearn_neutral.wav\n",
      "D:/Project_TH_2/Data_set/train\\YAF_yearn_ps.wav\n",
      "D:/Project_TH_2/Data_set/train\\YAF_yearn_sad.wav\n",
      "D:/Project_TH_2/Data_set/train\\YAF_yes_angry.wav\n",
      "D:/Project_TH_2/Data_set/train\\YAF_yes_disgust.wav\n",
      "D:/Project_TH_2/Data_set/train\\YAF_yes_fear.wav\n",
      "D:/Project_TH_2/Data_set/train\\YAF_yes_happy.wav\n",
      "D:/Project_TH_2/Data_set/train\\YAF_yes_neutral.wav\n",
      "D:/Project_TH_2/Data_set/train\\YAF_yes_ps.wav\n",
      "D:/Project_TH_2/Data_set/train\\YAF_yes_sad.wav\n",
      "D:/Project_TH_2/Data_set/train\\YAF_young_angry.wav\n",
      "D:/Project_TH_2/Data_set/train\\YAF_young_disgust.wav\n",
      "D:/Project_TH_2/Data_set/train\\YAF_young_fear.wav\n",
      "D:/Project_TH_2/Data_set/train\\YAF_young_happy.wav\n",
      "D:/Project_TH_2/Data_set/train\\YAF_young_neutral.wav\n",
      "D:/Project_TH_2/Data_set/train\\YAF_young_ps.wav\n",
      "D:/Project_TH_2/Data_set/train\\YAF_young_sad.wav\n",
      "D:/Project_TH_2/Data_set/train\\YAF_youth_angry.wav\n",
      "D:/Project_TH_2/Data_set/train\\YAF_youth_disgust.wav\n",
      "D:/Project_TH_2/Data_set/train\\YAF_youth_fear.wav\n"
     ]
    },
    {
     "name": "stderr",
     "output_type": "stream",
     "text": [
      "C:\\Users\\Admin\\AppData\\Roaming\\Python\\Python312\\site-packages\\librosa\\core\\spectrum.py:266: UserWarning: n_fft=1024 is too large for input signal of length=602\n",
      "  warnings.warn(\n"
     ]
    },
    {
     "name": "stdout",
     "output_type": "stream",
     "text": [
      "D:/Project_TH_2/Data_set/train\\YAF_youth_happy.wav\n",
      "D:/Project_TH_2/Data_set/train\\YAF_youth_neutral.wav\n",
      "D:/Project_TH_2/Data_set/train\\YAF_youth_ps.wav\n",
      "D:/Project_TH_2/Data_set/train\\YAF_youth_sad.wav\n",
      "Model Saved..\n",
      "Score: 1.0\n"
     ]
    }
   ],
   "source": [
    "import glob\n",
    "import librosa\n",
    "import librosa.display\n",
    "import numpy as np\n",
    "import _pickle as pickle\n",
    "import pandas as pd\n",
    "\n",
    "def extract_feature(file_name):\n",
    "    X, sample_rate = librosa.load(file_name)\n",
    "    stft = np.abs(librosa.stft(X))\n",
    "    mfccs = np.mean(librosa.feature.mfcc(y=X, sr=sample_rate, n_mfcc=40).T, axis=0)\n",
    "    chroma = np.mean(librosa.feature.chroma_stft(S=stft, sr=sample_rate).T, axis=0)\n",
    "    mel = np.mean(librosa.feature.melspectrogram(y=X, sr=sample_rate).T, axis=0)\n",
    "    contrast = np.mean(librosa.feature.spectral_contrast(S=stft, sr=sample_rate).T, axis=0)\n",
    "    tonnetz = np.mean(librosa.feature.tonnetz(y=librosa.effects.harmonic(X),\n",
    "                                              sr=sample_rate).T, axis=0)\n",
    "    return mfccs, chroma, mel, contrast, tonnetz\n",
    "\n",
    "\n",
    "def parse_audio_files(path):\n",
    "    features, labels = np.empty((0, 193)), np.empty(0)\n",
    "    labels = []\n",
    "    for fn in glob.glob(path):\n",
    "        try:\n",
    "            mfccs, chroma, mel, contrast, tonnetz = extract_feature(fn)\n",
    "        except Exception as e:\n",
    "            print(\"Error encountered while parsing file: \", fn)\n",
    "            continue\n",
    "        ext_features = np.hstack([mfccs, chroma, mel, contrast, tonnetz])\n",
    "        features = np.vstack([features, ext_features])\n",
    "        labels = np.append(labels, fn.split(\"_\")[-1].split(\".\")[0])\n",
    "    return np.array(features), np.array(labels)\n",
    "\n",
    "\n",
    "\n",
    "tr_features, tr_labels = parse_audio_files('D:/Project_TH_2/Data_set/train/*.wav')\n",
    "\n",
    "tr_features = np.array(tr_features, dtype=pd.Series)\n",
    "tr_labels = np.array(tr_labels, dtype=pd.Series)\n",
    "\n",
    "X=tr_features.astype(int)\n",
    "y=tr_labels.astype(str)\n",
    "\n",
    "#class_weight=\"balanced\",criterion='entropy', max_depth=10, min_samples_split=20, min_samples_leaf=10\n",
    "clf = tree.DecisionTreeClassifier()\n",
    "clf = clf.fit(X, y)\n",
    "\n",
    "filename = 'D:/Project_TH_2/Model/Model_Decision_tree/clf_Model_protocol_tree.sav'\n",
    "\n",
    "pickle.dump(clf, open(filename, 'wb'), protocol=2)\n",
    "\n",
    "print('Model Saved..')\n",
    "print('Score:', clf.score(X=tr_features.astype(int), y=tr_labels.astype(str)))"
   ]
  },
  {
   "cell_type": "code",
   "execution_count": 16,
   "metadata": {},
   "outputs": [
    {
     "name": "stdout",
     "output_type": "stream",
     "text": [
      "[learning_curve] Training set sizes: [ 179  582  985 1388 1792]\n"
     ]
    },
    {
     "name": "stderr",
     "output_type": "stream",
     "text": [
      "[Parallel(n_jobs=-1)]: Using backend LokyBackend with 12 concurrent workers.\n",
      "[Parallel(n_jobs=-1)]: Done  25 out of  25 | elapsed:    4.9s finished\n",
      "C:\\Users\\Admin\\AppData\\Local\\Temp\\ipykernel_12884\\3434649952.py:16: UserWarning: No artists with labels found to put in legend.  Note that artists whose label start with an underscore are ignored when legend() is called with no argument.\n",
      "  plt.legend(loc=\"best\")\n"
     ]
    },
    {
     "data": {
      "image/png": "[encoded data removed]",
      "text/plain": [
       "<Figure size 640x480 with 1 Axes>"
      ]
     },
     "metadata": {},
     "output_type": "display_data"
    }
   ],
   "source": [
    "# Learning curve plotting\n",
    "from sklearn import model_selection\n",
    "import matplotlib.pyplot as plt\n",
    "from sklearn.model_selection import learning_curve\n",
    "seed = 7\n",
    "kfold = model_selection.KFold(n_splits=5, random_state=seed, shuffle=True)\n",
    "train_sizes, train_scores, test_scores = learning_curve(clf, tr_features, tr_labels, n_jobs=-1, cv=kfold,\n",
    "                                                        train_sizes=np.linspace(.1, 1.0, 5), verbose=1)\n",
    "train_scores_mean = np.mean(train_scores, axis=1)\n",
    "train_scores_std = np.std(train_scores, axis=1)\n",
    "test_scores_mean = np.mean(test_scores, axis=1)\n",
    "test_scores_std = np.std(test_scores, axis=1)\n",
    "\n",
    "plt.figure()\n",
    "plt.title(\"Decision Tree Model\")\n",
    "plt.legend(loc=\"best\")\n",
    "plt.xlabel(\"Training examples\")\n",
    "plt.ylabel(\"Score\")\n",
    "plt.gca().invert_yaxis()\n",
    "\n",
    "plt.grid()\n",
    "\n",
    "plt.fill_between(train_sizes, train_scores_mean - train_scores_std, train_scores_mean + train_scores_std, alpha=0.1,\n",
    "                 color=\"r\")\n",
    "plt.fill_between(train_sizes, test_scores_mean - test_scores_std, test_scores_mean + test_scores_std, alpha=0.1,\n",
    "                 color=\"g\")\n",
    "line_up = plt.plot(train_sizes, train_scores_mean, 'o-', color=\"r\", label=\"Training score\")\n",
    "line_down = plt.plot(train_sizes, test_scores_mean, 'o-', color=\"g\", label=\"Cross-validation score\")\n",
    "plt.ylim(-.1, 1.1)\n",
    "plt.legend(loc=\"lower right\")\n",
    "plt.show()"
   ]
  },
  {
   "cell_type": "code",
   "execution_count": 18,
   "metadata": {},
   "outputs": [
    {
     "name": "stderr",
     "output_type": "stream",
     "text": [
      "C:\\Users\\Admin\\AppData\\Roaming\\Python\\Python312\\site-packages\\librosa\\core\\spectrum.py:266: UserWarning: n_fft=1024 is too large for input signal of length=531\n",
      "  warnings.warn(\n",
      "C:\\Users\\Admin\\AppData\\Roaming\\Python\\Python312\\site-packages\\librosa\\core\\spectrum.py:266: UserWarning: n_fft=1024 is too large for input signal of length=779\n",
      "  warnings.warn(\n",
      "C:\\Users\\Admin\\AppData\\Roaming\\Python\\Python312\\site-packages\\librosa\\core\\spectrum.py:266: UserWarning: n_fft=1024 is too large for input signal of length=596\n",
      "  warnings.warn(\n",
      "C:\\Users\\Admin\\AppData\\Roaming\\Python\\Python312\\site-packages\\librosa\\core\\spectrum.py:266: UserWarning: n_fft=1024 is too large for input signal of length=690\n",
      "  warnings.warn(\n",
      "C:\\Users\\Admin\\AppData\\Roaming\\Python\\Python312\\site-packages\\librosa\\core\\spectrum.py:266: UserWarning: n_fft=1024 is too large for input signal of length=705\n",
      "  warnings.warn(\n",
      "C:\\Users\\Admin\\AppData\\Roaming\\Python\\Python312\\site-packages\\librosa\\core\\spectrum.py:266: UserWarning: n_fft=1024 is too large for input signal of length=701\n",
      "  warnings.warn(\n",
      "C:\\Users\\Admin\\AppData\\Roaming\\Python\\Python312\\site-packages\\librosa\\core\\spectrum.py:266: UserWarning: n_fft=1024 is too large for input signal of length=883\n",
      "  warnings.warn(\n",
      "C:\\Users\\Admin\\AppData\\Roaming\\Python\\Python312\\site-packages\\librosa\\core\\spectrum.py:266: UserWarning: n_fft=1024 is too large for input signal of length=557\n",
      "  warnings.warn(\n",
      "C:\\Users\\Admin\\AppData\\Roaming\\Python\\Python312\\site-packages\\librosa\\core\\spectrum.py:266: UserWarning: n_fft=1024 is too large for input signal of length=784\n",
      "  warnings.warn(\n",
      "C:\\Users\\Admin\\AppData\\Roaming\\Python\\Python312\\site-packages\\librosa\\core\\spectrum.py:266: UserWarning: n_fft=1024 is too large for input signal of length=583\n",
      "  warnings.warn(\n",
      "C:\\Users\\Admin\\AppData\\Roaming\\Python\\Python312\\site-packages\\librosa\\core\\spectrum.py:266: UserWarning: n_fft=1024 is too large for input signal of length=667\n",
      "  warnings.warn(\n",
      "C:\\Users\\Admin\\AppData\\Roaming\\Python\\Python312\\site-packages\\librosa\\core\\spectrum.py:266: UserWarning: n_fft=1024 is too large for input signal of length=862\n",
      "  warnings.warn(\n",
      "C:\\Users\\Admin\\AppData\\Roaming\\Python\\Python312\\site-packages\\librosa\\core\\spectrum.py:266: UserWarning: n_fft=1024 is too large for input signal of length=532\n",
      "  warnings.warn(\n",
      "C:\\Users\\Admin\\AppData\\Roaming\\Python\\Python312\\site-packages\\librosa\\core\\spectrum.py:266: UserWarning: n_fft=1024 is too large for input signal of length=861\n",
      "  warnings.warn(\n",
      "C:\\Users\\Admin\\AppData\\Roaming\\Python\\Python312\\site-packages\\librosa\\core\\spectrum.py:266: UserWarning: n_fft=1024 is too large for input signal of length=644\n",
      "  warnings.warn(\n",
      "C:\\Users\\Admin\\AppData\\Roaming\\Python\\Python312\\site-packages\\librosa\\core\\spectrum.py:266: UserWarning: n_fft=1024 is too large for input signal of length=741\n",
      "  warnings.warn(\n",
      "C:\\Users\\Admin\\AppData\\Roaming\\Python\\Python312\\site-packages\\librosa\\core\\spectrum.py:266: UserWarning: n_fft=1024 is too large for input signal of length=746\n",
      "  warnings.warn(\n",
      "C:\\Users\\Admin\\AppData\\Roaming\\Python\\Python312\\site-packages\\librosa\\core\\spectrum.py:266: UserWarning: n_fft=1024 is too large for input signal of length=886\n",
      "  warnings.warn(\n",
      "C:\\Users\\Admin\\AppData\\Roaming\\Python\\Python312\\site-packages\\librosa\\core\\spectrum.py:266: UserWarning: n_fft=1024 is too large for input signal of length=554\n",
      "  warnings.warn(\n",
      "C:\\Users\\Admin\\AppData\\Roaming\\Python\\Python312\\site-packages\\librosa\\core\\spectrum.py:266: UserWarning: n_fft=1024 is too large for input signal of length=798\n",
      "  warnings.warn(\n",
      "C:\\Users\\Admin\\AppData\\Roaming\\Python\\Python312\\site-packages\\librosa\\core\\spectrum.py:266: UserWarning: n_fft=1024 is too large for input signal of length=612\n",
      "  warnings.warn(\n",
      "C:\\Users\\Admin\\AppData\\Roaming\\Python\\Python312\\site-packages\\librosa\\core\\spectrum.py:266: UserWarning: n_fft=1024 is too large for input signal of length=702\n",
      "  warnings.warn(\n",
      "C:\\Users\\Admin\\AppData\\Roaming\\Python\\Python312\\site-packages\\librosa\\core\\spectrum.py:266: UserWarning: n_fft=1024 is too large for input signal of length=715\n",
      "  warnings.warn(\n",
      "C:\\Users\\Admin\\AppData\\Roaming\\Python\\Python312\\site-packages\\librosa\\core\\spectrum.py:266: UserWarning: n_fft=1024 is too large for input signal of length=891\n",
      "  warnings.warn(\n",
      "C:\\Users\\Admin\\AppData\\Roaming\\Python\\Python312\\site-packages\\librosa\\core\\spectrum.py:266: UserWarning: n_fft=1024 is too large for input signal of length=962\n",
      "  warnings.warn(\n",
      "C:\\Users\\Admin\\AppData\\Roaming\\Python\\Python312\\site-packages\\librosa\\core\\spectrum.py:266: UserWarning: n_fft=1024 is too large for input signal of length=481\n",
      "  warnings.warn(\n",
      "C:\\Users\\Admin\\AppData\\Roaming\\Python\\Python312\\site-packages\\librosa\\core\\spectrum.py:266: UserWarning: n_fft=1024 is too large for input signal of length=809\n",
      "  warnings.warn(\n",
      "C:\\Users\\Admin\\AppData\\Roaming\\Python\\Python312\\site-packages\\librosa\\core\\spectrum.py:266: UserWarning: n_fft=1024 is too large for input signal of length=646\n",
      "  warnings.warn(\n",
      "C:\\Users\\Admin\\AppData\\Roaming\\Python\\Python312\\site-packages\\librosa\\core\\spectrum.py:266: UserWarning: n_fft=1024 is too large for input signal of length=716\n",
      "  warnings.warn(\n",
      "C:\\Users\\Admin\\AppData\\Roaming\\Python\\Python312\\site-packages\\librosa\\core\\spectrum.py:266: UserWarning: n_fft=1024 is too large for input signal of length=624\n",
      "  warnings.warn(\n",
      "C:\\Users\\Admin\\AppData\\Roaming\\Python\\Python312\\site-packages\\librosa\\core\\spectrum.py:266: UserWarning: n_fft=1024 is too large for input signal of length=837\n",
      "  warnings.warn(\n",
      "C:\\Users\\Admin\\AppData\\Roaming\\Python\\Python312\\site-packages\\librosa\\core\\spectrum.py:266: UserWarning: n_fft=1024 is too large for input signal of length=533\n",
      "  warnings.warn(\n",
      "C:\\Users\\Admin\\AppData\\Roaming\\Python\\Python312\\site-packages\\librosa\\core\\spectrum.py:266: UserWarning: n_fft=1024 is too large for input signal of length=824\n",
      "  warnings.warn(\n",
      "C:\\Users\\Admin\\AppData\\Roaming\\Python\\Python312\\site-packages\\librosa\\core\\spectrum.py:266: UserWarning: n_fft=1024 is too large for input signal of length=574\n",
      "  warnings.warn(\n",
      "C:\\Users\\Admin\\AppData\\Roaming\\Python\\Python312\\site-packages\\librosa\\core\\spectrum.py:266: UserWarning: n_fft=1024 is too large for input signal of length=694\n",
      "  warnings.warn(\n",
      "C:\\Users\\Admin\\AppData\\Roaming\\Python\\Python312\\site-packages\\librosa\\core\\spectrum.py:266: UserWarning: n_fft=1024 is too large for input signal of length=680\n",
      "  warnings.warn(\n",
      "C:\\Users\\Admin\\AppData\\Roaming\\Python\\Python312\\site-packages\\librosa\\core\\spectrum.py:266: UserWarning: n_fft=1024 is too large for input signal of length=711\n",
      "  warnings.warn(\n",
      "C:\\Users\\Admin\\AppData\\Roaming\\Python\\Python312\\site-packages\\librosa\\core\\spectrum.py:266: UserWarning: n_fft=1024 is too large for input signal of length=836\n",
      "  warnings.warn(\n",
      "C:\\Users\\Admin\\AppData\\Roaming\\Python\\Python312\\site-packages\\librosa\\core\\spectrum.py:266: UserWarning: n_fft=1024 is too large for input signal of length=986\n",
      "  warnings.warn(\n",
      "C:\\Users\\Admin\\AppData\\Roaming\\Python\\Python312\\site-packages\\librosa\\core\\spectrum.py:266: UserWarning: n_fft=1024 is too large for input signal of length=493\n",
      "  warnings.warn(\n",
      "C:\\Users\\Admin\\AppData\\Roaming\\Python\\Python312\\site-packages\\librosa\\core\\spectrum.py:266: UserWarning: n_fft=1024 is too large for input signal of length=826\n",
      "  warnings.warn(\n",
      "C:\\Users\\Admin\\AppData\\Roaming\\Python\\Python312\\site-packages\\librosa\\core\\spectrum.py:266: UserWarning: n_fft=1024 is too large for input signal of length=902\n",
      "  warnings.warn(\n",
      "C:\\Users\\Admin\\AppData\\Roaming\\Python\\Python312\\site-packages\\librosa\\core\\spectrum.py:266: UserWarning: n_fft=1024 is too large for input signal of length=451\n",
      "  warnings.warn(\n",
      "C:\\Users\\Admin\\AppData\\Roaming\\Python\\Python312\\site-packages\\librosa\\core\\spectrum.py:266: UserWarning: n_fft=1024 is too large for input signal of length=601\n",
      "  warnings.warn(\n",
      "C:\\Users\\Admin\\AppData\\Roaming\\Python\\Python312\\site-packages\\librosa\\core\\spectrum.py:266: UserWarning: n_fft=1024 is too large for input signal of length=729\n",
      "  warnings.warn(\n",
      "C:\\Users\\Admin\\AppData\\Roaming\\Python\\Python312\\site-packages\\librosa\\core\\spectrum.py:266: UserWarning: n_fft=1024 is too large for input signal of length=578\n",
      "  warnings.warn(\n",
      "C:\\Users\\Admin\\AppData\\Roaming\\Python\\Python312\\site-packages\\librosa\\core\\spectrum.py:266: UserWarning: n_fft=1024 is too large for input signal of length=958\n",
      "  warnings.warn(\n",
      "C:\\Users\\Admin\\AppData\\Roaming\\Python\\Python312\\site-packages\\librosa\\core\\spectrum.py:266: UserWarning: n_fft=1024 is too large for input signal of length=915\n",
      "  warnings.warn(\n",
      "C:\\Users\\Admin\\AppData\\Roaming\\Python\\Python312\\site-packages\\librosa\\core\\spectrum.py:266: UserWarning: n_fft=1024 is too large for input signal of length=458\n",
      "  warnings.warn(\n",
      "C:\\Users\\Admin\\AppData\\Roaming\\Python\\Python312\\site-packages\\librosa\\core\\spectrum.py:266: UserWarning: n_fft=1024 is too large for input signal of length=760\n",
      "  warnings.warn(\n",
      "C:\\Users\\Admin\\AppData\\Roaming\\Python\\Python312\\site-packages\\librosa\\core\\spectrum.py:266: UserWarning: n_fft=1024 is too large for input signal of length=522\n",
      "  warnings.warn(\n",
      "C:\\Users\\Admin\\AppData\\Roaming\\Python\\Python312\\site-packages\\librosa\\core\\spectrum.py:266: UserWarning: n_fft=1024 is too large for input signal of length=562\n",
      "  warnings.warn(\n",
      "C:\\Users\\Admin\\AppData\\Roaming\\Python\\Python312\\site-packages\\librosa\\core\\spectrum.py:266: UserWarning: n_fft=1024 is too large for input signal of length=668\n",
      "  warnings.warn(\n",
      "C:\\Users\\Admin\\AppData\\Roaming\\Python\\Python312\\site-packages\\librosa\\core\\spectrum.py:266: UserWarning: n_fft=1024 is too large for input signal of length=643\n",
      "  warnings.warn(\n",
      "C:\\Users\\Admin\\AppData\\Roaming\\Python\\Python312\\site-packages\\librosa\\core\\spectrum.py:266: UserWarning: n_fft=1024 is too large for input signal of length=877\n",
      "  warnings.warn(\n",
      "C:\\Users\\Admin\\AppData\\Roaming\\Python\\Python312\\site-packages\\librosa\\core\\spectrum.py:266: UserWarning: n_fft=1024 is too large for input signal of length=764\n",
      "  warnings.warn(\n",
      "C:\\Users\\Admin\\AppData\\Roaming\\Python\\Python312\\site-packages\\librosa\\core\\spectrum.py:266: UserWarning: n_fft=1024 is too large for input signal of length=956\n",
      "  warnings.warn(\n",
      "C:\\Users\\Admin\\AppData\\Roaming\\Python\\Python312\\site-packages\\librosa\\core\\spectrum.py:266: UserWarning: n_fft=1024 is too large for input signal of length=478\n",
      "  warnings.warn(\n",
      "C:\\Users\\Admin\\AppData\\Roaming\\Python\\Python312\\site-packages\\librosa\\core\\spectrum.py:266: UserWarning: n_fft=1024 is too large for input signal of length=720\n",
      "  warnings.warn(\n",
      "C:\\Users\\Admin\\AppData\\Roaming\\Python\\Python312\\site-packages\\librosa\\core\\spectrum.py:266: UserWarning: n_fft=1024 is too large for input signal of length=698\n",
      "  warnings.warn(\n",
      "C:\\Users\\Admin\\AppData\\Roaming\\Python\\Python312\\site-packages\\librosa\\core\\spectrum.py:266: UserWarning: n_fft=1024 is too large for input signal of length=712\n",
      "  warnings.warn(\n",
      "C:\\Users\\Admin\\AppData\\Roaming\\Python\\Python312\\site-packages\\librosa\\core\\spectrum.py:266: UserWarning: n_fft=1024 is too large for input signal of length=850\n",
      "  warnings.warn(\n",
      "C:\\Users\\Admin\\AppData\\Roaming\\Python\\Python312\\site-packages\\librosa\\core\\spectrum.py:266: UserWarning: n_fft=1024 is too large for input signal of length=528\n",
      "  warnings.warn(\n",
      "C:\\Users\\Admin\\AppData\\Roaming\\Python\\Python312\\site-packages\\librosa\\core\\spectrum.py:266: UserWarning: n_fft=1024 is too large for input signal of length=736\n",
      "  warnings.warn(\n",
      "C:\\Users\\Admin\\AppData\\Roaming\\Python\\Python312\\site-packages\\librosa\\core\\spectrum.py:266: UserWarning: n_fft=1024 is too large for input signal of length=998\n",
      "  warnings.warn(\n",
      "C:\\Users\\Admin\\AppData\\Roaming\\Python\\Python312\\site-packages\\librosa\\core\\spectrum.py:266: UserWarning: n_fft=1024 is too large for input signal of length=499\n",
      "  warnings.warn(\n",
      "C:\\Users\\Admin\\AppData\\Roaming\\Python\\Python312\\site-packages\\librosa\\core\\spectrum.py:266: UserWarning: n_fft=1024 is too large for input signal of length=654\n",
      "  warnings.warn(\n",
      "C:\\Users\\Admin\\AppData\\Roaming\\Python\\Python312\\site-packages\\librosa\\core\\spectrum.py:266: UserWarning: n_fft=1024 is too large for input signal of length=598\n",
      "  warnings.warn(\n",
      "C:\\Users\\Admin\\AppData\\Roaming\\Python\\Python312\\site-packages\\librosa\\core\\spectrum.py:266: UserWarning: n_fft=1024 is too large for input signal of length=867\n",
      "  warnings.warn(\n",
      "C:\\Users\\Admin\\AppData\\Roaming\\Python\\Python312\\site-packages\\librosa\\core\\spectrum.py:266: UserWarning: n_fft=1024 is too large for input signal of length=988\n",
      "  warnings.warn(\n",
      "C:\\Users\\Admin\\AppData\\Roaming\\Python\\Python312\\site-packages\\librosa\\core\\spectrum.py:266: UserWarning: n_fft=1024 is too large for input signal of length=494\n",
      "  warnings.warn(\n",
      "C:\\Users\\Admin\\AppData\\Roaming\\Python\\Python312\\site-packages\\librosa\\core\\spectrum.py:266: UserWarning: n_fft=1024 is too large for input signal of length=827\n",
      "  warnings.warn(\n",
      "C:\\Users\\Admin\\AppData\\Roaming\\Python\\Python312\\site-packages\\librosa\\core\\spectrum.py:266: UserWarning: n_fft=1024 is too large for input signal of length=967\n",
      "  warnings.warn(\n",
      "C:\\Users\\Admin\\AppData\\Roaming\\Python\\Python312\\site-packages\\librosa\\core\\spectrum.py:266: UserWarning: n_fft=1024 is too large for input signal of length=484\n",
      "  warnings.warn(\n",
      "C:\\Users\\Admin\\AppData\\Roaming\\Python\\Python312\\site-packages\\librosa\\core\\spectrum.py:266: UserWarning: n_fft=1024 is too large for input signal of length=619\n",
      "  warnings.warn(\n",
      "C:\\Users\\Admin\\AppData\\Roaming\\Python\\Python312\\site-packages\\librosa\\core\\spectrum.py:266: UserWarning: n_fft=1024 is too large for input signal of length=673\n",
      "  warnings.warn(\n",
      "C:\\Users\\Admin\\AppData\\Roaming\\Python\\Python312\\site-packages\\librosa\\core\\spectrum.py:266: UserWarning: n_fft=1024 is too large for input signal of length=710\n",
      "  warnings.warn(\n",
      "C:\\Users\\Admin\\AppData\\Roaming\\Python\\Python312\\site-packages\\librosa\\core\\spectrum.py:266: UserWarning: n_fft=1024 is too large for input signal of length=872\n",
      "  warnings.warn(\n",
      "C:\\Users\\Admin\\AppData\\Roaming\\Python\\Python312\\site-packages\\librosa\\core\\spectrum.py:266: UserWarning: n_fft=1024 is too large for input signal of length=582\n",
      "  warnings.warn(\n",
      "C:\\Users\\Admin\\AppData\\Roaming\\Python\\Python312\\site-packages\\librosa\\core\\spectrum.py:266: UserWarning: n_fft=1024 is too large for input signal of length=1002\n",
      "  warnings.warn(\n",
      "C:\\Users\\Admin\\AppData\\Roaming\\Python\\Python312\\site-packages\\librosa\\core\\spectrum.py:266: UserWarning: n_fft=1024 is too large for input signal of length=501\n",
      "  warnings.warn(\n",
      "C:\\Users\\Admin\\AppData\\Roaming\\Python\\Python312\\site-packages\\librosa\\core\\spectrum.py:266: UserWarning: n_fft=1024 is too large for input signal of length=655\n",
      "  warnings.warn(\n",
      "C:\\Users\\Admin\\AppData\\Roaming\\Python\\Python312\\site-packages\\librosa\\core\\spectrum.py:266: UserWarning: n_fft=1024 is too large for input signal of length=734\n",
      "  warnings.warn(\n",
      "C:\\Users\\Admin\\AppData\\Roaming\\Python\\Python312\\site-packages\\librosa\\core\\spectrum.py:266: UserWarning: n_fft=1024 is too large for input signal of length=615\n",
      "  warnings.warn(\n",
      "C:\\Users\\Admin\\AppData\\Roaming\\Python\\Python312\\site-packages\\librosa\\core\\spectrum.py:266: UserWarning: n_fft=1024 is too large for input signal of length=1004\n",
      "  warnings.warn(\n",
      "C:\\Users\\Admin\\AppData\\Roaming\\Python\\Python312\\site-packages\\librosa\\core\\spectrum.py:266: UserWarning: n_fft=1024 is too large for input signal of length=502\n",
      "  warnings.warn(\n",
      "C:\\Users\\Admin\\AppData\\Roaming\\Python\\Python312\\site-packages\\librosa\\core\\spectrum.py:266: UserWarning: n_fft=1024 is too large for input signal of length=840\n",
      "  warnings.warn(\n",
      "C:\\Users\\Admin\\AppData\\Roaming\\Python\\Python312\\site-packages\\librosa\\core\\spectrum.py:266: UserWarning: n_fft=1024 is too large for input signal of length=572\n",
      "  warnings.warn(\n",
      "C:\\Users\\Admin\\AppData\\Roaming\\Python\\Python312\\site-packages\\librosa\\core\\spectrum.py:266: UserWarning: n_fft=1024 is too large for input signal of length=689\n",
      "  warnings.warn(\n",
      "C:\\Users\\Admin\\AppData\\Roaming\\Python\\Python312\\site-packages\\librosa\\core\\spectrum.py:266: UserWarning: n_fft=1024 is too large for input signal of length=657\n",
      "  warnings.warn(\n",
      "C:\\Users\\Admin\\AppData\\Roaming\\Python\\Python312\\site-packages\\librosa\\core\\spectrum.py:266: UserWarning: n_fft=1024 is too large for input signal of length=653\n",
      "  warnings.warn(\n",
      "C:\\Users\\Admin\\AppData\\Roaming\\Python\\Python312\\site-packages\\librosa\\core\\spectrum.py:266: UserWarning: n_fft=1024 is too large for input signal of length=803\n",
      "  warnings.warn(\n",
      "C:\\Users\\Admin\\AppData\\Roaming\\Python\\Python312\\site-packages\\librosa\\core\\spectrum.py:266: UserWarning: n_fft=1024 is too large for input signal of length=514\n",
      "  warnings.warn(\n",
      "C:\\Users\\Admin\\AppData\\Roaming\\Python\\Python312\\site-packages\\librosa\\core\\spectrum.py:266: UserWarning: n_fft=1024 is too large for input signal of length=844\n",
      "  warnings.warn(\n",
      "C:\\Users\\Admin\\AppData\\Roaming\\Python\\Python312\\site-packages\\librosa\\core\\spectrum.py:266: UserWarning: n_fft=1024 is too large for input signal of length=1005\n",
      "  warnings.warn(\n",
      "C:\\Users\\Admin\\AppData\\Roaming\\Python\\Python312\\site-packages\\librosa\\core\\spectrum.py:266: UserWarning: n_fft=1024 is too large for input signal of length=503\n",
      "  warnings.warn(\n",
      "C:\\Users\\Admin\\AppData\\Roaming\\Python\\Python312\\site-packages\\librosa\\core\\spectrum.py:266: UserWarning: n_fft=1024 is too large for input signal of length=703\n",
      "  warnings.warn(\n",
      "C:\\Users\\Admin\\AppData\\Roaming\\Python\\Python312\\site-packages\\librosa\\core\\spectrum.py:266: UserWarning: n_fft=1024 is too large for input signal of length=638\n",
      "  warnings.warn(\n",
      "C:\\Users\\Admin\\AppData\\Roaming\\Python\\Python312\\site-packages\\librosa\\core\\spectrum.py:266: UserWarning: n_fft=1024 is too large for input signal of length=769\n",
      "  warnings.warn(\n",
      "C:\\Users\\Admin\\AppData\\Roaming\\Python\\Python312\\site-packages\\librosa\\core\\spectrum.py:266: UserWarning: n_fft=1024 is too large for input signal of length=884\n",
      "  warnings.warn(\n",
      "C:\\Users\\Admin\\AppData\\Roaming\\Python\\Python312\\site-packages\\librosa\\core\\spectrum.py:266: UserWarning: n_fft=1024 is too large for input signal of length=564\n",
      "  warnings.warn(\n",
      "C:\\Users\\Admin\\AppData\\Roaming\\Python\\Python312\\site-packages\\librosa\\core\\spectrum.py:266: UserWarning: n_fft=1024 is too large for input signal of length=791\n",
      "  warnings.warn(\n",
      "C:\\Users\\Admin\\AppData\\Roaming\\Python\\Python312\\site-packages\\librosa\\core\\spectrum.py:266: UserWarning: n_fft=1024 is too large for input signal of length=543\n",
      "  warnings.warn(\n",
      "C:\\Users\\Admin\\AppData\\Roaming\\Python\\Python312\\site-packages\\librosa\\core\\spectrum.py:266: UserWarning: n_fft=1024 is too large for input signal of length=707\n",
      "  warnings.warn(\n",
      "C:\\Users\\Admin\\AppData\\Roaming\\Python\\Python312\\site-packages\\librosa\\core\\spectrum.py:266: UserWarning: n_fft=1024 is too large for input signal of length=726\n",
      "  warnings.warn(\n",
      "C:\\Users\\Admin\\AppData\\Roaming\\Python\\Python312\\site-packages\\librosa\\core\\spectrum.py:266: UserWarning: n_fft=1024 is too large for input signal of length=858\n",
      "  warnings.warn(\n",
      "C:\\Users\\Admin\\AppData\\Roaming\\Python\\Python312\\site-packages\\librosa\\core\\spectrum.py:266: UserWarning: n_fft=1024 is too large for input signal of length=585\n",
      "  warnings.warn(\n",
      "C:\\Users\\Admin\\AppData\\Roaming\\Python\\Python312\\site-packages\\librosa\\core\\spectrum.py:266: UserWarning: n_fft=1024 is too large for input signal of length=868\n",
      "  warnings.warn(\n",
      "C:\\Users\\Admin\\AppData\\Roaming\\Python\\Python312\\site-packages\\librosa\\core\\spectrum.py:266: UserWarning: n_fft=1024 is too large for input signal of length=584\n",
      "  warnings.warn(\n",
      "C:\\Users\\Admin\\AppData\\Roaming\\Python\\Python312\\site-packages\\librosa\\core\\spectrum.py:266: UserWarning: n_fft=1024 is too large for input signal of length=742\n",
      "  warnings.warn(\n",
      "C:\\Users\\Admin\\AppData\\Roaming\\Python\\Python312\\site-packages\\librosa\\core\\spectrum.py:266: UserWarning: n_fft=1024 is too large for input signal of length=695\n",
      "  warnings.warn(\n",
      "C:\\Users\\Admin\\AppData\\Roaming\\Python\\Python312\\site-packages\\librosa\\core\\spectrum.py:266: UserWarning: n_fft=1024 is too large for input signal of length=675\n",
      "  warnings.warn(\n",
      "C:\\Users\\Admin\\AppData\\Roaming\\Python\\Python312\\site-packages\\librosa\\core\\spectrum.py:266: UserWarning: n_fft=1024 is too large for input signal of length=851\n",
      "  warnings.warn(\n",
      "C:\\Users\\Admin\\AppData\\Roaming\\Python\\Python312\\site-packages\\librosa\\core\\spectrum.py:266: UserWarning: n_fft=1024 is too large for input signal of length=552\n",
      "  warnings.warn(\n",
      "C:\\Users\\Admin\\AppData\\Roaming\\Python\\Python312\\site-packages\\librosa\\core\\spectrum.py:266: UserWarning: n_fft=1024 is too large for input signal of length=810\n",
      "  warnings.warn(\n",
      "C:\\Users\\Admin\\AppData\\Roaming\\Python\\Python312\\site-packages\\librosa\\core\\spectrum.py:266: UserWarning: n_fft=1024 is too large for input signal of length=982\n",
      "  warnings.warn(\n",
      "C:\\Users\\Admin\\AppData\\Roaming\\Python\\Python312\\site-packages\\librosa\\core\\spectrum.py:266: UserWarning: n_fft=1024 is too large for input signal of length=491\n",
      "  warnings.warn(\n",
      "C:\\Users\\Admin\\AppData\\Roaming\\Python\\Python312\\site-packages\\librosa\\core\\spectrum.py:266: UserWarning: n_fft=1024 is too large for input signal of length=696\n",
      "  warnings.warn(\n",
      "C:\\Users\\Admin\\AppData\\Roaming\\Python\\Python312\\site-packages\\librosa\\core\\spectrum.py:266: UserWarning: n_fft=1024 is too large for input signal of length=730\n",
      "  warnings.warn(\n",
      "C:\\Users\\Admin\\AppData\\Roaming\\Python\\Python312\\site-packages\\librosa\\core\\spectrum.py:266: UserWarning: n_fft=1024 is too large for input signal of length=878\n",
      "  warnings.warn(\n",
      "C:\\Users\\Admin\\AppData\\Roaming\\Python\\Python312\\site-packages\\librosa\\core\\spectrum.py:266: UserWarning: n_fft=1024 is too large for input signal of length=556\n",
      "  warnings.warn(\n",
      "C:\\Users\\Admin\\AppData\\Roaming\\Python\\Python312\\site-packages\\librosa\\core\\spectrum.py:266: UserWarning: n_fft=1024 is too large for input signal of length=719\n",
      "  warnings.warn(\n",
      "C:\\Users\\Admin\\AppData\\Roaming\\Python\\Python312\\site-packages\\librosa\\core\\spectrum.py:266: UserWarning: n_fft=1024 is too large for input signal of length=802\n",
      "  warnings.warn(\n",
      "C:\\Users\\Admin\\AppData\\Roaming\\Python\\Python312\\site-packages\\librosa\\core\\spectrum.py:266: UserWarning: n_fft=1024 is too large for input signal of length=687\n",
      "  warnings.warn(\n",
      "C:\\Users\\Admin\\AppData\\Roaming\\Python\\Python312\\site-packages\\librosa\\core\\spectrum.py:266: UserWarning: n_fft=1024 is too large for input signal of length=892\n",
      "  warnings.warn(\n",
      "C:\\Users\\Admin\\AppData\\Roaming\\Python\\Python312\\site-packages\\librosa\\core\\spectrum.py:266: UserWarning: n_fft=1024 is too large for input signal of length=806\n",
      "  warnings.warn(\n",
      "C:\\Users\\Admin\\AppData\\Roaming\\Python\\Python312\\site-packages\\librosa\\core\\spectrum.py:266: UserWarning: n_fft=1024 is too large for input signal of length=545\n",
      "  warnings.warn(\n",
      "C:\\Users\\Admin\\AppData\\Roaming\\Python\\Python312\\site-packages\\librosa\\core\\spectrum.py:266: UserWarning: n_fft=1024 is too large for input signal of length=635\n",
      "  warnings.warn(\n",
      "C:\\Users\\Admin\\AppData\\Roaming\\Python\\Python312\\site-packages\\librosa\\core\\spectrum.py:266: UserWarning: n_fft=1024 is too large for input signal of length=709\n",
      "  warnings.warn(\n",
      "C:\\Users\\Admin\\AppData\\Roaming\\Python\\Python312\\site-packages\\librosa\\core\\spectrum.py:266: UserWarning: n_fft=1024 is too large for input signal of length=693\n",
      "  warnings.warn(\n",
      "C:\\Users\\Admin\\AppData\\Roaming\\Python\\Python312\\site-packages\\librosa\\core\\spectrum.py:266: UserWarning: n_fft=1024 is too large for input signal of length=855\n",
      "  warnings.warn(\n",
      "C:\\Users\\Admin\\AppData\\Roaming\\Python\\Python312\\site-packages\\librosa\\core\\spectrum.py:266: UserWarning: n_fft=1024 is too large for input signal of length=842\n",
      "  warnings.warn(\n",
      "C:\\Users\\Admin\\AppData\\Roaming\\Python\\Python312\\site-packages\\librosa\\core\\spectrum.py:266: UserWarning: n_fft=1024 is too large for input signal of length=580\n",
      "  warnings.warn(\n",
      "C:\\Users\\Admin\\AppData\\Roaming\\Python\\Python312\\site-packages\\librosa\\core\\spectrum.py:266: UserWarning: n_fft=1024 is too large for input signal of length=618\n",
      "  warnings.warn(\n",
      "C:\\Users\\Admin\\AppData\\Roaming\\Python\\Python312\\site-packages\\librosa\\core\\spectrum.py:266: UserWarning: n_fft=1024 is too large for input signal of length=636\n",
      "  warnings.warn(\n",
      "C:\\Users\\Admin\\AppData\\Roaming\\Python\\Python312\\site-packages\\librosa\\core\\spectrum.py:266: UserWarning: n_fft=1024 is too large for input signal of length=830\n",
      "  warnings.warn(\n",
      "C:\\Users\\Admin\\AppData\\Roaming\\Python\\Python312\\site-packages\\librosa\\core\\spectrum.py:266: UserWarning: n_fft=1024 is too large for input signal of length=568\n",
      "  warnings.warn(\n",
      "C:\\Users\\Admin\\AppData\\Roaming\\Python\\Python312\\site-packages\\librosa\\core\\spectrum.py:266: UserWarning: n_fft=1024 is too large for input signal of length=839\n",
      "  warnings.warn(\n",
      "C:\\Users\\Admin\\AppData\\Roaming\\Python\\Python312\\site-packages\\librosa\\core\\spectrum.py:266: UserWarning: n_fft=1024 is too large for input signal of length=1001\n",
      "  warnings.warn(\n",
      "C:\\Users\\Admin\\AppData\\Roaming\\Python\\Python312\\site-packages\\librosa\\core\\spectrum.py:266: UserWarning: n_fft=1024 is too large for input signal of length=633\n",
      "  warnings.warn(\n",
      "C:\\Users\\Admin\\AppData\\Roaming\\Python\\Python312\\site-packages\\librosa\\core\\spectrum.py:266: UserWarning: n_fft=1024 is too large for input signal of length=745\n",
      "  warnings.warn(\n",
      "C:\\Users\\Admin\\AppData\\Roaming\\Python\\Python312\\site-packages\\librosa\\core\\spectrum.py:266: UserWarning: n_fft=1024 is too large for input signal of length=820\n",
      "  warnings.warn(\n",
      "C:\\Users\\Admin\\AppData\\Roaming\\Python\\Python312\\site-packages\\librosa\\core\\spectrum.py:266: UserWarning: n_fft=1024 is too large for input signal of length=882\n",
      "  warnings.warn(\n",
      "C:\\Users\\Admin\\AppData\\Roaming\\Python\\Python312\\site-packages\\librosa\\core\\spectrum.py:266: UserWarning: n_fft=1024 is too large for input signal of length=589\n",
      "  warnings.warn(\n",
      "C:\\Users\\Admin\\AppData\\Roaming\\Python\\Python312\\site-packages\\librosa\\core\\spectrum.py:266: UserWarning: n_fft=1024 is too large for input signal of length=692\n",
      "  warnings.warn(\n",
      "C:\\Users\\Admin\\AppData\\Roaming\\Python\\Python312\\site-packages\\librosa\\core\\spectrum.py:266: UserWarning: n_fft=1024 is too large for input signal of length=697\n",
      "  warnings.warn(\n",
      "C:\\Users\\Admin\\AppData\\Roaming\\Python\\Python312\\site-packages\\librosa\\core\\spectrum.py:266: UserWarning: n_fft=1024 is too large for input signal of length=875\n",
      "  warnings.warn(\n",
      "C:\\Users\\Admin\\AppData\\Roaming\\Python\\Python312\\site-packages\\librosa\\core\\spectrum.py:266: UserWarning: n_fft=1024 is too large for input signal of length=560\n",
      "  warnings.warn(\n",
      "C:\\Users\\Admin\\AppData\\Roaming\\Python\\Python312\\site-packages\\librosa\\core\\spectrum.py:266: UserWarning: n_fft=1024 is too large for input signal of length=853\n",
      "  warnings.warn(\n",
      "C:\\Users\\Admin\\AppData\\Roaming\\Python\\Python312\\site-packages\\librosa\\core\\spectrum.py:266: UserWarning: n_fft=1024 is too large for input signal of length=597\n",
      "  warnings.warn(\n",
      "C:\\Users\\Admin\\AppData\\Roaming\\Python\\Python312\\site-packages\\librosa\\core\\spectrum.py:266: UserWarning: n_fft=1024 is too large for input signal of length=743\n",
      "  warnings.warn(\n",
      "C:\\Users\\Admin\\AppData\\Roaming\\Python\\Python312\\site-packages\\librosa\\core\\spectrum.py:266: UserWarning: n_fft=1024 is too large for input signal of length=1009\n",
      "  warnings.warn(\n",
      "C:\\Users\\Admin\\AppData\\Roaming\\Python\\Python312\\site-packages\\librosa\\core\\spectrum.py:266: UserWarning: n_fft=1024 is too large for input signal of length=526\n",
      "  warnings.warn(\n",
      "C:\\Users\\Admin\\AppData\\Roaming\\Python\\Python312\\site-packages\\librosa\\core\\spectrum.py:266: UserWarning: n_fft=1024 is too large for input signal of length=833\n",
      "  warnings.warn(\n",
      "C:\\Users\\Admin\\AppData\\Roaming\\Python\\Python312\\site-packages\\librosa\\core\\spectrum.py:266: UserWarning: n_fft=1024 is too large for input signal of length=571\n",
      "  warnings.warn(\n",
      "C:\\Users\\Admin\\AppData\\Roaming\\Python\\Python312\\site-packages\\librosa\\core\\spectrum.py:266: UserWarning: n_fft=1024 is too large for input signal of length=670\n",
      "  warnings.warn(\n",
      "C:\\Users\\Admin\\AppData\\Roaming\\Python\\Python312\\site-packages\\librosa\\core\\spectrum.py:266: UserWarning: n_fft=1024 is too large for input signal of length=713\n",
      "  warnings.warn(\n",
      "C:\\Users\\Admin\\AppData\\Roaming\\Python\\Python312\\site-packages\\librosa\\core\\spectrum.py:266: UserWarning: n_fft=1024 is too large for input signal of length=647\n",
      "  warnings.warn(\n",
      "C:\\Users\\Admin\\AppData\\Roaming\\Python\\Python312\\site-packages\\librosa\\core\\spectrum.py:266: UserWarning: n_fft=1024 is too large for input signal of length=991\n",
      "  warnings.warn(\n",
      "C:\\Users\\Admin\\AppData\\Roaming\\Python\\Python312\\site-packages\\librosa\\core\\spectrum.py:266: UserWarning: n_fft=1024 is too large for input signal of length=513\n",
      "  warnings.warn(\n",
      "C:\\Users\\Admin\\AppData\\Roaming\\Python\\Python312\\site-packages\\librosa\\core\\spectrum.py:266: UserWarning: n_fft=1024 is too large for input signal of length=835\n",
      "  warnings.warn(\n",
      "C:\\Users\\Admin\\AppData\\Roaming\\Python\\Python312\\site-packages\\librosa\\core\\spectrum.py:266: UserWarning: n_fft=1024 is too large for input signal of length=553\n",
      "  warnings.warn(\n",
      "C:\\Users\\Admin\\AppData\\Roaming\\Python\\Python312\\site-packages\\librosa\\core\\spectrum.py:266: UserWarning: n_fft=1024 is too large for input signal of length=683\n",
      "  warnings.warn(\n",
      "C:\\Users\\Admin\\AppData\\Roaming\\Python\\Python312\\site-packages\\librosa\\core\\spectrum.py:266: UserWarning: n_fft=1024 is too large for input signal of length=599\n",
      "  warnings.warn(\n",
      "C:\\Users\\Admin\\AppData\\Roaming\\Python\\Python312\\site-packages\\librosa\\core\\spectrum.py:266: UserWarning: n_fft=1024 is too large for input signal of length=540\n",
      "  warnings.warn(\n",
      "C:\\Users\\Admin\\AppData\\Roaming\\Python\\Python312\\site-packages\\librosa\\core\\spectrum.py:266: UserWarning: n_fft=1024 is too large for input signal of length=831\n",
      "  warnings.warn(\n",
      "C:\\Users\\Admin\\AppData\\Roaming\\Python\\Python312\\site-packages\\librosa\\core\\spectrum.py:266: UserWarning: n_fft=1024 is too large for input signal of length=516\n",
      "  warnings.warn(\n",
      "C:\\Users\\Admin\\AppData\\Roaming\\Python\\Python312\\site-packages\\librosa\\core\\spectrum.py:266: UserWarning: n_fft=1024 is too large for input signal of length=652\n",
      "  warnings.warn(\n",
      "C:\\Users\\Admin\\AppData\\Roaming\\Python\\Python312\\site-packages\\librosa\\core\\spectrum.py:266: UserWarning: n_fft=1024 is too large for input signal of length=686\n",
      "  warnings.warn(\n",
      "C:\\Users\\Admin\\AppData\\Roaming\\Python\\Python312\\site-packages\\librosa\\core\\spectrum.py:266: UserWarning: n_fft=1024 is too large for input signal of length=992\n",
      "  warnings.warn(\n",
      "C:\\Users\\Admin\\AppData\\Roaming\\Python\\Python312\\site-packages\\librosa\\core\\spectrum.py:266: UserWarning: n_fft=1024 is too large for input signal of length=874\n",
      "  warnings.warn(\n",
      "C:\\Users\\Admin\\AppData\\Roaming\\Python\\Python312\\site-packages\\librosa\\core\\spectrum.py:266: UserWarning: n_fft=1024 is too large for input signal of length=544\n",
      "  warnings.warn(\n",
      "C:\\Users\\Admin\\AppData\\Roaming\\Python\\Python312\\site-packages\\librosa\\core\\spectrum.py:266: UserWarning: n_fft=1024 is too large for input signal of length=735\n",
      "  warnings.warn(\n",
      "C:\\Users\\Admin\\AppData\\Roaming\\Python\\Python312\\site-packages\\librosa\\core\\spectrum.py:266: UserWarning: n_fft=1024 is too large for input signal of length=676\n",
      "  warnings.warn(\n",
      "C:\\Users\\Admin\\AppData\\Roaming\\Python\\Python312\\site-packages\\librosa\\core\\spectrum.py:266: UserWarning: n_fft=1024 is too large for input signal of length=1022\n",
      "  warnings.warn(\n",
      "C:\\Users\\Admin\\AppData\\Roaming\\Python\\Python312\\site-packages\\librosa\\core\\spectrum.py:266: UserWarning: n_fft=1024 is too large for input signal of length=511\n",
      "  warnings.warn(\n",
      "C:\\Users\\Admin\\AppData\\Roaming\\Python\\Python312\\site-packages\\librosa\\core\\spectrum.py:266: UserWarning: n_fft=1024 is too large for input signal of length=518\n",
      "  warnings.warn(\n",
      "C:\\Users\\Admin\\AppData\\Roaming\\Python\\Python312\\site-packages\\librosa\\core\\spectrum.py:266: UserWarning: n_fft=1024 is too large for input signal of length=666\n",
      "  warnings.warn(\n",
      "C:\\Users\\Admin\\AppData\\Roaming\\Python\\Python312\\site-packages\\librosa\\core\\spectrum.py:266: UserWarning: n_fft=1024 is too large for input signal of length=682\n",
      "  warnings.warn(\n",
      "C:\\Users\\Admin\\AppData\\Roaming\\Python\\Python312\\site-packages\\librosa\\core\\spectrum.py:266: UserWarning: n_fft=1024 is too large for input signal of length=929\n",
      "  warnings.warn(\n",
      "C:\\Users\\Admin\\AppData\\Roaming\\Python\\Python312\\site-packages\\librosa\\core\\spectrum.py:266: UserWarning: n_fft=1024 is too large for input signal of length=828\n",
      "  warnings.warn(\n",
      "C:\\Users\\Admin\\AppData\\Roaming\\Python\\Python312\\site-packages\\librosa\\core\\spectrum.py:266: UserWarning: n_fft=1024 is too large for input signal of length=642\n",
      "  warnings.warn(\n",
      "C:\\Users\\Admin\\AppData\\Roaming\\Python\\Python312\\site-packages\\librosa\\core\\spectrum.py:266: UserWarning: n_fft=1024 is too large for input signal of length=857\n",
      "  warnings.warn(\n",
      "C:\\Users\\Admin\\AppData\\Roaming\\Python\\Python312\\site-packages\\librosa\\core\\spectrum.py:266: UserWarning: n_fft=1024 is too large for input signal of length=731\n",
      "  warnings.warn(\n",
      "C:\\Users\\Admin\\AppData\\Roaming\\Python\\Python312\\site-packages\\librosa\\core\\spectrum.py:266: UserWarning: n_fft=1024 is too large for input signal of length=893\n",
      "  warnings.warn(\n",
      "C:\\Users\\Admin\\AppData\\Roaming\\Python\\Python312\\site-packages\\librosa\\core\\spectrum.py:266: UserWarning: n_fft=1024 is too large for input signal of length=708\n",
      "  warnings.warn(\n",
      "C:\\Users\\Admin\\AppData\\Roaming\\Python\\Python312\\site-packages\\librosa\\core\\spectrum.py:266: UserWarning: n_fft=1024 is too large for input signal of length=626\n",
      "  warnings.warn(\n",
      "C:\\Users\\Admin\\AppData\\Roaming\\Python\\Python312\\site-packages\\librosa\\core\\spectrum.py:266: UserWarning: n_fft=1024 is too large for input signal of length=838\n",
      "  warnings.warn(\n",
      "C:\\Users\\Admin\\AppData\\Roaming\\Python\\Python312\\site-packages\\librosa\\core\\spectrum.py:266: UserWarning: n_fft=1024 is too large for input signal of length=766\n",
      "  warnings.warn(\n",
      "C:\\Users\\Admin\\AppData\\Roaming\\Python\\Python312\\site-packages\\librosa\\core\\spectrum.py:266: UserWarning: n_fft=1024 is too large for input signal of length=963\n",
      "  warnings.warn(\n",
      "C:\\Users\\Admin\\AppData\\Roaming\\Python\\Python312\\site-packages\\librosa\\core\\spectrum.py:266: UserWarning: n_fft=1024 is too large for input signal of length=482\n",
      "  warnings.warn(\n",
      "C:\\Users\\Admin\\AppData\\Roaming\\Python\\Python312\\site-packages\\librosa\\core\\spectrum.py:266: UserWarning: n_fft=1024 is too large for input signal of length=622\n",
      "  warnings.warn(\n",
      "C:\\Users\\Admin\\AppData\\Roaming\\Python\\Python312\\site-packages\\librosa\\core\\spectrum.py:266: UserWarning: n_fft=1024 is too large for input signal of length=684\n",
      "  warnings.warn(\n",
      "C:\\Users\\Admin\\AppData\\Roaming\\Python\\Python312\\site-packages\\librosa\\core\\spectrum.py:266: UserWarning: n_fft=1024 is too large for input signal of length=691\n",
      "  warnings.warn(\n",
      "C:\\Users\\Admin\\AppData\\Roaming\\Python\\Python312\\site-packages\\librosa\\core\\spectrum.py:266: UserWarning: n_fft=1024 is too large for input signal of length=885\n",
      "  warnings.warn(\n",
      "C:\\Users\\Admin\\AppData\\Roaming\\Python\\Python312\\site-packages\\librosa\\core\\spectrum.py:266: UserWarning: n_fft=1024 is too large for input signal of length=744\n",
      "  warnings.warn(\n",
      "C:\\Users\\Admin\\AppData\\Roaming\\Python\\Python312\\site-packages\\librosa\\core\\spectrum.py:266: UserWarning: n_fft=1024 is too large for input signal of length=728\n",
      "  warnings.warn(\n",
      "C:\\Users\\Admin\\AppData\\Roaming\\Python\\Python312\\site-packages\\librosa\\core\\spectrum.py:266: UserWarning: n_fft=1024 is too large for input signal of length=1020\n",
      "  warnings.warn(\n",
      "C:\\Users\\Admin\\AppData\\Roaming\\Python\\Python312\\site-packages\\librosa\\core\\spectrum.py:266: UserWarning: n_fft=1024 is too large for input signal of length=510\n",
      "  warnings.warn(\n",
      "C:\\Users\\Admin\\AppData\\Roaming\\Python\\Python312\\site-packages\\librosa\\core\\spectrum.py:266: UserWarning: n_fft=1024 is too large for input signal of length=699\n",
      "  warnings.warn(\n",
      "C:\\Users\\Admin\\AppData\\Roaming\\Python\\Python312\\site-packages\\librosa\\core\\spectrum.py:266: UserWarning: n_fft=1024 is too large for input signal of length=756\n",
      "  warnings.warn(\n",
      "C:\\Users\\Admin\\AppData\\Roaming\\Python\\Python312\\site-packages\\librosa\\core\\spectrum.py:266: UserWarning: n_fft=1024 is too large for input signal of length=563\n",
      "  warnings.warn(\n",
      "C:\\Users\\Admin\\AppData\\Roaming\\Python\\Python312\\site-packages\\librosa\\core\\spectrum.py:266: UserWarning: n_fft=1024 is too large for input signal of length=801\n",
      "  warnings.warn(\n",
      "C:\\Users\\Admin\\AppData\\Roaming\\Python\\Python312\\site-packages\\librosa\\core\\spectrum.py:266: UserWarning: n_fft=1024 is too large for input signal of length=678\n",
      "  warnings.warn(\n",
      "C:\\Users\\Admin\\AppData\\Roaming\\Python\\Python312\\site-packages\\librosa\\core\\spectrum.py:266: UserWarning: n_fft=1024 is too large for input signal of length=757\n",
      "  warnings.warn(\n",
      "C:\\Users\\Admin\\AppData\\Roaming\\Python\\Python312\\site-packages\\librosa\\core\\spectrum.py:266: UserWarning: n_fft=1024 is too large for input signal of length=517\n",
      "  warnings.warn(\n",
      "C:\\Users\\Admin\\AppData\\Roaming\\Python\\Python312\\site-packages\\librosa\\core\\spectrum.py:266: UserWarning: n_fft=1024 is too large for input signal of length=605\n",
      "  warnings.warn(\n",
      "C:\\Users\\Admin\\AppData\\Roaming\\Python\\Python312\\site-packages\\librosa\\core\\spectrum.py:266: UserWarning: n_fft=1024 is too large for input signal of length=817\n",
      "  warnings.warn(\n",
      "C:\\Users\\Admin\\AppData\\Roaming\\Python\\Python312\\site-packages\\librosa\\core\\spectrum.py:266: UserWarning: n_fft=1024 is too large for input signal of length=536\n",
      "  warnings.warn(\n",
      "C:\\Users\\Admin\\AppData\\Roaming\\Python\\Python312\\site-packages\\librosa\\core\\spectrum.py:266: UserWarning: n_fft=1024 is too large for input signal of length=865\n",
      "  warnings.warn(\n",
      "C:\\Users\\Admin\\AppData\\Roaming\\Python\\Python312\\site-packages\\librosa\\core\\spectrum.py:266: UserWarning: n_fft=1024 is too large for input signal of length=537\n",
      "  warnings.warn(\n",
      "C:\\Users\\Admin\\AppData\\Roaming\\Python\\Python312\\site-packages\\librosa\\core\\spectrum.py:266: UserWarning: n_fft=1024 is too large for input signal of length=681\n",
      "  warnings.warn(\n",
      "C:\\Users\\Admin\\AppData\\Roaming\\Python\\Python312\\site-packages\\librosa\\core\\spectrum.py:266: UserWarning: n_fft=1024 is too large for input signal of length=677\n",
      "  warnings.warn(\n",
      "C:\\Users\\Admin\\AppData\\Roaming\\Python\\Python312\\site-packages\\librosa\\core\\spectrum.py:266: UserWarning: n_fft=1024 is too large for input signal of length=947\n",
      "  warnings.warn(\n",
      "C:\\Users\\Admin\\AppData\\Roaming\\Python\\Python312\\site-packages\\librosa\\core\\spectrum.py:266: UserWarning: n_fft=1024 is too large for input signal of length=984\n",
      "  warnings.warn(\n",
      "C:\\Users\\Admin\\AppData\\Roaming\\Python\\Python312\\site-packages\\librosa\\core\\spectrum.py:266: UserWarning: n_fft=1024 is too large for input signal of length=492\n",
      "  warnings.warn(\n",
      "C:\\Users\\Admin\\AppData\\Roaming\\Python\\Python312\\site-packages\\librosa\\core\\spectrum.py:266: UserWarning: n_fft=1024 is too large for input signal of length=825\n",
      "  warnings.warn(\n",
      "C:\\Users\\Admin\\AppData\\Roaming\\Python\\Python312\\site-packages\\librosa\\core\\spectrum.py:266: UserWarning: n_fft=1024 is too large for input signal of length=547\n",
      "  warnings.warn(\n",
      "C:\\Users\\Admin\\AppData\\Roaming\\Python\\Python312\\site-packages\\librosa\\core\\spectrum.py:266: UserWarning: n_fft=1024 is too large for input signal of length=706\n",
      "  warnings.warn(\n",
      "C:\\Users\\Admin\\AppData\\Roaming\\Python\\Python312\\site-packages\\librosa\\core\\spectrum.py:266: UserWarning: n_fft=1024 is too large for input signal of length=854\n",
      "  warnings.warn(\n",
      "C:\\Users\\Admin\\AppData\\Roaming\\Python\\Python312\\site-packages\\librosa\\core\\spectrum.py:266: UserWarning: n_fft=1024 is too large for input signal of length=521\n",
      "  warnings.warn(\n",
      "C:\\Users\\Admin\\AppData\\Roaming\\Python\\Python312\\site-packages\\librosa\\core\\spectrum.py:266: UserWarning: n_fft=1024 is too large for input signal of length=873\n",
      "  warnings.warn(\n",
      "C:\\Users\\Admin\\AppData\\Roaming\\Python\\Python312\\site-packages\\librosa\\core\\spectrum.py:266: UserWarning: n_fft=1024 is too large for input signal of length=550\n",
      "  warnings.warn(\n",
      "C:\\Users\\Admin\\AppData\\Roaming\\Python\\Python312\\site-packages\\librosa\\core\\spectrum.py:266: UserWarning: n_fft=1024 is too large for input signal of length=917\n",
      "  warnings.warn(\n",
      "C:\\Users\\Admin\\AppData\\Roaming\\Python\\Python312\\site-packages\\librosa\\core\\spectrum.py:266: UserWarning: n_fft=1024 is too large for input signal of length=814\n",
      "  warnings.warn(\n",
      "C:\\Users\\Admin\\AppData\\Roaming\\Python\\Python312\\site-packages\\librosa\\core\\spectrum.py:266: UserWarning: n_fft=1024 is too large for input signal of length=569\n",
      "  warnings.warn(\n",
      "C:\\Users\\Admin\\AppData\\Roaming\\Python\\Python312\\site-packages\\librosa\\core\\spectrum.py:266: UserWarning: n_fft=1024 is too large for input signal of length=723\n",
      "  warnings.warn(\n",
      "C:\\Users\\Admin\\AppData\\Roaming\\Python\\Python312\\site-packages\\librosa\\core\\spectrum.py:266: UserWarning: n_fft=1024 is too large for input signal of length=739\n",
      "  warnings.warn(\n",
      "C:\\Users\\Admin\\AppData\\Roaming\\Python\\Python312\\site-packages\\librosa\\core\\spectrum.py:266: UserWarning: n_fft=1024 is too large for input signal of length=931\n",
      "  warnings.warn(\n",
      "C:\\Users\\Admin\\AppData\\Roaming\\Python\\Python312\\site-packages\\librosa\\core\\spectrum.py:266: UserWarning: n_fft=1024 is too large for input signal of length=671\n",
      "  warnings.warn(\n",
      "C:\\Users\\Admin\\AppData\\Roaming\\Python\\Python312\\site-packages\\librosa\\core\\spectrum.py:266: UserWarning: n_fft=1024 is too large for input signal of length=617\n",
      "  warnings.warn(\n",
      "C:\\Users\\Admin\\AppData\\Roaming\\Python\\Python312\\site-packages\\librosa\\core\\spectrum.py:266: UserWarning: n_fft=1024 is too large for input signal of length=755\n",
      "  warnings.warn(\n",
      "C:\\Users\\Admin\\AppData\\Roaming\\Python\\Python312\\site-packages\\librosa\\core\\spectrum.py:266: UserWarning: n_fft=1024 is too large for input signal of length=936\n",
      "  warnings.warn(\n",
      "C:\\Users\\Admin\\AppData\\Roaming\\Python\\Python312\\site-packages\\librosa\\core\\spectrum.py:266: UserWarning: n_fft=1024 is too large for input signal of length=649\n",
      "  warnings.warn(\n",
      "C:\\Users\\Admin\\AppData\\Roaming\\Python\\Python312\\site-packages\\librosa\\core\\spectrum.py:266: UserWarning: n_fft=1024 is too large for input signal of length=788\n",
      "  warnings.warn(\n",
      "C:\\Users\\Admin\\AppData\\Roaming\\Python\\Python312\\site-packages\\librosa\\core\\spectrum.py:266: UserWarning: n_fft=1024 is too large for input signal of length=773\n",
      "  warnings.warn(\n",
      "C:\\Users\\Admin\\AppData\\Roaming\\Python\\Python312\\site-packages\\librosa\\core\\spectrum.py:266: UserWarning: n_fft=1024 is too large for input signal of length=848\n",
      "  warnings.warn(\n",
      "C:\\Users\\Admin\\AppData\\Roaming\\Python\\Python312\\site-packages\\librosa\\core\\spectrum.py:266: UserWarning: n_fft=1024 is too large for input signal of length=576\n",
      "  warnings.warn(\n",
      "C:\\Users\\Admin\\AppData\\Roaming\\Python\\Python312\\site-packages\\librosa\\core\\spectrum.py:266: UserWarning: n_fft=1024 is too large for input signal of length=685\n",
      "  warnings.warn(\n",
      "C:\\Users\\Admin\\AppData\\Roaming\\Python\\Python312\\site-packages\\librosa\\core\\spectrum.py:266: UserWarning: n_fft=1024 is too large for input signal of length=792\n",
      "  warnings.warn(\n",
      "C:\\Users\\Admin\\AppData\\Roaming\\Python\\Python312\\site-packages\\librosa\\core\\spectrum.py:266: UserWarning: n_fft=1024 is too large for input signal of length=787\n",
      "  warnings.warn(\n",
      "C:\\Users\\Admin\\AppData\\Roaming\\Python\\Python312\\site-packages\\librosa\\core\\spectrum.py:266: UserWarning: n_fft=1024 is too large for input signal of length=651\n",
      "  warnings.warn(\n",
      "C:\\Users\\Admin\\AppData\\Roaming\\Python\\Python312\\site-packages\\librosa\\core\\spectrum.py:266: UserWarning: n_fft=1024 is too large for input signal of length=620\n",
      "  warnings.warn(\n",
      "C:\\Users\\Admin\\AppData\\Roaming\\Python\\Python312\\site-packages\\librosa\\core\\spectrum.py:266: UserWarning: n_fft=1024 is too large for input signal of length=778\n",
      "  warnings.warn(\n",
      "C:\\Users\\Admin\\AppData\\Roaming\\Python\\Python312\\site-packages\\librosa\\core\\spectrum.py:266: UserWarning: n_fft=1024 is too large for input signal of length=890\n",
      "  warnings.warn(\n",
      "C:\\Users\\Admin\\AppData\\Roaming\\Python\\Python312\\site-packages\\librosa\\core\\spectrum.py:266: UserWarning: n_fft=1024 is too large for input signal of length=551\n",
      "  warnings.warn(\n",
      "C:\\Users\\Admin\\AppData\\Roaming\\Python\\Python312\\site-packages\\librosa\\core\\spectrum.py:266: UserWarning: n_fft=1024 is too large for input signal of length=740\n",
      "  warnings.warn(\n",
      "C:\\Users\\Admin\\AppData\\Roaming\\Python\\Python312\\site-packages\\librosa\\core\\spectrum.py:266: UserWarning: n_fft=1024 is too large for input signal of length=811\n",
      "  warnings.warn(\n",
      "C:\\Users\\Admin\\AppData\\Roaming\\Python\\Python312\\site-packages\\librosa\\core\\spectrum.py:266: UserWarning: n_fft=1024 is too large for input signal of length=524\n",
      "  warnings.warn(\n",
      "C:\\Users\\Admin\\AppData\\Roaming\\Python\\Python312\\site-packages\\librosa\\core\\spectrum.py:266: UserWarning: n_fft=1024 is too large for input signal of length=628\n",
      "  warnings.warn(\n",
      "C:\\Users\\Admin\\AppData\\Roaming\\Python\\Python312\\site-packages\\librosa\\core\\spectrum.py:266: UserWarning: n_fft=1024 is too large for input signal of length=704\n",
      "  warnings.warn(\n",
      "C:\\Users\\Admin\\AppData\\Roaming\\Python\\Python312\\site-packages\\librosa\\core\\spectrum.py:266: UserWarning: n_fft=1024 is too large for input signal of length=799\n",
      "  warnings.warn(\n",
      "C:\\Users\\Admin\\AppData\\Roaming\\Python\\Python312\\site-packages\\librosa\\core\\spectrum.py:266: UserWarning: n_fft=1024 is too large for input signal of length=909\n",
      "  warnings.warn(\n",
      "C:\\Users\\Admin\\AppData\\Roaming\\Python\\Python312\\site-packages\\librosa\\core\\spectrum.py:266: UserWarning: n_fft=1024 is too large for input signal of length=455\n",
      "  warnings.warn(\n",
      "C:\\Users\\Admin\\AppData\\Roaming\\Python\\Python312\\site-packages\\librosa\\core\\spectrum.py:266: UserWarning: n_fft=1024 is too large for input signal of length=659\n",
      "  warnings.warn(\n",
      "C:\\Users\\Admin\\AppData\\Roaming\\Python\\Python312\\site-packages\\librosa\\core\\spectrum.py:266: UserWarning: n_fft=1024 is too large for input signal of length=751\n",
      "  warnings.warn(\n",
      "C:\\Users\\Admin\\AppData\\Roaming\\Python\\Python312\\site-packages\\librosa\\core\\spectrum.py:266: UserWarning: n_fft=1024 is too large for input signal of length=815\n",
      "  warnings.warn(\n",
      "C:\\Users\\Admin\\AppData\\Roaming\\Python\\Python312\\site-packages\\librosa\\core\\spectrum.py:266: UserWarning: n_fft=1024 is too large for input signal of length=796\n",
      "  warnings.warn(\n",
      "C:\\Users\\Admin\\AppData\\Roaming\\Python\\Python312\\site-packages\\librosa\\core\\spectrum.py:266: UserWarning: n_fft=1024 is too large for input signal of length=592\n",
      "  warnings.warn(\n",
      "C:\\Users\\Admin\\AppData\\Roaming\\Python\\Python312\\site-packages\\librosa\\core\\spectrum.py:266: UserWarning: n_fft=1024 is too large for input signal of length=679\n",
      "  warnings.warn(\n",
      "C:\\Users\\Admin\\AppData\\Roaming\\Python\\Python312\\site-packages\\librosa\\core\\spectrum.py:266: UserWarning: n_fft=1024 is too large for input signal of length=565\n",
      "  warnings.warn(\n",
      "C:\\Users\\Admin\\AppData\\Roaming\\Python\\Python312\\site-packages\\librosa\\core\\spectrum.py:266: UserWarning: n_fft=1024 is too large for input signal of length=616\n",
      "  warnings.warn(\n",
      "C:\\Users\\Admin\\AppData\\Roaming\\Python\\Python312\\site-packages\\librosa\\core\\spectrum.py:266: UserWarning: n_fft=1024 is too large for input signal of length=656\n",
      "  warnings.warn(\n",
      "C:\\Users\\Admin\\AppData\\Roaming\\Python\\Python312\\site-packages\\librosa\\core\\spectrum.py:266: UserWarning: n_fft=1024 is too large for input signal of length=762\n",
      "  warnings.warn(\n",
      "C:\\Users\\Admin\\AppData\\Roaming\\Python\\Python312\\site-packages\\librosa\\core\\spectrum.py:266: UserWarning: n_fft=1024 is too large for input signal of length=648\n",
      "  warnings.warn(\n",
      "C:\\Users\\Admin\\AppData\\Roaming\\Python\\Python312\\site-packages\\librosa\\core\\spectrum.py:266: UserWarning: n_fft=1024 is too large for input signal of length=621\n",
      "  warnings.warn(\n",
      "C:\\Users\\Admin\\AppData\\Roaming\\Python\\Python312\\site-packages\\librosa\\core\\spectrum.py:266: UserWarning: n_fft=1024 is too large for input signal of length=587\n",
      "  warnings.warn(\n",
      "C:\\Users\\Admin\\AppData\\Roaming\\Python\\Python312\\site-packages\\librosa\\core\\spectrum.py:266: UserWarning: n_fft=1024 is too large for input signal of length=717\n",
      "  warnings.warn(\n",
      "C:\\Users\\Admin\\AppData\\Roaming\\Python\\Python312\\site-packages\\librosa\\core\\spectrum.py:266: UserWarning: n_fft=1024 is too large for input signal of length=765\n",
      "  warnings.warn(\n",
      "C:\\Users\\Admin\\AppData\\Roaming\\Python\\Python312\\site-packages\\librosa\\core\\spectrum.py:266: UserWarning: n_fft=1024 is too large for input signal of length=816\n",
      "  warnings.warn(\n",
      "C:\\Users\\Admin\\AppData\\Roaming\\Python\\Python312\\site-packages\\librosa\\core\\spectrum.py:266: UserWarning: n_fft=1024 is too large for input signal of length=754\n",
      "  warnings.warn(\n",
      "C:\\Users\\Admin\\AppData\\Roaming\\Python\\Python312\\site-packages\\librosa\\core\\spectrum.py:266: UserWarning: n_fft=1024 is too large for input signal of length=818\n",
      "  warnings.warn(\n",
      "C:\\Users\\Admin\\AppData\\Roaming\\Python\\Python312\\site-packages\\librosa\\core\\spectrum.py:266: UserWarning: n_fft=1024 is too large for input signal of length=941\n",
      "  warnings.warn(\n",
      "C:\\Users\\Admin\\AppData\\Roaming\\Python\\Python312\\site-packages\\librosa\\core\\spectrum.py:266: UserWarning: n_fft=1024 is too large for input signal of length=623\n",
      "  warnings.warn(\n",
      "C:\\Users\\Admin\\AppData\\Roaming\\Python\\Python312\\site-packages\\librosa\\core\\spectrum.py:266: UserWarning: n_fft=1024 is too large for input signal of length=790\n",
      "  warnings.warn(\n",
      "C:\\Users\\Admin\\AppData\\Roaming\\Python\\Python312\\site-packages\\librosa\\core\\spectrum.py:266: UserWarning: n_fft=1024 is too large for input signal of length=669\n",
      "  warnings.warn(\n",
      "C:\\Users\\Admin\\AppData\\Roaming\\Python\\Python312\\site-packages\\librosa\\core\\spectrum.py:266: UserWarning: n_fft=1024 is too large for input signal of length=869\n",
      "  warnings.warn(\n",
      "C:\\Users\\Admin\\AppData\\Roaming\\Python\\Python312\\site-packages\\librosa\\core\\spectrum.py:266: UserWarning: n_fft=1024 is too large for input signal of length=749\n",
      "  warnings.warn(\n",
      "C:\\Users\\Admin\\AppData\\Roaming\\Python\\Python312\\site-packages\\librosa\\core\\spectrum.py:266: UserWarning: n_fft=1024 is too large for input signal of length=953\n",
      "  warnings.warn(\n",
      "C:\\Users\\Admin\\AppData\\Roaming\\Python\\Python312\\site-packages\\librosa\\core\\spectrum.py:266: UserWarning: n_fft=1024 is too large for input signal of length=634\n",
      "  warnings.warn(\n",
      "C:\\Users\\Admin\\AppData\\Roaming\\Python\\Python312\\site-packages\\librosa\\core\\spectrum.py:266: UserWarning: n_fft=1024 is too large for input signal of length=662\n",
      "  warnings.warn(\n",
      "C:\\Users\\Admin\\AppData\\Roaming\\Python\\Python312\\site-packages\\librosa\\core\\spectrum.py:266: UserWarning: n_fft=1024 is too large for input signal of length=750\n",
      "  warnings.warn(\n",
      "C:\\Users\\Admin\\AppData\\Roaming\\Python\\Python312\\site-packages\\librosa\\core\\spectrum.py:266: UserWarning: n_fft=1024 is too large for input signal of length=761\n",
      "  warnings.warn(\n",
      "C:\\Users\\Admin\\AppData\\Roaming\\Python\\Python312\\site-packages\\librosa\\core\\spectrum.py:266: UserWarning: n_fft=1024 is too large for input signal of length=609\n",
      "  warnings.warn(\n",
      "C:\\Users\\Admin\\AppData\\Roaming\\Python\\Python312\\site-packages\\librosa\\core\\spectrum.py:266: UserWarning: n_fft=1024 is too large for input signal of length=631\n",
      "  warnings.warn(\n",
      "C:\\Users\\Admin\\AppData\\Roaming\\Python\\Python312\\site-packages\\librosa\\core\\spectrum.py:266: UserWarning: n_fft=1024 is too large for input signal of length=632\n",
      "  warnings.warn(\n",
      "C:\\Users\\Admin\\AppData\\Roaming\\Python\\Python312\\site-packages\\librosa\\core\\spectrum.py:266: UserWarning: n_fft=1024 is too large for input signal of length=920\n",
      "  warnings.warn(\n",
      "C:\\Users\\Admin\\AppData\\Roaming\\Python\\Python312\\site-packages\\librosa\\core\\spectrum.py:266: UserWarning: n_fft=1024 is too large for input signal of length=460\n",
      "  warnings.warn(\n",
      "C:\\Users\\Admin\\AppData\\Roaming\\Python\\Python312\\site-packages\\librosa\\core\\spectrum.py:266: UserWarning: n_fft=1024 is too large for input signal of length=603\n",
      "  warnings.warn(\n",
      "C:\\Users\\Admin\\AppData\\Roaming\\Python\\Python312\\site-packages\\librosa\\core\\spectrum.py:266: UserWarning: n_fft=1024 is too large for input signal of length=759\n",
      "  warnings.warn(\n",
      "C:\\Users\\Admin\\AppData\\Roaming\\Python\\Python312\\site-packages\\librosa\\core\\spectrum.py:266: UserWarning: n_fft=1024 is too large for input signal of length=776\n",
      "  warnings.warn(\n",
      "C:\\Users\\Admin\\AppData\\Roaming\\Python\\Python312\\site-packages\\librosa\\core\\spectrum.py:266: UserWarning: n_fft=1024 is too large for input signal of length=661\n",
      "  warnings.warn(\n",
      "C:\\Users\\Admin\\AppData\\Roaming\\Python\\Python312\\site-packages\\librosa\\core\\spectrum.py:266: UserWarning: n_fft=1024 is too large for input signal of length=777\n",
      "  warnings.warn(\n",
      "C:\\Users\\Admin\\AppData\\Roaming\\Python\\Python312\\site-packages\\librosa\\core\\spectrum.py:266: UserWarning: n_fft=1024 is too large for input signal of length=672\n",
      "  warnings.warn(\n",
      "C:\\Users\\Admin\\AppData\\Roaming\\Python\\Python312\\site-packages\\librosa\\core\\spectrum.py:266: UserWarning: n_fft=1024 is too large for input signal of length=782\n",
      "  warnings.warn(\n",
      "C:\\Users\\Admin\\AppData\\Roaming\\Python\\Python312\\site-packages\\librosa\\core\\spectrum.py:266: UserWarning: n_fft=1024 is too large for input signal of length=871\n",
      "  warnings.warn(\n",
      "C:\\Users\\Admin\\AppData\\Roaming\\Python\\Python312\\site-packages\\librosa\\core\\spectrum.py:266: UserWarning: n_fft=1024 is too large for input signal of length=664\n",
      "  warnings.warn(\n",
      "C:\\Users\\Admin\\AppData\\Roaming\\Python\\Python312\\site-packages\\librosa\\core\\spectrum.py:266: UserWarning: n_fft=1024 is too large for input signal of length=727\n",
      "  warnings.warn(\n",
      "C:\\Users\\Admin\\AppData\\Roaming\\Python\\Python312\\site-packages\\librosa\\core\\spectrum.py:266: UserWarning: n_fft=1024 is too large for input signal of length=433\n",
      "  warnings.warn(\n",
      "C:\\Users\\Admin\\AppData\\Roaming\\Python\\Python312\\site-packages\\librosa\\core\\spectrum.py:266: UserWarning: n_fft=1024 is too large for input signal of length=834\n",
      "  warnings.warn(\n",
      "C:\\Users\\Admin\\AppData\\Roaming\\Python\\Python312\\site-packages\\librosa\\core\\spectrum.py:266: UserWarning: n_fft=1024 is too large for input signal of length=721\n",
      "  warnings.warn(\n",
      "C:\\Users\\Admin\\AppData\\Roaming\\Python\\Python312\\site-packages\\librosa\\core\\spectrum.py:266: UserWarning: n_fft=1024 is too large for input signal of length=863\n",
      "  warnings.warn(\n",
      "C:\\Users\\Admin\\AppData\\Roaming\\Python\\Python312\\site-packages\\librosa\\core\\spectrum.py:266: UserWarning: n_fft=1024 is too large for input signal of length=639\n",
      "  warnings.warn(\n",
      "C:\\Users\\Admin\\AppData\\Roaming\\Python\\Python312\\site-packages\\librosa\\core\\spectrum.py:266: UserWarning: n_fft=1024 is too large for input signal of length=738\n",
      "  warnings.warn(\n",
      "C:\\Users\\Admin\\AppData\\Roaming\\Python\\Python312\\site-packages\\librosa\\core\\spectrum.py:266: UserWarning: n_fft=1024 is too large for input signal of length=805\n",
      "  warnings.warn(\n",
      "C:\\Users\\Admin\\AppData\\Roaming\\Python\\Python312\\site-packages\\librosa\\core\\spectrum.py:266: UserWarning: n_fft=1024 is too large for input signal of length=529\n",
      "  warnings.warn(\n",
      "C:\\Users\\Admin\\AppData\\Roaming\\Python\\Python312\\site-packages\\librosa\\core\\spectrum.py:266: UserWarning: n_fft=1024 is too large for input signal of length=627\n",
      "  warnings.warn(\n",
      "C:\\Users\\Admin\\AppData\\Roaming\\Python\\Python312\\site-packages\\librosa\\core\\spectrum.py:266: UserWarning: n_fft=1024 is too large for input signal of length=629\n",
      "  warnings.warn(\n",
      "C:\\Users\\Admin\\AppData\\Roaming\\Python\\Python312\\site-packages\\librosa\\core\\spectrum.py:266: UserWarning: n_fft=1024 is too large for input signal of length=763\n",
      "  warnings.warn(\n",
      "C:\\Users\\Admin\\AppData\\Roaming\\Python\\Python312\\site-packages\\librosa\\core\\spectrum.py:266: UserWarning: n_fft=1024 is too large for input signal of length=821\n",
      "  warnings.warn(\n",
      "C:\\Users\\Admin\\AppData\\Roaming\\Python\\Python312\\site-packages\\librosa\\core\\spectrum.py:266: UserWarning: n_fft=1024 is too large for input signal of length=658\n",
      "  warnings.warn(\n",
      "C:\\Users\\Admin\\AppData\\Roaming\\Python\\Python312\\site-packages\\librosa\\core\\spectrum.py:266: UserWarning: n_fft=1024 is too large for input signal of length=722\n",
      "  warnings.warn(\n",
      "C:\\Users\\Admin\\AppData\\Roaming\\Python\\Python312\\site-packages\\librosa\\core\\spectrum.py:266: UserWarning: n_fft=1024 is too large for input signal of length=822\n",
      "  warnings.warn(\n",
      "C:\\Users\\Admin\\AppData\\Roaming\\Python\\Python312\\site-packages\\librosa\\core\\spectrum.py:266: UserWarning: n_fft=1024 is too large for input signal of length=925\n",
      "  warnings.warn(\n",
      "C:\\Users\\Admin\\AppData\\Roaming\\Python\\Python312\\site-packages\\librosa\\core\\spectrum.py:266: UserWarning: n_fft=1024 is too large for input signal of length=904\n",
      "  warnings.warn(\n",
      "C:\\Users\\Admin\\AppData\\Roaming\\Python\\Python312\\site-packages\\librosa\\core\\spectrum.py:266: UserWarning: n_fft=1024 is too large for input signal of length=452\n",
      "  warnings.warn(\n",
      "C:\\Users\\Admin\\AppData\\Roaming\\Python\\Python312\\site-packages\\librosa\\core\\spectrum.py:266: UserWarning: n_fft=1024 is too large for input signal of length=611\n",
      "  warnings.warn(\n",
      "C:\\Users\\Admin\\AppData\\Roaming\\Python\\Python312\\site-packages\\librosa\\core\\spectrum.py:266: UserWarning: n_fft=1024 is too large for input signal of length=665\n",
      "  warnings.warn(\n",
      "C:\\Users\\Admin\\AppData\\Roaming\\Python\\Python312\\site-packages\\librosa\\core\\spectrum.py:266: UserWarning: n_fft=1024 is too large for input signal of length=753\n",
      "  warnings.warn(\n",
      "C:\\Users\\Admin\\AppData\\Roaming\\Python\\Python312\\site-packages\\librosa\\core\\spectrum.py:266: UserWarning: n_fft=1024 is too large for input signal of length=905\n",
      "  warnings.warn(\n",
      "C:\\Users\\Admin\\AppData\\Roaming\\Python\\Python312\\site-packages\\librosa\\core\\spectrum.py:266: UserWarning: n_fft=1024 is too large for input signal of length=453\n",
      "  warnings.warn(\n",
      "C:\\Users\\Admin\\AppData\\Roaming\\Python\\Python312\\site-packages\\librosa\\core\\spectrum.py:266: UserWarning: n_fft=1024 is too large for input signal of length=906\n",
      "  warnings.warn(\n",
      "C:\\Users\\Admin\\AppData\\Roaming\\Python\\Python312\\site-packages\\librosa\\core\\spectrum.py:266: UserWarning: n_fft=1024 is too large for input signal of length=594\n",
      "  warnings.warn(\n",
      "C:\\Users\\Admin\\AppData\\Roaming\\Python\\Python312\\site-packages\\librosa\\core\\spectrum.py:266: UserWarning: n_fft=1024 is too large for input signal of length=724\n",
      "  warnings.warn(\n",
      "C:\\Users\\Admin\\AppData\\Roaming\\Python\\Python312\\site-packages\\librosa\\core\\spectrum.py:266: UserWarning: n_fft=1024 is too large for input signal of length=793\n",
      "  warnings.warn(\n",
      "C:\\Users\\Admin\\AppData\\Roaming\\Python\\Python312\\site-packages\\librosa\\core\\spectrum.py:266: UserWarning: n_fft=1024 is too large for input signal of length=876\n",
      "  warnings.warn(\n",
      "C:\\Users\\Admin\\AppData\\Roaming\\Python\\Python312\\site-packages\\librosa\\core\\spectrum.py:266: UserWarning: n_fft=1024 is too large for input signal of length=674\n",
      "  warnings.warn(\n",
      "C:\\Users\\Admin\\AppData\\Roaming\\Python\\Python312\\site-packages\\librosa\\core\\spectrum.py:266: UserWarning: n_fft=1024 is too large for input signal of length=901\n",
      "  warnings.warn(\n",
      "C:\\Users\\Admin\\AppData\\Roaming\\Python\\Python312\\site-packages\\librosa\\core\\spectrum.py:266: UserWarning: n_fft=1024 is too large for input signal of length=897\n",
      "  warnings.warn(\n",
      "C:\\Users\\Admin\\AppData\\Roaming\\Python\\Python312\\site-packages\\librosa\\core\\spectrum.py:266: UserWarning: n_fft=1024 is too large for input signal of length=934\n",
      "  warnings.warn(\n",
      "C:\\Users\\Admin\\AppData\\Roaming\\Python\\Python312\\site-packages\\librosa\\core\\spectrum.py:266: UserWarning: n_fft=1024 is too large for input signal of length=767\n",
      "  warnings.warn(\n",
      "C:\\Users\\Admin\\AppData\\Roaming\\Python\\Python312\\site-packages\\librosa\\core\\spectrum.py:266: UserWarning: n_fft=1024 is too large for input signal of length=625\n",
      "  warnings.warn(\n",
      "C:\\Users\\Admin\\AppData\\Roaming\\Python\\Python312\\site-packages\\librosa\\core\\spectrum.py:266: UserWarning: n_fft=1024 is too large for input signal of length=846\n",
      "  warnings.warn(\n",
      "C:\\Users\\Admin\\AppData\\Roaming\\Python\\Python312\\site-packages\\librosa\\core\\spectrum.py:266: UserWarning: n_fft=1024 is too large for input signal of length=775\n",
      "  warnings.warn(\n",
      "C:\\Users\\Admin\\AppData\\Roaming\\Python\\Python312\\site-packages\\librosa\\core\\spectrum.py:266: UserWarning: n_fft=1024 is too large for input signal of length=614\n",
      "  warnings.warn(\n",
      "C:\\Users\\Admin\\AppData\\Roaming\\Python\\Python312\\site-packages\\librosa\\core\\spectrum.py:266: UserWarning: n_fft=1024 is too large for input signal of length=937\n",
      "  warnings.warn(\n",
      "C:\\Users\\Admin\\AppData\\Roaming\\Python\\Python312\\site-packages\\librosa\\core\\spectrum.py:266: UserWarning: n_fft=1024 is too large for input signal of length=469\n",
      "  warnings.warn(\n"
     ]
    },
    {
     "name": "stdout",
     "output_type": "stream",
     "text": [
      "Accuracy Score of Decision Tree model is: 0.8517857142857143\n",
      "Number of correct prediction by using Decision Tree is: 477.0 out of 560\n"
     ]
    }
   ],
   "source": [
    "\n",
    "import glob\n",
    "import librosa\n",
    "import librosa.display\n",
    "import numpy as np\n",
    "import pandas as pd\n",
    "import _pickle as pickle\n",
    "from sklearn.metrics import accuracy_score\n",
    "from sklearn.metrics import confusion_matrix\n",
    "import matplotlib.pyplot as plt\n",
    "import seaborn as sn\n",
    "\n",
    "def extract_feature(file_name):\n",
    "    X, sample_rate = librosa.load(file_name)\n",
    "    stft = np.abs(librosa.stft(X))\n",
    "    mfccs = np.mean(librosa.feature.mfcc(y=X, sr=sample_rate, n_mfcc=40).T, axis=0)\n",
    "    chroma = np.mean(librosa.feature.chroma_stft(S=stft, sr=sample_rate).T, axis=0)\n",
    "    mel = np.mean(librosa.feature.melspectrogram(y=X, sr=sample_rate).T, axis=0)\n",
    "    contrast = np.mean(librosa.feature.spectral_contrast(S=stft, sr=sample_rate).T, axis=0)\n",
    "    tonnetz = np.mean(librosa.feature.tonnetz(y=librosa.effects.harmonic(X),\n",
    "                                              sr=sample_rate).T, axis=0)\n",
    "    return mfccs, chroma, mel, contrast, tonnetz\n",
    "\n",
    "\n",
    "def parse_audio_files(path):\n",
    "    features, labels = np.empty((0, 193)), np.empty(0)\n",
    "    labels = []\n",
    "    for fn in glob.glob(path):\n",
    "        try:\n",
    "            mfccs, chroma, mel, contrast, tonnetz = extract_feature(fn)\n",
    "        except Exception as e:\n",
    "            print(\"Error encountered while parsing file: \", fn)\n",
    "            continue\n",
    "        ext_features = np.hstack([mfccs, chroma, mel, contrast, tonnetz])\n",
    "        features = np.vstack([features, ext_features])\n",
    "        labels = np.append(labels, fn.split(\"_\")[-1].split(\".\")[0])\n",
    "\n",
    "    return np.array(features), np.array(labels)\n",
    "\n",
    "\n",
    "# Get labels and features of audion file of specified path\n",
    "ts_features, ts_labels = parse_audio_files('D:/Project_TH_2/Data_set/test/*.wav')\n",
    "\n",
    "# Convert features and labels to the pandas Series data type\n",
    "ts_features = np.array(ts_features, dtype=pd.Series)\n",
    "ts_labels = np.array(ts_labels, dtype=pd.Series)\n",
    "\n",
    "# Trained Model file name\n",
    "filename = 'D:/Project_TH_2/Model/Model_Decision_tree/clf_Model_protocol_tree.sav'\n",
    "\n",
    "# Load saved model from file\n",
    "model = pickle.load(open(filename, 'rb'))\n",
    "\n",
    "# Predict the emotion class\n",
    "prediction = model.predict(ts_features)\n",
    "\n",
    "# True labels\n",
    "test_true = ts_labels\n",
    "\n",
    "# List to store prediction\n",
    "test_predicted = []\n",
    "\n",
    "# Iterate over model prediction and store it into list\n",
    "for i, val in enumerate(prediction):\n",
    "    test_predicted.append(val)\n",
    "\n",
    "\n",
    "# Accuracy score of model\n",
    "print('Accuracy Score of Decision Tree model is:', accuracy_score(test_true, test_predicted))\n",
    "\n",
    "# Number of corrected prediction\n",
    "print('Number of correct prediction by using Decision Tree is:', accuracy_score(test_true, test_predicted, normalize=False), 'out of', len(ts_labels))"
   ]
  },
  {
   "cell_type": "code",
   "execution_count": 19,
   "metadata": {},
   "outputs": [
    {
     "data": {
      "image/png": "[encoded data removed]",
      "text/plain": [
       "<Figure size 640x480 with 2 Axes>"
      ]
     },
     "metadata": {},
     "output_type": "display_data"
    }
   ],
   "source": [
    "# Plotting confusion matrix\n",
    "matrix = confusion_matrix(test_true, test_predicted)\n",
    "classes = list(set(ts_labels))\n",
    "classes.sort()\n",
    "df = pd.DataFrame(matrix, columns=classes, index=classes)\n",
    "plt.figure()\n",
    "plt.title('Decision Tree test accuracy')\n",
    "sn.heatmap(df, annot=True)\n",
    "\n",
    "plt.show()"
   ]
  },
  {
   "cell_type": "code",
   "execution_count": null,
   "metadata": {
    "collapsed": true
   },
   "outputs": [],
   "source": []
  }
 ],
 "metadata": {
  "anaconda-cloud": {},
  "kernelspec": {
   "display_name": "Python [default]",
   "language": "python",
   "name": "python3"
  },
  "language_info": {
   "codemirror_mode": {
    "name": "ipython",
    "version": 3
   },
   "file_extension": ".py",
   "mimetype": "text/x-python",
   "name": "python",
   "nbconvert_exporter": "python",
   "pygments_lexer": "ipython3",
   "version": "3.12.6"
  }
 },
 "nbformat": 4,
 "nbformat_minor": 1
}
